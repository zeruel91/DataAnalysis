{
  "nbformat": 4,
  "nbformat_minor": 0,
  "metadata": {
    "colab": {
      "name": "Analysis_ComputerShop.ipynb의 사본",
      "provenance": [],
      "include_colab_link": true
    },
    "kernelspec": {
      "name": "python3",
      "display_name": "Python 3"
    }
  },
  "cells": [
    {
      "cell_type": "markdown",
      "metadata": {
        "id": "view-in-github",
        "colab_type": "text"
      },
      "source": [
        "<a href=\"https://colab.research.google.com/github/zeruel91/DataAnalysis/blob/main/Analysis_ComputerShop.ipynb\" target=\"_parent\"><img src=\"https://colab.research.google.com/assets/colab-badge.svg\" alt=\"Open In Colab\"/></a>"
      ]
    },
    {
      "cell_type": "markdown",
      "metadata": {
        "id": "hQoGOV0Q598l"
      },
      "source": [
        "#**제 1장 웹에서 주문수를 분석하는 테크닉**\n",
        "**테크닉1: 데이터를 읽어들이자**\n",
        "\n",
        "컴퓨터 판매 쇼핑몰"
      ]
    },
    {
      "cell_type": "code",
      "metadata": {
        "id": "cD1O5-5h5Pnb"
      },
      "source": [
        "import pandas as pd\n",
        "import numpy as np\n",
        "import matplotlib.pyplot as plt\n",
        "import seaborn as sns"
      ],
      "execution_count": null,
      "outputs": []
    },
    {
      "cell_type": "code",
      "metadata": {
        "id": "xdjnhrdp7HMl",
        "outputId": "80fefd62-5f7f-479e-870c-c506453b3d54",
        "colab": {
          "base_uri": "https://localhost:8080/",
          "height": 194
        }
      },
      "source": [
        "customer_master = pd.read_csv(\"customer_master.csv\")\n",
        "customer_master.head()"
      ],
      "execution_count": null,
      "outputs": [
        {
          "output_type": "execute_result",
          "data": {
            "text/html": [
              "<div>\n",
              "<style scoped>\n",
              "    .dataframe tbody tr th:only-of-type {\n",
              "        vertical-align: middle;\n",
              "    }\n",
              "\n",
              "    .dataframe tbody tr th {\n",
              "        vertical-align: top;\n",
              "    }\n",
              "\n",
              "    .dataframe thead th {\n",
              "        text-align: right;\n",
              "    }\n",
              "</style>\n",
              "<table border=\"1\" class=\"dataframe\">\n",
              "  <thead>\n",
              "    <tr style=\"text-align: right;\">\n",
              "      <th></th>\n",
              "      <th>customer_id</th>\n",
              "      <th>customer_name</th>\n",
              "      <th>registration_date</th>\n",
              "      <th>email</th>\n",
              "      <th>gender</th>\n",
              "      <th>age</th>\n",
              "      <th>birth</th>\n",
              "      <th>pref</th>\n",
              "    </tr>\n",
              "  </thead>\n",
              "  <tbody>\n",
              "    <tr>\n",
              "      <th>0</th>\n",
              "      <td>IK152942</td>\n",
              "      <td>김서준</td>\n",
              "      <td>2019-01-01 0:25</td>\n",
              "      <td>hirata_yuujirou@example.com</td>\n",
              "      <td>M</td>\n",
              "      <td>29</td>\n",
              "      <td>1990-06-10</td>\n",
              "      <td>대전광역시</td>\n",
              "    </tr>\n",
              "    <tr>\n",
              "      <th>1</th>\n",
              "      <td>TS808488</td>\n",
              "      <td>김예준</td>\n",
              "      <td>2019-01-01 1:13</td>\n",
              "      <td>tamura_shiori@example.com</td>\n",
              "      <td>F</td>\n",
              "      <td>33</td>\n",
              "      <td>1986-05-20</td>\n",
              "      <td>인천광역시</td>\n",
              "    </tr>\n",
              "    <tr>\n",
              "      <th>2</th>\n",
              "      <td>AS834628</td>\n",
              "      <td>김도윤</td>\n",
              "      <td>2019-01-01 2:00</td>\n",
              "      <td>hisano_yuki@example.com</td>\n",
              "      <td>F</td>\n",
              "      <td>63</td>\n",
              "      <td>1956-01-02</td>\n",
              "      <td>광주광역시</td>\n",
              "    </tr>\n",
              "    <tr>\n",
              "      <th>3</th>\n",
              "      <td>AS345469</td>\n",
              "      <td>김시우</td>\n",
              "      <td>2019-01-01 4:48</td>\n",
              "      <td>tsuruoka_kaoru@example.com</td>\n",
              "      <td>M</td>\n",
              "      <td>74</td>\n",
              "      <td>1945-03-25</td>\n",
              "      <td>인천광역시</td>\n",
              "    </tr>\n",
              "    <tr>\n",
              "      <th>4</th>\n",
              "      <td>GD892565</td>\n",
              "      <td>김주원</td>\n",
              "      <td>2019-01-01 4:54</td>\n",
              "      <td>oouchi_takashi@example.com</td>\n",
              "      <td>M</td>\n",
              "      <td>54</td>\n",
              "      <td>1965-08-05</td>\n",
              "      <td>울산광역시</td>\n",
              "    </tr>\n",
              "  </tbody>\n",
              "</table>\n",
              "</div>"
            ],
            "text/plain": [
              "  customer_id customer_name registration_date  ... age       birth   pref\n",
              "0    IK152942           김서준   2019-01-01 0:25  ...  29  1990-06-10  대전광역시\n",
              "1    TS808488           김예준   2019-01-01 1:13  ...  33  1986-05-20  인천광역시\n",
              "2    AS834628           김도윤   2019-01-01 2:00  ...  63  1956-01-02  광주광역시\n",
              "3    AS345469           김시우   2019-01-01 4:48  ...  74  1945-03-25  인천광역시\n",
              "4    GD892565           김주원   2019-01-01 4:54  ...  54  1965-08-05  울산광역시\n",
              "\n",
              "[5 rows x 8 columns]"
            ]
          },
          "metadata": {
            "tags": []
          },
          "execution_count": 5
        }
      ]
    },
    {
      "cell_type": "code",
      "metadata": {
        "id": "KP2cpxsW7OhL",
        "outputId": "e42f825f-02bf-4e3c-ec7d-fed6055dac0e",
        "colab": {
          "base_uri": "https://localhost:8080/",
          "height": 194
        }
      },
      "source": [
        "item_master = pd.read_csv(\"item_master.csv\")\n",
        "item_master.head()"
      ],
      "execution_count": null,
      "outputs": [
        {
          "output_type": "execute_result",
          "data": {
            "text/html": [
              "<div>\n",
              "<style scoped>\n",
              "    .dataframe tbody tr th:only-of-type {\n",
              "        vertical-align: middle;\n",
              "    }\n",
              "\n",
              "    .dataframe tbody tr th {\n",
              "        vertical-align: top;\n",
              "    }\n",
              "\n",
              "    .dataframe thead th {\n",
              "        text-align: right;\n",
              "    }\n",
              "</style>\n",
              "<table border=\"1\" class=\"dataframe\">\n",
              "  <thead>\n",
              "    <tr style=\"text-align: right;\">\n",
              "      <th></th>\n",
              "      <th>item_id</th>\n",
              "      <th>item_name</th>\n",
              "      <th>item_price</th>\n",
              "    </tr>\n",
              "  </thead>\n",
              "  <tbody>\n",
              "    <tr>\n",
              "      <th>0</th>\n",
              "      <td>S001</td>\n",
              "      <td>PC-A</td>\n",
              "      <td>50000</td>\n",
              "    </tr>\n",
              "    <tr>\n",
              "      <th>1</th>\n",
              "      <td>S002</td>\n",
              "      <td>PC-B</td>\n",
              "      <td>85000</td>\n",
              "    </tr>\n",
              "    <tr>\n",
              "      <th>2</th>\n",
              "      <td>S003</td>\n",
              "      <td>PC-C</td>\n",
              "      <td>120000</td>\n",
              "    </tr>\n",
              "    <tr>\n",
              "      <th>3</th>\n",
              "      <td>S004</td>\n",
              "      <td>PC-D</td>\n",
              "      <td>180000</td>\n",
              "    </tr>\n",
              "    <tr>\n",
              "      <th>4</th>\n",
              "      <td>S005</td>\n",
              "      <td>PC-E</td>\n",
              "      <td>210000</td>\n",
              "    </tr>\n",
              "  </tbody>\n",
              "</table>\n",
              "</div>"
            ],
            "text/plain": [
              "  item_id item_name  item_price\n",
              "0    S001      PC-A       50000\n",
              "1    S002      PC-B       85000\n",
              "2    S003      PC-C      120000\n",
              "3    S004      PC-D      180000\n",
              "4    S005      PC-E      210000"
            ]
          },
          "metadata": {
            "tags": []
          },
          "execution_count": 9
        }
      ]
    },
    {
      "cell_type": "code",
      "metadata": {
        "id": "6xK0mVpC78t9",
        "outputId": "2ad9c7e3-e9c8-4152-dea9-ece8e1c289a4",
        "colab": {
          "base_uri": "https://localhost:8080/",
          "height": 194
        }
      },
      "source": [
        "transaction_1 = pd.read_csv(\"transaction_1.csv\")\n",
        "transaction_1.head()"
      ],
      "execution_count": null,
      "outputs": [
        {
          "output_type": "execute_result",
          "data": {
            "text/html": [
              "<div>\n",
              "<style scoped>\n",
              "    .dataframe tbody tr th:only-of-type {\n",
              "        vertical-align: middle;\n",
              "    }\n",
              "\n",
              "    .dataframe tbody tr th {\n",
              "        vertical-align: top;\n",
              "    }\n",
              "\n",
              "    .dataframe thead th {\n",
              "        text-align: right;\n",
              "    }\n",
              "</style>\n",
              "<table border=\"1\" class=\"dataframe\">\n",
              "  <thead>\n",
              "    <tr style=\"text-align: right;\">\n",
              "      <th></th>\n",
              "      <th>transaction_id</th>\n",
              "      <th>price</th>\n",
              "      <th>payment_date</th>\n",
              "      <th>customer_id</th>\n",
              "    </tr>\n",
              "  </thead>\n",
              "  <tbody>\n",
              "    <tr>\n",
              "      <th>0</th>\n",
              "      <td>T0000000113</td>\n",
              "      <td>210000</td>\n",
              "      <td>2019-02-01 01:36:57</td>\n",
              "      <td>PL563502</td>\n",
              "    </tr>\n",
              "    <tr>\n",
              "      <th>1</th>\n",
              "      <td>T0000000114</td>\n",
              "      <td>50000</td>\n",
              "      <td>2019-02-01 01:37:23</td>\n",
              "      <td>HD678019</td>\n",
              "    </tr>\n",
              "    <tr>\n",
              "      <th>2</th>\n",
              "      <td>T0000000115</td>\n",
              "      <td>120000</td>\n",
              "      <td>2019-02-01 02:34:19</td>\n",
              "      <td>HD298120</td>\n",
              "    </tr>\n",
              "    <tr>\n",
              "      <th>3</th>\n",
              "      <td>T0000000116</td>\n",
              "      <td>210000</td>\n",
              "      <td>2019-02-01 02:47:23</td>\n",
              "      <td>IK452215</td>\n",
              "    </tr>\n",
              "    <tr>\n",
              "      <th>4</th>\n",
              "      <td>T0000000117</td>\n",
              "      <td>170000</td>\n",
              "      <td>2019-02-01 04:33:46</td>\n",
              "      <td>PL542865</td>\n",
              "    </tr>\n",
              "  </tbody>\n",
              "</table>\n",
              "</div>"
            ],
            "text/plain": [
              "  transaction_id   price         payment_date customer_id\n",
              "0    T0000000113  210000  2019-02-01 01:36:57    PL563502\n",
              "1    T0000000114   50000  2019-02-01 01:37:23    HD678019\n",
              "2    T0000000115  120000  2019-02-01 02:34:19    HD298120\n",
              "3    T0000000116  210000  2019-02-01 02:47:23    IK452215\n",
              "4    T0000000117  170000  2019-02-01 04:33:46    PL542865"
            ]
          },
          "metadata": {
            "tags": []
          },
          "execution_count": 10
        }
      ]
    },
    {
      "cell_type": "code",
      "metadata": {
        "id": "5rlTZFiS8PGK",
        "outputId": "973798f9-d5b2-406a-d56a-5f8bf10f4ab0",
        "colab": {
          "base_uri": "https://localhost:8080/",
          "height": 194
        }
      },
      "source": [
        "transaction_detail_1 = pd.read_csv(\"transaction_detail_1.csv\")\n",
        "transaction_detail_1.head()"
      ],
      "execution_count": null,
      "outputs": [
        {
          "output_type": "execute_result",
          "data": {
            "text/html": [
              "<div>\n",
              "<style scoped>\n",
              "    .dataframe tbody tr th:only-of-type {\n",
              "        vertical-align: middle;\n",
              "    }\n",
              "\n",
              "    .dataframe tbody tr th {\n",
              "        vertical-align: top;\n",
              "    }\n",
              "\n",
              "    .dataframe thead th {\n",
              "        text-align: right;\n",
              "    }\n",
              "</style>\n",
              "<table border=\"1\" class=\"dataframe\">\n",
              "  <thead>\n",
              "    <tr style=\"text-align: right;\">\n",
              "      <th></th>\n",
              "      <th>detail_id</th>\n",
              "      <th>transaction_id</th>\n",
              "      <th>item_id</th>\n",
              "      <th>quantity</th>\n",
              "    </tr>\n",
              "  </thead>\n",
              "  <tbody>\n",
              "    <tr>\n",
              "      <th>0</th>\n",
              "      <td>0</td>\n",
              "      <td>T0000000113</td>\n",
              "      <td>S005</td>\n",
              "      <td>1</td>\n",
              "    </tr>\n",
              "    <tr>\n",
              "      <th>1</th>\n",
              "      <td>1</td>\n",
              "      <td>T0000000114</td>\n",
              "      <td>S001</td>\n",
              "      <td>1</td>\n",
              "    </tr>\n",
              "    <tr>\n",
              "      <th>2</th>\n",
              "      <td>2</td>\n",
              "      <td>T0000000115</td>\n",
              "      <td>S003</td>\n",
              "      <td>1</td>\n",
              "    </tr>\n",
              "    <tr>\n",
              "      <th>3</th>\n",
              "      <td>3</td>\n",
              "      <td>T0000000116</td>\n",
              "      <td>S005</td>\n",
              "      <td>1</td>\n",
              "    </tr>\n",
              "    <tr>\n",
              "      <th>4</th>\n",
              "      <td>4</td>\n",
              "      <td>T0000000117</td>\n",
              "      <td>S002</td>\n",
              "      <td>2</td>\n",
              "    </tr>\n",
              "  </tbody>\n",
              "</table>\n",
              "</div>"
            ],
            "text/plain": [
              "   detail_id transaction_id item_id  quantity\n",
              "0          0    T0000000113    S005         1\n",
              "1          1    T0000000114    S001         1\n",
              "2          2    T0000000115    S003         1\n",
              "3          3    T0000000116    S005         1\n",
              "4          4    T0000000117    S002         2"
            ]
          },
          "metadata": {
            "tags": []
          },
          "execution_count": 11
        }
      ]
    },
    {
      "cell_type": "markdown",
      "metadata": {
        "id": "syGW1cb17ykb"
      },
      "source": [
        "customer:고객정보 / item: 판매하는 물품의 정보 / transaction_1: 구매 내역 데이터 / transaction_detail_1:구매 내역 상세\n",
        "\n",
        "---\n",
        "\n"
      ]
    },
    {
      "cell_type": "markdown",
      "metadata": {
        "id": "hBcKfZDc8-4-"
      },
      "source": [
        "**테크닉2:데이터를 결합(유니언)해보자**\n",
        "\n",
        "이번 데이터 분석의 목적? : 매출을 올리겠다=>우량 고객을 찾고싶다!"
      ]
    },
    {
      "cell_type": "markdown",
      "metadata": {
        "id": "6UXeb6tF94ZE"
      },
      "source": [
        "구매내역 두개를 결합한다(세로방향으로)."
      ]
    },
    {
      "cell_type": "code",
      "metadata": {
        "id": "MuIpWDL67o_y",
        "outputId": "4c063583-6cc3-4a65-dc68-bde0514643ed",
        "colab": {
          "base_uri": "https://localhost:8080/",
          "height": 194
        }
      },
      "source": [
        "transaction_2 = pd.read_csv(\"transaction_2.csv\")\n",
        "transaction = pd.concat([transaction_1, transaction_2], ignore_index=True)\n",
        "transaction.head()"
      ],
      "execution_count": null,
      "outputs": [
        {
          "output_type": "execute_result",
          "data": {
            "text/html": [
              "<div>\n",
              "<style scoped>\n",
              "    .dataframe tbody tr th:only-of-type {\n",
              "        vertical-align: middle;\n",
              "    }\n",
              "\n",
              "    .dataframe tbody tr th {\n",
              "        vertical-align: top;\n",
              "    }\n",
              "\n",
              "    .dataframe thead th {\n",
              "        text-align: right;\n",
              "    }\n",
              "</style>\n",
              "<table border=\"1\" class=\"dataframe\">\n",
              "  <thead>\n",
              "    <tr style=\"text-align: right;\">\n",
              "      <th></th>\n",
              "      <th>transaction_id</th>\n",
              "      <th>price</th>\n",
              "      <th>payment_date</th>\n",
              "      <th>customer_id</th>\n",
              "    </tr>\n",
              "  </thead>\n",
              "  <tbody>\n",
              "    <tr>\n",
              "      <th>0</th>\n",
              "      <td>T0000000113</td>\n",
              "      <td>210000</td>\n",
              "      <td>2019-02-01 01:36:57</td>\n",
              "      <td>PL563502</td>\n",
              "    </tr>\n",
              "    <tr>\n",
              "      <th>1</th>\n",
              "      <td>T0000000114</td>\n",
              "      <td>50000</td>\n",
              "      <td>2019-02-01 01:37:23</td>\n",
              "      <td>HD678019</td>\n",
              "    </tr>\n",
              "    <tr>\n",
              "      <th>2</th>\n",
              "      <td>T0000000115</td>\n",
              "      <td>120000</td>\n",
              "      <td>2019-02-01 02:34:19</td>\n",
              "      <td>HD298120</td>\n",
              "    </tr>\n",
              "    <tr>\n",
              "      <th>3</th>\n",
              "      <td>T0000000116</td>\n",
              "      <td>210000</td>\n",
              "      <td>2019-02-01 02:47:23</td>\n",
              "      <td>IK452215</td>\n",
              "    </tr>\n",
              "    <tr>\n",
              "      <th>4</th>\n",
              "      <td>T0000000117</td>\n",
              "      <td>170000</td>\n",
              "      <td>2019-02-01 04:33:46</td>\n",
              "      <td>PL542865</td>\n",
              "    </tr>\n",
              "  </tbody>\n",
              "</table>\n",
              "</div>"
            ],
            "text/plain": [
              "  transaction_id   price         payment_date customer_id\n",
              "0    T0000000113  210000  2019-02-01 01:36:57    PL563502\n",
              "1    T0000000114   50000  2019-02-01 01:37:23    HD678019\n",
              "2    T0000000115  120000  2019-02-01 02:34:19    HD298120\n",
              "3    T0000000116  210000  2019-02-01 02:47:23    IK452215\n",
              "4    T0000000117  170000  2019-02-01 04:33:46    PL542865"
            ]
          },
          "metadata": {
            "tags": []
          },
          "execution_count": 12
        }
      ]
    },
    {
      "cell_type": "code",
      "metadata": {
        "id": "HtryuCS392wH",
        "outputId": "907bbedf-85c7-4f45-c353-c4eacf20a627",
        "colab": {
          "base_uri": "https://localhost:8080/"
        }
      },
      "source": [
        "print(len(transaction_1))\n",
        "print(len(transaction_2))\n",
        "print(len(transaction))"
      ],
      "execution_count": null,
      "outputs": [
        {
          "output_type": "stream",
          "text": [
            "5000\n",
            "1786\n",
            "6786\n"
          ],
          "name": "stdout"
        }
      ]
    },
    {
      "cell_type": "markdown",
      "metadata": {
        "id": "9Rwv4IOQ-X62"
      },
      "source": [
        "수치상으로 두 데이터가 잘 결합되었음을 확인할 수 있다."
      ]
    },
    {
      "cell_type": "code",
      "metadata": {
        "id": "ZN5w_bB3-VWX",
        "outputId": "7cf73b7b-d594-4b43-928d-00c5c747b97e",
        "colab": {
          "base_uri": "https://localhost:8080/",
          "height": 194
        }
      },
      "source": [
        "transaction_detail_2 = pd.read_csv(\"transaction_detail_2.csv\")\n",
        "transaction_detail = pd.concat([transaction_detail_1, transaction_detail_2], ignore_index=True)\n",
        "transaction_detail.head()"
      ],
      "execution_count": null,
      "outputs": [
        {
          "output_type": "execute_result",
          "data": {
            "text/html": [
              "<div>\n",
              "<style scoped>\n",
              "    .dataframe tbody tr th:only-of-type {\n",
              "        vertical-align: middle;\n",
              "    }\n",
              "\n",
              "    .dataframe tbody tr th {\n",
              "        vertical-align: top;\n",
              "    }\n",
              "\n",
              "    .dataframe thead th {\n",
              "        text-align: right;\n",
              "    }\n",
              "</style>\n",
              "<table border=\"1\" class=\"dataframe\">\n",
              "  <thead>\n",
              "    <tr style=\"text-align: right;\">\n",
              "      <th></th>\n",
              "      <th>detail_id</th>\n",
              "      <th>transaction_id</th>\n",
              "      <th>item_id</th>\n",
              "      <th>quantity</th>\n",
              "    </tr>\n",
              "  </thead>\n",
              "  <tbody>\n",
              "    <tr>\n",
              "      <th>0</th>\n",
              "      <td>0</td>\n",
              "      <td>T0000000113</td>\n",
              "      <td>S005</td>\n",
              "      <td>1</td>\n",
              "    </tr>\n",
              "    <tr>\n",
              "      <th>1</th>\n",
              "      <td>1</td>\n",
              "      <td>T0000000114</td>\n",
              "      <td>S001</td>\n",
              "      <td>1</td>\n",
              "    </tr>\n",
              "    <tr>\n",
              "      <th>2</th>\n",
              "      <td>2</td>\n",
              "      <td>T0000000115</td>\n",
              "      <td>S003</td>\n",
              "      <td>1</td>\n",
              "    </tr>\n",
              "    <tr>\n",
              "      <th>3</th>\n",
              "      <td>3</td>\n",
              "      <td>T0000000116</td>\n",
              "      <td>S005</td>\n",
              "      <td>1</td>\n",
              "    </tr>\n",
              "    <tr>\n",
              "      <th>4</th>\n",
              "      <td>4</td>\n",
              "      <td>T0000000117</td>\n",
              "      <td>S002</td>\n",
              "      <td>2</td>\n",
              "    </tr>\n",
              "  </tbody>\n",
              "</table>\n",
              "</div>"
            ],
            "text/plain": [
              "   detail_id transaction_id item_id  quantity\n",
              "0          0    T0000000113    S005         1\n",
              "1          1    T0000000114    S001         1\n",
              "2          2    T0000000115    S003         1\n",
              "3          3    T0000000116    S005         1\n",
              "4          4    T0000000117    S002         2"
            ]
          },
          "metadata": {
            "tags": []
          },
          "execution_count": 14
        }
      ]
    },
    {
      "cell_type": "code",
      "metadata": {
        "id": "DVKSryqI-uh8",
        "outputId": "f4ffa996-1d05-4d9c-b8ce-18d575190140",
        "colab": {
          "base_uri": "https://localhost:8080/"
        }
      },
      "source": [
        "print(len(transaction_detail_1))\n",
        "print(len(transaction_detail_2))\n",
        "print(len(transaction_detail))"
      ],
      "execution_count": null,
      "outputs": [
        {
          "output_type": "stream",
          "text": [
            "5000\n",
            "2144\n",
            "7144\n"
          ],
          "name": "stdout"
        }
      ]
    },
    {
      "cell_type": "markdown",
      "metadata": {
        "id": "e2dlpAVg-03I"
      },
      "source": [
        "구매 상세 내역 리스트 또한 수치상으로 잘 결합되었다."
      ]
    },
    {
      "cell_type": "markdown",
      "metadata": {
        "id": "VNQ5-8ay_P41"
      },
      "source": [
        "**테크닉 3:매출 데이터끼리 결합(조인)해보자**"
      ]
    },
    {
      "cell_type": "code",
      "metadata": {
        "id": "XtiO4PqH_ZL8",
        "outputId": "60fdcd47-8056-4f4c-f749-40c3726ed9e3",
        "colab": {
          "base_uri": "https://localhost:8080/",
          "height": 194
        }
      },
      "source": [
        "join_data = pd.merge(transaction_detail, transaction[[\"transaction_id\",\"payment_date\",\"customer_id\"]], on=\"transaction_id\",how=\"left\")\n",
        "join_data.head()"
      ],
      "execution_count": null,
      "outputs": [
        {
          "output_type": "execute_result",
          "data": {
            "text/html": [
              "<div>\n",
              "<style scoped>\n",
              "    .dataframe tbody tr th:only-of-type {\n",
              "        vertical-align: middle;\n",
              "    }\n",
              "\n",
              "    .dataframe tbody tr th {\n",
              "        vertical-align: top;\n",
              "    }\n",
              "\n",
              "    .dataframe thead th {\n",
              "        text-align: right;\n",
              "    }\n",
              "</style>\n",
              "<table border=\"1\" class=\"dataframe\">\n",
              "  <thead>\n",
              "    <tr style=\"text-align: right;\">\n",
              "      <th></th>\n",
              "      <th>detail_id</th>\n",
              "      <th>transaction_id</th>\n",
              "      <th>item_id</th>\n",
              "      <th>quantity</th>\n",
              "      <th>payment_date</th>\n",
              "      <th>customer_id</th>\n",
              "    </tr>\n",
              "  </thead>\n",
              "  <tbody>\n",
              "    <tr>\n",
              "      <th>0</th>\n",
              "      <td>0</td>\n",
              "      <td>T0000000113</td>\n",
              "      <td>S005</td>\n",
              "      <td>1</td>\n",
              "      <td>2019-02-01 01:36:57</td>\n",
              "      <td>PL563502</td>\n",
              "    </tr>\n",
              "    <tr>\n",
              "      <th>1</th>\n",
              "      <td>1</td>\n",
              "      <td>T0000000114</td>\n",
              "      <td>S001</td>\n",
              "      <td>1</td>\n",
              "      <td>2019-02-01 01:37:23</td>\n",
              "      <td>HD678019</td>\n",
              "    </tr>\n",
              "    <tr>\n",
              "      <th>2</th>\n",
              "      <td>2</td>\n",
              "      <td>T0000000115</td>\n",
              "      <td>S003</td>\n",
              "      <td>1</td>\n",
              "      <td>2019-02-01 02:34:19</td>\n",
              "      <td>HD298120</td>\n",
              "    </tr>\n",
              "    <tr>\n",
              "      <th>3</th>\n",
              "      <td>3</td>\n",
              "      <td>T0000000116</td>\n",
              "      <td>S005</td>\n",
              "      <td>1</td>\n",
              "      <td>2019-02-01 02:47:23</td>\n",
              "      <td>IK452215</td>\n",
              "    </tr>\n",
              "    <tr>\n",
              "      <th>4</th>\n",
              "      <td>4</td>\n",
              "      <td>T0000000117</td>\n",
              "      <td>S002</td>\n",
              "      <td>2</td>\n",
              "      <td>2019-02-01 04:33:46</td>\n",
              "      <td>PL542865</td>\n",
              "    </tr>\n",
              "  </tbody>\n",
              "</table>\n",
              "</div>"
            ],
            "text/plain": [
              "   detail_id transaction_id item_id  quantity         payment_date customer_id\n",
              "0          0    T0000000113    S005         1  2019-02-01 01:36:57    PL563502\n",
              "1          1    T0000000114    S001         1  2019-02-01 01:37:23    HD678019\n",
              "2          2    T0000000115    S003         1  2019-02-01 02:34:19    HD298120\n",
              "3          3    T0000000116    S005         1  2019-02-01 02:47:23    IK452215\n",
              "4          4    T0000000117    S002         2  2019-02-01 04:33:46    PL542865"
            ]
          },
          "metadata": {
            "tags": []
          },
          "execution_count": 20
        }
      ]
    },
    {
      "cell_type": "markdown",
      "metadata": {
        "id": "47OHvxgU_ugL"
      },
      "source": [
        "데이터를 조인할 때는 어떤 컬럼으로(키로) 조인할지 고려하자\n",
        "\n",
        "1.부족한 데이터 컬럼이 무엇인지\n",
        "\n",
        "2.공통되는 데이터 컬럼이 무엇인지\n",
        "\n",
        "여기서는 transaction_id를 공통 컬럼으로 사용"
      ]
    },
    {
      "cell_type": "markdown",
      "metadata": {
        "id": "7c2kVT9hBUP5"
      },
      "source": [
        "**테크닉 4:마스터 데이터를 결합(조인)해보자**"
      ]
    },
    {
      "cell_type": "code",
      "metadata": {
        "id": "BVnZB6eeBYVt",
        "outputId": "df327b6a-3116-42aa-8ac8-215283deacbd",
        "colab": {
          "base_uri": "https://localhost:8080/",
          "height": 194
        }
      },
      "source": [
        "join_data = pd.merge(join_data, customer_master, on=\"customer_id\", how=\"left\")\n",
        "join_data = pd.merge(join_data, item_master, on=\"item_id\", how=\"left\")\n",
        "join_data.head()"
      ],
      "execution_count": null,
      "outputs": [
        {
          "output_type": "execute_result",
          "data": {
            "text/html": [
              "<div>\n",
              "<style scoped>\n",
              "    .dataframe tbody tr th:only-of-type {\n",
              "        vertical-align: middle;\n",
              "    }\n",
              "\n",
              "    .dataframe tbody tr th {\n",
              "        vertical-align: top;\n",
              "    }\n",
              "\n",
              "    .dataframe thead th {\n",
              "        text-align: right;\n",
              "    }\n",
              "</style>\n",
              "<table border=\"1\" class=\"dataframe\">\n",
              "  <thead>\n",
              "    <tr style=\"text-align: right;\">\n",
              "      <th></th>\n",
              "      <th>detail_id</th>\n",
              "      <th>transaction_id</th>\n",
              "      <th>item_id</th>\n",
              "      <th>quantity</th>\n",
              "      <th>payment_date</th>\n",
              "      <th>customer_id</th>\n",
              "      <th>customer_name</th>\n",
              "      <th>registration_date</th>\n",
              "      <th>email</th>\n",
              "      <th>gender</th>\n",
              "      <th>age</th>\n",
              "      <th>birth</th>\n",
              "      <th>pref</th>\n",
              "      <th>item_name</th>\n",
              "      <th>item_price</th>\n",
              "    </tr>\n",
              "  </thead>\n",
              "  <tbody>\n",
              "    <tr>\n",
              "      <th>0</th>\n",
              "      <td>0</td>\n",
              "      <td>T0000000113</td>\n",
              "      <td>S005</td>\n",
              "      <td>1</td>\n",
              "      <td>2019-02-01 01:36:57</td>\n",
              "      <td>PL563502</td>\n",
              "      <td>김태경</td>\n",
              "      <td>2019-01-07 14:34</td>\n",
              "      <td>imoto_yoshimasa@example.com</td>\n",
              "      <td>M</td>\n",
              "      <td>30</td>\n",
              "      <td>1989-07-15</td>\n",
              "      <td>대전광역시</td>\n",
              "      <td>PC-E</td>\n",
              "      <td>210000</td>\n",
              "    </tr>\n",
              "    <tr>\n",
              "      <th>1</th>\n",
              "      <td>1</td>\n",
              "      <td>T0000000114</td>\n",
              "      <td>S001</td>\n",
              "      <td>1</td>\n",
              "      <td>2019-02-01 01:37:23</td>\n",
              "      <td>HD678019</td>\n",
              "      <td>김영웅</td>\n",
              "      <td>2019-01-27 18:00</td>\n",
              "      <td>mifune_rokurou@example.com</td>\n",
              "      <td>M</td>\n",
              "      <td>73</td>\n",
              "      <td>1945-11-29</td>\n",
              "      <td>서울특별시</td>\n",
              "      <td>PC-A</td>\n",
              "      <td>50000</td>\n",
              "    </tr>\n",
              "    <tr>\n",
              "      <th>2</th>\n",
              "      <td>2</td>\n",
              "      <td>T0000000115</td>\n",
              "      <td>S003</td>\n",
              "      <td>1</td>\n",
              "      <td>2019-02-01 02:34:19</td>\n",
              "      <td>HD298120</td>\n",
              "      <td>김강현</td>\n",
              "      <td>2019-01-11 8:16</td>\n",
              "      <td>yamane_kogan@example.com</td>\n",
              "      <td>M</td>\n",
              "      <td>42</td>\n",
              "      <td>1977-05-17</td>\n",
              "      <td>광주광역시</td>\n",
              "      <td>PC-C</td>\n",
              "      <td>120000</td>\n",
              "    </tr>\n",
              "    <tr>\n",
              "      <th>3</th>\n",
              "      <td>3</td>\n",
              "      <td>T0000000116</td>\n",
              "      <td>S005</td>\n",
              "      <td>1</td>\n",
              "      <td>2019-02-01 02:47:23</td>\n",
              "      <td>IK452215</td>\n",
              "      <td>김주한</td>\n",
              "      <td>2019-01-10 5:07</td>\n",
              "      <td>ikeda_natsumi@example.com</td>\n",
              "      <td>F</td>\n",
              "      <td>47</td>\n",
              "      <td>1972-03-17</td>\n",
              "      <td>인천광역시</td>\n",
              "      <td>PC-E</td>\n",
              "      <td>210000</td>\n",
              "    </tr>\n",
              "    <tr>\n",
              "      <th>4</th>\n",
              "      <td>4</td>\n",
              "      <td>T0000000117</td>\n",
              "      <td>S002</td>\n",
              "      <td>2</td>\n",
              "      <td>2019-02-01 04:33:46</td>\n",
              "      <td>PL542865</td>\n",
              "      <td>김영빈</td>\n",
              "      <td>2019-01-25 6:46</td>\n",
              "      <td>kurita_kenichi@example.com</td>\n",
              "      <td>M</td>\n",
              "      <td>74</td>\n",
              "      <td>1944-12-17</td>\n",
              "      <td>광주광역시</td>\n",
              "      <td>PC-B</td>\n",
              "      <td>85000</td>\n",
              "    </tr>\n",
              "  </tbody>\n",
              "</table>\n",
              "</div>"
            ],
            "text/plain": [
              "   detail_id transaction_id item_id  ...   pref item_name item_price\n",
              "0          0    T0000000113    S005  ...  대전광역시      PC-E     210000\n",
              "1          1    T0000000114    S001  ...  서울특별시      PC-A      50000\n",
              "2          2    T0000000115    S003  ...  광주광역시      PC-C     120000\n",
              "3          3    T0000000116    S005  ...  인천광역시      PC-E     210000\n",
              "4          4    T0000000117    S002  ...  광주광역시      PC-B      85000\n",
              "\n",
              "[5 rows x 15 columns]"
            ]
          },
          "metadata": {
            "tags": []
          },
          "execution_count": 21
        }
      ]
    },
    {
      "cell_type": "markdown",
      "metadata": {
        "id": "GclUf5kCBq6k"
      },
      "source": [
        "pd.merge를 이용해서 customer_master과 item_master를 조인한다.\n",
        "\n",
        "데이터 분석을 위해 하나의 파일을 완성했다!"
      ]
    },
    {
      "cell_type": "markdown",
      "metadata": {
        "id": "NBnTnyQgFR3r"
      },
      "source": [
        "**테크닉 5:필요한 데이터 컬럼을 만들자**"
      ]
    },
    {
      "cell_type": "code",
      "metadata": {
        "id": "3x6SYPcCCAGt",
        "outputId": "ba0b41d0-a2f5-4f7c-bfe4-4d898e2ddb9e",
        "colab": {
          "base_uri": "https://localhost:8080/",
          "height": 194
        }
      },
      "source": [
        " join_data[\"price\"] = join_data[\"quantity\"] * join_data[\"item_price\"]\n",
        " join_data[[\"quantity\", \"item_price\", \"price\"]].head()"
      ],
      "execution_count": null,
      "outputs": [
        {
          "output_type": "execute_result",
          "data": {
            "text/html": [
              "<div>\n",
              "<style scoped>\n",
              "    .dataframe tbody tr th:only-of-type {\n",
              "        vertical-align: middle;\n",
              "    }\n",
              "\n",
              "    .dataframe tbody tr th {\n",
              "        vertical-align: top;\n",
              "    }\n",
              "\n",
              "    .dataframe thead th {\n",
              "        text-align: right;\n",
              "    }\n",
              "</style>\n",
              "<table border=\"1\" class=\"dataframe\">\n",
              "  <thead>\n",
              "    <tr style=\"text-align: right;\">\n",
              "      <th></th>\n",
              "      <th>quantity</th>\n",
              "      <th>item_price</th>\n",
              "      <th>price</th>\n",
              "    </tr>\n",
              "  </thead>\n",
              "  <tbody>\n",
              "    <tr>\n",
              "      <th>0</th>\n",
              "      <td>1</td>\n",
              "      <td>210000</td>\n",
              "      <td>210000</td>\n",
              "    </tr>\n",
              "    <tr>\n",
              "      <th>1</th>\n",
              "      <td>1</td>\n",
              "      <td>50000</td>\n",
              "      <td>50000</td>\n",
              "    </tr>\n",
              "    <tr>\n",
              "      <th>2</th>\n",
              "      <td>1</td>\n",
              "      <td>120000</td>\n",
              "      <td>120000</td>\n",
              "    </tr>\n",
              "    <tr>\n",
              "      <th>3</th>\n",
              "      <td>1</td>\n",
              "      <td>210000</td>\n",
              "      <td>210000</td>\n",
              "    </tr>\n",
              "    <tr>\n",
              "      <th>4</th>\n",
              "      <td>2</td>\n",
              "      <td>85000</td>\n",
              "      <td>170000</td>\n",
              "    </tr>\n",
              "  </tbody>\n",
              "</table>\n",
              "</div>"
            ],
            "text/plain": [
              "   quantity  item_price   price\n",
              "0         1      210000  210000\n",
              "1         1       50000   50000\n",
              "2         1      120000  120000\n",
              "3         1      210000  210000\n",
              "4         2       85000  170000"
            ]
          },
          "metadata": {
            "tags": []
          },
          "execution_count": 22
        }
      ]
    },
    {
      "cell_type": "markdown",
      "metadata": {
        "id": "Zhg3Sm_GGSQl"
      },
      "source": [
        "판다스의 데이터 프레임형 곱셈을 한다. 형마다 가로 방향으로 계산한다. 데이터 가공은 한번 잘못하면 큰 에러가 발생한다. 또한 자주 반복될 시 고객의 신뢰를 잃게되므로 주의한다. 데이터 결합 후에는 신중하게 갯수를 확인하자."
      ]
    },
    {
      "cell_type": "code",
      "metadata": {
        "id": "mfldZoO5GQdX",
        "outputId": "fc4030dd-72d3-486b-93ed-af8c34a05424",
        "colab": {
          "base_uri": "https://localhost:8080/"
        }
      },
      "source": [
        "print(join_data['price'].sum())\n",
        "print(transaction['price'].sum())"
      ],
      "execution_count": null,
      "outputs": [
        {
          "output_type": "stream",
          "text": [
            "971135000\n",
            "971135000\n"
          ],
          "name": "stdout"
        }
      ]
    },
    {
      "cell_type": "markdown",
      "metadata": {
        "id": "qYJXcuHWHHbN"
      },
      "source": [
        "데이터 가공 전의 총합과 가공 후의 총합을 확인한다.\n",
        "\n",
        "세밀하게 확인하면 시간 소모가 많기 때문에 간단히 확인한다."
      ]
    },
    {
      "cell_type": "code",
      "metadata": {
        "id": "rAzVoueVHGm8",
        "outputId": "d5afe52c-2144-411d-95df-d5605b97c100",
        "colab": {
          "base_uri": "https://localhost:8080/"
        }
      },
      "source": [
        "join_data['price'].sum() == transaction['price'].sum()"
      ],
      "execution_count": null,
      "outputs": [
        {
          "output_type": "execute_result",
          "data": {
            "text/plain": [
              "True"
            ]
          },
          "metadata": {
            "tags": []
          },
          "execution_count": 24
        }
      ]
    },
    {
      "cell_type": "markdown",
      "metadata": {
        "id": "xyLemsrQHU7b"
      },
      "source": [
        "항상 검산을 신경써서 하자!"
      ]
    },
    {
      "cell_type": "markdown",
      "metadata": {
        "id": "GAH4bNCmHXxu"
      },
      "source": [
        "**테크닉 7:각종 통계량을 파악하자**"
      ]
    },
    {
      "cell_type": "code",
      "metadata": {
        "id": "PHtngWLHHT1p",
        "outputId": "4a9867bd-071b-4690-c9d3-708895168681",
        "colab": {
          "base_uri": "https://localhost:8080/"
        }
      },
      "source": [
        "join_data.isnull().sum()"
      ],
      "execution_count": null,
      "outputs": [
        {
          "output_type": "execute_result",
          "data": {
            "text/plain": [
              "detail_id            0\n",
              "transaction_id       0\n",
              "item_id              0\n",
              "quantity             0\n",
              "payment_date         0\n",
              "customer_id          0\n",
              "customer_name        0\n",
              "registration_date    0\n",
              "email                0\n",
              "gender               0\n",
              "age                  0\n",
              "birth                0\n",
              "pref                 0\n",
              "item_name            0\n",
              "item_price           0\n",
              "price                0\n",
              "dtype: int64"
            ]
          },
          "metadata": {
            "tags": []
          },
          "execution_count": 25
        }
      ]
    },
    {
      "cell_type": "markdown",
      "metadata": {
        "id": "KyNDMAS-Herk"
      },
      "source": [
        "데이터 분석을 진행할 때는 크게 두가지를 파악하자.\n",
        "\n",
        "1.결손치의 개수\n",
        "\n",
        "2.전체 개수 파악\n",
        "\n",
        "데이터는 항상, 거의 대부분 결손치가 포함될 가능성이 크다. 결손치는 결과에 큰 영향을 미치기 때문에 제거하거나 따로 보관해야한다.\n",
        "\n",
        "가령 매출항목에서 A제품 매출이 10만원인데 전체 매출 단위가 10억 또는 100만원일 경우 각 경우에 따라서 의미가 크게 달라진다."
      ]
    },
    {
      "cell_type": "code",
      "metadata": {
        "id": "yjW4jmorHdfD",
        "outputId": "7a922c08-0d2a-4158-e798-5069c09f1f8a",
        "colab": {
          "base_uri": "https://localhost:8080/",
          "height": 282
        }
      },
      "source": [
        "join_data.describe()"
      ],
      "execution_count": null,
      "outputs": [
        {
          "output_type": "execute_result",
          "data": {
            "text/html": [
              "<div>\n",
              "<style scoped>\n",
              "    .dataframe tbody tr th:only-of-type {\n",
              "        vertical-align: middle;\n",
              "    }\n",
              "\n",
              "    .dataframe tbody tr th {\n",
              "        vertical-align: top;\n",
              "    }\n",
              "\n",
              "    .dataframe thead th {\n",
              "        text-align: right;\n",
              "    }\n",
              "</style>\n",
              "<table border=\"1\" class=\"dataframe\">\n",
              "  <thead>\n",
              "    <tr style=\"text-align: right;\">\n",
              "      <th></th>\n",
              "      <th>detail_id</th>\n",
              "      <th>quantity</th>\n",
              "      <th>age</th>\n",
              "      <th>item_price</th>\n",
              "      <th>price</th>\n",
              "    </tr>\n",
              "  </thead>\n",
              "  <tbody>\n",
              "    <tr>\n",
              "      <th>count</th>\n",
              "      <td>7144.000000</td>\n",
              "      <td>7144.000000</td>\n",
              "      <td>7144.000000</td>\n",
              "      <td>7144.000000</td>\n",
              "      <td>7144.000000</td>\n",
              "    </tr>\n",
              "    <tr>\n",
              "      <th>mean</th>\n",
              "      <td>3571.500000</td>\n",
              "      <td>1.199888</td>\n",
              "      <td>50.265677</td>\n",
              "      <td>121698.628219</td>\n",
              "      <td>135937.150056</td>\n",
              "    </tr>\n",
              "    <tr>\n",
              "      <th>std</th>\n",
              "      <td>2062.439494</td>\n",
              "      <td>0.513647</td>\n",
              "      <td>17.190314</td>\n",
              "      <td>64571.311830</td>\n",
              "      <td>68511.453297</td>\n",
              "    </tr>\n",
              "    <tr>\n",
              "      <th>min</th>\n",
              "      <td>0.000000</td>\n",
              "      <td>1.000000</td>\n",
              "      <td>20.000000</td>\n",
              "      <td>50000.000000</td>\n",
              "      <td>50000.000000</td>\n",
              "    </tr>\n",
              "    <tr>\n",
              "      <th>25%</th>\n",
              "      <td>1785.750000</td>\n",
              "      <td>1.000000</td>\n",
              "      <td>36.000000</td>\n",
              "      <td>50000.000000</td>\n",
              "      <td>85000.000000</td>\n",
              "    </tr>\n",
              "    <tr>\n",
              "      <th>50%</th>\n",
              "      <td>3571.500000</td>\n",
              "      <td>1.000000</td>\n",
              "      <td>50.000000</td>\n",
              "      <td>102500.000000</td>\n",
              "      <td>120000.000000</td>\n",
              "    </tr>\n",
              "    <tr>\n",
              "      <th>75%</th>\n",
              "      <td>5357.250000</td>\n",
              "      <td>1.000000</td>\n",
              "      <td>65.000000</td>\n",
              "      <td>187500.000000</td>\n",
              "      <td>210000.000000</td>\n",
              "    </tr>\n",
              "    <tr>\n",
              "      <th>max</th>\n",
              "      <td>7143.000000</td>\n",
              "      <td>4.000000</td>\n",
              "      <td>80.000000</td>\n",
              "      <td>210000.000000</td>\n",
              "      <td>420000.000000</td>\n",
              "    </tr>\n",
              "  </tbody>\n",
              "</table>\n",
              "</div>"
            ],
            "text/plain": [
              "         detail_id     quantity          age     item_price          price\n",
              "count  7144.000000  7144.000000  7144.000000    7144.000000    7144.000000\n",
              "mean   3571.500000     1.199888    50.265677  121698.628219  135937.150056\n",
              "std    2062.439494     0.513647    17.190314   64571.311830   68511.453297\n",
              "min       0.000000     1.000000    20.000000   50000.000000   50000.000000\n",
              "25%    1785.750000     1.000000    36.000000   50000.000000   85000.000000\n",
              "50%    3571.500000     1.000000    50.000000  102500.000000  120000.000000\n",
              "75%    5357.250000     1.000000    65.000000  187500.000000  210000.000000\n",
              "max    7143.000000     4.000000    80.000000  210000.000000  420000.000000"
            ]
          },
          "metadata": {
            "tags": []
          },
          "execution_count": 26
        }
      ]
    },
    {
      "cell_type": "markdown",
      "metadata": {
        "id": "A6XuhPv-ImAv"
      },
      "source": [
        "describe로 전체 데이터의 숫자 의미를 파악할 수 있다.\n",
        "\n",
        "(+std는 표준편차를 의미함)"
      ]
    },
    {
      "cell_type": "code",
      "metadata": {
        "id": "wATS1I_QIlDR",
        "outputId": "52460e50-16f5-4bd0-bcc2-e4d52ff3b3a5",
        "colab": {
          "base_uri": "https://localhost:8080/"
        }
      },
      "source": [
        "print(join_data['payment_date'].min())\n",
        "print(join_data['payment_date'].max())"
      ],
      "execution_count": null,
      "outputs": [
        {
          "output_type": "stream",
          "text": [
            "2019-02-01 01:36:57\n",
            "2019-07-31 23:41:38\n"
          ],
          "name": "stdout"
        }
      ]
    },
    {
      "cell_type": "markdown",
      "metadata": {
        "id": "CYJmoEliJdRj"
      },
      "source": [
        "이 자료는 2019/02/01부터 2019/07/31까지의 데이터임을 알 수 있다."
      ]
    },
    {
      "cell_type": "markdown",
      "metadata": {
        "id": "0IQlNQPfJmBf"
      },
      "source": [
        "**테크닉 8:월별로 데이터를 모아보자**"
      ]
    },
    {
      "cell_type": "code",
      "metadata": {
        "id": "TNV810iyJX7J",
        "outputId": "c1224f8c-5f42-4706-9d59-a3eedd824d23",
        "colab": {
          "base_uri": "https://localhost:8080/"
        }
      },
      "source": [
        "join_data.dtypes"
      ],
      "execution_count": null,
      "outputs": [
        {
          "output_type": "execute_result",
          "data": {
            "text/plain": [
              "detail_id             int64\n",
              "transaction_id       object\n",
              "item_id              object\n",
              "quantity              int64\n",
              "payment_date         object\n",
              "customer_id          object\n",
              "customer_name        object\n",
              "registration_date    object\n",
              "email                object\n",
              "gender               object\n",
              "age                   int64\n",
              "birth                object\n",
              "pref                 object\n",
              "item_name            object\n",
              "item_price            int64\n",
              "price                 int64\n",
              "dtype: object"
            ]
          },
          "metadata": {
            "tags": []
          },
          "execution_count": 29
        }
      ]
    },
    {
      "cell_type": "markdown",
      "metadata": {
        "id": "fuglvmjbJsWn"
      },
      "source": [
        "시계열 데이터 : 시간의 흐름에 따른 데이터는 주로 주식, 날씨 등등이 있다.\n",
        "\n",
        "dtypes로 우선 데이터의 타입을 파악한다. "
      ]
    },
    {
      "cell_type": "code",
      "metadata": {
        "id": "st_zeVA4JrZg",
        "outputId": "fb59bbc7-5a11-44ff-dd43-51891698b54c",
        "colab": {
          "base_uri": "https://localhost:8080/",
          "height": 194
        }
      },
      "source": [
        "join_data['payment_date'] = pd.to_datetime(join_data['payment_date'])\n",
        "join_data['payment_month'] = join_data[\"payment_date\"].dt.strftime(\"%Y%m\")\n",
        "join_data[['payment_date', 'payment_month']].head()"
      ],
      "execution_count": null,
      "outputs": [
        {
          "output_type": "execute_result",
          "data": {
            "text/html": [
              "<div>\n",
              "<style scoped>\n",
              "    .dataframe tbody tr th:only-of-type {\n",
              "        vertical-align: middle;\n",
              "    }\n",
              "\n",
              "    .dataframe tbody tr th {\n",
              "        vertical-align: top;\n",
              "    }\n",
              "\n",
              "    .dataframe thead th {\n",
              "        text-align: right;\n",
              "    }\n",
              "</style>\n",
              "<table border=\"1\" class=\"dataframe\">\n",
              "  <thead>\n",
              "    <tr style=\"text-align: right;\">\n",
              "      <th></th>\n",
              "      <th>payment_date</th>\n",
              "      <th>payment_month</th>\n",
              "    </tr>\n",
              "  </thead>\n",
              "  <tbody>\n",
              "    <tr>\n",
              "      <th>0</th>\n",
              "      <td>2019-02-01 01:36:57</td>\n",
              "      <td>201902</td>\n",
              "    </tr>\n",
              "    <tr>\n",
              "      <th>1</th>\n",
              "      <td>2019-02-01 01:37:23</td>\n",
              "      <td>201902</td>\n",
              "    </tr>\n",
              "    <tr>\n",
              "      <th>2</th>\n",
              "      <td>2019-02-01 02:34:19</td>\n",
              "      <td>201902</td>\n",
              "    </tr>\n",
              "    <tr>\n",
              "      <th>3</th>\n",
              "      <td>2019-02-01 02:47:23</td>\n",
              "      <td>201902</td>\n",
              "    </tr>\n",
              "    <tr>\n",
              "      <th>4</th>\n",
              "      <td>2019-02-01 04:33:46</td>\n",
              "      <td>201902</td>\n",
              "    </tr>\n",
              "  </tbody>\n",
              "</table>\n",
              "</div>"
            ],
            "text/plain": [
              "         payment_date payment_month\n",
              "0 2019-02-01 01:36:57        201902\n",
              "1 2019-02-01 01:37:23        201902\n",
              "2 2019-02-01 02:34:19        201902\n",
              "3 2019-02-01 02:47:23        201902\n",
              "4 2019-02-01 04:33:46        201902"
            ]
          },
          "metadata": {
            "tags": []
          },
          "execution_count": 32
        }
      ]
    },
    {
      "cell_type": "markdown",
      "metadata": {
        "id": "g8JcbFlWKZFX"
      },
      "source": [
        "날짜를 추출하고 그 날짜로 월별 집계를 한다. 전체적인 매출이 늘어나고 있는지 줄어들고 있는지 파악하는 것이 분석의 첫 걸음이다.\n",
        "\n",
        "첫 1행에서 datetime형으로 변환하고 2행에서 새로운 컬럼 payment_month를 연,월 단위로 (월만 뽑으면 데이터가 엉킬 수 있으므로 년도까지) 만든다. \n",
        "\n",
        "pandas에서 dt (datetime) 를 사용하면 년,월이 추출된다."
      ]
    },
    {
      "cell_type": "code",
      "metadata": {
        "id": "FEVzLYz-KWBY",
        "outputId": "a19a45bf-a6d1-4480-9a1f-fdd48e95ee64",
        "colab": {
          "base_uri": "https://localhost:8080/"
        }
      },
      "source": [
        "join_data.groupby(\"payment_month\").sum()[\"price\"]"
      ],
      "execution_count": null,
      "outputs": [
        {
          "output_type": "execute_result",
          "data": {
            "text/plain": [
              "payment_month\n",
              "201902    160185000\n",
              "201903    160370000\n",
              "201904    160510000\n",
              "201905    155420000\n",
              "201906    164030000\n",
              "201907    170620000\n",
              "Name: price, dtype: int64"
            ]
          },
          "metadata": {
            "tags": []
          },
          "execution_count": 33
        }
      ]
    },
    {
      "cell_type": "markdown",
      "metadata": {
        "id": "YGsvWcvmLQtr"
      },
      "source": [
        "groupby : 집계할 컬럼과 집계방법을 기술한다.\n",
        "\n",
        "위 데이터를 통해 반년동안 가장 높은 매출은 2019년 7월임을 알 수 있다. 또한 매출이 5월에 갑자기 감소했다가 6월에 다시 회복되었다는 것을 알 수 있다. 한달 매출은 대략 1억 6천정도임을 알 수 있다.\n",
        "\n"
      ]
    },
    {
      "cell_type": "markdown",
      "metadata": {
        "id": "anRfxV_6Lx9N"
      },
      "source": [
        "**테크닉 9:월별, 상품별 데이터를 집계해보자**"
      ]
    },
    {
      "cell_type": "code",
      "metadata": {
        "id": "wHA4f3jFL1vk",
        "outputId": "f3b0a5aa-01c5-4f84-acc9-c44451ec1b8d",
        "colab": {
          "base_uri": "https://localhost:8080/",
          "height": 956
        }
      },
      "source": [
        "join_data.groupby(['payment_month','item_name']).sum()[['price', 'quantity']]"
      ],
      "execution_count": null,
      "outputs": [
        {
          "output_type": "execute_result",
          "data": {
            "text/html": [
              "<div>\n",
              "<style scoped>\n",
              "    .dataframe tbody tr th:only-of-type {\n",
              "        vertical-align: middle;\n",
              "    }\n",
              "\n",
              "    .dataframe tbody tr th {\n",
              "        vertical-align: top;\n",
              "    }\n",
              "\n",
              "    .dataframe thead th {\n",
              "        text-align: right;\n",
              "    }\n",
              "</style>\n",
              "<table border=\"1\" class=\"dataframe\">\n",
              "  <thead>\n",
              "    <tr style=\"text-align: right;\">\n",
              "      <th></th>\n",
              "      <th></th>\n",
              "      <th>price</th>\n",
              "      <th>quantity</th>\n",
              "    </tr>\n",
              "    <tr>\n",
              "      <th>payment_month</th>\n",
              "      <th>item_name</th>\n",
              "      <th></th>\n",
              "      <th></th>\n",
              "    </tr>\n",
              "  </thead>\n",
              "  <tbody>\n",
              "    <tr>\n",
              "      <th rowspan=\"5\" valign=\"top\">201902</th>\n",
              "      <th>PC-A</th>\n",
              "      <td>24150000</td>\n",
              "      <td>483</td>\n",
              "    </tr>\n",
              "    <tr>\n",
              "      <th>PC-B</th>\n",
              "      <td>25245000</td>\n",
              "      <td>297</td>\n",
              "    </tr>\n",
              "    <tr>\n",
              "      <th>PC-C</th>\n",
              "      <td>19800000</td>\n",
              "      <td>165</td>\n",
              "    </tr>\n",
              "    <tr>\n",
              "      <th>PC-D</th>\n",
              "      <td>31140000</td>\n",
              "      <td>173</td>\n",
              "    </tr>\n",
              "    <tr>\n",
              "      <th>PC-E</th>\n",
              "      <td>59850000</td>\n",
              "      <td>285</td>\n",
              "    </tr>\n",
              "    <tr>\n",
              "      <th rowspan=\"5\" valign=\"top\">201903</th>\n",
              "      <th>PC-A</th>\n",
              "      <td>26000000</td>\n",
              "      <td>520</td>\n",
              "    </tr>\n",
              "    <tr>\n",
              "      <th>PC-B</th>\n",
              "      <td>25500000</td>\n",
              "      <td>300</td>\n",
              "    </tr>\n",
              "    <tr>\n",
              "      <th>PC-C</th>\n",
              "      <td>19080000</td>\n",
              "      <td>159</td>\n",
              "    </tr>\n",
              "    <tr>\n",
              "      <th>PC-D</th>\n",
              "      <td>25740000</td>\n",
              "      <td>143</td>\n",
              "    </tr>\n",
              "    <tr>\n",
              "      <th>PC-E</th>\n",
              "      <td>64050000</td>\n",
              "      <td>305</td>\n",
              "    </tr>\n",
              "    <tr>\n",
              "      <th rowspan=\"5\" valign=\"top\">201904</th>\n",
              "      <th>PC-A</th>\n",
              "      <td>25900000</td>\n",
              "      <td>518</td>\n",
              "    </tr>\n",
              "    <tr>\n",
              "      <th>PC-B</th>\n",
              "      <td>23460000</td>\n",
              "      <td>276</td>\n",
              "    </tr>\n",
              "    <tr>\n",
              "      <th>PC-C</th>\n",
              "      <td>21960000</td>\n",
              "      <td>183</td>\n",
              "    </tr>\n",
              "    <tr>\n",
              "      <th>PC-D</th>\n",
              "      <td>24300000</td>\n",
              "      <td>135</td>\n",
              "    </tr>\n",
              "    <tr>\n",
              "      <th>PC-E</th>\n",
              "      <td>64890000</td>\n",
              "      <td>309</td>\n",
              "    </tr>\n",
              "    <tr>\n",
              "      <th rowspan=\"5\" valign=\"top\">201905</th>\n",
              "      <th>PC-A</th>\n",
              "      <td>24850000</td>\n",
              "      <td>497</td>\n",
              "    </tr>\n",
              "    <tr>\n",
              "      <th>PC-B</th>\n",
              "      <td>25330000</td>\n",
              "      <td>298</td>\n",
              "    </tr>\n",
              "    <tr>\n",
              "      <th>PC-C</th>\n",
              "      <td>20520000</td>\n",
              "      <td>171</td>\n",
              "    </tr>\n",
              "    <tr>\n",
              "      <th>PC-D</th>\n",
              "      <td>25920000</td>\n",
              "      <td>144</td>\n",
              "    </tr>\n",
              "    <tr>\n",
              "      <th>PC-E</th>\n",
              "      <td>58800000</td>\n",
              "      <td>280</td>\n",
              "    </tr>\n",
              "    <tr>\n",
              "      <th rowspan=\"5\" valign=\"top\">201906</th>\n",
              "      <th>PC-A</th>\n",
              "      <td>26000000</td>\n",
              "      <td>520</td>\n",
              "    </tr>\n",
              "    <tr>\n",
              "      <th>PC-B</th>\n",
              "      <td>23970000</td>\n",
              "      <td>282</td>\n",
              "    </tr>\n",
              "    <tr>\n",
              "      <th>PC-C</th>\n",
              "      <td>21840000</td>\n",
              "      <td>182</td>\n",
              "    </tr>\n",
              "    <tr>\n",
              "      <th>PC-D</th>\n",
              "      <td>28800000</td>\n",
              "      <td>160</td>\n",
              "    </tr>\n",
              "    <tr>\n",
              "      <th>PC-E</th>\n",
              "      <td>63420000</td>\n",
              "      <td>302</td>\n",
              "    </tr>\n",
              "    <tr>\n",
              "      <th rowspan=\"5\" valign=\"top\">201907</th>\n",
              "      <th>PC-A</th>\n",
              "      <td>25250000</td>\n",
              "      <td>505</td>\n",
              "    </tr>\n",
              "    <tr>\n",
              "      <th>PC-B</th>\n",
              "      <td>28220000</td>\n",
              "      <td>332</td>\n",
              "    </tr>\n",
              "    <tr>\n",
              "      <th>PC-C</th>\n",
              "      <td>19440000</td>\n",
              "      <td>162</td>\n",
              "    </tr>\n",
              "    <tr>\n",
              "      <th>PC-D</th>\n",
              "      <td>26100000</td>\n",
              "      <td>145</td>\n",
              "    </tr>\n",
              "    <tr>\n",
              "      <th>PC-E</th>\n",
              "      <td>71610000</td>\n",
              "      <td>341</td>\n",
              "    </tr>\n",
              "  </tbody>\n",
              "</table>\n",
              "</div>"
            ],
            "text/plain": [
              "                            price  quantity\n",
              "payment_month item_name                    \n",
              "201902        PC-A       24150000       483\n",
              "              PC-B       25245000       297\n",
              "              PC-C       19800000       165\n",
              "              PC-D       31140000       173\n",
              "              PC-E       59850000       285\n",
              "201903        PC-A       26000000       520\n",
              "              PC-B       25500000       300\n",
              "              PC-C       19080000       159\n",
              "              PC-D       25740000       143\n",
              "              PC-E       64050000       305\n",
              "201904        PC-A       25900000       518\n",
              "              PC-B       23460000       276\n",
              "              PC-C       21960000       183\n",
              "              PC-D       24300000       135\n",
              "              PC-E       64890000       309\n",
              "201905        PC-A       24850000       497\n",
              "              PC-B       25330000       298\n",
              "              PC-C       20520000       171\n",
              "              PC-D       25920000       144\n",
              "              PC-E       58800000       280\n",
              "201906        PC-A       26000000       520\n",
              "              PC-B       23970000       282\n",
              "              PC-C       21840000       182\n",
              "              PC-D       28800000       160\n",
              "              PC-E       63420000       302\n",
              "201907        PC-A       25250000       505\n",
              "              PC-B       28220000       332\n",
              "              PC-C       19440000       162\n",
              "              PC-D       26100000       145\n",
              "              PC-E       71610000       341"
            ]
          },
          "metadata": {
            "tags": []
          },
          "execution_count": 34
        }
      ]
    },
    {
      "cell_type": "markdown",
      "metadata": {
        "id": "Qa5XhotEMI5C"
      },
      "source": [
        "groupby에 계산할 컬럼 목록을 리스트로 넣는다. 뒤의 계산조건 뒤에는 실제 계산될 컬럼 목록을 넣는다."
      ]
    },
    {
      "cell_type": "code",
      "metadata": {
        "id": "XQXgw6yLLPEr",
        "outputId": "be335123-aa7a-4e4a-aa48-b0e2072ada35",
        "colab": {
          "base_uri": "https://localhost:8080/",
          "height": 252
        }
      },
      "source": [
        "pd.pivot_table(join_data, index='item_name', columns='payment_month', values = ['price', 'quantity'], aggfunc='sum')"
      ],
      "execution_count": null,
      "outputs": [
        {
          "output_type": "execute_result",
          "data": {
            "text/html": [
              "<div>\n",
              "<style scoped>\n",
              "    .dataframe tbody tr th:only-of-type {\n",
              "        vertical-align: middle;\n",
              "    }\n",
              "\n",
              "    .dataframe tbody tr th {\n",
              "        vertical-align: top;\n",
              "    }\n",
              "\n",
              "    .dataframe thead tr th {\n",
              "        text-align: left;\n",
              "    }\n",
              "\n",
              "    .dataframe thead tr:last-of-type th {\n",
              "        text-align: right;\n",
              "    }\n",
              "</style>\n",
              "<table border=\"1\" class=\"dataframe\">\n",
              "  <thead>\n",
              "    <tr>\n",
              "      <th></th>\n",
              "      <th colspan=\"6\" halign=\"left\">price</th>\n",
              "      <th colspan=\"6\" halign=\"left\">quantity</th>\n",
              "    </tr>\n",
              "    <tr>\n",
              "      <th>payment_month</th>\n",
              "      <th>201902</th>\n",
              "      <th>201903</th>\n",
              "      <th>201904</th>\n",
              "      <th>201905</th>\n",
              "      <th>201906</th>\n",
              "      <th>201907</th>\n",
              "      <th>201902</th>\n",
              "      <th>201903</th>\n",
              "      <th>201904</th>\n",
              "      <th>201905</th>\n",
              "      <th>201906</th>\n",
              "      <th>201907</th>\n",
              "    </tr>\n",
              "    <tr>\n",
              "      <th>item_name</th>\n",
              "      <th></th>\n",
              "      <th></th>\n",
              "      <th></th>\n",
              "      <th></th>\n",
              "      <th></th>\n",
              "      <th></th>\n",
              "      <th></th>\n",
              "      <th></th>\n",
              "      <th></th>\n",
              "      <th></th>\n",
              "      <th></th>\n",
              "      <th></th>\n",
              "    </tr>\n",
              "  </thead>\n",
              "  <tbody>\n",
              "    <tr>\n",
              "      <th>PC-A</th>\n",
              "      <td>24150000</td>\n",
              "      <td>26000000</td>\n",
              "      <td>25900000</td>\n",
              "      <td>24850000</td>\n",
              "      <td>26000000</td>\n",
              "      <td>25250000</td>\n",
              "      <td>483</td>\n",
              "      <td>520</td>\n",
              "      <td>518</td>\n",
              "      <td>497</td>\n",
              "      <td>520</td>\n",
              "      <td>505</td>\n",
              "    </tr>\n",
              "    <tr>\n",
              "      <th>PC-B</th>\n",
              "      <td>25245000</td>\n",
              "      <td>25500000</td>\n",
              "      <td>23460000</td>\n",
              "      <td>25330000</td>\n",
              "      <td>23970000</td>\n",
              "      <td>28220000</td>\n",
              "      <td>297</td>\n",
              "      <td>300</td>\n",
              "      <td>276</td>\n",
              "      <td>298</td>\n",
              "      <td>282</td>\n",
              "      <td>332</td>\n",
              "    </tr>\n",
              "    <tr>\n",
              "      <th>PC-C</th>\n",
              "      <td>19800000</td>\n",
              "      <td>19080000</td>\n",
              "      <td>21960000</td>\n",
              "      <td>20520000</td>\n",
              "      <td>21840000</td>\n",
              "      <td>19440000</td>\n",
              "      <td>165</td>\n",
              "      <td>159</td>\n",
              "      <td>183</td>\n",
              "      <td>171</td>\n",
              "      <td>182</td>\n",
              "      <td>162</td>\n",
              "    </tr>\n",
              "    <tr>\n",
              "      <th>PC-D</th>\n",
              "      <td>31140000</td>\n",
              "      <td>25740000</td>\n",
              "      <td>24300000</td>\n",
              "      <td>25920000</td>\n",
              "      <td>28800000</td>\n",
              "      <td>26100000</td>\n",
              "      <td>173</td>\n",
              "      <td>143</td>\n",
              "      <td>135</td>\n",
              "      <td>144</td>\n",
              "      <td>160</td>\n",
              "      <td>145</td>\n",
              "    </tr>\n",
              "    <tr>\n",
              "      <th>PC-E</th>\n",
              "      <td>59850000</td>\n",
              "      <td>64050000</td>\n",
              "      <td>64890000</td>\n",
              "      <td>58800000</td>\n",
              "      <td>63420000</td>\n",
              "      <td>71610000</td>\n",
              "      <td>285</td>\n",
              "      <td>305</td>\n",
              "      <td>309</td>\n",
              "      <td>280</td>\n",
              "      <td>302</td>\n",
              "      <td>341</td>\n",
              "    </tr>\n",
              "  </tbody>\n",
              "</table>\n",
              "</div>"
            ],
            "text/plain": [
              "                  price                      ... quantity              \n",
              "payment_month    201902    201903    201904  ...   201905 201906 201907\n",
              "item_name                                    ...                       \n",
              "PC-A           24150000  26000000  25900000  ...      497    520    505\n",
              "PC-B           25245000  25500000  23460000  ...      298    282    332\n",
              "PC-C           19800000  19080000  21960000  ...      171    182    162\n",
              "PC-D           31140000  25740000  24300000  ...      144    160    145\n",
              "PC-E           59850000  64050000  64890000  ...      280    302    341\n",
              "\n",
              "[5 rows x 12 columns]"
            ]
          },
          "metadata": {
            "tags": []
          },
          "execution_count": 35
        }
      ]
    },
    {
      "cell_type": "markdown",
      "metadata": {
        "id": "PHxON5j-Mo56"
      },
      "source": [
        "pivot_table은 행과 컬럼을 지정해서 피봇테이블을 만든다. 행에는 상품명, 컬럼에는 월을 볼수 있게 index와 컬럼을 지정해준다. 피봇테이블을 통해 월마다 상품명의 구체적 매출을 한눈에 쉽게 살펴볼 수 있다."
      ]
    },
    {
      "cell_type": "markdown",
      "metadata": {
        "id": "msX44kAoM-g8"
      },
      "source": [
        "**테크닉 10:상품별 매출 추이를 가시화해보자**"
      ]
    },
    {
      "cell_type": "code",
      "metadata": {
        "id": "eUepmJgdMm-8",
        "outputId": "9f8cb137-3687-4e1f-ec94-bcf6724c8b59",
        "colab": {
          "base_uri": "https://localhost:8080/",
          "height": 223
        }
      },
      "source": [
        "graph_data = pd.pivot_table(join_data, index='payment_month', columns='item_name', values='price', aggfunc='sum')\n",
        "graph_data.head()"
      ],
      "execution_count": null,
      "outputs": [
        {
          "output_type": "execute_result",
          "data": {
            "text/html": [
              "<div>\n",
              "<style scoped>\n",
              "    .dataframe tbody tr th:only-of-type {\n",
              "        vertical-align: middle;\n",
              "    }\n",
              "\n",
              "    .dataframe tbody tr th {\n",
              "        vertical-align: top;\n",
              "    }\n",
              "\n",
              "    .dataframe thead th {\n",
              "        text-align: right;\n",
              "    }\n",
              "</style>\n",
              "<table border=\"1\" class=\"dataframe\">\n",
              "  <thead>\n",
              "    <tr style=\"text-align: right;\">\n",
              "      <th>item_name</th>\n",
              "      <th>PC-A</th>\n",
              "      <th>PC-B</th>\n",
              "      <th>PC-C</th>\n",
              "      <th>PC-D</th>\n",
              "      <th>PC-E</th>\n",
              "    </tr>\n",
              "    <tr>\n",
              "      <th>payment_month</th>\n",
              "      <th></th>\n",
              "      <th></th>\n",
              "      <th></th>\n",
              "      <th></th>\n",
              "      <th></th>\n",
              "    </tr>\n",
              "  </thead>\n",
              "  <tbody>\n",
              "    <tr>\n",
              "      <th>201902</th>\n",
              "      <td>24150000</td>\n",
              "      <td>25245000</td>\n",
              "      <td>19800000</td>\n",
              "      <td>31140000</td>\n",
              "      <td>59850000</td>\n",
              "    </tr>\n",
              "    <tr>\n",
              "      <th>201903</th>\n",
              "      <td>26000000</td>\n",
              "      <td>25500000</td>\n",
              "      <td>19080000</td>\n",
              "      <td>25740000</td>\n",
              "      <td>64050000</td>\n",
              "    </tr>\n",
              "    <tr>\n",
              "      <th>201904</th>\n",
              "      <td>25900000</td>\n",
              "      <td>23460000</td>\n",
              "      <td>21960000</td>\n",
              "      <td>24300000</td>\n",
              "      <td>64890000</td>\n",
              "    </tr>\n",
              "    <tr>\n",
              "      <th>201905</th>\n",
              "      <td>24850000</td>\n",
              "      <td>25330000</td>\n",
              "      <td>20520000</td>\n",
              "      <td>25920000</td>\n",
              "      <td>58800000</td>\n",
              "    </tr>\n",
              "    <tr>\n",
              "      <th>201906</th>\n",
              "      <td>26000000</td>\n",
              "      <td>23970000</td>\n",
              "      <td>21840000</td>\n",
              "      <td>28800000</td>\n",
              "      <td>63420000</td>\n",
              "    </tr>\n",
              "  </tbody>\n",
              "</table>\n",
              "</div>"
            ],
            "text/plain": [
              "item_name          PC-A      PC-B      PC-C      PC-D      PC-E\n",
              "payment_month                                                  \n",
              "201902         24150000  25245000  19800000  31140000  59850000\n",
              "201903         26000000  25500000  19080000  25740000  64050000\n",
              "201904         25900000  23460000  21960000  24300000  64890000\n",
              "201905         24850000  25330000  20520000  25920000  58800000\n",
              "201906         26000000  23970000  21840000  28800000  63420000"
            ]
          },
          "metadata": {
            "tags": []
          },
          "execution_count": 38
        }
      ]
    },
    {
      "cell_type": "markdown",
      "metadata": {
        "id": "rL-x-jHBNYxV"
      },
      "source": [
        "데이터를 집계하고 집계된 데이터로 그린다. payment_month가 index로 사용된다."
      ]
    },
    {
      "cell_type": "code",
      "metadata": {
        "id": "2InVXUuwNRG6",
        "outputId": "a3a1ff85-5806-460e-ef27-9c2e2e444195",
        "colab": {
          "base_uri": "https://localhost:8080/",
          "height": 294
        }
      },
      "source": [
        "%matplotlib inline\n",
        "plt.plot(list(graph_data.index), graph_data['PC-A'], label='PC-A')\n",
        "plt.plot(list(graph_data.index), graph_data['PC-B'], label='PC-B')\n",
        "plt.plot(list(graph_data.index), graph_data['PC-C'], label='PC-C')\n",
        "plt.plot(list(graph_data.index), graph_data['PC-D'], label='PC-D')\n",
        "plt.plot(list(graph_data.index), graph_data['PC-E'], label='PC-E')\n",
        "plt.legend()"
      ],
      "execution_count": null,
      "outputs": [
        {
          "output_type": "execute_result",
          "data": {
            "text/plain": [
              "<matplotlib.legend.Legend at 0x7f5edf56fc18>"
            ]
          },
          "metadata": {
            "tags": []
          },
          "execution_count": 40
        },
        {
          "output_type": "display_data",
          "data": {
            "image/png": "[encoded data removed]",
            "text/plain": [
              "<Figure size 432x288 with 1 Axes>"
            ]
          },
          "metadata": {
            "tags": [],
            "needs_background": "light"
          }
        }
      ]
    },
    {
      "cell_type": "markdown",
      "metadata": {
        "id": "L3OLlw4LN8m5"
      },
      "source": [
        "PC-E 제품이 모든 제품 중 월등히 높은 판매량을 보이는 것을 알 수 있다. 또한 PC-C 제품은 모든 제품 중 꾸준히 낮은 판매량을 보이고 있다."
      ]
    },
    {
      "cell_type": "markdown",
      "metadata": {
        "id": "7Pq8UvDMPGdP"
      },
      "source": [
        "#분석 총정리\n",
        "\n",
        "데이터를 읽어서 분석 가능한 형태로 가공하고 집계하고 가시화했다. 이 예제에서는 데이터가 깨끗하고 문제가 없었기 때문에 쉽게 분석할 수 있었는데, 거의 대부분의 데이터는 그렇지 않다. 때문에 전처리 과정에 많은 노력과 시간이 소모된다(어떤 책에서는 데이터 분석의 약 80%이 전처리라고 말할 정도이다)."
      ]
    },
    {
      "cell_type": "code",
      "metadata": {
        "id": "VyM1CEKdN1pL"
      },
      "source": [
        ""
      ],
      "execution_count": null,
      "outputs": []
    }
  ]
}