{
  "nbformat": 4,
  "nbformat_minor": 0,
  "metadata": {
    "colab": {
      "name": "네이버 검색 프로그램 최종.ipynb",
      "provenance": [],
      "collapsed_sections": [],
      "authorship_tag": "ABX9TyNWUfl0Moua48BXH0l098az",
      "include_colab_link": true
    },
    "kernelspec": {
      "name": "python3",
      "display_name": "Python 3"
    }
  },
  "cells": [
    {
      "cell_type": "markdown",
      "metadata": {
        "id": "view-in-github",
        "colab_type": "text"
      },
      "source": [
        "<a href=\"https://colab.research.google.com/github/zeruel91/DataAnalysis/blob/main/%EB%84%A4%EC%9D%B4%EB%B2%84_%EA%B2%80%EC%83%89_%ED%94%84%EB%A1%9C%EA%B7%B8%EB%9E%A8_%EC%B5%9C%EC%A2%85.ipynb\" target=\"_parent\"><img src=\"https://colab.research.google.com/assets/colab-badge.svg\" alt=\"Open In Colab\"/></a>"
      ]
    },
    {
      "cell_type": "code",
      "metadata": {
        "id": "vuMwdImtrosx",
        "outputId": "5dbbe342-4758-4ef1-ccf9-723bf5cb8ac8",
        "colab": {
          "base_uri": "https://localhost:8080/"
        }
      },
      "source": [
        "import urllib.request as request\n",
        "import urllib\n",
        "import pandas as pd\n",
        "def create_url(api_node, search_text, start_num, disp_num):\n",
        "  base = \"https://openapi.naver.com/v1/search\"\n",
        "  node = \"/\"+ api_node + \".json\"\n",
        "  param_query = \"?query=\" + urllib.parse.quote(search_text)\n",
        "  param_start = \"&start=\" + str(start_num)\n",
        "  param_disp = \"&display=\" + str(disp_num)\n",
        "\n",
        "  return base + node + param_query + param_start + param_disp\n",
        "\n",
        "\n",
        "import json\n",
        "\n",
        "client_id = \"JtzyEv6hdzG2mhfewvFn\"\n",
        "client_secret = \"b7VOpgnzec\"\n",
        "target = input(\"검색할 키워드를 입력하세요 : \")\n",
        "N = int(input(\"몇개를 찾을까요? : \"))\n",
        "url = create_url(\"cafearticle\", target , 1, 10)\n",
        "#cafearticle 위치에 지식인,블로그 등등을 대신넣어도 됨.\n",
        "\n",
        "request = urllib.request.Request(url)\n",
        "request.add_header(\"X-Naver-Client-Id\",client_id)\n",
        "request.add_header(\"X-Naver-Client-Secret\",client_secret)\n",
        "\n",
        "response = urllib.request.urlopen(request)\n",
        "\n",
        "result =json.loads(response.read().decode('utf-8'))\n",
        "\n",
        "end_num = result['display']\n",
        "\n",
        "titles = [result['items'][n]['title'].replace(\"<b>\",\"\").replace(\"</b>\",\"\") for n in range(N)]\n",
        "descriptions = [result['items'][n]['description'].replace(\"<b>\",\"\").replace(\"</b>\",\"\") for n in range(N)]\n",
        "links =  [result['items'][n]['link'].replace(\"<b>\",\"\").replace(\"</b>\",\"\") for n in range(N)]\n",
        "\n",
        "pd.DataFrame({'제목':titles, '내용':descriptions, '링크':links})\n",
        "print(list(result['items'][0].keys()))"
      ],
      "execution_count": null,
      "outputs": [
        {
          "output_type": "stream",
          "text": [
            "검색할 키워드를 입력하세요 : 짜증\n",
            "몇개를 찾을까요? : 3\n",
            "['title', 'link', 'description', 'cafename', 'cafeurl']\n"
          ],
          "name": "stdout"
        }
      ]
    },
    {
      "cell_type": "markdown",
      "metadata": {
        "id": "eyffqPNdssZU"
      },
      "source": [
        "검색할 카테고리를 설정하고, 검색어를 쓴 이후에 해당 검색결과의 갯수를 지정.\n",
        "입력 -> 카테고리,검색어,검색량\n",
        "출력 -> 해당 카테고리에서의 검색결과. "
      ]
    },
    {
      "cell_type": "code",
      "metadata": {
        "id": "GFn8Pol8s_8b",
        "outputId": "3730d09f-0f06-45dd-d425-4717610718de",
        "colab": {
          "base_uri": "https://localhost:8080/"
        }
      },
      "source": [
        "#각 항목별로 변경되는것들이 생긴다.\n",
        "# 그것들을 처리\n",
        "#데이터 프레임 형태로 화면에 나타낸 다음.\n",
        "#파일로저장 파일이름을 naver_search_result_날짜(자동변경)\n",
        "import urllib.request as request\n",
        "import urllib\n",
        "import pandas as pd\n",
        "def create_url(api_node, search_text, start_num, disp_num):\n",
        "  base = \"https://openapi.naver.com/v1/search\"\n",
        "  node = \"/\"+ api_node + \".json\"\n",
        "  param_query = \"?query=\" + urllib.parse.quote(search_text)\n",
        "  param_start = \"&start=\" + str(start_num)\n",
        "  param_disp = \"&display=\" + str(disp_num)\n",
        "\n",
        "  return base + node + param_query + param_start + param_disp\n",
        "\n",
        "\n",
        "import json\n",
        "\n",
        "client_id = \"JtzyEv6hdzG2mhfewvFn\"\n",
        "client_secret = \"b7VOpgnzec\"\n",
        "search = input(\"어디서 찾을까요? (1=뉴스,2=백과사전,3=블로그,4=쇼핑,5=영화,6=웹 문서,7=이미지,8=전문정보,9=지식인):\")\n",
        "target = input(\"검색할 키워드를 입력하세요 : \")\n",
        "N = int(input(\"몇개를 찾을까요? : \"))\n",
        "#cafearticle 위치에 지식인,블로그 등등을 대신넣어도 됨.\n",
        "search_base = {1:\"news\",2:\"encyc\",3:\"blog\",4:\"shop\",5:\"movie\",6:\"webkr\",7:\"image\",8:\"doc\",9:\"kin\"}\n",
        "search = search_base[int(search)] #서치로 받은 스트링을 숫자로 변환.\n",
        "url = create_url(search, target , 1, 10)\n",
        "\n",
        "request = urllib.request.Request(url)\n",
        "request.add_header(\"X-Naver-Client-Id\",client_id)\n",
        "request.add_header(\"X-Naver-Client-Secret\",client_secret)\n",
        "\n",
        "response = urllib.request.urlopen(request)\n",
        "\n",
        "result =json.loads(response.read().decode('utf-8'))\n",
        "\n",
        "end_num = result['display']\n",
        "\n",
        "result_keys = list(result['items'][0].keys())\n",
        "#키 값이 매번 달라질 수 있으므로 아이템에서 직접 받아서 리스트화한후\n",
        "#인덱스 값으로 호출.\n",
        "first_column = [result['items'][n][result_keys[0]].replace(\"<b>\",\"\").replace(\"</b>\",\"\") for n in range(N)]\n",
        "second_column = [result['items'][n][result_keys[1]].replace(\"<b>\",\"\").replace(\"</b>\",\"\") for n in range(N)]\n",
        "third_column =  [result['items'][n][result_keys[2]].replace(\"<b>\",\"\").replace(\"</b>\",\"\") for n in range(N)]\n",
        "final = pd.DataFrame({result_keys[0]:first_column, result_keys[1]:second_column, result_keys[2]:third_column})\n",
        "print(final)\n",
        "from datetime import datetime\n",
        "now = datetime.now()\n",
        "time = str(now.month) +\"_\"+ str(now.day)\n",
        "final.to_excel(\"naver_search_result_\" +time + \"(\"+target+\").xlsx\")\n",
        "print(\"naver_search_result_\" +time + \"(\"+target+\").xlsx 로 저장되었습니다.\")\n"
      ],
      "execution_count": null,
      "outputs": [
        {
          "output_type": "stream",
          "text": [
            "어디서 찾을까요? (1=뉴스,2=백과사전,3=블로그,4=쇼핑,5=영화,6=웹 문서,7=이미지,8=전문정보,9=지식인):9\n",
            "검색할 키워드를 입력하세요 : 아기상어\n",
            "몇개를 찾을까요? : 5\n",
            "                                      title  ...                                        description\n",
            "0                              영어동요 아기 상어 뜻  ...  영어동요 아기 상어 뜻 아이가 아기상어를 좋아하는데 이 영어동요를 들려주고 뜻을 가...\n",
            "1                      아기 상어 잡는 꿈 해몽 부탁드립니다  ...  ... 꿈에서 아기 상어를 잡아서 어떤 남자 선생님한테 드렸는데 아무리 생각해봐도 ...\n",
            "2                EDM 클럽노래중에 아기상어 뚜루루 찾고싶어요~  ...  클럽노래 중에 아기상어 뚜루루 노래 찾고싶어요 ㅠㅠㅠ 좀 찾아줄수있으신가요 ㅠ  h...\n",
            "3  &lt;유튜브에서 핫한(?)아기 상어 복근 운동 효과 있나요? 또...   ...  ... 근데 아기 상어 복근 운동시에 걸리는 시간이 1분 40초 가량 밖에 되지 않...\n",
            "4                  아기상어 노래 들어도 너무 좋은거 같아요..  ...  혹시 이런 아이들 동요처럼 나온게 따로 있을까요 ?! 아기상어 노래는 핑크퐁 동요이...\n",
            "\n",
            "[5 rows x 3 columns]\n",
            "naver_search_result_11_13(아기상어).xlsx 로 저장되었습니다.\n"
          ],
          "name": "stdout"
        }
      ]
    },
    {
      "cell_type": "code",
      "metadata": {
        "id": "Ftebz26E57Jl"
      },
      "source": [
        ""
      ],
      "execution_count": null,
      "outputs": []
    }
  ]
}