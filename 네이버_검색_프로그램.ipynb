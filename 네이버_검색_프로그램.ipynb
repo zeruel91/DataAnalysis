{
  "nbformat": 4,
  "nbformat_minor": 0,
  "metadata": {
    "colab": {
      "name": "네이버 검색 프로그램.ipynb",
      "provenance": [],
      "collapsed_sections": [],
      "authorship_tag": "ABX9TyMZeYtKqd8eNCkVcT6jWgKb",
      "include_colab_link": true
    },
    "kernelspec": {
      "name": "python3",
      "display_name": "Python 3"
    }
  },
  "cells": [
    {
      "cell_type": "markdown",
      "metadata": {
        "id": "view-in-github",
        "colab_type": "text"
      },
      "source": [
        "<a href=\"https://colab.research.google.com/github/zeruel91/DataAnalysis/blob/main/%EB%84%A4%EC%9D%B4%EB%B2%84_%EA%B2%80%EC%83%89_%ED%94%84%EB%A1%9C%EA%B7%B8%EB%9E%A8.ipynb\" target=\"_parent\"><img src=\"https://colab.research.google.com/assets/colab-badge.svg\" alt=\"Open In Colab\"/></a>"
      ]
    },
    {
      "cell_type": "code",
      "metadata": {
        "id": "vuMwdImtrosx",
        "outputId": "ab635539-3fb6-4172-bc00-51d3f5f72a51",
        "colab": {
          "base_uri": "https://localhost:8080/",
          "height": 440
        }
      },
      "source": [
        "import urllib.request as request\n",
        "import urllib\n",
        "import pandas as pd\n",
        "def create_url(api_node, search_text, start_num, disp_num):\n",
        "  base = \"https://openapi.naver.com/v1/search\"\n",
        "  node = \"/\"+ api_node + \".json\"\n",
        "  param_query = \"?query=\" + urllib.parse.quote(search_text)\n",
        "  param_start = \"&start=\" + str(start_num)\n",
        "  param_disp = \"&display=\" + str(disp_num)\n",
        "\n",
        "  return base + node + param_query + param_start + param_disp\n",
        "\n",
        "\n",
        "import json\n",
        "\n",
        "client_id = \"JtzyEv6hdzG2mhfewvFn\"\n",
        "client_secret = \"b7VOpgnzec\"\n",
        "target = input(\"검색할 키워드를 입력하세요 : \")\n",
        "N = int(input(\"몇개를 찾을까요? : \"))\n",
        "url = create_url(\"cafearticle\", target , 1, 10)\n",
        "#cafearticle 위치에 지식인,블로그 등등을 대신넣어도 됨.\n",
        "\n",
        "request = urllib.request.Request(url)\n",
        "request.add_header(\"X-Naver-Client-Id\",client_id)\n",
        "request.add_header(\"X-Naver-Client-Secret\",client_secret)\n",
        "\n",
        "response = urllib.request.urlopen(request)\n",
        "\n",
        "result =json.loads(response.read().decode('utf-8'))\n",
        "\n",
        "end_num = result['display']\n",
        "\n",
        "titles = [result['items'][n]['title'].replace(\"<b>\",\"\").replace(\"</b>\",\"\") for n in range(N)]\n",
        "descriptions = [result['items'][n]['description'].replace(\"<b>\",\"\").replace(\"</b>\",\"\") for n in range(N)]\n",
        "links =  [result['items'][n]['link'].replace(\"<b>\",\"\").replace(\"</b>\",\"\") for n in range(N)]\n",
        "\n",
        "pd.DataFrame({'제목':titles, '내용':descriptions, '링크':links})"
      ],
      "execution_count": 2,
      "outputs": [
        {
          "output_type": "stream",
          "text": [
            "검색할 키워드를 입력하세요 : 팡세\n",
            "몇개를 찾을까요? : 8\n"
          ],
          "name": "stdout"
        },
        {
          "output_type": "execute_result",
          "data": {
            "text/html": [
              "<div>\n",
              "<style scoped>\n",
              "    .dataframe tbody tr th:only-of-type {\n",
              "        vertical-align: middle;\n",
              "    }\n",
              "\n",
              "    .dataframe tbody tr th {\n",
              "        vertical-align: top;\n",
              "    }\n",
              "\n",
              "    .dataframe thead th {\n",
              "        text-align: right;\n",
              "    }\n",
              "</style>\n",
              "<table border=\"1\" class=\"dataframe\">\n",
              "  <thead>\n",
              "    <tr style=\"text-align: right;\">\n",
              "      <th></th>\n",
              "      <th>제목</th>\n",
              "      <th>내용</th>\n",
              "      <th>링크</th>\n",
              "    </tr>\n",
              "  </thead>\n",
              "  <tbody>\n",
              "    <tr>\n",
              "      <th>0</th>\n",
              "      <td>11.11 수라방_사고력 교재(팡세도 함께)</td>\n",
              "      <td>오늘은 '사고력수학의 시작' 팡세를 좀 더 만날 수 있어서 반가웠어요. 파스칼 쓴 ...</td>\n",
              "      <td>http://cafe.naver.com/fieldsm/21479</td>\n",
              "    </tr>\n",
              "    <tr>\n",
              "      <th>1</th>\n",
              "      <td>팡세를 아시나요? ☎????</td>\n",
              "      <td>팡세커피숍 아시나요? ㅋㅋ (네이버에서 이미지펌) ㅋ 한때ㅡ 중고등 학교때 저는잘 ...</td>\n",
              "      <td>http://cafe.naver.com/indianahongsdoll/219569</td>\n",
              "    </tr>\n",
              "    <tr>\n",
              "      <th>2</th>\n",
              "      <td>빼빼로데이 깜짝 이벤트-팡세 인증 당첨자 발표</td>\n",
              "      <td>그래서 진행된 빼빼로데이 깜짝 이벤트 [화면에 나온 팡세 인증] 11분께 빼빼로 기...</td>\n",
              "      <td>http://cafe.naver.com/fieldsm/21561</td>\n",
              "    </tr>\n",
              "    <tr>\n",
              "      <th>3</th>\n",
              "      <td>똘스또이 인생이란 무엇인가 1, 2, 3권 외 파스칼 365일 팡세</td>\n",
              "      <td>개인거래(판매), 판매완료, 가격 40,000원, 직접결제, 똘스또이 인생이란 무엇...</td>\n",
              "      <td>http://cafe.naver.com/joonggonara/790916750</td>\n",
              "    </tr>\n",
              "    <tr>\n",
              "      <th>4</th>\n",
              "      <td>팡세♡ 기다려집니다^^</td>\n",
              "      <td>오늘도 너무 알찬 수라방 항상 너무 감사드려요^^ 팡세- 사고력 수학의 시작!! 깔...</td>\n",
              "      <td>http://cafe.naver.com/fieldsm/21477</td>\n",
              "    </tr>\n",
              "    <tr>\n",
              "      <th>5</th>\n",
              "      <td>팡세인증!! 수라방 본방사수!!</td>\n",
              "      <td>※탄탄한 사고 넓힐때 최상위사고력 ※난이도:팡세&amp;lt;노크(탑사고력)&amp;lt;팩토&amp;l...</td>\n",
              "      <td>http://cafe.naver.com/fieldsm/21484</td>\n",
              "    </tr>\n",
              "    <tr>\n",
              "      <th>6</th>\n",
              "      <td>팡세 인증해요~~~</td>\n",
              "      <td>사고력수학의시작 팡세 뚜둥!!! 12월 만날수있다고하니 기대할께요 오늘 사고력교재 ...</td>\n",
              "      <td>http://cafe.naver.com/fieldsm/21474</td>\n",
              "    </tr>\n",
              "    <tr>\n",
              "      <th>7</th>\n",
              "      <td>팡세 기대됩니다</td>\n",
              "      <td>따끈따끈한팡세 어서 초등껏도 나왔으면좋겠네요</td>\n",
              "      <td>http://cafe.naver.com/fieldsm/21465</td>\n",
              "    </tr>\n",
              "  </tbody>\n",
              "</table>\n",
              "</div>"
            ],
            "text/plain": [
              "                                      제목  ...                                             링크\n",
              "0               11.11 수라방_사고력 교재(팡세도 함께)  ...            http://cafe.naver.com/fieldsm/21479\n",
              "1                        팡세를 아시나요? ☎????  ...  http://cafe.naver.com/indianahongsdoll/219569\n",
              "2              빼빼로데이 깜짝 이벤트-팡세 인증 당첨자 발표  ...            http://cafe.naver.com/fieldsm/21561\n",
              "3  똘스또이 인생이란 무엇인가 1, 2, 3권 외 파스칼 365일 팡세  ...    http://cafe.naver.com/joonggonara/790916750\n",
              "4                           팡세♡ 기다려집니다^^  ...            http://cafe.naver.com/fieldsm/21477\n",
              "5                      팡세인증!! 수라방 본방사수!!  ...            http://cafe.naver.com/fieldsm/21484\n",
              "6                             팡세 인증해요~~~  ...            http://cafe.naver.com/fieldsm/21474\n",
              "7                               팡세 기대됩니다  ...            http://cafe.naver.com/fieldsm/21465\n",
              "\n",
              "[8 rows x 3 columns]"
            ]
          },
          "metadata": {
            "tags": []
          },
          "execution_count": 2
        }
      ]
    },
    {
      "cell_type": "markdown",
      "metadata": {
        "id": "eyffqPNdssZU"
      },
      "source": [
        "#어느 카테고리에서 검색할지 .\n",
        "1: 네이버 카페\n",
        "2: 네이버 블로그\n",
        "3: 네이버 뉴스...\n",
        "#찾을단어 입력\n",
        "#몇개 찾을지 입력"
      ]
    },
    {
      "cell_type": "code",
      "metadata": {
        "id": "GFn8Pol8s_8b"
      },
      "source": [
        "#각 항목별로 변경되는것들이 생긴다.\n",
        "# 그것들을 처리\n",
        "#데이터 프레임 형태로 화면에 나타낸 다음.\n",
        "#파일로저장 파일이름을 naver_search_result_날짜(자동변경)\n",
        "import urllib.request as request\n",
        "import urllib\n",
        "import pandas as pd\n",
        "def create_url(api_node, search_text, start_num, disp_num):\n",
        "  base = \"https://openapi.naver.com/v1/search\"\n",
        "  node = \"/\"+ api_node + \".json\"\n",
        "  param_query = \"?query=\" + urllib.parse.quote(search_text)\n",
        "  param_start = \"&start=\" + str(start_num)\n",
        "  param_disp = \"&display=\" + str(disp_num)\n",
        "\n",
        "  return base + node + param_query + param_start + param_disp\n",
        "\n",
        "\n",
        "import json\n",
        "\n",
        "client_id = \"JtzyEv6hdzG2mhfewvFn\"\n",
        "client_secret = \"b7VOpgnzec\"\n",
        "target = input(\"검색할 키워드를 입력하세요 : \")\n",
        "N = int(input(\"몇개를 찾을까요? : \"))\n",
        "url = create_url(\"cafearticle\", target , 1, 10)\n",
        "#cafearticle 위치에 지식인,블로그 등등을 대신넣어도 됨.\n",
        "\n",
        "request = urllib.request.Request(url)\n",
        "request.add_header(\"X-Naver-Client-Id\",client_id)\n",
        "request.add_header(\"X-Naver-Client-Secret\",client_secret)\n",
        "\n",
        "response = urllib.request.urlopen(request)\n",
        "\n",
        "result =json.loads(response.read().decode('utf-8'))\n",
        "\n",
        "end_num = result['display']\n",
        "\n",
        "titles = [result['items'][n]['title'].replace(\"<b>\",\"\").replace(\"</b>\",\"\") for n in range(N)]\n",
        "descriptions = [result['items'][n]['description'].replace(\"<b>\",\"\").replace(\"</b>\",\"\") for n in range(N)]\n",
        "links =  [result['items'][n]['link'].replace(\"<b>\",\"\").replace(\"</b>\",\"\") for n in range(N)]\n",
        "\n",
        "pd.DataFrame({'제목':titles, '내용':descriptions, '링크':links})"
      ],
      "execution_count": null,
      "outputs": []
    }
  ]
}