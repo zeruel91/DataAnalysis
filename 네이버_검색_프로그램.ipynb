{
  "nbformat": 4,
  "nbformat_minor": 0,
  "metadata": {
    "colab": {
      "name": "네이버 검색 프로그램.ipynb",
      "provenance": [],
      "collapsed_sections": [],
      "authorship_tag": "ABX9TyM2DwJBMeUyyLg0O2a+ZQ3M",
      "include_colab_link": true
    },
    "kernelspec": {
      "name": "python3",
      "display_name": "Python 3"
    }
  },
  "cells": [
    {
      "cell_type": "markdown",
      "metadata": {
        "id": "view-in-github",
        "colab_type": "text"
      },
      "source": [
        "<a href=\"https://colab.research.google.com/github/zeruel91/DataAnalysis/blob/main/%EB%84%A4%EC%9D%B4%EB%B2%84_%EA%B2%80%EC%83%89_%ED%94%84%EB%A1%9C%EA%B7%B8%EB%9E%A8.ipynb\" target=\"_parent\"><img src=\"https://colab.research.google.com/assets/colab-badge.svg\" alt=\"Open In Colab\"/></a>"
      ]
    },
    {
      "cell_type": "code",
      "metadata": {
        "id": "vuMwdImtrosx"
      },
      "source": [
        "import urllib.request as request\n",
        "import pandas as pd\n",
        "def create_url(api_node, search_text, start_num, disp_num):\n",
        "  base = \"https://openapi.naver.com/v1/search\"\n",
        "  node = \"/\"+ api_node + \".json\"\n",
        "  param_query = \"?query=\" + urllib.parse.quote(search_text)\n",
        "  param_start = \"&start=\" + str(start_num)\n",
        "  param_disp = \"&display=\" + str(disp_num)\n",
        "\n",
        "  return base + node + param_query + param_start + param_disp\n",
        "\n",
        "\n",
        "import json\n",
        "\n",
        "client_id = \"JtzyEv6hdzG2mhfewvFn\"\n",
        "client_secret = \"b7VOpgnzec\"\n",
        "target = input(\"검색할 키워드를 입력하세요 : \")\n",
        "N = int(input(\"몇개를 찾을까요? : \"))\n",
        "url = create_url(\"cafearticle\", target , 1, 10)\n",
        "\n",
        "request = urllib.request.Request(url)\n",
        "request.add_header(\"X-Naver-Client-Id\",client_id)\n",
        "request.add_header(\"X-Naver-Client-Secret\",client_secret)\n",
        "\n",
        "response = urllib.request.urlopen(request)\n",
        "\n",
        "result =json.loads(response.read().decode('utf-8'))\n",
        "\n",
        "end_num = result['display']\n",
        "\n",
        "titles = [result['items'][n]['title'].replace(\"<b>\",\"\").replace(\"</b>\",\"\") for n in range(N)]\n",
        "descriptions = [result['items'][n]['description'].replace(\"<b>\",\"\").replace(\"</b>\",\"\") for n in range(N)]\n",
        "links =  [result['items'][n]['link'].replace(\"<b>\",\"\").replace(\"</b>\",\"\") for n in range(N)]\n",
        "\n",
        "pd.DataFrame({'제목':titles, '내용':descriptions, '링크':links})"
      ],
      "execution_count": null,
      "outputs": []
    }
  ]
}