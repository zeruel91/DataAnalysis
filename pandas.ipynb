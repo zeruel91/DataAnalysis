{
  "nbformat": 4,
  "nbformat_minor": 0,
  "metadata": {
    "colab": {
      "name": "pandas.ipynb",
      "provenance": [],
      "authorship_tag": "ABX9TyOBWVXcw00vyXR9PXzSOs4g",
      "include_colab_link": true
    },
    "kernelspec": {
      "name": "python3",
      "display_name": "Python 3"
    }
  },
  "cells": [
    {
      "cell_type": "markdown",
      "metadata": {
        "id": "view-in-github",
        "colab_type": "text"
      },
      "source": [
        "<a href=\"https://colab.research.google.com/github/zeruel91/DataAnalysis/blob/main/pandas.ipynb\" target=\"_parent\"><img src=\"https://colab.research.google.com/assets/colab-badge.svg\" alt=\"Open In Colab\"/></a>"
      ]
    },
    {
      "cell_type": "code",
      "metadata": {
        "id": "a783gNip_-QR",
        "outputId": "95b73116-ca72-4eec-c8ce-06d31a56afce",
        "colab": {
          "base_uri": "https://localhost:8080/",
          "height": 197
        }
      },
      "source": [
        "import pandas as pd\n",
        "import numpy as np\n",
        "\n",
        "#판다스의 누락데이터 전처리.\n",
        "string_data = pd.Series(['aardvark','artichoke',np.nan,'avocado'])\n",
        "string_data\n",
        "##\n",
        "string_data.isnull() #boolean 으로 출력\n",
        "string_data[0]=None #none 으로 변환시킬 수 있다.(날린다)\n",
        "\n",
        "from numpy import nan as NA\n",
        "data = pd.Series([1,NA,3.5,NA,7])\n",
        "data.dropna() #na 를 드랍시킨다.(뺀다)\n",
        "data[data.notnull()] #na 가 아닌것만 나온다(not null)\n",
        "#\n",
        "data = pd.DataFrame([[1.,6.5,3.],[1.,NA,NA],[NA,NA,NA],[NA,6.5,3.]])\n",
        "cleaned = data.dropna()\n",
        "data\n",
        "\n",
        "cleaned\n",
        "\n",
        "data.dropna(how='all') #모든게 NAN이어야 날림. 줄 만. \n",
        "data[4]=NA #모든게 NAN인 column 생성\n",
        "data\n",
        "data.dropna(axis = 1, how ='all') #모든성분이 NAN인 column 4 를 제거함\n",
        "#dropna 는 디폴트가 로우\n",
        "#axis = 1 -> column 을 기준으로 바꿈.\n",
        "#axis = 0 (default)\n",
        "\n",
        "df = pd.DataFrame(np.random.randn(7,3))\n",
        "df.iloc[:4,1] = NA\n",
        "df.iloc[:2,2] = NA\n",
        "df\n",
        "\n",
        "df.dropna() #dropna 는 전부날려버려서 데이터가 너무 줄어든다.\n",
        "df.dropna(thresh = 2) #NA 두개 이상이면 날려버리겠다.\n",
        "\n",
        "#누락된 데이터 채워넣기\n",
        "\n",
        "df.fillna(0) #0으로 채워넣겠다.\n",
        "df.fillna({1:0.5,2:0}) #1열은 0.5, 2열은 0으로 넣겠다\n",
        "df.fillna(df.mean()) #평균으로 채워넣기.\n",
        "\n",
        "#데이터 변형\n",
        "\n",
        "data = pd.DataFrame({'k1':['one','two']*3+['two'],'k2':[1,1,2,3,3,4,4]})\n",
        "data\n",
        "\n",
        "data.duplicated() #중복값 체크\n",
        "data.drop_duplicates() # 중복 제거\n",
        "\n",
        "data['v1']= range(7)\n",
        "data.drop_duplicates(['k1']) #k1 기준 중복 삭제.\n",
        "data.drop_duplicates(['k1','k2'],keep='last')\n",
        "#중복값을 삭제, 중복의 기준은 k1,k2이고 날릴때 뒤에걸 남기고 날림.\n",
        "\n",
        "#함수를 통한 데이터 변환\n",
        "data = pd.DataFrame({'food': ['bacon', 'pulled pork', 'bacon',\n",
        "'Pastrami', 'corned beef', 'Bacon','pastrami', 'honey ham', 'nova lox'],\n",
        "'ounces': [4, 3, 12, 6, 7.5, 8, 3, 5, 6]})\n",
        "data\n",
        "\n",
        "meat_to_animal = { 'bacon': 'pig',\n",
        "'pulled pork': 'pig', \n",
        "'pastrami': 'cow', \n",
        "'corned beef': 'cow',\n",
        "'honey ham': 'pig', \n",
        "'nova lox': 'salmon'\n",
        "}\n",
        "\n",
        "lowercased = data['food'].str.lower()\n",
        "lowercased"
      ],
      "execution_count": null,
      "outputs": [
        {
          "output_type": "execute_result",
          "data": {
            "text/plain": [
              "0          bacon\n",
              "1    pulled pork\n",
              "2          bacon\n",
              "3       pastrami\n",
              "4    corned beef\n",
              "5          bacon\n",
              "6       pastrami\n",
              "7      honey ham\n",
              "8       nova lox\n",
              "Name: food, dtype: object"
            ]
          },
          "metadata": {
            "tags": []
          },
          "execution_count": 2
        }
      ]
    },
    {
      "cell_type": "code",
      "metadata": {
        "id": "j0U5l7lJ0UMM"
      },
      "source": [
        ""
      ],
      "execution_count": null,
      "outputs": []
    }
  ]
}