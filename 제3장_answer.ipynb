{
  "nbformat": 4,
  "nbformat_minor": 0,
  "metadata": {
    "kernelspec": {
      "display_name": "Python 3",
      "language": "python",
      "name": "python3"
    },
    "language_info": {
      "codemirror_mode": {
        "name": "ipython",
        "version": 3
      },
      "file_extension": ".py",
      "mimetype": "text/x-python",
      "name": "python",
      "nbconvert_exporter": "python",
      "pygments_lexer": "ipython3",
      "version": "3.8.3"
    },
    "colab": {
      "name": "제3장_answer.ipynb",
      "provenance": [],
      "include_colab_link": true
    }
  },
  "cells": [
    {
      "cell_type": "markdown",
      "metadata": {
        "id": "view-in-github",
        "colab_type": "text"
      },
      "source": [
        "<a href=\"https://colab.research.google.com/github/zeruel91/DataAnalysis/blob/main/%EC%A0%9C3%EC%9E%A5_answer.ipynb\" target=\"_parent\"><img src=\"https://colab.research.google.com/assets/colab-badge.svg\" alt=\"Open In Colab\"/></a>"
      ]
    },
    {
      "cell_type": "code",
      "metadata": {
        "id": "bPWINedlslUR"
      },
      "source": [
        "# 경고(worning) 비표시\n",
        "import warnings\n",
        "warnings.filterwarnings('ignore')"
      ],
      "execution_count": null,
      "outputs": []
    },
    {
      "cell_type": "markdown",
      "metadata": {
        "id": "ul7kHRDhslUd"
      },
      "source": [
        "# 제3장 고객의 전체모습을 파악하는 테크닉 10"
      ]
    },
    {
      "cell_type": "markdown",
      "metadata": {
        "id": "6h7DsjZQslUe"
      },
      "source": [
        "### 테크닉21 : 데이터를 읽어들이고 확인하자"
      ]
    },
    {
      "cell_type": "code",
      "metadata": {
        "id": "o62nKVw0slUf"
      },
      "source": [
        "# 종일회원, 주간회원, 야간회원 3종류 회원 구분\n",
        "# 입회비, 반액할인, 일부 무료,,,,\n",
        "\n",
        "# use_log.csv 센터이용이력  -> uselog\n",
        "# customer_master.csv 2019년 3월 말 시점의 회원 데이터 (탈퇴한 회원 도 포함)\n",
        "# class_master, 회원 구분 \n",
        "# campaign_master, 가입 시 행사 종류\n",
        "\n",
        "# len() 갯수 파악\n",
        "# head() 이상유무 확인 "
      ],
      "execution_count": null,
      "outputs": []
    },
    {
      "cell_type": "code",
      "metadata": {
        "id": "MUnHSsvqslUk",
        "outputId": "d9666714-1cbf-46ce-8558-95e57c942f41"
      },
      "source": [
        "import pandas as pd\n",
        "uselog = pd.read_csv('use_log.csv')\n",
        "print(len(uselog))\n",
        "uselog.head()\n",
        "# 고객의 id 이용일을 포함하는 간단한 데이터셋"
      ],
      "execution_count": null,
      "outputs": [
        {
          "output_type": "stream",
          "text": [
            "197428\n"
          ],
          "name": "stdout"
        },
        {
          "output_type": "execute_result",
          "data": {
            "text/html": [
              "<div>\n",
              "<style scoped>\n",
              "    .dataframe tbody tr th:only-of-type {\n",
              "        vertical-align: middle;\n",
              "    }\n",
              "\n",
              "    .dataframe tbody tr th {\n",
              "        vertical-align: top;\n",
              "    }\n",
              "\n",
              "    .dataframe thead th {\n",
              "        text-align: right;\n",
              "    }\n",
              "</style>\n",
              "<table border=\"1\" class=\"dataframe\">\n",
              "  <thead>\n",
              "    <tr style=\"text-align: right;\">\n",
              "      <th></th>\n",
              "      <th>log_id</th>\n",
              "      <th>customer_id</th>\n",
              "      <th>usedate</th>\n",
              "    </tr>\n",
              "  </thead>\n",
              "  <tbody>\n",
              "    <tr>\n",
              "      <th>0</th>\n",
              "      <td>L00000049012330</td>\n",
              "      <td>AS009373</td>\n",
              "      <td>2018-04-01</td>\n",
              "    </tr>\n",
              "    <tr>\n",
              "      <th>1</th>\n",
              "      <td>L00000049012331</td>\n",
              "      <td>AS015315</td>\n",
              "      <td>2018-04-01</td>\n",
              "    </tr>\n",
              "    <tr>\n",
              "      <th>2</th>\n",
              "      <td>L00000049012332</td>\n",
              "      <td>AS040841</td>\n",
              "      <td>2018-04-01</td>\n",
              "    </tr>\n",
              "    <tr>\n",
              "      <th>3</th>\n",
              "      <td>L00000049012333</td>\n",
              "      <td>AS046594</td>\n",
              "      <td>2018-04-01</td>\n",
              "    </tr>\n",
              "    <tr>\n",
              "      <th>4</th>\n",
              "      <td>L00000049012334</td>\n",
              "      <td>AS073285</td>\n",
              "      <td>2018-04-01</td>\n",
              "    </tr>\n",
              "  </tbody>\n",
              "</table>\n",
              "</div>"
            ],
            "text/plain": [
              "            log_id customer_id     usedate\n",
              "0  L00000049012330    AS009373  2018-04-01\n",
              "1  L00000049012331    AS015315  2018-04-01\n",
              "2  L00000049012332    AS040841  2018-04-01\n",
              "3  L00000049012333    AS046594  2018-04-01\n",
              "4  L00000049012334    AS073285  2018-04-01"
            ]
          },
          "metadata": {
            "tags": []
          },
          "execution_count": 2
        }
      ]
    },
    {
      "cell_type": "code",
      "metadata": {
        "id": "pfjmA8fQslUs",
        "outputId": "b99b6876-a822-46d5-dba3-16f3f39b4b84"
      },
      "source": [
        "customer = pd.read_csv('customer_master.csv')\n",
        "print(len(customer))\n",
        "customer.head()\n",
        "# 고객 id , 이름 회원 클래스  성별 등록일  어떤 캠패인으로 등록 관둔사람(탈퇴자)?"
      ],
      "execution_count": null,
      "outputs": [
        {
          "output_type": "stream",
          "text": [
            "4192\n"
          ],
          "name": "stdout"
        },
        {
          "output_type": "execute_result",
          "data": {
            "text/html": [
              "<div>\n",
              "<style scoped>\n",
              "    .dataframe tbody tr th:only-of-type {\n",
              "        vertical-align: middle;\n",
              "    }\n",
              "\n",
              "    .dataframe tbody tr th {\n",
              "        vertical-align: top;\n",
              "    }\n",
              "\n",
              "    .dataframe thead th {\n",
              "        text-align: right;\n",
              "    }\n",
              "</style>\n",
              "<table border=\"1\" class=\"dataframe\">\n",
              "  <thead>\n",
              "    <tr style=\"text-align: right;\">\n",
              "      <th></th>\n",
              "      <th>customer_id</th>\n",
              "      <th>name</th>\n",
              "      <th>class</th>\n",
              "      <th>gender</th>\n",
              "      <th>start_date</th>\n",
              "      <th>end_date</th>\n",
              "      <th>campaign_id</th>\n",
              "      <th>is_deleted</th>\n",
              "    </tr>\n",
              "  </thead>\n",
              "  <tbody>\n",
              "    <tr>\n",
              "      <th>0</th>\n",
              "      <td>OA832399</td>\n",
              "      <td>XXXX</td>\n",
              "      <td>C01</td>\n",
              "      <td>F</td>\n",
              "      <td>2015-05-01 00:00:00</td>\n",
              "      <td>NaN</td>\n",
              "      <td>CA1</td>\n",
              "      <td>0</td>\n",
              "    </tr>\n",
              "    <tr>\n",
              "      <th>1</th>\n",
              "      <td>PL270116</td>\n",
              "      <td>XXXXX</td>\n",
              "      <td>C01</td>\n",
              "      <td>M</td>\n",
              "      <td>2015-05-01 00:00:00</td>\n",
              "      <td>NaN</td>\n",
              "      <td>CA1</td>\n",
              "      <td>0</td>\n",
              "    </tr>\n",
              "    <tr>\n",
              "      <th>2</th>\n",
              "      <td>OA974876</td>\n",
              "      <td>XXXXX</td>\n",
              "      <td>C01</td>\n",
              "      <td>M</td>\n",
              "      <td>2015-05-01 00:00:00</td>\n",
              "      <td>NaN</td>\n",
              "      <td>CA1</td>\n",
              "      <td>0</td>\n",
              "    </tr>\n",
              "    <tr>\n",
              "      <th>3</th>\n",
              "      <td>HD024127</td>\n",
              "      <td>XXXXX</td>\n",
              "      <td>C01</td>\n",
              "      <td>F</td>\n",
              "      <td>2015-05-01 00:00:00</td>\n",
              "      <td>NaN</td>\n",
              "      <td>CA1</td>\n",
              "      <td>0</td>\n",
              "    </tr>\n",
              "    <tr>\n",
              "      <th>4</th>\n",
              "      <td>HD661448</td>\n",
              "      <td>XXXXX</td>\n",
              "      <td>C03</td>\n",
              "      <td>F</td>\n",
              "      <td>2015-05-01 00:00:00</td>\n",
              "      <td>NaN</td>\n",
              "      <td>CA1</td>\n",
              "      <td>0</td>\n",
              "    </tr>\n",
              "  </tbody>\n",
              "</table>\n",
              "</div>"
            ],
            "text/plain": [
              "  customer_id   name class gender           start_date end_date campaign_id  \\\n",
              "0    OA832399   XXXX   C01      F  2015-05-01 00:00:00      NaN         CA1   \n",
              "1    PL270116  XXXXX   C01      M  2015-05-01 00:00:00      NaN         CA1   \n",
              "2    OA974876  XXXXX   C01      M  2015-05-01 00:00:00      NaN         CA1   \n",
              "3    HD024127  XXXXX   C01      F  2015-05-01 00:00:00      NaN         CA1   \n",
              "4    HD661448  XXXXX   C03      F  2015-05-01 00:00:00      NaN         CA1   \n",
              "\n",
              "   is_deleted  \n",
              "0           0  \n",
              "1           0  \n",
              "2           0  \n",
              "3           0  \n",
              "4           0  "
            ]
          },
          "metadata": {
            "tags": []
          },
          "execution_count": 3
        }
      ]
    },
    {
      "cell_type": "code",
      "metadata": {
        "id": "n0sobXTJslUw",
        "outputId": "9703bdd3-2a45-485f-8422-6d3289c3b944"
      },
      "source": [
        "class_master = pd.read_csv('class_master.csv')\n",
        "print(len(class_master))\n",
        "class_master.head()\n",
        "# 회원 구분 종일반 주간반 야간반...가격.."
      ],
      "execution_count": null,
      "outputs": [
        {
          "output_type": "stream",
          "text": [
            "3\n"
          ],
          "name": "stdout"
        },
        {
          "output_type": "execute_result",
          "data": {
            "text/html": [
              "<div>\n",
              "<style scoped>\n",
              "    .dataframe tbody tr th:only-of-type {\n",
              "        vertical-align: middle;\n",
              "    }\n",
              "\n",
              "    .dataframe tbody tr th {\n",
              "        vertical-align: top;\n",
              "    }\n",
              "\n",
              "    .dataframe thead th {\n",
              "        text-align: right;\n",
              "    }\n",
              "</style>\n",
              "<table border=\"1\" class=\"dataframe\">\n",
              "  <thead>\n",
              "    <tr style=\"text-align: right;\">\n",
              "      <th></th>\n",
              "      <th>class</th>\n",
              "      <th>class_name</th>\n",
              "      <th>price</th>\n",
              "    </tr>\n",
              "  </thead>\n",
              "  <tbody>\n",
              "    <tr>\n",
              "      <th>0</th>\n",
              "      <td>C01</td>\n",
              "      <td>0_종일</td>\n",
              "      <td>10500</td>\n",
              "    </tr>\n",
              "    <tr>\n",
              "      <th>1</th>\n",
              "      <td>C02</td>\n",
              "      <td>1_주간</td>\n",
              "      <td>7500</td>\n",
              "    </tr>\n",
              "    <tr>\n",
              "      <th>2</th>\n",
              "      <td>C03</td>\n",
              "      <td>2_야간</td>\n",
              "      <td>6000</td>\n",
              "    </tr>\n",
              "  </tbody>\n",
              "</table>\n",
              "</div>"
            ],
            "text/plain": [
              "  class class_name  price\n",
              "0   C01       0_종일  10500\n",
              "1   C02       1_주간   7500\n",
              "2   C03       2_야간   6000"
            ]
          },
          "metadata": {
            "tags": []
          },
          "execution_count": 4
        }
      ]
    },
    {
      "cell_type": "code",
      "metadata": {
        "id": "lTWPpDT0slU0",
        "outputId": "aa293ccf-dcdd-48db-891a-3016a57aeb29"
      },
      "source": [
        "campaign_master = pd.read_csv('campaign_master.csv')\n",
        "print(len(campaign_master))\n",
        "campaign_master.head()\n",
        "\n",
        "# 어떤 행사로 회원가입을 했는지 까지 "
      ],
      "execution_count": null,
      "outputs": [
        {
          "output_type": "stream",
          "text": [
            "3\n"
          ],
          "name": "stdout"
        },
        {
          "output_type": "execute_result",
          "data": {
            "text/html": [
              "<div>\n",
              "<style scoped>\n",
              "    .dataframe tbody tr th:only-of-type {\n",
              "        vertical-align: middle;\n",
              "    }\n",
              "\n",
              "    .dataframe tbody tr th {\n",
              "        vertical-align: top;\n",
              "    }\n",
              "\n",
              "    .dataframe thead th {\n",
              "        text-align: right;\n",
              "    }\n",
              "</style>\n",
              "<table border=\"1\" class=\"dataframe\">\n",
              "  <thead>\n",
              "    <tr style=\"text-align: right;\">\n",
              "      <th></th>\n",
              "      <th>campaign_id</th>\n",
              "      <th>campaign_name</th>\n",
              "    </tr>\n",
              "  </thead>\n",
              "  <tbody>\n",
              "    <tr>\n",
              "      <th>0</th>\n",
              "      <td>CA1</td>\n",
              "      <td>2_일반</td>\n",
              "    </tr>\n",
              "    <tr>\n",
              "      <th>1</th>\n",
              "      <td>CA2</td>\n",
              "      <td>0_입회비반액할인</td>\n",
              "    </tr>\n",
              "    <tr>\n",
              "      <th>2</th>\n",
              "      <td>CA3</td>\n",
              "      <td>1_입회비무료</td>\n",
              "    </tr>\n",
              "  </tbody>\n",
              "</table>\n",
              "</div>"
            ],
            "text/plain": [
              "  campaign_id campaign_name\n",
              "0         CA1          2_일반\n",
              "1         CA2     0_입회비반액할인\n",
              "2         CA3       1_입회비무료"
            ]
          },
          "metadata": {
            "tags": []
          },
          "execution_count": 5
        }
      ]
    },
    {
      "cell_type": "markdown",
      "metadata": {
        "id": "dCwvTXe5slU5"
      },
      "source": [
        "### 테크닉22 : 고객 데이터를 가공하자"
      ]
    },
    {
      "cell_type": "code",
      "metadata": {
        "id": "cS6p3Fm1slU6",
        "outputId": "b930b948-6d9c-47db-c368-02bedf7a5731"
      },
      "source": [
        "customer_join = pd.merge(customer, class_master, on=\"class\", how=\"left\")\n",
        "customer_join = pd.merge(customer_join, campaign_master, on=\"campaign_id\", how=\"left\")\n",
        "customer_join.head()\n",
        "\n",
        "# customer와 class_master와 campaign_master를 모두 결합 \n",
        "# 고객 데이터를 중심으로 가로로 결합하는 레프트 조인"
      ],
      "execution_count": null,
      "outputs": [
        {
          "output_type": "execute_result",
          "data": {
            "text/html": [
              "<div>\n",
              "<style scoped>\n",
              "    .dataframe tbody tr th:only-of-type {\n",
              "        vertical-align: middle;\n",
              "    }\n",
              "\n",
              "    .dataframe tbody tr th {\n",
              "        vertical-align: top;\n",
              "    }\n",
              "\n",
              "    .dataframe thead th {\n",
              "        text-align: right;\n",
              "    }\n",
              "</style>\n",
              "<table border=\"1\" class=\"dataframe\">\n",
              "  <thead>\n",
              "    <tr style=\"text-align: right;\">\n",
              "      <th></th>\n",
              "      <th>customer_id</th>\n",
              "      <th>name</th>\n",
              "      <th>class</th>\n",
              "      <th>gender</th>\n",
              "      <th>start_date</th>\n",
              "      <th>end_date</th>\n",
              "      <th>campaign_id</th>\n",
              "      <th>is_deleted</th>\n",
              "      <th>class_name</th>\n",
              "      <th>price</th>\n",
              "      <th>campaign_name</th>\n",
              "    </tr>\n",
              "  </thead>\n",
              "  <tbody>\n",
              "    <tr>\n",
              "      <th>0</th>\n",
              "      <td>OA832399</td>\n",
              "      <td>XXXX</td>\n",
              "      <td>C01</td>\n",
              "      <td>F</td>\n",
              "      <td>2015-05-01 00:00:00</td>\n",
              "      <td>NaN</td>\n",
              "      <td>CA1</td>\n",
              "      <td>0</td>\n",
              "      <td>0_종일</td>\n",
              "      <td>10500</td>\n",
              "      <td>2_일반</td>\n",
              "    </tr>\n",
              "    <tr>\n",
              "      <th>1</th>\n",
              "      <td>PL270116</td>\n",
              "      <td>XXXXX</td>\n",
              "      <td>C01</td>\n",
              "      <td>M</td>\n",
              "      <td>2015-05-01 00:00:00</td>\n",
              "      <td>NaN</td>\n",
              "      <td>CA1</td>\n",
              "      <td>0</td>\n",
              "      <td>0_종일</td>\n",
              "      <td>10500</td>\n",
              "      <td>2_일반</td>\n",
              "    </tr>\n",
              "    <tr>\n",
              "      <th>2</th>\n",
              "      <td>OA974876</td>\n",
              "      <td>XXXXX</td>\n",
              "      <td>C01</td>\n",
              "      <td>M</td>\n",
              "      <td>2015-05-01 00:00:00</td>\n",
              "      <td>NaN</td>\n",
              "      <td>CA1</td>\n",
              "      <td>0</td>\n",
              "      <td>0_종일</td>\n",
              "      <td>10500</td>\n",
              "      <td>2_일반</td>\n",
              "    </tr>\n",
              "    <tr>\n",
              "      <th>3</th>\n",
              "      <td>HD024127</td>\n",
              "      <td>XXXXX</td>\n",
              "      <td>C01</td>\n",
              "      <td>F</td>\n",
              "      <td>2015-05-01 00:00:00</td>\n",
              "      <td>NaN</td>\n",
              "      <td>CA1</td>\n",
              "      <td>0</td>\n",
              "      <td>0_종일</td>\n",
              "      <td>10500</td>\n",
              "      <td>2_일반</td>\n",
              "    </tr>\n",
              "    <tr>\n",
              "      <th>4</th>\n",
              "      <td>HD661448</td>\n",
              "      <td>XXXXX</td>\n",
              "      <td>C03</td>\n",
              "      <td>F</td>\n",
              "      <td>2015-05-01 00:00:00</td>\n",
              "      <td>NaN</td>\n",
              "      <td>CA1</td>\n",
              "      <td>0</td>\n",
              "      <td>2_야간</td>\n",
              "      <td>6000</td>\n",
              "      <td>2_일반</td>\n",
              "    </tr>\n",
              "  </tbody>\n",
              "</table>\n",
              "</div>"
            ],
            "text/plain": [
              "  customer_id   name class gender           start_date end_date campaign_id  \\\n",
              "0    OA832399   XXXX   C01      F  2015-05-01 00:00:00      NaN         CA1   \n",
              "1    PL270116  XXXXX   C01      M  2015-05-01 00:00:00      NaN         CA1   \n",
              "2    OA974876  XXXXX   C01      M  2015-05-01 00:00:00      NaN         CA1   \n",
              "3    HD024127  XXXXX   C01      F  2015-05-01 00:00:00      NaN         CA1   \n",
              "4    HD661448  XXXXX   C03      F  2015-05-01 00:00:00      NaN         CA1   \n",
              "\n",
              "   is_deleted class_name  price campaign_name  \n",
              "0           0       0_종일  10500          2_일반  \n",
              "1           0       0_종일  10500          2_일반  \n",
              "2           0       0_종일  10500          2_일반  \n",
              "3           0       0_종일  10500          2_일반  \n",
              "4           0       2_야간   6000          2_일반  "
            ]
          },
          "metadata": {
            "tags": []
          },
          "execution_count": 6
        }
      ]
    },
    {
      "cell_type": "code",
      "metadata": {
        "id": "oDXC-e7hslU_",
        "outputId": "7ca1beb0-2948-4587-a197-7bc9255a23b9"
      },
      "source": [
        "print(len(customer))\n",
        "print(len(customer_join))\n",
        "\n",
        "# 결합후에는 반드시 갯수 확인 ( 결합 이전과 이후 )"
      ],
      "execution_count": null,
      "outputs": [
        {
          "output_type": "stream",
          "text": [
            "4192\n",
            "4192\n"
          ],
          "name": "stdout"
        }
      ]
    },
    {
      "cell_type": "code",
      "metadata": {
        "id": "EDsk-75fslVD",
        "outputId": "c4794dbb-06dc-4cb5-d6f0-23bdc1069ad6"
      },
      "source": [
        "customer_join.isnull().sum()\n",
        "\n",
        "# 조인할 때 키가 없거나 조인이 잘되면 자동으로 결측지가 들어간다. \n",
        "# 반드시 결합 후에는 결측지 확인\n",
        "\n",
        "# 여기서는 end_date는 회원 종료 시점이기때문에 문제 없음 , 즉 현재 회원들 "
      ],
      "execution_count": null,
      "outputs": [
        {
          "output_type": "execute_result",
          "data": {
            "text/plain": [
              "customer_id         0\n",
              "name                0\n",
              "class               0\n",
              "gender              0\n",
              "start_date          0\n",
              "end_date         2842\n",
              "campaign_id         0\n",
              "is_deleted          0\n",
              "class_name          0\n",
              "price               0\n",
              "campaign_name       0\n",
              "dtype: int64"
            ]
          },
          "metadata": {
            "tags": []
          },
          "execution_count": 8
        }
      ]
    },
    {
      "cell_type": "markdown",
      "metadata": {
        "id": "BuTAvtbqslVH"
      },
      "source": [
        "### 테크닉23 : 고객데이터를 집계 해보자"
      ]
    },
    {
      "cell_type": "code",
      "metadata": {
        "id": "1TbCwxTpslVI",
        "outputId": "02934203-79ee-4853-9ff5-c40935d56795"
      },
      "source": [
        "customer_join.groupby(\"class_name\").count()[\"customer_id\"]\n",
        "\n",
        "# 어떤 회원들이 존재하는지 확인 "
      ],
      "execution_count": null,
      "outputs": [
        {
          "output_type": "execute_result",
          "data": {
            "text/plain": [
              "class_name\n",
              "0_종일    2045\n",
              "1_주간    1019\n",
              "2_야간    1128\n",
              "Name: customer_id, dtype: int64"
            ]
          },
          "metadata": {
            "tags": []
          },
          "execution_count": 9
        }
      ]
    },
    {
      "cell_type": "code",
      "metadata": {
        "id": "J5ZQK290slVM",
        "outputId": "0725ae89-90f1-4d87-8259-0f125d3fa0af"
      },
      "source": [
        "customer_join.groupby(\"campaign_name\").count()[\"customer_id\"]\n",
        "\n",
        "# 어떤 경로로 가입을 했는지 확인 "
      ],
      "execution_count": null,
      "outputs": [
        {
          "output_type": "execute_result",
          "data": {
            "text/plain": [
              "campaign_name\n",
              "0_입회비반액할인     650\n",
              "1_입회비무료       492\n",
              "2_일반         3050\n",
              "Name: customer_id, dtype: int64"
            ]
          },
          "metadata": {
            "tags": []
          },
          "execution_count": 10
        }
      ]
    },
    {
      "cell_type": "code",
      "metadata": {
        "id": "b7V2OqRFslVP",
        "outputId": "40f253a3-65dc-4e11-ea5b-36fc068c7ff9"
      },
      "source": [
        "customer_join.groupby(\"gender\").count()[\"customer_id\"]\n",
        "# 성별 회원 확인 \n",
        "# 남성이 더 많음을 확인 "
      ],
      "execution_count": null,
      "outputs": [
        {
          "output_type": "execute_result",
          "data": {
            "text/plain": [
              "gender\n",
              "F    1983\n",
              "M    2209\n",
              "Name: customer_id, dtype: int64"
            ]
          },
          "metadata": {
            "tags": []
          },
          "execution_count": 11
        }
      ]
    },
    {
      "cell_type": "code",
      "metadata": {
        "id": "zrgIeIzIslVR",
        "outputId": "70e2ab41-cc8c-4d5e-b97f-09405667f281"
      },
      "source": [
        "customer_join.groupby(\"is_deleted\").count()[\"customer_id\"]\n",
        "# 탈퇴한 회원의 수를  확인 1 이 탈퇴... 1350명 탈퇴."
      ],
      "execution_count": null,
      "outputs": [
        {
          "output_type": "execute_result",
          "data": {
            "text/plain": [
              "is_deleted\n",
              "0    2842\n",
              "1    1350\n",
              "Name: customer_id, dtype: int64"
            ]
          },
          "metadata": {
            "tags": []
          },
          "execution_count": 12
        }
      ]
    },
    {
      "cell_type": "code",
      "metadata": {
        "id": "8dvghV0IslVU",
        "outputId": "30a3e068-b747-47a1-e86d-169b6df286af"
      },
      "source": [
        "customer_join[\"start_date\"] = pd.to_datetime(customer_join[\"start_date\"])\n",
        "customer_start = customer_join.loc[customer_join[\"start_date\"]>\n",
        "                                                        pd.to_datetime(\"20180401\")]\n",
        "print(len(customer_start))\n",
        "# 2018년 4월 1일 이후 부터 2019년 3월 31일까지 가입인원을 집계  \n",
        "# start_date를 datetime형으로 변환하고 갯수 파악  1361명을 확인\n",
        "# 날짜의 이후 >"
      ],
      "execution_count": null,
      "outputs": [
        {
          "output_type": "stream",
          "text": [
            "1361\n"
          ],
          "name": "stdout"
        }
      ]
    },
    {
      "cell_type": "markdown",
      "metadata": {
        "id": "VOKxsN4ZslVX"
      },
      "source": [
        "### 테크닉24 : 최근 고객데이터를 집계해보자"
      ]
    },
    {
      "cell_type": "code",
      "metadata": {
        "id": "rPcCMFoTslVY",
        "outputId": "faf9df48-8b95-45e9-ad77-de3c438117b3"
      },
      "source": [
        "customer_join[\"end_date\"] = pd.to_datetime(customer_join[\"end_date\"])\n",
        "customer_newer = customer_join.loc[(customer_join[\"end_date\"]>=\n",
        "                       pd.to_datetime(\"20190331\"))|(customer_join[\"end_date\"].isna())]\n",
        "print(len(customer_newer))\n",
        "customer_newer[\"end_date\"].unique()\n",
        "\n",
        "# 이 데이터셋의 최근 2019년 3월 에 탈퇴한 고객과 재적 중인 고객 추출 하는 방법과\n",
        "#   is_deleted로 추출하는 방법도 있다. \n",
        "# end_date의 유닉크(고유자료) NaT 2019-03-31만 표시되면 올바르게 추출된 것이다. \n",
        "# NaT datetime형의 결측지 라는 의미로 여기서는 탈퇴하지 않은 고객을 나타낸다. \n"
      ],
      "execution_count": null,
      "outputs": [
        {
          "output_type": "stream",
          "text": [
            "2953\n"
          ],
          "name": "stdout"
        },
        {
          "output_type": "execute_result",
          "data": {
            "text/plain": [
              "array([                          'NaT', '2019-03-31T00:00:00.000000000'],\n",
              "      dtype='datetime64[ns]')"
            ]
          },
          "metadata": {
            "tags": []
          },
          "execution_count": 14
        }
      ]
    },
    {
      "cell_type": "code",
      "metadata": {
        "id": "Fh6_Fr3yslVa",
        "outputId": "0f3041a0-795c-4ad8-baf9-2967063a4cc6"
      },
      "source": [
        "customer_newer.groupby(\"class_name\").count()[\"customer_id\"]"
      ],
      "execution_count": null,
      "outputs": [
        {
          "output_type": "execute_result",
          "data": {
            "text/plain": [
              "class_name\n",
              "0_종일    1444\n",
              "1_주간     696\n",
              "2_야간     813\n",
              "Name: customer_id, dtype: int64"
            ]
          },
          "metadata": {
            "tags": []
          },
          "execution_count": 15
        }
      ]
    },
    {
      "cell_type": "code",
      "metadata": {
        "id": "CJuqd1raslVc",
        "outputId": "57613466-c655-464b-beaa-238e2a758955"
      },
      "source": [
        "customer_newer.groupby(\"campaign_name\").count()[\"customer_id\"]"
      ],
      "execution_count": null,
      "outputs": [
        {
          "output_type": "execute_result",
          "data": {
            "text/plain": [
              "campaign_name\n",
              "0_입회비반액할인     311\n",
              "1_입회비무료       242\n",
              "2_일반         2400\n",
              "Name: customer_id, dtype: int64"
            ]
          },
          "metadata": {
            "tags": []
          },
          "execution_count": 16
        }
      ]
    },
    {
      "cell_type": "code",
      "metadata": {
        "id": "VdZJHZbZslVe",
        "outputId": "951869de-9c46-407c-e302-aeb33473cd31"
      },
      "source": [
        "customer_newer.groupby(\"gender\").count()[\"customer_id\"]"
      ],
      "execution_count": null,
      "outputs": [
        {
          "output_type": "execute_result",
          "data": {
            "text/plain": [
              "gender\n",
              "F    1400\n",
              "M    1553\n",
              "Name: customer_id, dtype: int64"
            ]
          },
          "metadata": {
            "tags": []
          },
          "execution_count": 17
        }
      ]
    },
    {
      "cell_type": "markdown",
      "metadata": {
        "id": "X7-5JWh9slVg"
      },
      "source": [
        "### 테크닉25 : 이용이력 데이터를 집계하자"
      ]
    },
    {
      "cell_type": "code",
      "metadata": {
        "id": "-yTCymB2slVg",
        "outputId": "73886edd-e0e3-4f99-a73f-846c2a9f3034"
      },
      "source": [
        "uselog[\"usedate\"] = pd.to_datetime(uselog[\"usedate\"])\n",
        "uselog[\"연월\"] = uselog[\"usedate\"].dt.strftime(\"%Y%m\")\n",
        "uselog_months = uselog.groupby([\"연월\",\"customer_id\"],as_index=False).count()\n",
        "uselog_months.rename(columns={\"log_id\":\"count\"}, inplace=True)\n",
        "del uselog_months[\"usedate\"]\n",
        "uselog_months.head()"
      ],
      "execution_count": null,
      "outputs": [
        {
          "output_type": "execute_result",
          "data": {
            "text/html": [
              "<div>\n",
              "<style scoped>\n",
              "    .dataframe tbody tr th:only-of-type {\n",
              "        vertical-align: middle;\n",
              "    }\n",
              "\n",
              "    .dataframe tbody tr th {\n",
              "        vertical-align: top;\n",
              "    }\n",
              "\n",
              "    .dataframe thead th {\n",
              "        text-align: right;\n",
              "    }\n",
              "</style>\n",
              "<table border=\"1\" class=\"dataframe\">\n",
              "  <thead>\n",
              "    <tr style=\"text-align: right;\">\n",
              "      <th></th>\n",
              "      <th>연월</th>\n",
              "      <th>customer_id</th>\n",
              "      <th>count</th>\n",
              "    </tr>\n",
              "  </thead>\n",
              "  <tbody>\n",
              "    <tr>\n",
              "      <th>0</th>\n",
              "      <td>201804</td>\n",
              "      <td>AS002855</td>\n",
              "      <td>4</td>\n",
              "    </tr>\n",
              "    <tr>\n",
              "      <th>1</th>\n",
              "      <td>201804</td>\n",
              "      <td>AS009013</td>\n",
              "      <td>2</td>\n",
              "    </tr>\n",
              "    <tr>\n",
              "      <th>2</th>\n",
              "      <td>201804</td>\n",
              "      <td>AS009373</td>\n",
              "      <td>3</td>\n",
              "    </tr>\n",
              "    <tr>\n",
              "      <th>3</th>\n",
              "      <td>201804</td>\n",
              "      <td>AS015315</td>\n",
              "      <td>6</td>\n",
              "    </tr>\n",
              "    <tr>\n",
              "      <th>4</th>\n",
              "      <td>201804</td>\n",
              "      <td>AS015739</td>\n",
              "      <td>7</td>\n",
              "    </tr>\n",
              "  </tbody>\n",
              "</table>\n",
              "</div>"
            ],
            "text/plain": [
              "       연월 customer_id  count\n",
              "0  201804    AS002855      4\n",
              "1  201804    AS009013      2\n",
              "2  201804    AS009373      3\n",
              "3  201804    AS015315      6\n",
              "4  201804    AS015739      7"
            ]
          },
          "metadata": {
            "tags": []
          },
          "execution_count": 18
        }
      ]
    },
    {
      "cell_type": "code",
      "metadata": {
        "id": "hdOfub1FslVj",
        "outputId": "34855acb-d215-4e17-aeb1-dfc968784428"
      },
      "source": [
        "uselog_customer = uselog_months.groupby(\"customer_id\").agg([\"mean\", \"median\", \"max\", \"min\" ])[\"count\"]\n",
        "uselog_customer = uselog_customer.reset_index(drop=False)\n",
        "uselog_customer.head()"
      ],
      "execution_count": null,
      "outputs": [
        {
          "output_type": "execute_result",
          "data": {
            "text/html": [
              "<div>\n",
              "<style scoped>\n",
              "    .dataframe tbody tr th:only-of-type {\n",
              "        vertical-align: middle;\n",
              "    }\n",
              "\n",
              "    .dataframe tbody tr th {\n",
              "        vertical-align: top;\n",
              "    }\n",
              "\n",
              "    .dataframe thead th {\n",
              "        text-align: right;\n",
              "    }\n",
              "</style>\n",
              "<table border=\"1\" class=\"dataframe\">\n",
              "  <thead>\n",
              "    <tr style=\"text-align: right;\">\n",
              "      <th></th>\n",
              "      <th>customer_id</th>\n",
              "      <th>mean</th>\n",
              "      <th>median</th>\n",
              "      <th>max</th>\n",
              "      <th>min</th>\n",
              "    </tr>\n",
              "  </thead>\n",
              "  <tbody>\n",
              "    <tr>\n",
              "      <th>0</th>\n",
              "      <td>AS002855</td>\n",
              "      <td>4.500000</td>\n",
              "      <td>5.0</td>\n",
              "      <td>7</td>\n",
              "      <td>2</td>\n",
              "    </tr>\n",
              "    <tr>\n",
              "      <th>1</th>\n",
              "      <td>AS008805</td>\n",
              "      <td>4.000000</td>\n",
              "      <td>4.0</td>\n",
              "      <td>8</td>\n",
              "      <td>1</td>\n",
              "    </tr>\n",
              "    <tr>\n",
              "      <th>2</th>\n",
              "      <td>AS009013</td>\n",
              "      <td>2.000000</td>\n",
              "      <td>2.0</td>\n",
              "      <td>2</td>\n",
              "      <td>2</td>\n",
              "    </tr>\n",
              "    <tr>\n",
              "      <th>3</th>\n",
              "      <td>AS009373</td>\n",
              "      <td>5.083333</td>\n",
              "      <td>5.0</td>\n",
              "      <td>7</td>\n",
              "      <td>3</td>\n",
              "    </tr>\n",
              "    <tr>\n",
              "      <th>4</th>\n",
              "      <td>AS015233</td>\n",
              "      <td>7.545455</td>\n",
              "      <td>7.0</td>\n",
              "      <td>11</td>\n",
              "      <td>4</td>\n",
              "    </tr>\n",
              "  </tbody>\n",
              "</table>\n",
              "</div>"
            ],
            "text/plain": [
              "  customer_id      mean  median  max  min\n",
              "0    AS002855  4.500000     5.0    7    2\n",
              "1    AS008805  4.000000     4.0    8    1\n",
              "2    AS009013  2.000000     2.0    2    2\n",
              "3    AS009373  5.083333     5.0    7    3\n",
              "4    AS015233  7.545455     7.0   11    4"
            ]
          },
          "metadata": {
            "tags": []
          },
          "execution_count": 19
        }
      ]
    },
    {
      "cell_type": "markdown",
      "metadata": {
        "id": "lHm0jir2slVl"
      },
      "source": [
        "### 테크닉26 : 이용이력 데이터로부터 정기이용 여부  플래그를 작성하자"
      ]
    },
    {
      "cell_type": "code",
      "metadata": {
        "scrolled": true,
        "id": "Wvo9QgmwslVm",
        "outputId": "223f8a89-1d99-447e-fa15-4374c19dfc90"
      },
      "source": [
        "uselog[\"weekday\"] = uselog[\"usedate\"].dt.weekday\n",
        "uselog_weekday = uselog.groupby([\"customer_id\",\"연월\",\"weekday\"], \n",
        "                                as_index=False).count()[[\"customer_id\",\"연월\", \"weekday\",\"log_id\"]]\n",
        "uselog_weekday.rename(columns={\"log_id\":\"count\"}, inplace=True)\n",
        "uselog_weekday.head()"
      ],
      "execution_count": null,
      "outputs": [
        {
          "output_type": "execute_result",
          "data": {
            "text/html": [
              "<div>\n",
              "<style scoped>\n",
              "    .dataframe tbody tr th:only-of-type {\n",
              "        vertical-align: middle;\n",
              "    }\n",
              "\n",
              "    .dataframe tbody tr th {\n",
              "        vertical-align: top;\n",
              "    }\n",
              "\n",
              "    .dataframe thead th {\n",
              "        text-align: right;\n",
              "    }\n",
              "</style>\n",
              "<table border=\"1\" class=\"dataframe\">\n",
              "  <thead>\n",
              "    <tr style=\"text-align: right;\">\n",
              "      <th></th>\n",
              "      <th>customer_id</th>\n",
              "      <th>연월</th>\n",
              "      <th>weekday</th>\n",
              "      <th>count</th>\n",
              "    </tr>\n",
              "  </thead>\n",
              "  <tbody>\n",
              "    <tr>\n",
              "      <th>0</th>\n",
              "      <td>AS002855</td>\n",
              "      <td>201804</td>\n",
              "      <td>5</td>\n",
              "      <td>4</td>\n",
              "    </tr>\n",
              "    <tr>\n",
              "      <th>1</th>\n",
              "      <td>AS002855</td>\n",
              "      <td>201805</td>\n",
              "      <td>2</td>\n",
              "      <td>1</td>\n",
              "    </tr>\n",
              "    <tr>\n",
              "      <th>2</th>\n",
              "      <td>AS002855</td>\n",
              "      <td>201805</td>\n",
              "      <td>5</td>\n",
              "      <td>4</td>\n",
              "    </tr>\n",
              "    <tr>\n",
              "      <th>3</th>\n",
              "      <td>AS002855</td>\n",
              "      <td>201806</td>\n",
              "      <td>5</td>\n",
              "      <td>5</td>\n",
              "    </tr>\n",
              "    <tr>\n",
              "      <th>4</th>\n",
              "      <td>AS002855</td>\n",
              "      <td>201807</td>\n",
              "      <td>1</td>\n",
              "      <td>1</td>\n",
              "    </tr>\n",
              "  </tbody>\n",
              "</table>\n",
              "</div>"
            ],
            "text/plain": [
              "  customer_id      연월  weekday  count\n",
              "0    AS002855  201804        5      4\n",
              "1    AS002855  201805        2      1\n",
              "2    AS002855  201805        5      4\n",
              "3    AS002855  201806        5      5\n",
              "4    AS002855  201807        1      1"
            ]
          },
          "metadata": {
            "tags": []
          },
          "execution_count": 20
        }
      ]
    },
    {
      "cell_type": "code",
      "metadata": {
        "id": "Qrdf1u_oslVo",
        "outputId": "29f64a4b-e8c9-429f-86c4-a76b60c1a278"
      },
      "source": [
        "uselog_weekday = uselog_weekday.groupby(\"customer_id\",as_index=False).max()[[\"customer_id\", \"count\"]]\n",
        "uselog_weekday[\"routine_flg\"] = 0\n",
        "uselog_weekday[\"routine_flg\"] = uselog_weekday[\"routine_flg\"].where(uselog_weekday[\"count\"]<4, 1)\n",
        "uselog_weekday.head()"
      ],
      "execution_count": null,
      "outputs": [
        {
          "output_type": "execute_result",
          "data": {
            "text/html": [
              "<div>\n",
              "<style scoped>\n",
              "    .dataframe tbody tr th:only-of-type {\n",
              "        vertical-align: middle;\n",
              "    }\n",
              "\n",
              "    .dataframe tbody tr th {\n",
              "        vertical-align: top;\n",
              "    }\n",
              "\n",
              "    .dataframe thead th {\n",
              "        text-align: right;\n",
              "    }\n",
              "</style>\n",
              "<table border=\"1\" class=\"dataframe\">\n",
              "  <thead>\n",
              "    <tr style=\"text-align: right;\">\n",
              "      <th></th>\n",
              "      <th>customer_id</th>\n",
              "      <th>count</th>\n",
              "      <th>routine_flg</th>\n",
              "    </tr>\n",
              "  </thead>\n",
              "  <tbody>\n",
              "    <tr>\n",
              "      <th>0</th>\n",
              "      <td>AS002855</td>\n",
              "      <td>5</td>\n",
              "      <td>1</td>\n",
              "    </tr>\n",
              "    <tr>\n",
              "      <th>1</th>\n",
              "      <td>AS008805</td>\n",
              "      <td>4</td>\n",
              "      <td>1</td>\n",
              "    </tr>\n",
              "    <tr>\n",
              "      <th>2</th>\n",
              "      <td>AS009013</td>\n",
              "      <td>2</td>\n",
              "      <td>0</td>\n",
              "    </tr>\n",
              "    <tr>\n",
              "      <th>3</th>\n",
              "      <td>AS009373</td>\n",
              "      <td>5</td>\n",
              "      <td>1</td>\n",
              "    </tr>\n",
              "    <tr>\n",
              "      <th>4</th>\n",
              "      <td>AS015233</td>\n",
              "      <td>5</td>\n",
              "      <td>1</td>\n",
              "    </tr>\n",
              "  </tbody>\n",
              "</table>\n",
              "</div>"
            ],
            "text/plain": [
              "  customer_id  count  routine_flg\n",
              "0    AS002855      5            1\n",
              "1    AS008805      4            1\n",
              "2    AS009013      2            0\n",
              "3    AS009373      5            1\n",
              "4    AS015233      5            1"
            ]
          },
          "metadata": {
            "tags": []
          },
          "execution_count": 21
        }
      ]
    },
    {
      "cell_type": "markdown",
      "metadata": {
        "id": "vw0hLjgsslVq"
      },
      "source": [
        "### 테크닉27 : 고객 데이터와 이용이력데이터를 결합하자"
      ]
    },
    {
      "cell_type": "code",
      "metadata": {
        "id": "M9tbu9fdslVq",
        "outputId": "ca35e05e-bca1-415c-aa1c-dfa8622f3dbe"
      },
      "source": [
        "customer_join = pd.merge(customer_join, uselog_customer, on=\"customer_id\", how=\"left\")\n",
        "customer_join = pd.merge(customer_join, uselog_weekday[[\"customer_id\", \"routine_flg\"]], on=\"customer_id\", how=\"left\")\n",
        "customer_join.head()"
      ],
      "execution_count": null,
      "outputs": [
        {
          "output_type": "execute_result",
          "data": {
            "text/html": [
              "<div>\n",
              "<style scoped>\n",
              "    .dataframe tbody tr th:only-of-type {\n",
              "        vertical-align: middle;\n",
              "    }\n",
              "\n",
              "    .dataframe tbody tr th {\n",
              "        vertical-align: top;\n",
              "    }\n",
              "\n",
              "    .dataframe thead th {\n",
              "        text-align: right;\n",
              "    }\n",
              "</style>\n",
              "<table border=\"1\" class=\"dataframe\">\n",
              "  <thead>\n",
              "    <tr style=\"text-align: right;\">\n",
              "      <th></th>\n",
              "      <th>customer_id</th>\n",
              "      <th>name</th>\n",
              "      <th>class</th>\n",
              "      <th>gender</th>\n",
              "      <th>start_date</th>\n",
              "      <th>end_date</th>\n",
              "      <th>campaign_id</th>\n",
              "      <th>is_deleted</th>\n",
              "      <th>class_name</th>\n",
              "      <th>price</th>\n",
              "      <th>campaign_name</th>\n",
              "      <th>mean</th>\n",
              "      <th>median</th>\n",
              "      <th>max</th>\n",
              "      <th>min</th>\n",
              "      <th>routine_flg</th>\n",
              "    </tr>\n",
              "  </thead>\n",
              "  <tbody>\n",
              "    <tr>\n",
              "      <th>0</th>\n",
              "      <td>OA832399</td>\n",
              "      <td>XXXX</td>\n",
              "      <td>C01</td>\n",
              "      <td>F</td>\n",
              "      <td>2015-05-01</td>\n",
              "      <td>NaT</td>\n",
              "      <td>CA1</td>\n",
              "      <td>0</td>\n",
              "      <td>0_종일</td>\n",
              "      <td>10500</td>\n",
              "      <td>2_일반</td>\n",
              "      <td>4.833333</td>\n",
              "      <td>5.0</td>\n",
              "      <td>8</td>\n",
              "      <td>2</td>\n",
              "      <td>1</td>\n",
              "    </tr>\n",
              "    <tr>\n",
              "      <th>1</th>\n",
              "      <td>PL270116</td>\n",
              "      <td>XXXXX</td>\n",
              "      <td>C01</td>\n",
              "      <td>M</td>\n",
              "      <td>2015-05-01</td>\n",
              "      <td>NaT</td>\n",
              "      <td>CA1</td>\n",
              "      <td>0</td>\n",
              "      <td>0_종일</td>\n",
              "      <td>10500</td>\n",
              "      <td>2_일반</td>\n",
              "      <td>5.083333</td>\n",
              "      <td>5.0</td>\n",
              "      <td>7</td>\n",
              "      <td>3</td>\n",
              "      <td>1</td>\n",
              "    </tr>\n",
              "    <tr>\n",
              "      <th>2</th>\n",
              "      <td>OA974876</td>\n",
              "      <td>XXXXX</td>\n",
              "      <td>C01</td>\n",
              "      <td>M</td>\n",
              "      <td>2015-05-01</td>\n",
              "      <td>NaT</td>\n",
              "      <td>CA1</td>\n",
              "      <td>0</td>\n",
              "      <td>0_종일</td>\n",
              "      <td>10500</td>\n",
              "      <td>2_일반</td>\n",
              "      <td>4.583333</td>\n",
              "      <td>5.0</td>\n",
              "      <td>6</td>\n",
              "      <td>3</td>\n",
              "      <td>1</td>\n",
              "    </tr>\n",
              "    <tr>\n",
              "      <th>3</th>\n",
              "      <td>HD024127</td>\n",
              "      <td>XXXXX</td>\n",
              "      <td>C01</td>\n",
              "      <td>F</td>\n",
              "      <td>2015-05-01</td>\n",
              "      <td>NaT</td>\n",
              "      <td>CA1</td>\n",
              "      <td>0</td>\n",
              "      <td>0_종일</td>\n",
              "      <td>10500</td>\n",
              "      <td>2_일반</td>\n",
              "      <td>4.833333</td>\n",
              "      <td>4.5</td>\n",
              "      <td>7</td>\n",
              "      <td>2</td>\n",
              "      <td>1</td>\n",
              "    </tr>\n",
              "    <tr>\n",
              "      <th>4</th>\n",
              "      <td>HD661448</td>\n",
              "      <td>XXXXX</td>\n",
              "      <td>C03</td>\n",
              "      <td>F</td>\n",
              "      <td>2015-05-01</td>\n",
              "      <td>NaT</td>\n",
              "      <td>CA1</td>\n",
              "      <td>0</td>\n",
              "      <td>2_야간</td>\n",
              "      <td>6000</td>\n",
              "      <td>2_일반</td>\n",
              "      <td>3.916667</td>\n",
              "      <td>4.0</td>\n",
              "      <td>6</td>\n",
              "      <td>1</td>\n",
              "      <td>1</td>\n",
              "    </tr>\n",
              "  </tbody>\n",
              "</table>\n",
              "</div>"
            ],
            "text/plain": [
              "  customer_id   name class gender start_date end_date campaign_id  is_deleted  \\\n",
              "0    OA832399   XXXX   C01      F 2015-05-01      NaT         CA1           0   \n",
              "1    PL270116  XXXXX   C01      M 2015-05-01      NaT         CA1           0   \n",
              "2    OA974876  XXXXX   C01      M 2015-05-01      NaT         CA1           0   \n",
              "3    HD024127  XXXXX   C01      F 2015-05-01      NaT         CA1           0   \n",
              "4    HD661448  XXXXX   C03      F 2015-05-01      NaT         CA1           0   \n",
              "\n",
              "  class_name  price campaign_name      mean  median  max  min  routine_flg  \n",
              "0       0_종일  10500          2_일반  4.833333     5.0    8    2            1  \n",
              "1       0_종일  10500          2_일반  5.083333     5.0    7    3            1  \n",
              "2       0_종일  10500          2_일반  4.583333     5.0    6    3            1  \n",
              "3       0_종일  10500          2_일반  4.833333     4.5    7    2            1  \n",
              "4       2_야간   6000          2_일반  3.916667     4.0    6    1            1  "
            ]
          },
          "metadata": {
            "tags": []
          },
          "execution_count": 22
        }
      ]
    },
    {
      "cell_type": "code",
      "metadata": {
        "scrolled": false,
        "id": "s-_sdegoslVt",
        "outputId": "1d7a5058-7238-4772-e396-228fcbb442be"
      },
      "source": [
        "customer_join.isnull().sum()"
      ],
      "execution_count": null,
      "outputs": [
        {
          "output_type": "execute_result",
          "data": {
            "text/plain": [
              "customer_id         0\n",
              "name                0\n",
              "class               0\n",
              "gender              0\n",
              "start_date          0\n",
              "end_date         2842\n",
              "campaign_id         0\n",
              "is_deleted          0\n",
              "class_name          0\n",
              "price               0\n",
              "campaign_name       0\n",
              "mean                0\n",
              "median              0\n",
              "max                 0\n",
              "min                 0\n",
              "routine_flg         0\n",
              "dtype: int64"
            ]
          },
          "metadata": {
            "tags": []
          },
          "execution_count": 23
        }
      ]
    },
    {
      "cell_type": "markdown",
      "metadata": {
        "id": "FB0-eCZ5slVv"
      },
      "source": [
        "### 테크닉28 : 회원기간을 계산하자"
      ]
    },
    {
      "cell_type": "code",
      "metadata": {
        "id": "f3tgbfuCslVv",
        "outputId": "3143988a-919c-4c6b-c4fa-19114b5f7140"
      },
      "source": [
        "from dateutil.relativedelta import relativedelta\n",
        "customer_join[\"calc_date\"] = customer_join[\"end_date\"]\n",
        "customer_join[\"calc_date\"] = customer_join[\"calc_date\"].fillna(pd.to_datetime(\"20190430\"))\n",
        "customer_join[\"membership_period\"] = 0\n",
        "for i in range(len(customer_join)):\n",
        "    delta = relativedelta(customer_join[\"calc_date\"].iloc[i], customer_join[\"start_date\"].iloc[i])\n",
        "    customer_join[\"membership_period\"].iloc[i] = delta.years*12 + delta.months\n",
        "customer_join.head()"
      ],
      "execution_count": null,
      "outputs": [
        {
          "output_type": "execute_result",
          "data": {
            "text/html": [
              "<div>\n",
              "<style scoped>\n",
              "    .dataframe tbody tr th:only-of-type {\n",
              "        vertical-align: middle;\n",
              "    }\n",
              "\n",
              "    .dataframe tbody tr th {\n",
              "        vertical-align: top;\n",
              "    }\n",
              "\n",
              "    .dataframe thead th {\n",
              "        text-align: right;\n",
              "    }\n",
              "</style>\n",
              "<table border=\"1\" class=\"dataframe\">\n",
              "  <thead>\n",
              "    <tr style=\"text-align: right;\">\n",
              "      <th></th>\n",
              "      <th>customer_id</th>\n",
              "      <th>name</th>\n",
              "      <th>class</th>\n",
              "      <th>gender</th>\n",
              "      <th>start_date</th>\n",
              "      <th>end_date</th>\n",
              "      <th>campaign_id</th>\n",
              "      <th>is_deleted</th>\n",
              "      <th>class_name</th>\n",
              "      <th>price</th>\n",
              "      <th>campaign_name</th>\n",
              "      <th>mean</th>\n",
              "      <th>median</th>\n",
              "      <th>max</th>\n",
              "      <th>min</th>\n",
              "      <th>routine_flg</th>\n",
              "      <th>calc_date</th>\n",
              "      <th>membership_period</th>\n",
              "    </tr>\n",
              "  </thead>\n",
              "  <tbody>\n",
              "    <tr>\n",
              "      <th>0</th>\n",
              "      <td>OA832399</td>\n",
              "      <td>XXXX</td>\n",
              "      <td>C01</td>\n",
              "      <td>F</td>\n",
              "      <td>2015-05-01</td>\n",
              "      <td>NaT</td>\n",
              "      <td>CA1</td>\n",
              "      <td>0</td>\n",
              "      <td>0_종일</td>\n",
              "      <td>10500</td>\n",
              "      <td>2_일반</td>\n",
              "      <td>4.833333</td>\n",
              "      <td>5.0</td>\n",
              "      <td>8</td>\n",
              "      <td>2</td>\n",
              "      <td>1</td>\n",
              "      <td>2019-04-30</td>\n",
              "      <td>47</td>\n",
              "    </tr>\n",
              "    <tr>\n",
              "      <th>1</th>\n",
              "      <td>PL270116</td>\n",
              "      <td>XXXXX</td>\n",
              "      <td>C01</td>\n",
              "      <td>M</td>\n",
              "      <td>2015-05-01</td>\n",
              "      <td>NaT</td>\n",
              "      <td>CA1</td>\n",
              "      <td>0</td>\n",
              "      <td>0_종일</td>\n",
              "      <td>10500</td>\n",
              "      <td>2_일반</td>\n",
              "      <td>5.083333</td>\n",
              "      <td>5.0</td>\n",
              "      <td>7</td>\n",
              "      <td>3</td>\n",
              "      <td>1</td>\n",
              "      <td>2019-04-30</td>\n",
              "      <td>47</td>\n",
              "    </tr>\n",
              "    <tr>\n",
              "      <th>2</th>\n",
              "      <td>OA974876</td>\n",
              "      <td>XXXXX</td>\n",
              "      <td>C01</td>\n",
              "      <td>M</td>\n",
              "      <td>2015-05-01</td>\n",
              "      <td>NaT</td>\n",
              "      <td>CA1</td>\n",
              "      <td>0</td>\n",
              "      <td>0_종일</td>\n",
              "      <td>10500</td>\n",
              "      <td>2_일반</td>\n",
              "      <td>4.583333</td>\n",
              "      <td>5.0</td>\n",
              "      <td>6</td>\n",
              "      <td>3</td>\n",
              "      <td>1</td>\n",
              "      <td>2019-04-30</td>\n",
              "      <td>47</td>\n",
              "    </tr>\n",
              "    <tr>\n",
              "      <th>3</th>\n",
              "      <td>HD024127</td>\n",
              "      <td>XXXXX</td>\n",
              "      <td>C01</td>\n",
              "      <td>F</td>\n",
              "      <td>2015-05-01</td>\n",
              "      <td>NaT</td>\n",
              "      <td>CA1</td>\n",
              "      <td>0</td>\n",
              "      <td>0_종일</td>\n",
              "      <td>10500</td>\n",
              "      <td>2_일반</td>\n",
              "      <td>4.833333</td>\n",
              "      <td>4.5</td>\n",
              "      <td>7</td>\n",
              "      <td>2</td>\n",
              "      <td>1</td>\n",
              "      <td>2019-04-30</td>\n",
              "      <td>47</td>\n",
              "    </tr>\n",
              "    <tr>\n",
              "      <th>4</th>\n",
              "      <td>HD661448</td>\n",
              "      <td>XXXXX</td>\n",
              "      <td>C03</td>\n",
              "      <td>F</td>\n",
              "      <td>2015-05-01</td>\n",
              "      <td>NaT</td>\n",
              "      <td>CA1</td>\n",
              "      <td>0</td>\n",
              "      <td>2_야간</td>\n",
              "      <td>6000</td>\n",
              "      <td>2_일반</td>\n",
              "      <td>3.916667</td>\n",
              "      <td>4.0</td>\n",
              "      <td>6</td>\n",
              "      <td>1</td>\n",
              "      <td>1</td>\n",
              "      <td>2019-04-30</td>\n",
              "      <td>47</td>\n",
              "    </tr>\n",
              "  </tbody>\n",
              "</table>\n",
              "</div>"
            ],
            "text/plain": [
              "  customer_id   name class gender start_date end_date campaign_id  is_deleted  \\\n",
              "0    OA832399   XXXX   C01      F 2015-05-01      NaT         CA1           0   \n",
              "1    PL270116  XXXXX   C01      M 2015-05-01      NaT         CA1           0   \n",
              "2    OA974876  XXXXX   C01      M 2015-05-01      NaT         CA1           0   \n",
              "3    HD024127  XXXXX   C01      F 2015-05-01      NaT         CA1           0   \n",
              "4    HD661448  XXXXX   C03      F 2015-05-01      NaT         CA1           0   \n",
              "\n",
              "  class_name  price campaign_name      mean  median  max  min  routine_flg  \\\n",
              "0       0_종일  10500          2_일반  4.833333     5.0    8    2            1   \n",
              "1       0_종일  10500          2_일반  5.083333     5.0    7    3            1   \n",
              "2       0_종일  10500          2_일반  4.583333     5.0    6    3            1   \n",
              "3       0_종일  10500          2_일반  4.833333     4.5    7    2            1   \n",
              "4       2_야간   6000          2_일반  3.916667     4.0    6    1            1   \n",
              "\n",
              "   calc_date  membership_period  \n",
              "0 2019-04-30                 47  \n",
              "1 2019-04-30                 47  \n",
              "2 2019-04-30                 47  \n",
              "3 2019-04-30                 47  \n",
              "4 2019-04-30                 47  "
            ]
          },
          "metadata": {
            "tags": []
          },
          "execution_count": 24
        }
      ]
    },
    {
      "cell_type": "markdown",
      "metadata": {
        "id": "EDCWVPjQslVx"
      },
      "source": [
        "### 테크닉29 : 고객행동의 각종통계량을 파악하자"
      ]
    },
    {
      "cell_type": "code",
      "metadata": {
        "id": "YCxDJQgFslVx",
        "outputId": "0915fdd5-559d-4bf0-c447-17672c8ae21f"
      },
      "source": [
        "customer_join[[\"mean\", \"median\", \"max\", \"min\"]].describe()"
      ],
      "execution_count": null,
      "outputs": [
        {
          "output_type": "execute_result",
          "data": {
            "text/html": [
              "<div>\n",
              "<style scoped>\n",
              "    .dataframe tbody tr th:only-of-type {\n",
              "        vertical-align: middle;\n",
              "    }\n",
              "\n",
              "    .dataframe tbody tr th {\n",
              "        vertical-align: top;\n",
              "    }\n",
              "\n",
              "    .dataframe thead th {\n",
              "        text-align: right;\n",
              "    }\n",
              "</style>\n",
              "<table border=\"1\" class=\"dataframe\">\n",
              "  <thead>\n",
              "    <tr style=\"text-align: right;\">\n",
              "      <th></th>\n",
              "      <th>mean</th>\n",
              "      <th>median</th>\n",
              "      <th>max</th>\n",
              "      <th>min</th>\n",
              "    </tr>\n",
              "  </thead>\n",
              "  <tbody>\n",
              "    <tr>\n",
              "      <th>count</th>\n",
              "      <td>4192.000000</td>\n",
              "      <td>4192.000000</td>\n",
              "      <td>4192.000000</td>\n",
              "      <td>4192.000000</td>\n",
              "    </tr>\n",
              "    <tr>\n",
              "      <th>mean</th>\n",
              "      <td>5.333127</td>\n",
              "      <td>5.250596</td>\n",
              "      <td>7.823950</td>\n",
              "      <td>3.041269</td>\n",
              "    </tr>\n",
              "    <tr>\n",
              "      <th>std</th>\n",
              "      <td>1.777533</td>\n",
              "      <td>1.874874</td>\n",
              "      <td>2.168959</td>\n",
              "      <td>1.951565</td>\n",
              "    </tr>\n",
              "    <tr>\n",
              "      <th>min</th>\n",
              "      <td>1.000000</td>\n",
              "      <td>1.000000</td>\n",
              "      <td>1.000000</td>\n",
              "      <td>1.000000</td>\n",
              "    </tr>\n",
              "    <tr>\n",
              "      <th>25%</th>\n",
              "      <td>4.250000</td>\n",
              "      <td>4.000000</td>\n",
              "      <td>7.000000</td>\n",
              "      <td>2.000000</td>\n",
              "    </tr>\n",
              "    <tr>\n",
              "      <th>50%</th>\n",
              "      <td>5.000000</td>\n",
              "      <td>5.000000</td>\n",
              "      <td>8.000000</td>\n",
              "      <td>3.000000</td>\n",
              "    </tr>\n",
              "    <tr>\n",
              "      <th>75%</th>\n",
              "      <td>6.416667</td>\n",
              "      <td>6.500000</td>\n",
              "      <td>9.000000</td>\n",
              "      <td>4.000000</td>\n",
              "    </tr>\n",
              "    <tr>\n",
              "      <th>max</th>\n",
              "      <td>12.000000</td>\n",
              "      <td>12.000000</td>\n",
              "      <td>14.000000</td>\n",
              "      <td>12.000000</td>\n",
              "    </tr>\n",
              "  </tbody>\n",
              "</table>\n",
              "</div>"
            ],
            "text/plain": [
              "              mean       median          max          min\n",
              "count  4192.000000  4192.000000  4192.000000  4192.000000\n",
              "mean      5.333127     5.250596     7.823950     3.041269\n",
              "std       1.777533     1.874874     2.168959     1.951565\n",
              "min       1.000000     1.000000     1.000000     1.000000\n",
              "25%       4.250000     4.000000     7.000000     2.000000\n",
              "50%       5.000000     5.000000     8.000000     3.000000\n",
              "75%       6.416667     6.500000     9.000000     4.000000\n",
              "max      12.000000    12.000000    14.000000    12.000000"
            ]
          },
          "metadata": {
            "tags": []
          },
          "execution_count": 25
        }
      ]
    },
    {
      "cell_type": "code",
      "metadata": {
        "id": "cd44z5qtslVz",
        "outputId": "b5ce0436-b043-437f-90ed-a536fc6ba3b6"
      },
      "source": [
        "customer_join.groupby(\"routine_flg\").count()[\"customer_id\"]"
      ],
      "execution_count": null,
      "outputs": [
        {
          "output_type": "execute_result",
          "data": {
            "text/plain": [
              "routine_flg\n",
              "0     779\n",
              "1    3413\n",
              "Name: customer_id, dtype: int64"
            ]
          },
          "metadata": {
            "tags": []
          },
          "execution_count": 26
        }
      ]
    },
    {
      "cell_type": "code",
      "metadata": {
        "id": "koKMjzrCslV1",
        "outputId": "e510a652-984d-4b90-be29-00aaa5faf292"
      },
      "source": [
        "import matplotlib.pyplot as plt\n",
        "%matplotlib inline\n",
        "plt.hist(customer_join[\"membership_period\"])"
      ],
      "execution_count": null,
      "outputs": [
        {
          "output_type": "execute_result",
          "data": {
            "text/plain": [
              "(array([857., 774., 395., 368., 311., 331., 323., 237., 288., 308.]),\n",
              " array([ 1. ,  5.6, 10.2, 14.8, 19.4, 24. , 28.6, 33.2, 37.8, 42.4, 47. ]),\n",
              " <a list of 10 Patch objects>)"
            ]
          },
          "metadata": {
            "tags": []
          },
          "execution_count": 27
        },
        {
          "output_type": "display_data",
          "data": {
            "image/png": "[encoded data removed]",
            "text/plain": [
              "<Figure size 432x288 with 1 Axes>"
            ]
          },
          "metadata": {
            "tags": [],
            "needs_background": "light"
          }
        }
      ]
    },
    {
      "cell_type": "markdown",
      "metadata": {
        "id": "cehmVUEqslV3"
      },
      "source": [
        "### 테크닉30 : 탈퇴회원과 지속회원의 차이를 파악하자"
      ]
    },
    {
      "cell_type": "code",
      "metadata": {
        "id": "nyc6abozslV3",
        "outputId": "d236e701-3382-4a29-d5de-5d8ab7b6c5bc"
      },
      "source": [
        "customer_end = customer_join.loc[customer_join[\"is_deleted\"]==1]\n",
        "customer_end.describe()"
      ],
      "execution_count": null,
      "outputs": [
        {
          "output_type": "execute_result",
          "data": {
            "text/html": [
              "<div>\n",
              "<style scoped>\n",
              "    .dataframe tbody tr th:only-of-type {\n",
              "        vertical-align: middle;\n",
              "    }\n",
              "\n",
              "    .dataframe tbody tr th {\n",
              "        vertical-align: top;\n",
              "    }\n",
              "\n",
              "    .dataframe thead th {\n",
              "        text-align: right;\n",
              "    }\n",
              "</style>\n",
              "<table border=\"1\" class=\"dataframe\">\n",
              "  <thead>\n",
              "    <tr style=\"text-align: right;\">\n",
              "      <th></th>\n",
              "      <th>is_deleted</th>\n",
              "      <th>price</th>\n",
              "      <th>mean</th>\n",
              "      <th>median</th>\n",
              "      <th>max</th>\n",
              "      <th>min</th>\n",
              "      <th>routine_flg</th>\n",
              "      <th>membership_period</th>\n",
              "    </tr>\n",
              "  </thead>\n",
              "  <tbody>\n",
              "    <tr>\n",
              "      <th>count</th>\n",
              "      <td>1350.0</td>\n",
              "      <td>1350.000000</td>\n",
              "      <td>1350.000000</td>\n",
              "      <td>1350.000000</td>\n",
              "      <td>1350.000000</td>\n",
              "      <td>1350.000000</td>\n",
              "      <td>1350.000000</td>\n",
              "      <td>1350.000000</td>\n",
              "    </tr>\n",
              "    <tr>\n",
              "      <th>mean</th>\n",
              "      <td>1.0</td>\n",
              "      <td>8595.555556</td>\n",
              "      <td>3.865474</td>\n",
              "      <td>3.621852</td>\n",
              "      <td>6.461481</td>\n",
              "      <td>1.821481</td>\n",
              "      <td>0.456296</td>\n",
              "      <td>8.026667</td>\n",
              "    </tr>\n",
              "    <tr>\n",
              "      <th>std</th>\n",
              "      <td>0.0</td>\n",
              "      <td>1949.163652</td>\n",
              "      <td>1.246385</td>\n",
              "      <td>1.270847</td>\n",
              "      <td>2.584021</td>\n",
              "      <td>0.976361</td>\n",
              "      <td>0.498271</td>\n",
              "      <td>5.033692</td>\n",
              "    </tr>\n",
              "    <tr>\n",
              "      <th>min</th>\n",
              "      <td>1.0</td>\n",
              "      <td>6000.000000</td>\n",
              "      <td>1.000000</td>\n",
              "      <td>1.000000</td>\n",
              "      <td>1.000000</td>\n",
              "      <td>1.000000</td>\n",
              "      <td>0.000000</td>\n",
              "      <td>1.000000</td>\n",
              "    </tr>\n",
              "    <tr>\n",
              "      <th>25%</th>\n",
              "      <td>1.0</td>\n",
              "      <td>6000.000000</td>\n",
              "      <td>3.000000</td>\n",
              "      <td>3.000000</td>\n",
              "      <td>4.000000</td>\n",
              "      <td>1.000000</td>\n",
              "      <td>0.000000</td>\n",
              "      <td>4.000000</td>\n",
              "    </tr>\n",
              "    <tr>\n",
              "      <th>50%</th>\n",
              "      <td>1.0</td>\n",
              "      <td>7500.000000</td>\n",
              "      <td>4.000000</td>\n",
              "      <td>4.000000</td>\n",
              "      <td>7.000000</td>\n",
              "      <td>2.000000</td>\n",
              "      <td>0.000000</td>\n",
              "      <td>7.000000</td>\n",
              "    </tr>\n",
              "    <tr>\n",
              "      <th>75%</th>\n",
              "      <td>1.0</td>\n",
              "      <td>10500.000000</td>\n",
              "      <td>4.666667</td>\n",
              "      <td>4.500000</td>\n",
              "      <td>8.000000</td>\n",
              "      <td>2.000000</td>\n",
              "      <td>1.000000</td>\n",
              "      <td>11.000000</td>\n",
              "    </tr>\n",
              "    <tr>\n",
              "      <th>max</th>\n",
              "      <td>1.0</td>\n",
              "      <td>10500.000000</td>\n",
              "      <td>9.000000</td>\n",
              "      <td>9.000000</td>\n",
              "      <td>13.000000</td>\n",
              "      <td>8.000000</td>\n",
              "      <td>1.000000</td>\n",
              "      <td>23.000000</td>\n",
              "    </tr>\n",
              "  </tbody>\n",
              "</table>\n",
              "</div>"
            ],
            "text/plain": [
              "       is_deleted         price         mean       median          max  \\\n",
              "count      1350.0   1350.000000  1350.000000  1350.000000  1350.000000   \n",
              "mean          1.0   8595.555556     3.865474     3.621852     6.461481   \n",
              "std           0.0   1949.163652     1.246385     1.270847     2.584021   \n",
              "min           1.0   6000.000000     1.000000     1.000000     1.000000   \n",
              "25%           1.0   6000.000000     3.000000     3.000000     4.000000   \n",
              "50%           1.0   7500.000000     4.000000     4.000000     7.000000   \n",
              "75%           1.0  10500.000000     4.666667     4.500000     8.000000   \n",
              "max           1.0  10500.000000     9.000000     9.000000    13.000000   \n",
              "\n",
              "               min  routine_flg  membership_period  \n",
              "count  1350.000000  1350.000000        1350.000000  \n",
              "mean      1.821481     0.456296           8.026667  \n",
              "std       0.976361     0.498271           5.033692  \n",
              "min       1.000000     0.000000           1.000000  \n",
              "25%       1.000000     0.000000           4.000000  \n",
              "50%       2.000000     0.000000           7.000000  \n",
              "75%       2.000000     1.000000          11.000000  \n",
              "max       8.000000     1.000000          23.000000  "
            ]
          },
          "metadata": {
            "tags": []
          },
          "execution_count": 28
        }
      ]
    },
    {
      "cell_type": "code",
      "metadata": {
        "id": "OiJP3UmOslV8",
        "outputId": "c02b0eb3-868e-4764-bd55-4321d7716b44"
      },
      "source": [
        "customer_stay = customer_join.loc[customer_join[\"is_deleted\"]==0]\n",
        "customer_stay.describe()"
      ],
      "execution_count": null,
      "outputs": [
        {
          "output_type": "execute_result",
          "data": {
            "text/html": [
              "<div>\n",
              "<style scoped>\n",
              "    .dataframe tbody tr th:only-of-type {\n",
              "        vertical-align: middle;\n",
              "    }\n",
              "\n",
              "    .dataframe tbody tr th {\n",
              "        vertical-align: top;\n",
              "    }\n",
              "\n",
              "    .dataframe thead th {\n",
              "        text-align: right;\n",
              "    }\n",
              "</style>\n",
              "<table border=\"1\" class=\"dataframe\">\n",
              "  <thead>\n",
              "    <tr style=\"text-align: right;\">\n",
              "      <th></th>\n",
              "      <th>is_deleted</th>\n",
              "      <th>price</th>\n",
              "      <th>mean</th>\n",
              "      <th>median</th>\n",
              "      <th>max</th>\n",
              "      <th>min</th>\n",
              "      <th>routine_flg</th>\n",
              "      <th>membership_period</th>\n",
              "    </tr>\n",
              "  </thead>\n",
              "  <tbody>\n",
              "    <tr>\n",
              "      <th>count</th>\n",
              "      <td>2842.0</td>\n",
              "      <td>2842.000000</td>\n",
              "      <td>2842.000000</td>\n",
              "      <td>2842.000000</td>\n",
              "      <td>2842.000000</td>\n",
              "      <td>2842.000000</td>\n",
              "      <td>2842.000000</td>\n",
              "      <td>2842.000000</td>\n",
              "    </tr>\n",
              "    <tr>\n",
              "      <th>mean</th>\n",
              "      <td>0.0</td>\n",
              "      <td>8542.927516</td>\n",
              "      <td>6.030288</td>\n",
              "      <td>6.024279</td>\n",
              "      <td>8.471147</td>\n",
              "      <td>3.620690</td>\n",
              "      <td>0.984166</td>\n",
              "      <td>23.970443</td>\n",
              "    </tr>\n",
              "    <tr>\n",
              "      <th>std</th>\n",
              "      <td>0.0</td>\n",
              "      <td>1977.189779</td>\n",
              "      <td>1.553587</td>\n",
              "      <td>1.599765</td>\n",
              "      <td>1.571048</td>\n",
              "      <td>2.030488</td>\n",
              "      <td>0.124855</td>\n",
              "      <td>13.746761</td>\n",
              "    </tr>\n",
              "    <tr>\n",
              "      <th>min</th>\n",
              "      <td>0.0</td>\n",
              "      <td>6000.000000</td>\n",
              "      <td>3.166667</td>\n",
              "      <td>3.000000</td>\n",
              "      <td>5.000000</td>\n",
              "      <td>1.000000</td>\n",
              "      <td>0.000000</td>\n",
              "      <td>1.000000</td>\n",
              "    </tr>\n",
              "    <tr>\n",
              "      <th>25%</th>\n",
              "      <td>0.0</td>\n",
              "      <td>6000.000000</td>\n",
              "      <td>4.833333</td>\n",
              "      <td>5.000000</td>\n",
              "      <td>7.000000</td>\n",
              "      <td>2.000000</td>\n",
              "      <td>1.000000</td>\n",
              "      <td>12.000000</td>\n",
              "    </tr>\n",
              "    <tr>\n",
              "      <th>50%</th>\n",
              "      <td>0.0</td>\n",
              "      <td>7500.000000</td>\n",
              "      <td>5.583333</td>\n",
              "      <td>5.500000</td>\n",
              "      <td>8.000000</td>\n",
              "      <td>3.000000</td>\n",
              "      <td>1.000000</td>\n",
              "      <td>24.000000</td>\n",
              "    </tr>\n",
              "    <tr>\n",
              "      <th>75%</th>\n",
              "      <td>0.0</td>\n",
              "      <td>10500.000000</td>\n",
              "      <td>7.178030</td>\n",
              "      <td>7.000000</td>\n",
              "      <td>10.000000</td>\n",
              "      <td>5.000000</td>\n",
              "      <td>1.000000</td>\n",
              "      <td>35.000000</td>\n",
              "    </tr>\n",
              "    <tr>\n",
              "      <th>max</th>\n",
              "      <td>0.0</td>\n",
              "      <td>10500.000000</td>\n",
              "      <td>12.000000</td>\n",
              "      <td>12.000000</td>\n",
              "      <td>14.000000</td>\n",
              "      <td>12.000000</td>\n",
              "      <td>1.000000</td>\n",
              "      <td>47.000000</td>\n",
              "    </tr>\n",
              "  </tbody>\n",
              "</table>\n",
              "</div>"
            ],
            "text/plain": [
              "       is_deleted         price         mean       median          max  \\\n",
              "count      2842.0   2842.000000  2842.000000  2842.000000  2842.000000   \n",
              "mean          0.0   8542.927516     6.030288     6.024279     8.471147   \n",
              "std           0.0   1977.189779     1.553587     1.599765     1.571048   \n",
              "min           0.0   6000.000000     3.166667     3.000000     5.000000   \n",
              "25%           0.0   6000.000000     4.833333     5.000000     7.000000   \n",
              "50%           0.0   7500.000000     5.583333     5.500000     8.000000   \n",
              "75%           0.0  10500.000000     7.178030     7.000000    10.000000   \n",
              "max           0.0  10500.000000    12.000000    12.000000    14.000000   \n",
              "\n",
              "               min  routine_flg  membership_period  \n",
              "count  2842.000000  2842.000000        2842.000000  \n",
              "mean      3.620690     0.984166          23.970443  \n",
              "std       2.030488     0.124855          13.746761  \n",
              "min       1.000000     0.000000           1.000000  \n",
              "25%       2.000000     1.000000          12.000000  \n",
              "50%       3.000000     1.000000          24.000000  \n",
              "75%       5.000000     1.000000          35.000000  \n",
              "max      12.000000     1.000000          47.000000  "
            ]
          },
          "metadata": {
            "tags": []
          },
          "execution_count": 29
        }
      ]
    },
    {
      "cell_type": "code",
      "metadata": {
        "id": "IEQaTq1IslV-"
      },
      "source": [
        "customer_join.to_csv(\"customer_join.csv\", index=False)"
      ],
      "execution_count": null,
      "outputs": []
    }
  ]
}