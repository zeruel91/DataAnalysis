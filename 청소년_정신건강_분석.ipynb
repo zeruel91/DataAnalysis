{
  "nbformat": 4,
  "nbformat_minor": 0,
  "metadata": {
    "colab": {
      "name": "청소년 정신건강 분석.ipynb",
      "provenance": [],
      "authorship_tag": "ABX9TyPuQEHJnnP9Wu3hBhdPSrJp",
      "include_colab_link": true
    },
    "kernelspec": {
      "name": "python3",
      "display_name": "Python 3"
    }
  },
  "cells": [
    {
      "cell_type": "markdown",
      "metadata": {
        "id": "view-in-github",
        "colab_type": "text"
      },
      "source": [
        "<a href=\"https://colab.research.google.com/github/zeruel91/DataAnalysis/blob/main/%EC%B2%AD%EC%86%8C%EB%85%84_%EC%A0%95%EC%8B%A0%EA%B1%B4%EA%B0%95_%EB%B6%84%EC%84%9D.ipynb\" target=\"_parent\"><img src=\"https://colab.research.google.com/assets/colab-badge.svg\" alt=\"Open In Colab\"/></a>"
      ]
    },
    {
      "cell_type": "code",
      "metadata": {
        "id": "WYF4O_nReBJZ",
        "outputId": "c0e74aaf-dde7-4bec-d25f-fe19a04c3971",
        "colab": {
          "base_uri": "https://localhost:8080/"
        }
      },
      "source": [
        "import pandas as pd\n",
        "import numpy as np\n",
        "\n",
        "#간단한 문법 복습\n",
        "dates = pd.date_range('20190301',periods = 6)\n",
        "dates"
      ],
      "execution_count": 1,
      "outputs": [
        {
          "output_type": "execute_result",
          "data": {
            "text/plain": [
              "DatetimeIndex(['2019-03-01', '2019-03-02', '2019-03-03', '2019-03-04',\n",
              "               '2019-03-05', '2019-03-06'],\n",
              "              dtype='datetime64[ns]', freq='D')"
            ]
          },
          "metadata": {
            "tags": []
          },
          "execution_count": 1
        }
      ]
    },
    {
      "cell_type": "code",
      "metadata": {
        "id": "k7gb2rMYiUFp",
        "outputId": "2f275f8e-ae0e-4e26-90d9-fbe36db73e4f",
        "colab": {
          "base_uri": "https://localhost:8080/",
          "height": 227
        }
      },
      "source": [
        "df = pd.DataFrame(np.random.randn(6,4), index = dates, columns = ['a','b','c','d'])\n",
        "df"
      ],
      "execution_count": 2,
      "outputs": [
        {
          "output_type": "execute_result",
          "data": {
            "text/html": [
              "<div>\n",
              "<style scoped>\n",
              "    .dataframe tbody tr th:only-of-type {\n",
              "        vertical-align: middle;\n",
              "    }\n",
              "\n",
              "    .dataframe tbody tr th {\n",
              "        vertical-align: top;\n",
              "    }\n",
              "\n",
              "    .dataframe thead th {\n",
              "        text-align: right;\n",
              "    }\n",
              "</style>\n",
              "<table border=\"1\" class=\"dataframe\">\n",
              "  <thead>\n",
              "    <tr style=\"text-align: right;\">\n",
              "      <th></th>\n",
              "      <th>a</th>\n",
              "      <th>b</th>\n",
              "      <th>c</th>\n",
              "      <th>d</th>\n",
              "    </tr>\n",
              "  </thead>\n",
              "  <tbody>\n",
              "    <tr>\n",
              "      <th>2019-03-01</th>\n",
              "      <td>0.624253</td>\n",
              "      <td>-1.244318</td>\n",
              "      <td>2.238510</td>\n",
              "      <td>-0.431297</td>\n",
              "    </tr>\n",
              "    <tr>\n",
              "      <th>2019-03-02</th>\n",
              "      <td>-0.836662</td>\n",
              "      <td>-1.610970</td>\n",
              "      <td>-1.539360</td>\n",
              "      <td>-1.657634</td>\n",
              "    </tr>\n",
              "    <tr>\n",
              "      <th>2019-03-03</th>\n",
              "      <td>-1.702875</td>\n",
              "      <td>0.556982</td>\n",
              "      <td>0.125193</td>\n",
              "      <td>-0.224759</td>\n",
              "    </tr>\n",
              "    <tr>\n",
              "      <th>2019-03-04</th>\n",
              "      <td>0.380534</td>\n",
              "      <td>-0.478518</td>\n",
              "      <td>0.584031</td>\n",
              "      <td>-0.428338</td>\n",
              "    </tr>\n",
              "    <tr>\n",
              "      <th>2019-03-05</th>\n",
              "      <td>0.587943</td>\n",
              "      <td>0.744939</td>\n",
              "      <td>-0.422574</td>\n",
              "      <td>0.744358</td>\n",
              "    </tr>\n",
              "    <tr>\n",
              "      <th>2019-03-06</th>\n",
              "      <td>0.136741</td>\n",
              "      <td>-1.641662</td>\n",
              "      <td>0.804563</td>\n",
              "      <td>-1.090851</td>\n",
              "    </tr>\n",
              "  </tbody>\n",
              "</table>\n",
              "</div>"
            ],
            "text/plain": [
              "                   a         b         c         d\n",
              "2019-03-01  0.624253 -1.244318  2.238510 -0.431297\n",
              "2019-03-02 -0.836662 -1.610970 -1.539360 -1.657634\n",
              "2019-03-03 -1.702875  0.556982  0.125193 -0.224759\n",
              "2019-03-04  0.380534 -0.478518  0.584031 -0.428338\n",
              "2019-03-05  0.587943  0.744939 -0.422574  0.744358\n",
              "2019-03-06  0.136741 -1.641662  0.804563 -1.090851"
            ]
          },
          "metadata": {
            "tags": []
          },
          "execution_count": 2
        }
      ]
    },
    {
      "cell_type": "code",
      "metadata": {
        "id": "IDj67mEYi8yy",
        "outputId": "7ef4cac0-6f32-4739-d1fb-d083eae9b861",
        "colab": {
          "base_uri": "https://localhost:8080/"
        }
      },
      "source": [
        "type(df)"
      ],
      "execution_count": 3,
      "outputs": [
        {
          "output_type": "execute_result",
          "data": {
            "text/plain": [
              "pandas.core.frame.DataFrame"
            ]
          },
          "metadata": {
            "tags": []
          },
          "execution_count": 3
        }
      ]
    },
    {
      "cell_type": "code",
      "metadata": {
        "id": "fL8dYKpIjEIg",
        "outputId": "cea640a1-72ae-4b63-f3de-e09339fc8ed6",
        "colab": {
          "base_uri": "https://localhost:8080/"
        }
      },
      "source": [
        "df.columns"
      ],
      "execution_count": 4,
      "outputs": [
        {
          "output_type": "execute_result",
          "data": {
            "text/plain": [
              "Index(['a', 'b', 'c', 'd'], dtype='object')"
            ]
          },
          "metadata": {
            "tags": []
          },
          "execution_count": 4
        }
      ]
    },
    {
      "cell_type": "code",
      "metadata": {
        "id": "CcWJ2AG8jGLY",
        "outputId": "7dc29ff8-5a9d-42b4-aa4e-1a9ec148eb8e",
        "colab": {
          "base_uri": "https://localhost:8080/"
        }
      },
      "source": [
        "df.index"
      ],
      "execution_count": 5,
      "outputs": [
        {
          "output_type": "execute_result",
          "data": {
            "text/plain": [
              "DatetimeIndex(['2019-03-01', '2019-03-02', '2019-03-03', '2019-03-04',\n",
              "               '2019-03-05', '2019-03-06'],\n",
              "              dtype='datetime64[ns]', freq='D')"
            ]
          },
          "metadata": {
            "tags": []
          },
          "execution_count": 5
        }
      ]
    },
    {
      "cell_type": "code",
      "metadata": {
        "id": "5v-fclewjIKA",
        "outputId": "5dde895d-5f39-4f09-9637-339339a3d489",
        "colab": {
          "base_uri": "https://localhost:8080/",
          "height": 287
        }
      },
      "source": [
        "df.describe()"
      ],
      "execution_count": 6,
      "outputs": [
        {
          "output_type": "execute_result",
          "data": {
            "text/html": [
              "<div>\n",
              "<style scoped>\n",
              "    .dataframe tbody tr th:only-of-type {\n",
              "        vertical-align: middle;\n",
              "    }\n",
              "\n",
              "    .dataframe tbody tr th {\n",
              "        vertical-align: top;\n",
              "    }\n",
              "\n",
              "    .dataframe thead th {\n",
              "        text-align: right;\n",
              "    }\n",
              "</style>\n",
              "<table border=\"1\" class=\"dataframe\">\n",
              "  <thead>\n",
              "    <tr style=\"text-align: right;\">\n",
              "      <th></th>\n",
              "      <th>a</th>\n",
              "      <th>b</th>\n",
              "      <th>c</th>\n",
              "      <th>d</th>\n",
              "    </tr>\n",
              "  </thead>\n",
              "  <tbody>\n",
              "    <tr>\n",
              "      <th>count</th>\n",
              "      <td>6.000000</td>\n",
              "      <td>6.000000</td>\n",
              "      <td>6.000000</td>\n",
              "      <td>6.000000</td>\n",
              "    </tr>\n",
              "    <tr>\n",
              "      <th>mean</th>\n",
              "      <td>-0.135011</td>\n",
              "      <td>-0.612258</td>\n",
              "      <td>0.298394</td>\n",
              "      <td>-0.514753</td>\n",
              "    </tr>\n",
              "    <tr>\n",
              "      <th>std</th>\n",
              "      <td>0.936941</td>\n",
              "      <td>1.066170</td>\n",
              "      <td>1.267200</td>\n",
              "      <td>0.815102</td>\n",
              "    </tr>\n",
              "    <tr>\n",
              "      <th>min</th>\n",
              "      <td>-1.702875</td>\n",
              "      <td>-1.641662</td>\n",
              "      <td>-1.539360</td>\n",
              "      <td>-1.657634</td>\n",
              "    </tr>\n",
              "    <tr>\n",
              "      <th>25%</th>\n",
              "      <td>-0.593311</td>\n",
              "      <td>-1.519307</td>\n",
              "      <td>-0.285632</td>\n",
              "      <td>-0.925963</td>\n",
              "    </tr>\n",
              "    <tr>\n",
              "      <th>50%</th>\n",
              "      <td>0.258637</td>\n",
              "      <td>-0.861418</td>\n",
              "      <td>0.354612</td>\n",
              "      <td>-0.429817</td>\n",
              "    </tr>\n",
              "    <tr>\n",
              "      <th>75%</th>\n",
              "      <td>0.536091</td>\n",
              "      <td>0.298107</td>\n",
              "      <td>0.749430</td>\n",
              "      <td>-0.275653</td>\n",
              "    </tr>\n",
              "    <tr>\n",
              "      <th>max</th>\n",
              "      <td>0.624253</td>\n",
              "      <td>0.744939</td>\n",
              "      <td>2.238510</td>\n",
              "      <td>0.744358</td>\n",
              "    </tr>\n",
              "  </tbody>\n",
              "</table>\n",
              "</div>"
            ],
            "text/plain": [
              "              a         b         c         d\n",
              "count  6.000000  6.000000  6.000000  6.000000\n",
              "mean  -0.135011 -0.612258  0.298394 -0.514753\n",
              "std    0.936941  1.066170  1.267200  0.815102\n",
              "min   -1.702875 -1.641662 -1.539360 -1.657634\n",
              "25%   -0.593311 -1.519307 -0.285632 -0.925963\n",
              "50%    0.258637 -0.861418  0.354612 -0.429817\n",
              "75%    0.536091  0.298107  0.749430 -0.275653\n",
              "max    0.624253  0.744939  2.238510  0.744358"
            ]
          },
          "metadata": {
            "tags": []
          },
          "execution_count": 6
        }
      ]
    },
    {
      "cell_type": "code",
      "metadata": {
        "id": "YUpxqU5Xji1h",
        "outputId": "fe936b95-bb2e-49af-aeb1-28f317d54e6b",
        "colab": {
          "base_uri": "https://localhost:8080/",
          "height": 227
        }
      },
      "source": [
        "df.sort_values(by='a',ascending = True)"
      ],
      "execution_count": 7,
      "outputs": [
        {
          "output_type": "execute_result",
          "data": {
            "text/html": [
              "<div>\n",
              "<style scoped>\n",
              "    .dataframe tbody tr th:only-of-type {\n",
              "        vertical-align: middle;\n",
              "    }\n",
              "\n",
              "    .dataframe tbody tr th {\n",
              "        vertical-align: top;\n",
              "    }\n",
              "\n",
              "    .dataframe thead th {\n",
              "        text-align: right;\n",
              "    }\n",
              "</style>\n",
              "<table border=\"1\" class=\"dataframe\">\n",
              "  <thead>\n",
              "    <tr style=\"text-align: right;\">\n",
              "      <th></th>\n",
              "      <th>a</th>\n",
              "      <th>b</th>\n",
              "      <th>c</th>\n",
              "      <th>d</th>\n",
              "    </tr>\n",
              "  </thead>\n",
              "  <tbody>\n",
              "    <tr>\n",
              "      <th>2019-03-03</th>\n",
              "      <td>-1.702875</td>\n",
              "      <td>0.556982</td>\n",
              "      <td>0.125193</td>\n",
              "      <td>-0.224759</td>\n",
              "    </tr>\n",
              "    <tr>\n",
              "      <th>2019-03-02</th>\n",
              "      <td>-0.836662</td>\n",
              "      <td>-1.610970</td>\n",
              "      <td>-1.539360</td>\n",
              "      <td>-1.657634</td>\n",
              "    </tr>\n",
              "    <tr>\n",
              "      <th>2019-03-06</th>\n",
              "      <td>0.136741</td>\n",
              "      <td>-1.641662</td>\n",
              "      <td>0.804563</td>\n",
              "      <td>-1.090851</td>\n",
              "    </tr>\n",
              "    <tr>\n",
              "      <th>2019-03-04</th>\n",
              "      <td>0.380534</td>\n",
              "      <td>-0.478518</td>\n",
              "      <td>0.584031</td>\n",
              "      <td>-0.428338</td>\n",
              "    </tr>\n",
              "    <tr>\n",
              "      <th>2019-03-05</th>\n",
              "      <td>0.587943</td>\n",
              "      <td>0.744939</td>\n",
              "      <td>-0.422574</td>\n",
              "      <td>0.744358</td>\n",
              "    </tr>\n",
              "    <tr>\n",
              "      <th>2019-03-01</th>\n",
              "      <td>0.624253</td>\n",
              "      <td>-1.244318</td>\n",
              "      <td>2.238510</td>\n",
              "      <td>-0.431297</td>\n",
              "    </tr>\n",
              "  </tbody>\n",
              "</table>\n",
              "</div>"
            ],
            "text/plain": [
              "                   a         b         c         d\n",
              "2019-03-03 -1.702875  0.556982  0.125193 -0.224759\n",
              "2019-03-02 -0.836662 -1.610970 -1.539360 -1.657634\n",
              "2019-03-06  0.136741 -1.641662  0.804563 -1.090851\n",
              "2019-03-04  0.380534 -0.478518  0.584031 -0.428338\n",
              "2019-03-05  0.587943  0.744939 -0.422574  0.744358\n",
              "2019-03-01  0.624253 -1.244318  2.238510 -0.431297"
            ]
          },
          "metadata": {
            "tags": []
          },
          "execution_count": 7
        }
      ]
    },
    {
      "cell_type": "code",
      "metadata": {
        "id": "dnqfNLj8j2NB",
        "outputId": "0b16f3e1-7fd1-4f44-b13d-bb1067d2e3e3",
        "colab": {
          "base_uri": "https://localhost:8080/"
        }
      },
      "source": [
        "df.loc['2019-03-01']"
      ],
      "execution_count": 8,
      "outputs": [
        {
          "output_type": "execute_result",
          "data": {
            "text/plain": [
              "a    0.624253\n",
              "b   -1.244318\n",
              "c    2.238510\n",
              "d   -0.431297\n",
              "Name: 2019-03-01 00:00:00, dtype: float64"
            ]
          },
          "metadata": {
            "tags": []
          },
          "execution_count": 8
        }
      ]
    },
    {
      "cell_type": "code",
      "metadata": {
        "id": "Gpkb-WjYk2-p",
        "outputId": "6ce6c2d2-aff4-4f4f-9286-7e0a91f33094",
        "colab": {
          "base_uri": "https://localhost:8080/"
        }
      },
      "source": [
        "df['a']>0"
      ],
      "execution_count": 9,
      "outputs": [
        {
          "output_type": "execute_result",
          "data": {
            "text/plain": [
              "2019-03-01     True\n",
              "2019-03-02    False\n",
              "2019-03-03    False\n",
              "2019-03-04     True\n",
              "2019-03-05     True\n",
              "2019-03-06     True\n",
              "Freq: D, Name: a, dtype: bool"
            ]
          },
          "metadata": {
            "tags": []
          },
          "execution_count": 9
        }
      ]
    },
    {
      "cell_type": "code",
      "metadata": {
        "id": "VoVlcL4XlSF5"
      },
      "source": [
        "data = pd.read_excel('teenagemental.xls',header = 1,usecols=\"C:K\") #헤드 날리고 필요한 열만 가져오기."
      ],
      "execution_count": 10,
      "outputs": []
    },
    {
      "cell_type": "code",
      "metadata": {
        "id": "zN2hx0ItqP9w",
        "outputId": "53b0d522-786f-416d-c40f-e164bec6a533",
        "colab": {
          "base_uri": "https://localhost:8080/",
          "height": 77
        }
      },
      "source": [
        "data"
      ],
      "execution_count": 11,
      "outputs": [
        {
          "output_type": "execute_result",
          "data": {
            "text/html": [
              "<div>\n",
              "<style scoped>\n",
              "    .dataframe tbody tr th:only-of-type {\n",
              "        vertical-align: middle;\n",
              "    }\n",
              "\n",
              "    .dataframe tbody tr th {\n",
              "        vertical-align: top;\n",
              "    }\n",
              "\n",
              "    .dataframe thead th {\n",
              "        text-align: right;\n",
              "    }\n",
              "</style>\n",
              "<table border=\"1\" class=\"dataframe\">\n",
              "  <thead>\n",
              "    <tr style=\"text-align: right;\">\n",
              "      <th></th>\n",
              "      <th>전체</th>\n",
              "      <th>남학생</th>\n",
              "      <th>여학생</th>\n",
              "      <th>전체.1</th>\n",
              "      <th>남학생.1</th>\n",
              "      <th>여학생.1</th>\n",
              "      <th>전체.2</th>\n",
              "      <th>남학생.2</th>\n",
              "      <th>여학생.2</th>\n",
              "    </tr>\n",
              "  </thead>\n",
              "  <tbody>\n",
              "    <tr>\n",
              "      <th>0</th>\n",
              "      <td>42.7</td>\n",
              "      <td>34.5</td>\n",
              "      <td>51.5</td>\n",
              "      <td>29.6</td>\n",
              "      <td>24.2</td>\n",
              "      <td>35.4</td>\n",
              "      <td>15.4</td>\n",
              "      <td>11.8</td>\n",
              "      <td>19.2</td>\n",
              "    </tr>\n",
              "  </tbody>\n",
              "</table>\n",
              "</div>"
            ],
            "text/plain": [
              "     전체   남학생   여학생  전체.1  남학생.1  여학생.1  전체.2  남학생.2  여학생.2\n",
              "0  42.7  34.5  51.5  29.6   24.2   35.4  15.4   11.8   19.2"
            ]
          },
          "metadata": {
            "tags": []
          },
          "execution_count": 11
        }
      ]
    },
    {
      "cell_type": "code",
      "metadata": {
        "id": "V3OUjkLnqsqW",
        "outputId": "2ff542ba-9ce8-488a-aacd-5cfc97f0ee6f",
        "colab": {
          "base_uri": "https://localhost:8080/",
          "height": 77
        }
      },
      "source": [
        "col_names = ['스트레스','스트레스_남','스트레스_여','우울감','우울_남','우울_여','자살','자살_남','자살_여']\n",
        "data = pd.read_excel('teenagemental.xls',header = 1,usecols=\"C:K\",names = col_names) #헤드 날리고 필요한 열만 가져오기.\n",
        "data"
      ],
      "execution_count": 12,
      "outputs": [
        {
          "output_type": "execute_result",
          "data": {
            "text/html": [
              "<div>\n",
              "<style scoped>\n",
              "    .dataframe tbody tr th:only-of-type {\n",
              "        vertical-align: middle;\n",
              "    }\n",
              "\n",
              "    .dataframe tbody tr th {\n",
              "        vertical-align: top;\n",
              "    }\n",
              "\n",
              "    .dataframe thead th {\n",
              "        text-align: right;\n",
              "    }\n",
              "</style>\n",
              "<table border=\"1\" class=\"dataframe\">\n",
              "  <thead>\n",
              "    <tr style=\"text-align: right;\">\n",
              "      <th></th>\n",
              "      <th>스트레스</th>\n",
              "      <th>스트레스_남</th>\n",
              "      <th>스트레스_여</th>\n",
              "      <th>우울감</th>\n",
              "      <th>우울_남</th>\n",
              "      <th>우울_여</th>\n",
              "      <th>자살</th>\n",
              "      <th>자살_남</th>\n",
              "      <th>자살_여</th>\n",
              "    </tr>\n",
              "  </thead>\n",
              "  <tbody>\n",
              "    <tr>\n",
              "      <th>0</th>\n",
              "      <td>42.7</td>\n",
              "      <td>34.5</td>\n",
              "      <td>51.5</td>\n",
              "      <td>29.6</td>\n",
              "      <td>24.2</td>\n",
              "      <td>35.4</td>\n",
              "      <td>15.4</td>\n",
              "      <td>11.8</td>\n",
              "      <td>19.2</td>\n",
              "    </tr>\n",
              "  </tbody>\n",
              "</table>\n",
              "</div>"
            ],
            "text/plain": [
              "   스트레스  스트레스_남  스트레스_여   우울감  우울_남  우울_여    자살  자살_남  자살_여\n",
              "0  42.7    34.5    51.5  29.6  24.2  35.4  15.4  11.8  19.2"
            ]
          },
          "metadata": {
            "tags": []
          },
          "execution_count": 12
        }
      ]
    },
    {
      "cell_type": "code",
      "metadata": {
        "id": "y202SLWbs9Dt",
        "outputId": "3d39c72a-3e5d-4e62-87e8-9c3aec39ba33",
        "colab": {
          "base_uri": "https://localhost:8080/",
          "height": 107
        }
      },
      "source": [
        "raw_data = pd.read_excel('teenagemental.xls',header = 1,usecols=\"C:K\",names = col_names)\n",
        "raw_data.loc[1] = 100.-raw_data.loc[0]  #행에는 .loc을 달아준다.\n",
        "raw_data['응답']=['그렇다','아니다']    #열 추가시 이름만 지정해주면 된다.\n",
        "#pandas 에서 열은 넘버(인덱스)의 용도위주\n",
        "raw_data"
      ],
      "execution_count": 13,
      "outputs": [
        {
          "output_type": "execute_result",
          "data": {
            "text/html": [
              "<div>\n",
              "<style scoped>\n",
              "    .dataframe tbody tr th:only-of-type {\n",
              "        vertical-align: middle;\n",
              "    }\n",
              "\n",
              "    .dataframe tbody tr th {\n",
              "        vertical-align: top;\n",
              "    }\n",
              "\n",
              "    .dataframe thead th {\n",
              "        text-align: right;\n",
              "    }\n",
              "</style>\n",
              "<table border=\"1\" class=\"dataframe\">\n",
              "  <thead>\n",
              "    <tr style=\"text-align: right;\">\n",
              "      <th></th>\n",
              "      <th>스트레스</th>\n",
              "      <th>스트레스_남</th>\n",
              "      <th>스트레스_여</th>\n",
              "      <th>우울감</th>\n",
              "      <th>우울_남</th>\n",
              "      <th>우울_여</th>\n",
              "      <th>자살</th>\n",
              "      <th>자살_남</th>\n",
              "      <th>자살_여</th>\n",
              "      <th>응답</th>\n",
              "    </tr>\n",
              "  </thead>\n",
              "  <tbody>\n",
              "    <tr>\n",
              "      <th>0</th>\n",
              "      <td>42.7</td>\n",
              "      <td>34.5</td>\n",
              "      <td>51.5</td>\n",
              "      <td>29.6</td>\n",
              "      <td>24.2</td>\n",
              "      <td>35.4</td>\n",
              "      <td>15.4</td>\n",
              "      <td>11.8</td>\n",
              "      <td>19.2</td>\n",
              "      <td>그렇다</td>\n",
              "    </tr>\n",
              "    <tr>\n",
              "      <th>1</th>\n",
              "      <td>57.3</td>\n",
              "      <td>65.5</td>\n",
              "      <td>48.5</td>\n",
              "      <td>70.4</td>\n",
              "      <td>75.8</td>\n",
              "      <td>64.6</td>\n",
              "      <td>84.6</td>\n",
              "      <td>88.2</td>\n",
              "      <td>80.8</td>\n",
              "      <td>아니다</td>\n",
              "    </tr>\n",
              "  </tbody>\n",
              "</table>\n",
              "</div>"
            ],
            "text/plain": [
              "   스트레스  스트레스_남  스트레스_여   우울감  우울_남  우울_여    자살  자살_남  자살_여   응답\n",
              "0  42.7    34.5    51.5  29.6  24.2  35.4  15.4  11.8  19.2  그렇다\n",
              "1  57.3    65.5    48.5  70.4  75.8  64.6  84.6  88.2  80.8  아니다"
            ]
          },
          "metadata": {
            "tags": []
          },
          "execution_count": 13
        }
      ]
    },
    {
      "cell_type": "code",
      "metadata": {
        "id": "QsQQSUL0t0Eg"
      },
      "source": [
        "raw_data.set_index('응답',drop=True, inplace=True)"
      ],
      "execution_count": 14,
      "outputs": []
    },
    {
      "cell_type": "code",
      "metadata": {
        "id": "R6M_OfwEwEZa",
        "outputId": "6e0fcc1d-eae2-48fc-93bc-c7ebcfa12bba",
        "colab": {
          "base_uri": "https://localhost:8080/",
          "height": 283
        }
      },
      "source": [
        "%matplotlib inline  \n",
        "import matplotlib as mpl  # 기본 설정 만지는 용도\n",
        "import matplotlib.pyplot as plt  # 그래프 그리는 용도\n",
        "import matplotlib.font_manager as fm  # 폰트 관련 용도\n",
        "!apt-get update -qq\n",
        "!apt-get install fonts-nanum* -qq\n",
        "path = '/usr/share/fonts/truetype/nanum/NanumGothicEco.ttf'  # 설치된 나눔글꼴중 원하는 녀석의 전체 경로를 가져오자\n",
        "font_name = fm.FontProperties(fname=path, size=10).get_name()\n",
        "print(font_name)\n",
        "plt.rc('font', family=font_name)\n",
        "# 우선 fm._rebuild() 를 해주고\n",
        "fm._rebuild()\n",
        "mpl.rcParams['axes.unicode_minus'] = False#마이너스 기호 나오게\n",
        "\n",
        "\n",
        "\n",
        "raw_data['스트레스'].plot.pie()"
      ],
      "execution_count": 15,
      "outputs": [
        {
          "output_type": "stream",
          "text": [
            "NanumGothic Eco\n"
          ],
          "name": "stdout"
        },
        {
          "output_type": "execute_result",
          "data": {
            "text/plain": [
              "<matplotlib.axes._subplots.AxesSubplot at 0x7f7624eb3550>"
            ]
          },
          "metadata": {
            "tags": []
          },
          "execution_count": 15
        },
        {
          "output_type": "display_data",
          "data": {
            "image/png": "[encoded data removed]",
            "text/plain": [
              "<Figure size 432x288 with 1 Axes>"
            ]
          },
          "metadata": {
            "tags": []
          }
        }
      ]
    },
    {
      "cell_type": "code",
      "metadata": {
        "id": "FGT_nRc5y5Bs",
        "outputId": "9a108ef4-9ad3-42dd-d9ce-95c749d55780",
        "colab": {
          "base_uri": "https://localhost:8080/",
          "height": 265
        }
      },
      "source": [
        "raw_data['스트레스'].plot.pie(explode=[0,0.02])    # 분리, 보통은 값을 강조할 때 사용"
      ],
      "execution_count": 18,
      "outputs": [
        {
          "output_type": "execute_result",
          "data": {
            "text/plain": [
              "<matplotlib.axes._subplots.AxesSubplot at 0x7f762425ccf8>"
            ]
          },
          "metadata": {
            "tags": []
          },
          "execution_count": 18
        },
        {
          "output_type": "display_data",
          "data": {
            "image/png": "[encoded data removed]",
            "text/plain": [
              "<Figure size 432x288 with 1 Axes>"
            ]
          },
          "metadata": {
            "tags": []
          }
        }
      ]
    },
    {
      "cell_type": "code",
      "metadata": {
        "id": "u-HbkYDa2jnt",
        "outputId": "9061d79d-1d6e-4139-f45d-45789a1be982",
        "colab": {
          "base_uri": "https://localhost:8080/",
          "height": 107
        }
      },
      "source": [
        "raw_data = pd.read_excel('ttl.xlsx',header = 1,usecols=\"C:K\",names = col_names)\n",
        "raw_data.loc[1] = 100.-raw_data.loc[0]  #행에는 .loc을 달아준다.\n",
        "raw_data['응답']=['그렇다','아니다']\n",
        "raw_data"
      ],
      "execution_count": 33,
      "outputs": [
        {
          "output_type": "execute_result",
          "data": {
            "text/html": [
              "<div>\n",
              "<style scoped>\n",
              "    .dataframe tbody tr th:only-of-type {\n",
              "        vertical-align: middle;\n",
              "    }\n",
              "\n",
              "    .dataframe tbody tr th {\n",
              "        vertical-align: top;\n",
              "    }\n",
              "\n",
              "    .dataframe thead th {\n",
              "        text-align: right;\n",
              "    }\n",
              "</style>\n",
              "<table border=\"1\" class=\"dataframe\">\n",
              "  <thead>\n",
              "    <tr style=\"text-align: right;\">\n",
              "      <th></th>\n",
              "      <th>스트레스</th>\n",
              "      <th>스트레스_남</th>\n",
              "      <th>스트레스_여</th>\n",
              "      <th>우울감</th>\n",
              "      <th>우울_남</th>\n",
              "      <th>우울_여</th>\n",
              "      <th>자살</th>\n",
              "      <th>자살_남</th>\n",
              "      <th>자살_여</th>\n",
              "      <th>응답</th>\n",
              "    </tr>\n",
              "  </thead>\n",
              "  <tbody>\n",
              "    <tr>\n",
              "      <th>0</th>\n",
              "      <td>38.7</td>\n",
              "      <td>31.3</td>\n",
              "      <td>46.7</td>\n",
              "      <td>27.7</td>\n",
              "      <td>22.1</td>\n",
              "      <td>33.6</td>\n",
              "      <td>14.4</td>\n",
              "      <td>11.1</td>\n",
              "      <td>17.9</td>\n",
              "      <td>그렇다</td>\n",
              "    </tr>\n",
              "    <tr>\n",
              "      <th>1</th>\n",
              "      <td>61.3</td>\n",
              "      <td>68.7</td>\n",
              "      <td>53.3</td>\n",
              "      <td>72.3</td>\n",
              "      <td>77.9</td>\n",
              "      <td>66.4</td>\n",
              "      <td>85.6</td>\n",
              "      <td>88.9</td>\n",
              "      <td>82.1</td>\n",
              "      <td>아니다</td>\n",
              "    </tr>\n",
              "  </tbody>\n",
              "</table>\n",
              "</div>"
            ],
            "text/plain": [
              "   스트레스  스트레스_남  스트레스_여   우울감  우울_남  우울_여    자살  자살_남  자살_여   응답\n",
              "0  38.7    31.3    46.7  27.7  22.1  33.6  14.4  11.1  17.9  그렇다\n",
              "1  61.3    68.7    53.3  72.3  77.9  66.4  85.6  88.9  82.1  아니다"
            ]
          },
          "metadata": {
            "tags": []
          },
          "execution_count": 33
        }
      ]
    },
    {
      "cell_type": "code",
      "metadata": {
        "id": "wI5Pt0DV5AlE",
        "outputId": "d9e87faf-7726-4a79-edf9-03c3aa03139f",
        "colab": {
          "base_uri": "https://localhost:8080/",
          "height": 326
        }
      },
      "source": [
        "f, ax = plt.subplots(1,3,figsize=(16,8))\n",
        "raw_data.set_index('응답',drop=True, inplace=True)\n",
        "\n",
        "raw_data['스트레스'].plot.pie(explode=[0,0.02], ax= ax[0], autopct='%1.1f%%')\n",
        "ax[0].set_title('스트레스를 받은적 있다')\n",
        "ax[0].set_ylabel('')\n",
        "\n",
        "raw_data['우울감'].plot.pie(explode=[0,0.02], ax= ax[1], autopct='%1.1f%%')\n",
        "ax[1].set_title('우울감을 경험한적 있다')\n",
        "ax[1].set_ylabel('')\n",
        "\n",
        "raw_data['자살'].plot.pie(explode=[0,0.02], ax= ax[2], autopct='%1.1f%%')\n",
        "ax[2].set_title('자살을 고민한적 있다')\n",
        "ax[2].set_ylabel('')\n"
      ],
      "execution_count": 40,
      "outputs": [
        {
          "output_type": "execute_result",
          "data": {
            "text/plain": [
              "Text(0, 0.5, '')"
            ]
          },
          "metadata": {
            "tags": []
          },
          "execution_count": 40
        },
        {
          "output_type": "display_data",
          "data": {
            "image/png": "[encoded data removed]",
            "text/plain": [
              "<Figure size 1152x576 with 3 Axes>"
            ]
          },
          "metadata": {
            "tags": []
          }
        }
      ]
    }
  ]
}