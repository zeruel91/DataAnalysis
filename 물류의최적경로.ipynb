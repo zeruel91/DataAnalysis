{
  "nbformat": 4,
  "nbformat_minor": 0,
  "metadata": {
    "colab": {
      "name": "물류의최적경로.ipynb",
      "provenance": [],
      "include_colab_link": true
    },
    "kernelspec": {
      "name": "python3",
      "display_name": "Python 3"
    }
  },
  "cells": [
    {
      "cell_type": "markdown",
      "metadata": {
        "id": "view-in-github",
        "colab_type": "text"
      },
      "source": [
        "<a href=\"https://colab.research.google.com/github/zeruel91/DataAnalysis/blob/main/%EB%AC%BC%EB%A5%98%EC%9D%98%EC%B5%9C%EC%A0%81%EA%B2%BD%EB%A1%9C.ipynb\" target=\"_parent\"><img src=\"https://colab.research.google.com/assets/colab-badge.svg\" alt=\"Open In Colab\"/></a>"
      ]
    },
    {
      "cell_type": "code",
      "metadata": {
        "id": "KT4uvuM3SC0f"
      },
      "source": [
        "# 창고에 1만개의 상품이 보관\n",
        "# 전국 대리점에 판매 , 창고가 1개가 아닌 전국 위치 , 공장도 전국 공장에서 \n",
        "# 물류는 상품의 매출을 좌우하는 중요한 주제\n",
        "\n",
        "# 물류의 개념을 대리점 뿐 아니라 많은 업계에 응용할 수 있다. 보험, 택시 등등 \n",
        "\n",
        "\n",
        "# 여기서는 물류의 기초가되는 운송최적화를 검토, 네트워크를 가시화하는 방법 최적 물류 계획\n"
      ],
      "execution_count": null,
      "outputs": []
    },
    {
      "cell_type": "code",
      "metadata": {
        "id": "CwJdSE9nTE9l"
      },
      "source": [
        "# 1 데이터 읽어오기 \n",
        "\n",
        "import pandas as pd\n",
        "\n",
        "factories = pd.read_csv('tbl_factory.csv', index_col=0) #공장\n",
        "warehouses= pd.read_csv('tbl_warehouse.csv', index_col=0) #창고\n",
        "cost = pd.read_csv('rel_cost.csv', index_col=0) # 비용\n",
        "trans = pd.read_csv('tbl_transaction.csv', index_col=0) # 운송실적"
      ],
      "execution_count": null,
      "outputs": []
    },
    {
      "cell_type": "code",
      "metadata": {
        "colab": {
          "base_uri": "https://localhost:8080/",
          "height": 265
        },
        "id": "7Qv3zy2zUliW",
        "outputId": "7dbc1b08-e7bd-432f-9b6e-f9d08c5b538a"
      },
      "source": [
        "warehouses"
      ],
      "execution_count": null,
      "outputs": [
        {
          "output_type": "execute_result",
          "data": {
            "text/html": [
              "<div>\n",
              "<style scoped>\n",
              "    .dataframe tbody tr th:only-of-type {\n",
              "        vertical-align: middle;\n",
              "    }\n",
              "\n",
              "    .dataframe tbody tr th {\n",
              "        vertical-align: top;\n",
              "    }\n",
              "\n",
              "    .dataframe thead th {\n",
              "        text-align: right;\n",
              "    }\n",
              "</style>\n",
              "<table border=\"1\" class=\"dataframe\">\n",
              "  <thead>\n",
              "    <tr style=\"text-align: right;\">\n",
              "      <th></th>\n",
              "      <th>WHName</th>\n",
              "      <th>WHSupply</th>\n",
              "      <th>WHRegion</th>\n",
              "    </tr>\n",
              "    <tr>\n",
              "      <th>WHID</th>\n",
              "      <th></th>\n",
              "      <th></th>\n",
              "      <th></th>\n",
              "    </tr>\n",
              "  </thead>\n",
              "  <tbody>\n",
              "    <tr>\n",
              "      <th>WH00001</th>\n",
              "      <td>판교창고</td>\n",
              "      <td>35</td>\n",
              "      <td>북부</td>\n",
              "    </tr>\n",
              "    <tr>\n",
              "      <th>WH00002</th>\n",
              "      <td>용인창고</td>\n",
              "      <td>41</td>\n",
              "      <td>북부</td>\n",
              "    </tr>\n",
              "    <tr>\n",
              "      <th>WH00003</th>\n",
              "      <td>수원창고</td>\n",
              "      <td>42</td>\n",
              "      <td>북부</td>\n",
              "    </tr>\n",
              "    <tr>\n",
              "      <th>WH00004</th>\n",
              "      <td>대전창고</td>\n",
              "      <td>60</td>\n",
              "      <td>남부</td>\n",
              "    </tr>\n",
              "    <tr>\n",
              "      <th>WH00005</th>\n",
              "      <td>대구창고</td>\n",
              "      <td>72</td>\n",
              "      <td>남부</td>\n",
              "    </tr>\n",
              "    <tr>\n",
              "      <th>WH00006</th>\n",
              "      <td>광주창고</td>\n",
              "      <td>65</td>\n",
              "      <td>남부</td>\n",
              "    </tr>\n",
              "  </tbody>\n",
              "</table>\n",
              "</div>"
            ],
            "text/plain": [
              "        WHName  WHSupply WHRegion\n",
              "WHID                             \n",
              "WH00001   판교창고        35       북부\n",
              "WH00002   용인창고        41       북부\n",
              "WH00003   수원창고        42       북부\n",
              "WH00004   대전창고        60       남부\n",
              "WH00005   대구창고        72       남부\n",
              "WH00006   광주창고        65       남부"
            ]
          },
          "metadata": {
            "tags": []
          },
          "execution_count": 3
        }
      ]
    },
    {
      "cell_type": "code",
      "metadata": {
        "colab": {
          "base_uri": "https://localhost:8080/",
          "height": 327
        },
        "id": "q4A2_dTGUh4d",
        "outputId": "8d8cc411-df7d-4467-f010-5e46c0cb26a2"
      },
      "source": [
        "factories"
      ],
      "execution_count": null,
      "outputs": [
        {
          "output_type": "execute_result",
          "data": {
            "text/html": [
              "<div>\n",
              "<style scoped>\n",
              "    .dataframe tbody tr th:only-of-type {\n",
              "        vertical-align: middle;\n",
              "    }\n",
              "\n",
              "    .dataframe tbody tr th {\n",
              "        vertical-align: top;\n",
              "    }\n",
              "\n",
              "    .dataframe thead th {\n",
              "        text-align: right;\n",
              "    }\n",
              "</style>\n",
              "<table border=\"1\" class=\"dataframe\">\n",
              "  <thead>\n",
              "    <tr style=\"text-align: right;\">\n",
              "      <th></th>\n",
              "      <th>FCName</th>\n",
              "      <th>FCDemand</th>\n",
              "      <th>FCRegion</th>\n",
              "    </tr>\n",
              "    <tr>\n",
              "      <th>FCID</th>\n",
              "      <th></th>\n",
              "      <th></th>\n",
              "      <th></th>\n",
              "    </tr>\n",
              "  </thead>\n",
              "  <tbody>\n",
              "    <tr>\n",
              "      <th>FC00001</th>\n",
              "      <td>서울공장</td>\n",
              "      <td>28</td>\n",
              "      <td>북부</td>\n",
              "    </tr>\n",
              "    <tr>\n",
              "      <th>FC00002</th>\n",
              "      <td>수원공장</td>\n",
              "      <td>29</td>\n",
              "      <td>북부</td>\n",
              "    </tr>\n",
              "    <tr>\n",
              "      <th>FC00003</th>\n",
              "      <td>인천공장</td>\n",
              "      <td>31</td>\n",
              "      <td>북부</td>\n",
              "    </tr>\n",
              "    <tr>\n",
              "      <th>FC00004</th>\n",
              "      <td>대전공장</td>\n",
              "      <td>25</td>\n",
              "      <td>북부</td>\n",
              "    </tr>\n",
              "    <tr>\n",
              "      <th>FC00005</th>\n",
              "      <td>대구공장</td>\n",
              "      <td>21</td>\n",
              "      <td>남부</td>\n",
              "    </tr>\n",
              "    <tr>\n",
              "      <th>FC00006</th>\n",
              "      <td>광주공장</td>\n",
              "      <td>30</td>\n",
              "      <td>남부</td>\n",
              "    </tr>\n",
              "    <tr>\n",
              "      <th>FC00007</th>\n",
              "      <td>부산공장</td>\n",
              "      <td>25</td>\n",
              "      <td>남부</td>\n",
              "    </tr>\n",
              "    <tr>\n",
              "      <th>FC00008</th>\n",
              "      <td>울산공장</td>\n",
              "      <td>16</td>\n",
              "      <td>남부</td>\n",
              "    </tr>\n",
              "  </tbody>\n",
              "</table>\n",
              "</div>"
            ],
            "text/plain": [
              "        FCName  FCDemand FCRegion\n",
              "FCID                             \n",
              "FC00001   서울공장        28       북부\n",
              "FC00002   수원공장        29       북부\n",
              "FC00003   인천공장        31       북부\n",
              "FC00004   대전공장        25       북부\n",
              "FC00005   대구공장        21       남부\n",
              "FC00006   광주공장        30       남부\n",
              "FC00007   부산공장        25       남부\n",
              "FC00008   울산공장        16       남부"
            ]
          },
          "metadata": {
            "tags": []
          },
          "execution_count": 4
        }
      ]
    },
    {
      "cell_type": "code",
      "metadata": {
        "colab": {
          "base_uri": "https://localhost:8080/",
          "height": 822
        },
        "id": "_BaMu9gHUnkr",
        "outputId": "e50f8369-78a7-4b31-bb5b-c9dfa02d3210"
      },
      "source": [
        "cost    # WH????? 창고 에서 FC????? 공장  비용이 0.4"
      ],
      "execution_count": null,
      "outputs": [
        {
          "output_type": "execute_result",
          "data": {
            "text/html": [
              "<div>\n",
              "<style scoped>\n",
              "    .dataframe tbody tr th:only-of-type {\n",
              "        vertical-align: middle;\n",
              "    }\n",
              "\n",
              "    .dataframe tbody tr th {\n",
              "        vertical-align: top;\n",
              "    }\n",
              "\n",
              "    .dataframe thead th {\n",
              "        text-align: right;\n",
              "    }\n",
              "</style>\n",
              "<table border=\"1\" class=\"dataframe\">\n",
              "  <thead>\n",
              "    <tr style=\"text-align: right;\">\n",
              "      <th></th>\n",
              "      <th>FCID</th>\n",
              "      <th>WHID</th>\n",
              "      <th>Cost</th>\n",
              "    </tr>\n",
              "    <tr>\n",
              "      <th>RCostID</th>\n",
              "      <th></th>\n",
              "      <th></th>\n",
              "      <th></th>\n",
              "    </tr>\n",
              "  </thead>\n",
              "  <tbody>\n",
              "    <tr>\n",
              "      <th>1</th>\n",
              "      <td>FC00001</td>\n",
              "      <td>WH00001</td>\n",
              "      <td>0.4</td>\n",
              "    </tr>\n",
              "    <tr>\n",
              "      <th>2</th>\n",
              "      <td>FC00001</td>\n",
              "      <td>WH00002</td>\n",
              "      <td>0.8</td>\n",
              "    </tr>\n",
              "    <tr>\n",
              "      <th>3</th>\n",
              "      <td>FC00001</td>\n",
              "      <td>WH00003</td>\n",
              "      <td>1.5</td>\n",
              "    </tr>\n",
              "    <tr>\n",
              "      <th>4</th>\n",
              "      <td>FC00002</td>\n",
              "      <td>WH00001</td>\n",
              "      <td>0.9</td>\n",
              "    </tr>\n",
              "    <tr>\n",
              "      <th>5</th>\n",
              "      <td>FC00002</td>\n",
              "      <td>WH00002</td>\n",
              "      <td>0.8</td>\n",
              "    </tr>\n",
              "    <tr>\n",
              "      <th>6</th>\n",
              "      <td>FC00002</td>\n",
              "      <td>WH00003</td>\n",
              "      <td>1.6</td>\n",
              "    </tr>\n",
              "    <tr>\n",
              "      <th>7</th>\n",
              "      <td>FC00003</td>\n",
              "      <td>WH00001</td>\n",
              "      <td>1.2</td>\n",
              "    </tr>\n",
              "    <tr>\n",
              "      <th>8</th>\n",
              "      <td>FC00003</td>\n",
              "      <td>WH00002</td>\n",
              "      <td>1.3</td>\n",
              "    </tr>\n",
              "    <tr>\n",
              "      <th>9</th>\n",
              "      <td>FC00003</td>\n",
              "      <td>WH00003</td>\n",
              "      <td>1.5</td>\n",
              "    </tr>\n",
              "    <tr>\n",
              "      <th>10</th>\n",
              "      <td>FC00004</td>\n",
              "      <td>WH00001</td>\n",
              "      <td>0.8</td>\n",
              "    </tr>\n",
              "    <tr>\n",
              "      <th>11</th>\n",
              "      <td>FC00004</td>\n",
              "      <td>WH00002</td>\n",
              "      <td>1.0</td>\n",
              "    </tr>\n",
              "    <tr>\n",
              "      <th>12</th>\n",
              "      <td>FC00004</td>\n",
              "      <td>WH00003</td>\n",
              "      <td>1.1</td>\n",
              "    </tr>\n",
              "    <tr>\n",
              "      <th>13</th>\n",
              "      <td>FC00005</td>\n",
              "      <td>WH00004</td>\n",
              "      <td>0.8</td>\n",
              "    </tr>\n",
              "    <tr>\n",
              "      <th>14</th>\n",
              "      <td>FC00005</td>\n",
              "      <td>WH00005</td>\n",
              "      <td>0.3</td>\n",
              "    </tr>\n",
              "    <tr>\n",
              "      <th>15</th>\n",
              "      <td>FC00005</td>\n",
              "      <td>WH00006</td>\n",
              "      <td>1.4</td>\n",
              "    </tr>\n",
              "    <tr>\n",
              "      <th>16</th>\n",
              "      <td>FC00006</td>\n",
              "      <td>WH00004</td>\n",
              "      <td>0.9</td>\n",
              "    </tr>\n",
              "    <tr>\n",
              "      <th>17</th>\n",
              "      <td>FC00006</td>\n",
              "      <td>WH00005</td>\n",
              "      <td>1.1</td>\n",
              "    </tr>\n",
              "    <tr>\n",
              "      <th>18</th>\n",
              "      <td>FC00006</td>\n",
              "      <td>WH00006</td>\n",
              "      <td>0.7</td>\n",
              "    </tr>\n",
              "    <tr>\n",
              "      <th>19</th>\n",
              "      <td>FC00007</td>\n",
              "      <td>WH00004</td>\n",
              "      <td>0.9</td>\n",
              "    </tr>\n",
              "    <tr>\n",
              "      <th>20</th>\n",
              "      <td>FC00007</td>\n",
              "      <td>WH00005</td>\n",
              "      <td>1.2</td>\n",
              "    </tr>\n",
              "    <tr>\n",
              "      <th>21</th>\n",
              "      <td>FC00007</td>\n",
              "      <td>WH00006</td>\n",
              "      <td>1.3</td>\n",
              "    </tr>\n",
              "    <tr>\n",
              "      <th>22</th>\n",
              "      <td>FC00008</td>\n",
              "      <td>WH00004</td>\n",
              "      <td>1.5</td>\n",
              "    </tr>\n",
              "    <tr>\n",
              "      <th>23</th>\n",
              "      <td>FC00008</td>\n",
              "      <td>WH00005</td>\n",
              "      <td>1.2</td>\n",
              "    </tr>\n",
              "    <tr>\n",
              "      <th>24</th>\n",
              "      <td>FC00008</td>\n",
              "      <td>WH00006</td>\n",
              "      <td>1.3</td>\n",
              "    </tr>\n",
              "  </tbody>\n",
              "</table>\n",
              "</div>"
            ],
            "text/plain": [
              "            FCID     WHID  Cost\n",
              "RCostID                        \n",
              "1        FC00001  WH00001   0.4\n",
              "2        FC00001  WH00002   0.8\n",
              "3        FC00001  WH00003   1.5\n",
              "4        FC00002  WH00001   0.9\n",
              "5        FC00002  WH00002   0.8\n",
              "6        FC00002  WH00003   1.6\n",
              "7        FC00003  WH00001   1.2\n",
              "8        FC00003  WH00002   1.3\n",
              "9        FC00003  WH00003   1.5\n",
              "10       FC00004  WH00001   0.8\n",
              "11       FC00004  WH00002   1.0\n",
              "12       FC00004  WH00003   1.1\n",
              "13       FC00005  WH00004   0.8\n",
              "14       FC00005  WH00005   0.3\n",
              "15       FC00005  WH00006   1.4\n",
              "16       FC00006  WH00004   0.9\n",
              "17       FC00006  WH00005   1.1\n",
              "18       FC00006  WH00006   0.7\n",
              "19       FC00007  WH00004   0.9\n",
              "20       FC00007  WH00005   1.2\n",
              "21       FC00007  WH00006   1.3\n",
              "22       FC00008  WH00004   1.5\n",
              "23       FC00008  WH00005   1.2\n",
              "24       FC00008  WH00006   1.3"
            ]
          },
          "metadata": {
            "tags": []
          },
          "execution_count": 5
        }
      ]
    },
    {
      "cell_type": "code",
      "metadata": {
        "colab": {
          "base_uri": "https://localhost:8080/",
          "height": 448
        },
        "id": "ZGvS6KVbUnn0",
        "outputId": "032b2c2e-70c4-4a76-ca3e-793cd74f37a7"
      },
      "source": [
        "trans   # WH????? 창고 에서 FC????? 공장"
      ],
      "execution_count": null,
      "outputs": [
        {
          "output_type": "execute_result",
          "data": {
            "text/html": [
              "<div>\n",
              "<style scoped>\n",
              "    .dataframe tbody tr th:only-of-type {\n",
              "        vertical-align: middle;\n",
              "    }\n",
              "\n",
              "    .dataframe tbody tr th {\n",
              "        vertical-align: top;\n",
              "    }\n",
              "\n",
              "    .dataframe thead th {\n",
              "        text-align: right;\n",
              "    }\n",
              "</style>\n",
              "<table border=\"1\" class=\"dataframe\">\n",
              "  <thead>\n",
              "    <tr style=\"text-align: right;\">\n",
              "      <th></th>\n",
              "      <th>TransactionDate</th>\n",
              "      <th>ToFC</th>\n",
              "      <th>FromWH</th>\n",
              "      <th>Quantity</th>\n",
              "    </tr>\n",
              "    <tr>\n",
              "      <th>TRID</th>\n",
              "      <th></th>\n",
              "      <th></th>\n",
              "      <th></th>\n",
              "      <th></th>\n",
              "    </tr>\n",
              "  </thead>\n",
              "  <tbody>\n",
              "    <tr>\n",
              "      <th>0</th>\n",
              "      <td>2019-01-01 02:11:10</td>\n",
              "      <td>FC00004</td>\n",
              "      <td>WH00003</td>\n",
              "      <td>33</td>\n",
              "    </tr>\n",
              "    <tr>\n",
              "      <th>1</th>\n",
              "      <td>2019-01-01 06:12:42</td>\n",
              "      <td>FC00007</td>\n",
              "      <td>WH00006</td>\n",
              "      <td>19</td>\n",
              "    </tr>\n",
              "    <tr>\n",
              "      <th>2</th>\n",
              "      <td>2019-01-01 06:32:32</td>\n",
              "      <td>FC00006</td>\n",
              "      <td>WH00004</td>\n",
              "      <td>31</td>\n",
              "    </tr>\n",
              "    <tr>\n",
              "      <th>3</th>\n",
              "      <td>2019-01-01 07:17:06</td>\n",
              "      <td>FC00002</td>\n",
              "      <td>WH00003</td>\n",
              "      <td>18</td>\n",
              "    </tr>\n",
              "    <tr>\n",
              "      <th>4</th>\n",
              "      <td>2019-01-01 07:52:18</td>\n",
              "      <td>FC00001</td>\n",
              "      <td>WH00002</td>\n",
              "      <td>30</td>\n",
              "    </tr>\n",
              "    <tr>\n",
              "      <th>...</th>\n",
              "      <td>...</td>\n",
              "      <td>...</td>\n",
              "      <td>...</td>\n",
              "      <td>...</td>\n",
              "    </tr>\n",
              "    <tr>\n",
              "      <th>3995</th>\n",
              "      <td>2019-12-31 11:27:51</td>\n",
              "      <td>FC00007</td>\n",
              "      <td>WH00006</td>\n",
              "      <td>29</td>\n",
              "    </tr>\n",
              "    <tr>\n",
              "      <th>3996</th>\n",
              "      <td>2019-12-31 17:10:21</td>\n",
              "      <td>FC00002</td>\n",
              "      <td>WH00003</td>\n",
              "      <td>35</td>\n",
              "    </tr>\n",
              "    <tr>\n",
              "      <th>3997</th>\n",
              "      <td>2019-12-31 19:35:07</td>\n",
              "      <td>FC00003</td>\n",
              "      <td>WH00001</td>\n",
              "      <td>36</td>\n",
              "    </tr>\n",
              "    <tr>\n",
              "      <th>3998</th>\n",
              "      <td>2019-12-31 21:45:07</td>\n",
              "      <td>FC00005</td>\n",
              "      <td>WH00005</td>\n",
              "      <td>34</td>\n",
              "    </tr>\n",
              "    <tr>\n",
              "      <th>3999</th>\n",
              "      <td>2019-12-31 23:19:37</td>\n",
              "      <td>FC00005</td>\n",
              "      <td>WH00005</td>\n",
              "      <td>16</td>\n",
              "    </tr>\n",
              "  </tbody>\n",
              "</table>\n",
              "<p>4000 rows × 4 columns</p>\n",
              "</div>"
            ],
            "text/plain": [
              "          TransactionDate     ToFC   FromWH  Quantity\n",
              "TRID                                                 \n",
              "0     2019-01-01 02:11:10  FC00004  WH00003        33\n",
              "1     2019-01-01 06:12:42  FC00007  WH00006        19\n",
              "2     2019-01-01 06:32:32  FC00006  WH00004        31\n",
              "3     2019-01-01 07:17:06  FC00002  WH00003        18\n",
              "4     2019-01-01 07:52:18  FC00001  WH00002        30\n",
              "...                   ...      ...      ...       ...\n",
              "3995  2019-12-31 11:27:51  FC00007  WH00006        29\n",
              "3996  2019-12-31 17:10:21  FC00002  WH00003        35\n",
              "3997  2019-12-31 19:35:07  FC00003  WH00001        36\n",
              "3998  2019-12-31 21:45:07  FC00005  WH00005        34\n",
              "3999  2019-12-31 23:19:37  FC00005  WH00005        16\n",
              "\n",
              "[4000 rows x 4 columns]"
            ]
          },
          "metadata": {
            "tags": []
          },
          "execution_count": 6
        }
      ]
    },
    {
      "cell_type": "code",
      "metadata": {
        "colab": {
          "base_uri": "https://localhost:8080/",
          "height": 417
        },
        "id": "xcJCUa_iUnre",
        "outputId": "315ddb1d-9c7e-4a91-b468-1f119f927a4c"
      },
      "source": [
        "join_data = pd.merge(trans, cost, left_on=['ToFC','FromWH'], right_on=['FCID','WHID'], how='left')\n",
        "\n",
        "join_data\n",
        "\n",
        "# 공장ID와 창고ID 를 키로해서 연결 , 운송실적을 기준으로 left지정"
      ],
      "execution_count": null,
      "outputs": [
        {
          "output_type": "execute_result",
          "data": {
            "text/html": [
              "<div>\n",
              "<style scoped>\n",
              "    .dataframe tbody tr th:only-of-type {\n",
              "        vertical-align: middle;\n",
              "    }\n",
              "\n",
              "    .dataframe tbody tr th {\n",
              "        vertical-align: top;\n",
              "    }\n",
              "\n",
              "    .dataframe thead th {\n",
              "        text-align: right;\n",
              "    }\n",
              "</style>\n",
              "<table border=\"1\" class=\"dataframe\">\n",
              "  <thead>\n",
              "    <tr style=\"text-align: right;\">\n",
              "      <th></th>\n",
              "      <th>TransactionDate</th>\n",
              "      <th>ToFC</th>\n",
              "      <th>FromWH</th>\n",
              "      <th>Quantity</th>\n",
              "      <th>FCID</th>\n",
              "      <th>WHID</th>\n",
              "      <th>Cost</th>\n",
              "    </tr>\n",
              "  </thead>\n",
              "  <tbody>\n",
              "    <tr>\n",
              "      <th>0</th>\n",
              "      <td>2019-01-01 02:11:10</td>\n",
              "      <td>FC00004</td>\n",
              "      <td>WH00003</td>\n",
              "      <td>33</td>\n",
              "      <td>FC00004</td>\n",
              "      <td>WH00003</td>\n",
              "      <td>1.1</td>\n",
              "    </tr>\n",
              "    <tr>\n",
              "      <th>1</th>\n",
              "      <td>2019-01-01 06:12:42</td>\n",
              "      <td>FC00007</td>\n",
              "      <td>WH00006</td>\n",
              "      <td>19</td>\n",
              "      <td>FC00007</td>\n",
              "      <td>WH00006</td>\n",
              "      <td>1.3</td>\n",
              "    </tr>\n",
              "    <tr>\n",
              "      <th>2</th>\n",
              "      <td>2019-01-01 06:32:32</td>\n",
              "      <td>FC00006</td>\n",
              "      <td>WH00004</td>\n",
              "      <td>31</td>\n",
              "      <td>FC00006</td>\n",
              "      <td>WH00004</td>\n",
              "      <td>0.9</td>\n",
              "    </tr>\n",
              "    <tr>\n",
              "      <th>3</th>\n",
              "      <td>2019-01-01 07:17:06</td>\n",
              "      <td>FC00002</td>\n",
              "      <td>WH00003</td>\n",
              "      <td>18</td>\n",
              "      <td>FC00002</td>\n",
              "      <td>WH00003</td>\n",
              "      <td>1.6</td>\n",
              "    </tr>\n",
              "    <tr>\n",
              "      <th>4</th>\n",
              "      <td>2019-01-01 07:52:18</td>\n",
              "      <td>FC00001</td>\n",
              "      <td>WH00002</td>\n",
              "      <td>30</td>\n",
              "      <td>FC00001</td>\n",
              "      <td>WH00002</td>\n",
              "      <td>0.8</td>\n",
              "    </tr>\n",
              "    <tr>\n",
              "      <th>...</th>\n",
              "      <td>...</td>\n",
              "      <td>...</td>\n",
              "      <td>...</td>\n",
              "      <td>...</td>\n",
              "      <td>...</td>\n",
              "      <td>...</td>\n",
              "      <td>...</td>\n",
              "    </tr>\n",
              "    <tr>\n",
              "      <th>3995</th>\n",
              "      <td>2019-12-31 11:27:51</td>\n",
              "      <td>FC00007</td>\n",
              "      <td>WH00006</td>\n",
              "      <td>29</td>\n",
              "      <td>FC00007</td>\n",
              "      <td>WH00006</td>\n",
              "      <td>1.3</td>\n",
              "    </tr>\n",
              "    <tr>\n",
              "      <th>3996</th>\n",
              "      <td>2019-12-31 17:10:21</td>\n",
              "      <td>FC00002</td>\n",
              "      <td>WH00003</td>\n",
              "      <td>35</td>\n",
              "      <td>FC00002</td>\n",
              "      <td>WH00003</td>\n",
              "      <td>1.6</td>\n",
              "    </tr>\n",
              "    <tr>\n",
              "      <th>3997</th>\n",
              "      <td>2019-12-31 19:35:07</td>\n",
              "      <td>FC00003</td>\n",
              "      <td>WH00001</td>\n",
              "      <td>36</td>\n",
              "      <td>FC00003</td>\n",
              "      <td>WH00001</td>\n",
              "      <td>1.2</td>\n",
              "    </tr>\n",
              "    <tr>\n",
              "      <th>3998</th>\n",
              "      <td>2019-12-31 21:45:07</td>\n",
              "      <td>FC00005</td>\n",
              "      <td>WH00005</td>\n",
              "      <td>34</td>\n",
              "      <td>FC00005</td>\n",
              "      <td>WH00005</td>\n",
              "      <td>0.3</td>\n",
              "    </tr>\n",
              "    <tr>\n",
              "      <th>3999</th>\n",
              "      <td>2019-12-31 23:19:37</td>\n",
              "      <td>FC00005</td>\n",
              "      <td>WH00005</td>\n",
              "      <td>16</td>\n",
              "      <td>FC00005</td>\n",
              "      <td>WH00005</td>\n",
              "      <td>0.3</td>\n",
              "    </tr>\n",
              "  </tbody>\n",
              "</table>\n",
              "<p>4000 rows × 7 columns</p>\n",
              "</div>"
            ],
            "text/plain": [
              "          TransactionDate     ToFC   FromWH  Quantity     FCID     WHID  Cost\n",
              "0     2019-01-01 02:11:10  FC00004  WH00003        33  FC00004  WH00003   1.1\n",
              "1     2019-01-01 06:12:42  FC00007  WH00006        19  FC00007  WH00006   1.3\n",
              "2     2019-01-01 06:32:32  FC00006  WH00004        31  FC00006  WH00004   0.9\n",
              "3     2019-01-01 07:17:06  FC00002  WH00003        18  FC00002  WH00003   1.6\n",
              "4     2019-01-01 07:52:18  FC00001  WH00002        30  FC00001  WH00002   0.8\n",
              "...                   ...      ...      ...       ...      ...      ...   ...\n",
              "3995  2019-12-31 11:27:51  FC00007  WH00006        29  FC00007  WH00006   1.3\n",
              "3996  2019-12-31 17:10:21  FC00002  WH00003        35  FC00002  WH00003   1.6\n",
              "3997  2019-12-31 19:35:07  FC00003  WH00001        36  FC00003  WH00001   1.2\n",
              "3998  2019-12-31 21:45:07  FC00005  WH00005        34  FC00005  WH00005   0.3\n",
              "3999  2019-12-31 23:19:37  FC00005  WH00005        16  FC00005  WH00005   0.3\n",
              "\n",
              "[4000 rows x 7 columns]"
            ]
          },
          "metadata": {
            "tags": []
          },
          "execution_count": 7
        }
      ]
    },
    {
      "cell_type": "code",
      "metadata": {
        "colab": {
          "base_uri": "https://localhost:8080/",
          "height": 417
        },
        "id": "i6igMbdJUnu2",
        "outputId": "700fe03f-3268-4e40-c0e5-17fc708321d4"
      },
      "source": [
        "join_data = pd.merge(join_data, factories, left_on=['ToFC'], right_on=['FCID'], how='left')\n",
        "\n",
        "join_data"
      ],
      "execution_count": null,
      "outputs": [
        {
          "output_type": "execute_result",
          "data": {
            "text/html": [
              "<div>\n",
              "<style scoped>\n",
              "    .dataframe tbody tr th:only-of-type {\n",
              "        vertical-align: middle;\n",
              "    }\n",
              "\n",
              "    .dataframe tbody tr th {\n",
              "        vertical-align: top;\n",
              "    }\n",
              "\n",
              "    .dataframe thead th {\n",
              "        text-align: right;\n",
              "    }\n",
              "</style>\n",
              "<table border=\"1\" class=\"dataframe\">\n",
              "  <thead>\n",
              "    <tr style=\"text-align: right;\">\n",
              "      <th></th>\n",
              "      <th>TransactionDate</th>\n",
              "      <th>ToFC</th>\n",
              "      <th>FromWH</th>\n",
              "      <th>Quantity</th>\n",
              "      <th>FCID</th>\n",
              "      <th>WHID</th>\n",
              "      <th>Cost</th>\n",
              "      <th>FCName</th>\n",
              "      <th>FCDemand</th>\n",
              "      <th>FCRegion</th>\n",
              "    </tr>\n",
              "  </thead>\n",
              "  <tbody>\n",
              "    <tr>\n",
              "      <th>0</th>\n",
              "      <td>2019-01-01 02:11:10</td>\n",
              "      <td>FC00004</td>\n",
              "      <td>WH00003</td>\n",
              "      <td>33</td>\n",
              "      <td>FC00004</td>\n",
              "      <td>WH00003</td>\n",
              "      <td>1.1</td>\n",
              "      <td>대전공장</td>\n",
              "      <td>25</td>\n",
              "      <td>북부</td>\n",
              "    </tr>\n",
              "    <tr>\n",
              "      <th>1</th>\n",
              "      <td>2019-01-01 06:12:42</td>\n",
              "      <td>FC00007</td>\n",
              "      <td>WH00006</td>\n",
              "      <td>19</td>\n",
              "      <td>FC00007</td>\n",
              "      <td>WH00006</td>\n",
              "      <td>1.3</td>\n",
              "      <td>부산공장</td>\n",
              "      <td>25</td>\n",
              "      <td>남부</td>\n",
              "    </tr>\n",
              "    <tr>\n",
              "      <th>2</th>\n",
              "      <td>2019-01-01 06:32:32</td>\n",
              "      <td>FC00006</td>\n",
              "      <td>WH00004</td>\n",
              "      <td>31</td>\n",
              "      <td>FC00006</td>\n",
              "      <td>WH00004</td>\n",
              "      <td>0.9</td>\n",
              "      <td>광주공장</td>\n",
              "      <td>30</td>\n",
              "      <td>남부</td>\n",
              "    </tr>\n",
              "    <tr>\n",
              "      <th>3</th>\n",
              "      <td>2019-01-01 07:17:06</td>\n",
              "      <td>FC00002</td>\n",
              "      <td>WH00003</td>\n",
              "      <td>18</td>\n",
              "      <td>FC00002</td>\n",
              "      <td>WH00003</td>\n",
              "      <td>1.6</td>\n",
              "      <td>수원공장</td>\n",
              "      <td>29</td>\n",
              "      <td>북부</td>\n",
              "    </tr>\n",
              "    <tr>\n",
              "      <th>4</th>\n",
              "      <td>2019-01-01 07:52:18</td>\n",
              "      <td>FC00001</td>\n",
              "      <td>WH00002</td>\n",
              "      <td>30</td>\n",
              "      <td>FC00001</td>\n",
              "      <td>WH00002</td>\n",
              "      <td>0.8</td>\n",
              "      <td>서울공장</td>\n",
              "      <td>28</td>\n",
              "      <td>북부</td>\n",
              "    </tr>\n",
              "    <tr>\n",
              "      <th>...</th>\n",
              "      <td>...</td>\n",
              "      <td>...</td>\n",
              "      <td>...</td>\n",
              "      <td>...</td>\n",
              "      <td>...</td>\n",
              "      <td>...</td>\n",
              "      <td>...</td>\n",
              "      <td>...</td>\n",
              "      <td>...</td>\n",
              "      <td>...</td>\n",
              "    </tr>\n",
              "    <tr>\n",
              "      <th>3995</th>\n",
              "      <td>2019-12-31 11:27:51</td>\n",
              "      <td>FC00007</td>\n",
              "      <td>WH00006</td>\n",
              "      <td>29</td>\n",
              "      <td>FC00007</td>\n",
              "      <td>WH00006</td>\n",
              "      <td>1.3</td>\n",
              "      <td>부산공장</td>\n",
              "      <td>25</td>\n",
              "      <td>남부</td>\n",
              "    </tr>\n",
              "    <tr>\n",
              "      <th>3996</th>\n",
              "      <td>2019-12-31 17:10:21</td>\n",
              "      <td>FC00002</td>\n",
              "      <td>WH00003</td>\n",
              "      <td>35</td>\n",
              "      <td>FC00002</td>\n",
              "      <td>WH00003</td>\n",
              "      <td>1.6</td>\n",
              "      <td>수원공장</td>\n",
              "      <td>29</td>\n",
              "      <td>북부</td>\n",
              "    </tr>\n",
              "    <tr>\n",
              "      <th>3997</th>\n",
              "      <td>2019-12-31 19:35:07</td>\n",
              "      <td>FC00003</td>\n",
              "      <td>WH00001</td>\n",
              "      <td>36</td>\n",
              "      <td>FC00003</td>\n",
              "      <td>WH00001</td>\n",
              "      <td>1.2</td>\n",
              "      <td>인천공장</td>\n",
              "      <td>31</td>\n",
              "      <td>북부</td>\n",
              "    </tr>\n",
              "    <tr>\n",
              "      <th>3998</th>\n",
              "      <td>2019-12-31 21:45:07</td>\n",
              "      <td>FC00005</td>\n",
              "      <td>WH00005</td>\n",
              "      <td>34</td>\n",
              "      <td>FC00005</td>\n",
              "      <td>WH00005</td>\n",
              "      <td>0.3</td>\n",
              "      <td>대구공장</td>\n",
              "      <td>21</td>\n",
              "      <td>남부</td>\n",
              "    </tr>\n",
              "    <tr>\n",
              "      <th>3999</th>\n",
              "      <td>2019-12-31 23:19:37</td>\n",
              "      <td>FC00005</td>\n",
              "      <td>WH00005</td>\n",
              "      <td>16</td>\n",
              "      <td>FC00005</td>\n",
              "      <td>WH00005</td>\n",
              "      <td>0.3</td>\n",
              "      <td>대구공장</td>\n",
              "      <td>21</td>\n",
              "      <td>남부</td>\n",
              "    </tr>\n",
              "  </tbody>\n",
              "</table>\n",
              "<p>4000 rows × 10 columns</p>\n",
              "</div>"
            ],
            "text/plain": [
              "          TransactionDate     ToFC   FromWH  ...  FCName FCDemand FCRegion\n",
              "0     2019-01-01 02:11:10  FC00004  WH00003  ...    대전공장       25       북부\n",
              "1     2019-01-01 06:12:42  FC00007  WH00006  ...    부산공장       25       남부\n",
              "2     2019-01-01 06:32:32  FC00006  WH00004  ...    광주공장       30       남부\n",
              "3     2019-01-01 07:17:06  FC00002  WH00003  ...    수원공장       29       북부\n",
              "4     2019-01-01 07:52:18  FC00001  WH00002  ...    서울공장       28       북부\n",
              "...                   ...      ...      ...  ...     ...      ...      ...\n",
              "3995  2019-12-31 11:27:51  FC00007  WH00006  ...    부산공장       25       남부\n",
              "3996  2019-12-31 17:10:21  FC00002  WH00003  ...    수원공장       29       북부\n",
              "3997  2019-12-31 19:35:07  FC00003  WH00001  ...    인천공장       31       북부\n",
              "3998  2019-12-31 21:45:07  FC00005  WH00005  ...    대구공장       21       남부\n",
              "3999  2019-12-31 23:19:37  FC00005  WH00005  ...    대구공장       21       남부\n",
              "\n",
              "[4000 rows x 10 columns]"
            ]
          },
          "metadata": {
            "tags": []
          },
          "execution_count": 8
        }
      ]
    },
    {
      "cell_type": "code",
      "metadata": {
        "colab": {
          "base_uri": "https://localhost:8080/",
          "height": 608
        },
        "id": "pumekeS6UnyA",
        "outputId": "71fb618d-5c53-4b11-c768-98391d92dafd"
      },
      "source": [
        "join_data = pd.merge(join_data, warehouses, left_on=['FromWH'], right_on=['WHID'], how='left')\n",
        "\n",
        "join_data"
      ],
      "execution_count": null,
      "outputs": [
        {
          "output_type": "execute_result",
          "data": {
            "text/html": [
              "<div>\n",
              "<style scoped>\n",
              "    .dataframe tbody tr th:only-of-type {\n",
              "        vertical-align: middle;\n",
              "    }\n",
              "\n",
              "    .dataframe tbody tr th {\n",
              "        vertical-align: top;\n",
              "    }\n",
              "\n",
              "    .dataframe thead th {\n",
              "        text-align: right;\n",
              "    }\n",
              "</style>\n",
              "<table border=\"1\" class=\"dataframe\">\n",
              "  <thead>\n",
              "    <tr style=\"text-align: right;\">\n",
              "      <th></th>\n",
              "      <th>TransactionDate</th>\n",
              "      <th>ToFC</th>\n",
              "      <th>FromWH</th>\n",
              "      <th>Quantity</th>\n",
              "      <th>FCID</th>\n",
              "      <th>WHID</th>\n",
              "      <th>Cost</th>\n",
              "      <th>FCName</th>\n",
              "      <th>FCDemand</th>\n",
              "      <th>FCRegion</th>\n",
              "      <th>WHName</th>\n",
              "      <th>WHSupply</th>\n",
              "      <th>WHRegion</th>\n",
              "    </tr>\n",
              "  </thead>\n",
              "  <tbody>\n",
              "    <tr>\n",
              "      <th>0</th>\n",
              "      <td>2019-01-01 02:11:10</td>\n",
              "      <td>FC00004</td>\n",
              "      <td>WH00003</td>\n",
              "      <td>33</td>\n",
              "      <td>FC00004</td>\n",
              "      <td>WH00003</td>\n",
              "      <td>1.1</td>\n",
              "      <td>대전공장</td>\n",
              "      <td>25</td>\n",
              "      <td>북부</td>\n",
              "      <td>수원창고</td>\n",
              "      <td>42</td>\n",
              "      <td>북부</td>\n",
              "    </tr>\n",
              "    <tr>\n",
              "      <th>1</th>\n",
              "      <td>2019-01-01 06:12:42</td>\n",
              "      <td>FC00007</td>\n",
              "      <td>WH00006</td>\n",
              "      <td>19</td>\n",
              "      <td>FC00007</td>\n",
              "      <td>WH00006</td>\n",
              "      <td>1.3</td>\n",
              "      <td>부산공장</td>\n",
              "      <td>25</td>\n",
              "      <td>남부</td>\n",
              "      <td>광주창고</td>\n",
              "      <td>65</td>\n",
              "      <td>남부</td>\n",
              "    </tr>\n",
              "    <tr>\n",
              "      <th>2</th>\n",
              "      <td>2019-01-01 06:32:32</td>\n",
              "      <td>FC00006</td>\n",
              "      <td>WH00004</td>\n",
              "      <td>31</td>\n",
              "      <td>FC00006</td>\n",
              "      <td>WH00004</td>\n",
              "      <td>0.9</td>\n",
              "      <td>광주공장</td>\n",
              "      <td>30</td>\n",
              "      <td>남부</td>\n",
              "      <td>대전창고</td>\n",
              "      <td>60</td>\n",
              "      <td>남부</td>\n",
              "    </tr>\n",
              "    <tr>\n",
              "      <th>3</th>\n",
              "      <td>2019-01-01 07:17:06</td>\n",
              "      <td>FC00002</td>\n",
              "      <td>WH00003</td>\n",
              "      <td>18</td>\n",
              "      <td>FC00002</td>\n",
              "      <td>WH00003</td>\n",
              "      <td>1.6</td>\n",
              "      <td>수원공장</td>\n",
              "      <td>29</td>\n",
              "      <td>북부</td>\n",
              "      <td>수원창고</td>\n",
              "      <td>42</td>\n",
              "      <td>북부</td>\n",
              "    </tr>\n",
              "    <tr>\n",
              "      <th>4</th>\n",
              "      <td>2019-01-01 07:52:18</td>\n",
              "      <td>FC00001</td>\n",
              "      <td>WH00002</td>\n",
              "      <td>30</td>\n",
              "      <td>FC00001</td>\n",
              "      <td>WH00002</td>\n",
              "      <td>0.8</td>\n",
              "      <td>서울공장</td>\n",
              "      <td>28</td>\n",
              "      <td>북부</td>\n",
              "      <td>용인창고</td>\n",
              "      <td>41</td>\n",
              "      <td>북부</td>\n",
              "    </tr>\n",
              "    <tr>\n",
              "      <th>...</th>\n",
              "      <td>...</td>\n",
              "      <td>...</td>\n",
              "      <td>...</td>\n",
              "      <td>...</td>\n",
              "      <td>...</td>\n",
              "      <td>...</td>\n",
              "      <td>...</td>\n",
              "      <td>...</td>\n",
              "      <td>...</td>\n",
              "      <td>...</td>\n",
              "      <td>...</td>\n",
              "      <td>...</td>\n",
              "      <td>...</td>\n",
              "    </tr>\n",
              "    <tr>\n",
              "      <th>3995</th>\n",
              "      <td>2019-12-31 11:27:51</td>\n",
              "      <td>FC00007</td>\n",
              "      <td>WH00006</td>\n",
              "      <td>29</td>\n",
              "      <td>FC00007</td>\n",
              "      <td>WH00006</td>\n",
              "      <td>1.3</td>\n",
              "      <td>부산공장</td>\n",
              "      <td>25</td>\n",
              "      <td>남부</td>\n",
              "      <td>광주창고</td>\n",
              "      <td>65</td>\n",
              "      <td>남부</td>\n",
              "    </tr>\n",
              "    <tr>\n",
              "      <th>3996</th>\n",
              "      <td>2019-12-31 17:10:21</td>\n",
              "      <td>FC00002</td>\n",
              "      <td>WH00003</td>\n",
              "      <td>35</td>\n",
              "      <td>FC00002</td>\n",
              "      <td>WH00003</td>\n",
              "      <td>1.6</td>\n",
              "      <td>수원공장</td>\n",
              "      <td>29</td>\n",
              "      <td>북부</td>\n",
              "      <td>수원창고</td>\n",
              "      <td>42</td>\n",
              "      <td>북부</td>\n",
              "    </tr>\n",
              "    <tr>\n",
              "      <th>3997</th>\n",
              "      <td>2019-12-31 19:35:07</td>\n",
              "      <td>FC00003</td>\n",
              "      <td>WH00001</td>\n",
              "      <td>36</td>\n",
              "      <td>FC00003</td>\n",
              "      <td>WH00001</td>\n",
              "      <td>1.2</td>\n",
              "      <td>인천공장</td>\n",
              "      <td>31</td>\n",
              "      <td>북부</td>\n",
              "      <td>판교창고</td>\n",
              "      <td>35</td>\n",
              "      <td>북부</td>\n",
              "    </tr>\n",
              "    <tr>\n",
              "      <th>3998</th>\n",
              "      <td>2019-12-31 21:45:07</td>\n",
              "      <td>FC00005</td>\n",
              "      <td>WH00005</td>\n",
              "      <td>34</td>\n",
              "      <td>FC00005</td>\n",
              "      <td>WH00005</td>\n",
              "      <td>0.3</td>\n",
              "      <td>대구공장</td>\n",
              "      <td>21</td>\n",
              "      <td>남부</td>\n",
              "      <td>대구창고</td>\n",
              "      <td>72</td>\n",
              "      <td>남부</td>\n",
              "    </tr>\n",
              "    <tr>\n",
              "      <th>3999</th>\n",
              "      <td>2019-12-31 23:19:37</td>\n",
              "      <td>FC00005</td>\n",
              "      <td>WH00005</td>\n",
              "      <td>16</td>\n",
              "      <td>FC00005</td>\n",
              "      <td>WH00005</td>\n",
              "      <td>0.3</td>\n",
              "      <td>대구공장</td>\n",
              "      <td>21</td>\n",
              "      <td>남부</td>\n",
              "      <td>대구창고</td>\n",
              "      <td>72</td>\n",
              "      <td>남부</td>\n",
              "    </tr>\n",
              "  </tbody>\n",
              "</table>\n",
              "<p>4000 rows × 13 columns</p>\n",
              "</div>"
            ],
            "text/plain": [
              "          TransactionDate     ToFC   FromWH  ...  WHName WHSupply WHRegion\n",
              "0     2019-01-01 02:11:10  FC00004  WH00003  ...    수원창고       42       북부\n",
              "1     2019-01-01 06:12:42  FC00007  WH00006  ...    광주창고       65       남부\n",
              "2     2019-01-01 06:32:32  FC00006  WH00004  ...    대전창고       60       남부\n",
              "3     2019-01-01 07:17:06  FC00002  WH00003  ...    수원창고       42       북부\n",
              "4     2019-01-01 07:52:18  FC00001  WH00002  ...    용인창고       41       북부\n",
              "...                   ...      ...      ...  ...     ...      ...      ...\n",
              "3995  2019-12-31 11:27:51  FC00007  WH00006  ...    광주창고       65       남부\n",
              "3996  2019-12-31 17:10:21  FC00002  WH00003  ...    수원창고       42       북부\n",
              "3997  2019-12-31 19:35:07  FC00003  WH00001  ...    판교창고       35       북부\n",
              "3998  2019-12-31 21:45:07  FC00005  WH00005  ...    대구창고       72       남부\n",
              "3999  2019-12-31 23:19:37  FC00005  WH00005  ...    대구창고       72       남부\n",
              "\n",
              "[4000 rows x 13 columns]"
            ]
          },
          "metadata": {
            "tags": []
          },
          "execution_count": 9
        }
      ]
    },
    {
      "cell_type": "code",
      "metadata": {
        "colab": {
          "base_uri": "https://localhost:8080/",
          "height": 608
        },
        "id": "xbPcqVR_Xxgf",
        "outputId": "036abab4-2d67-4ef1-eb8b-837f8b9cbe33"
      },
      "source": [
        "# 북부지사와 남부지사 의 데이터를 비교하자 \n",
        "north = join_data.loc[join_data['WHRegion'] == '북부']\n",
        "north\n",
        "south = join_data.loc[join_data['WHRegion'] == '남부']\n",
        "south"
      ],
      "execution_count": null,
      "outputs": [
        {
          "output_type": "execute_result",
          "data": {
            "text/html": [
              "<div>\n",
              "<style scoped>\n",
              "    .dataframe tbody tr th:only-of-type {\n",
              "        vertical-align: middle;\n",
              "    }\n",
              "\n",
              "    .dataframe tbody tr th {\n",
              "        vertical-align: top;\n",
              "    }\n",
              "\n",
              "    .dataframe thead th {\n",
              "        text-align: right;\n",
              "    }\n",
              "</style>\n",
              "<table border=\"1\" class=\"dataframe\">\n",
              "  <thead>\n",
              "    <tr style=\"text-align: right;\">\n",
              "      <th></th>\n",
              "      <th>TransactionDate</th>\n",
              "      <th>ToFC</th>\n",
              "      <th>FromWH</th>\n",
              "      <th>Quantity</th>\n",
              "      <th>FCID</th>\n",
              "      <th>WHID</th>\n",
              "      <th>Cost</th>\n",
              "      <th>FCName</th>\n",
              "      <th>FCDemand</th>\n",
              "      <th>FCRegion</th>\n",
              "      <th>WHName</th>\n",
              "      <th>WHSupply</th>\n",
              "      <th>WHRegion</th>\n",
              "    </tr>\n",
              "  </thead>\n",
              "  <tbody>\n",
              "    <tr>\n",
              "      <th>1</th>\n",
              "      <td>2019-01-01 06:12:42</td>\n",
              "      <td>FC00007</td>\n",
              "      <td>WH00006</td>\n",
              "      <td>19</td>\n",
              "      <td>FC00007</td>\n",
              "      <td>WH00006</td>\n",
              "      <td>1.3</td>\n",
              "      <td>부산공장</td>\n",
              "      <td>25</td>\n",
              "      <td>남부</td>\n",
              "      <td>광주창고</td>\n",
              "      <td>65</td>\n",
              "      <td>남부</td>\n",
              "    </tr>\n",
              "    <tr>\n",
              "      <th>2</th>\n",
              "      <td>2019-01-01 06:32:32</td>\n",
              "      <td>FC00006</td>\n",
              "      <td>WH00004</td>\n",
              "      <td>31</td>\n",
              "      <td>FC00006</td>\n",
              "      <td>WH00004</td>\n",
              "      <td>0.9</td>\n",
              "      <td>광주공장</td>\n",
              "      <td>30</td>\n",
              "      <td>남부</td>\n",
              "      <td>대전창고</td>\n",
              "      <td>60</td>\n",
              "      <td>남부</td>\n",
              "    </tr>\n",
              "    <tr>\n",
              "      <th>5</th>\n",
              "      <td>2019-01-01 08:56:09</td>\n",
              "      <td>FC00005</td>\n",
              "      <td>WH00005</td>\n",
              "      <td>31</td>\n",
              "      <td>FC00005</td>\n",
              "      <td>WH00005</td>\n",
              "      <td>0.3</td>\n",
              "      <td>대구공장</td>\n",
              "      <td>21</td>\n",
              "      <td>남부</td>\n",
              "      <td>대구창고</td>\n",
              "      <td>72</td>\n",
              "      <td>남부</td>\n",
              "    </tr>\n",
              "    <tr>\n",
              "      <th>6</th>\n",
              "      <td>2019-01-01 09:00:15</td>\n",
              "      <td>FC00006</td>\n",
              "      <td>WH00006</td>\n",
              "      <td>33</td>\n",
              "      <td>FC00006</td>\n",
              "      <td>WH00006</td>\n",
              "      <td>0.7</td>\n",
              "      <td>광주공장</td>\n",
              "      <td>30</td>\n",
              "      <td>남부</td>\n",
              "      <td>광주창고</td>\n",
              "      <td>65</td>\n",
              "      <td>남부</td>\n",
              "    </tr>\n",
              "    <tr>\n",
              "      <th>9</th>\n",
              "      <td>2019-01-01 14:12:51</td>\n",
              "      <td>FC00006</td>\n",
              "      <td>WH00006</td>\n",
              "      <td>21</td>\n",
              "      <td>FC00006</td>\n",
              "      <td>WH00006</td>\n",
              "      <td>0.7</td>\n",
              "      <td>광주공장</td>\n",
              "      <td>30</td>\n",
              "      <td>남부</td>\n",
              "      <td>광주창고</td>\n",
              "      <td>65</td>\n",
              "      <td>남부</td>\n",
              "    </tr>\n",
              "    <tr>\n",
              "      <th>...</th>\n",
              "      <td>...</td>\n",
              "      <td>...</td>\n",
              "      <td>...</td>\n",
              "      <td>...</td>\n",
              "      <td>...</td>\n",
              "      <td>...</td>\n",
              "      <td>...</td>\n",
              "      <td>...</td>\n",
              "      <td>...</td>\n",
              "      <td>...</td>\n",
              "      <td>...</td>\n",
              "      <td>...</td>\n",
              "      <td>...</td>\n",
              "    </tr>\n",
              "    <tr>\n",
              "      <th>3993</th>\n",
              "      <td>2019-12-31 03:35:04</td>\n",
              "      <td>FC00006</td>\n",
              "      <td>WH00006</td>\n",
              "      <td>20</td>\n",
              "      <td>FC00006</td>\n",
              "      <td>WH00006</td>\n",
              "      <td>0.7</td>\n",
              "      <td>광주공장</td>\n",
              "      <td>30</td>\n",
              "      <td>남부</td>\n",
              "      <td>광주창고</td>\n",
              "      <td>65</td>\n",
              "      <td>남부</td>\n",
              "    </tr>\n",
              "    <tr>\n",
              "      <th>3994</th>\n",
              "      <td>2019-12-31 07:05:56</td>\n",
              "      <td>FC00005</td>\n",
              "      <td>WH00004</td>\n",
              "      <td>11</td>\n",
              "      <td>FC00005</td>\n",
              "      <td>WH00004</td>\n",
              "      <td>0.8</td>\n",
              "      <td>대구공장</td>\n",
              "      <td>21</td>\n",
              "      <td>남부</td>\n",
              "      <td>대전창고</td>\n",
              "      <td>60</td>\n",
              "      <td>남부</td>\n",
              "    </tr>\n",
              "    <tr>\n",
              "      <th>3995</th>\n",
              "      <td>2019-12-31 11:27:51</td>\n",
              "      <td>FC00007</td>\n",
              "      <td>WH00006</td>\n",
              "      <td>29</td>\n",
              "      <td>FC00007</td>\n",
              "      <td>WH00006</td>\n",
              "      <td>1.3</td>\n",
              "      <td>부산공장</td>\n",
              "      <td>25</td>\n",
              "      <td>남부</td>\n",
              "      <td>광주창고</td>\n",
              "      <td>65</td>\n",
              "      <td>남부</td>\n",
              "    </tr>\n",
              "    <tr>\n",
              "      <th>3998</th>\n",
              "      <td>2019-12-31 21:45:07</td>\n",
              "      <td>FC00005</td>\n",
              "      <td>WH00005</td>\n",
              "      <td>34</td>\n",
              "      <td>FC00005</td>\n",
              "      <td>WH00005</td>\n",
              "      <td>0.3</td>\n",
              "      <td>대구공장</td>\n",
              "      <td>21</td>\n",
              "      <td>남부</td>\n",
              "      <td>대구창고</td>\n",
              "      <td>72</td>\n",
              "      <td>남부</td>\n",
              "    </tr>\n",
              "    <tr>\n",
              "      <th>3999</th>\n",
              "      <td>2019-12-31 23:19:37</td>\n",
              "      <td>FC00005</td>\n",
              "      <td>WH00005</td>\n",
              "      <td>16</td>\n",
              "      <td>FC00005</td>\n",
              "      <td>WH00005</td>\n",
              "      <td>0.3</td>\n",
              "      <td>대구공장</td>\n",
              "      <td>21</td>\n",
              "      <td>남부</td>\n",
              "      <td>대구창고</td>\n",
              "      <td>72</td>\n",
              "      <td>남부</td>\n",
              "    </tr>\n",
              "  </tbody>\n",
              "</table>\n",
              "<p>2000 rows × 13 columns</p>\n",
              "</div>"
            ],
            "text/plain": [
              "          TransactionDate     ToFC   FromWH  ...  WHName WHSupply WHRegion\n",
              "1     2019-01-01 06:12:42  FC00007  WH00006  ...    광주창고       65       남부\n",
              "2     2019-01-01 06:32:32  FC00006  WH00004  ...    대전창고       60       남부\n",
              "5     2019-01-01 08:56:09  FC00005  WH00005  ...    대구창고       72       남부\n",
              "6     2019-01-01 09:00:15  FC00006  WH00006  ...    광주창고       65       남부\n",
              "9     2019-01-01 14:12:51  FC00006  WH00006  ...    광주창고       65       남부\n",
              "...                   ...      ...      ...  ...     ...      ...      ...\n",
              "3993  2019-12-31 03:35:04  FC00006  WH00006  ...    광주창고       65       남부\n",
              "3994  2019-12-31 07:05:56  FC00005  WH00004  ...    대전창고       60       남부\n",
              "3995  2019-12-31 11:27:51  FC00007  WH00006  ...    광주창고       65       남부\n",
              "3998  2019-12-31 21:45:07  FC00005  WH00005  ...    대구창고       72       남부\n",
              "3999  2019-12-31 23:19:37  FC00005  WH00005  ...    대구창고       72       남부\n",
              "\n",
              "[2000 rows x 13 columns]"
            ]
          },
          "metadata": {
            "tags": []
          },
          "execution_count": 10
        }
      ]
    },
    {
      "cell_type": "code",
      "metadata": {
        "colab": {
          "base_uri": "https://localhost:8080/"
        },
        "id": "sHBPy2BeYXHe",
        "outputId": "d04dd00e-0856-4256-996b-904ee3dc6989"
      },
      "source": [
        "# 현재 운송량과 비용을 확인해 보자 \n",
        "\n",
        "print(north['Cost'].sum())\n",
        "print(south['Cost'].sum())\n",
        "print()\n",
        "print(north['Quantity'].sum())\n",
        "print(south['Quantity'].sum())"
      ],
      "execution_count": null,
      "outputs": [
        {
          "output_type": "stream",
          "text": [
            "2189.3\n",
            "2062.0\n",
            "\n",
            "49146\n",
            "50214\n"
          ],
          "name": "stdout"
        }
      ]
    },
    {
      "cell_type": "code",
      "metadata": {
        "colab": {
          "base_uri": "https://localhost:8080/"
        },
        "id": "kVWhZBkwZAh2",
        "outputId": "de20bd5e-1a44-4698-c994-2e250261c7a7"
      },
      "source": [
        "# Quiz \n",
        "\n",
        "#북부와 남부지사의 부품 1개당 운송비용 \n",
        "\n",
        "# 북부 지사의 부품 1개당 운송비용 : ? 원     총액합계 / 갯수의 합계\n",
        "# 남부 지사의 부품 1개당 운송비용 : ? 원\n",
        "\n",
        "tmp = (north['Cost'].sum() / north['Quantity'].sum()) * 10000\n",
        "print(\"북부 지사의 부품 1개당 운송비용 : \" + str(int(tmp)) +\"원\")\n",
        "\n",
        "tmp = (south['Cost'].sum() / south['Quantity'].sum()) * 10000\n",
        "print(\"남부 지사의 부품 1개당 운송비용 : \" + str(int(tmp)) +\"원\")\n",
        "\n",
        "# 각 지사의 평균 운송비용은 거의 같다고 볼수 있으며 북부지사보다 남부지사 쪽이 \n",
        "# 효율이 높게 부품을 운송하고 있다는 것으로 파악할 수 있다. "
      ],
      "execution_count": null,
      "outputs": [
        {
          "output_type": "stream",
          "text": [
            "북부 지사의 부품 1개당 운송비용 : 445원\n",
            "남부 지사의 부품 1개당 운송비용 : 410원\n"
          ],
          "name": "stdout"
        }
      ]
    },
    {
      "cell_type": "code",
      "metadata": {
        "id": "Vhr91X7rcqWc"
      },
      "source": [
        "# 네트워크를 가시화 해보자  주로 사용되는 유명한 라이브러리로 NetworkX 가 있다. \n",
        "\n",
        "\n",
        "# NetworkX 기초 사용법\n",
        "import networkx as nx\n",
        "import matplotlib.pyplot as plt\n"
      ],
      "execution_count": null,
      "outputs": []
    },
    {
      "cell_type": "code",
      "metadata": {
        "colab": {
          "base_uri": "https://localhost:8080/",
          "height": 319
        },
        "id": "_C8NlgCSdV19",
        "outputId": "db009e2b-2e68-4446-c62f-f0db17e5f180"
      },
      "source": [
        "# 그래프 객체 생성\n",
        "G = nx.Graph()\n",
        "\n",
        "# 노드 설정\n",
        "G.add_node(\"nodeA\")\n",
        "G.add_node(\"nodeB\")\n",
        "G.add_node(\"nodeC\")\n",
        "\n",
        "# 엣지 설정\n",
        "G.add_edge(\"nodeA\", \"nodeB\")\n",
        "G.add_edge(\"nodeA\", \"nodeC\")\n",
        "G.add_edge(\"nodeB\", \"nodeC\")\n",
        "\n",
        "# 좌표 설정\n",
        "pos={}  # 딕셔너리 형태\n",
        "pos[\"nodeA\"]=(0,0)\n",
        "pos[\"nodeB\"]=(1,1)\n",
        "pos[\"nodeC\"]=(0,1)\n",
        "\n",
        "# 그리기\n",
        "nx.draw(G, pos)\n",
        "\n",
        "plt.show()"
      ],
      "execution_count": null,
      "outputs": [
        {
          "output_type": "display_data",
          "data": {
            "image/png": "[encoded data removed]",
            "text/plain": [
              "<Figure size 432x288 with 1 Axes>"
            ]
          },
          "metadata": {
            "tags": []
          }
        }
      ]
    },
    {
      "cell_type": "code",
      "metadata": {
        "colab": {
          "base_uri": "https://localhost:8080/",
          "height": 319
        },
        "id": "rM6q19hPemqU",
        "outputId": "9b104297-b8f9-4ba3-d12b-31dadcbd16da"
      },
      "source": [
        "# 그래프 객체 생성\n",
        "G = nx.Graph()\n",
        "\n",
        "# 노드 설정\n",
        "G.add_node(\"nodeA\")\n",
        "G.add_node(\"nodeB\")\n",
        "G.add_node(\"nodeC\")\n",
        "G.add_node(\"nodeD\")\n",
        "\n",
        "# 엣지 설정\n",
        "G.add_edge(\"nodeA\", \"nodeB\")\n",
        "G.add_edge(\"nodeA\", \"nodeC\")\n",
        "G.add_edge(\"nodeB\", \"nodeC\")\n",
        "G.add_edge(\"nodeA\", \"nodeD\")\n",
        "\n",
        "# 좌표 설정\n",
        "pos={}\n",
        "pos[\"nodeA\"]=(0,0)\n",
        "pos[\"nodeB\"]=(1,1)\n",
        "pos[\"nodeC\"]=(0,1)\n",
        "pos[\"nodeD\"]=(1,0)\n",
        "\n",
        "\n",
        "# 그리기\n",
        "nx.draw(G, pos, with_labels=True)\n",
        "\n",
        "plt.show()"
      ],
      "execution_count": null,
      "outputs": [
        {
          "output_type": "display_data",
          "data": {
            "image/png": "[encoded data removed]",
            "text/plain": [
              "<Figure size 432x288 with 1 Axes>"
            ]
          },
          "metadata": {
            "tags": []
          }
        }
      ]
    },
    {
      "cell_type": "code",
      "metadata": {
        "id": "q_cEPIiQfMu8"
      },
      "source": [
        "# 경로에 가중치를 부여하자 - 엣지의 굵기를 조정\n",
        "# 가중치 데이터를 읽어와서 부여하는 방법\n",
        "\n",
        "import pandas as pd\n",
        "import numpy as np\n",
        "import matplotlib.pyplot as plt\n",
        "import networkx as nx\n",
        "\n",
        "\n"
      ],
      "execution_count": null,
      "outputs": []
    },
    {
      "cell_type": "code",
      "metadata": {
        "id": "AFU1KDrIfwH0"
      },
      "source": [
        "df_w = pd.read_csv('network_weight.csv')\n",
        "df_p = pd.read_csv('network_pos.csv')"
      ],
      "execution_count": null,
      "outputs": []
    },
    {
      "cell_type": "code",
      "metadata": {
        "colab": {
          "base_uri": "https://localhost:8080/",
          "height": 198
        },
        "id": "Ef1YSDW8gAAc",
        "outputId": "a7e01cf7-1dc6-4801-8989-a9479748cec1"
      },
      "source": [
        "df_w # 가중치"
      ],
      "execution_count": null,
      "outputs": [
        {
          "output_type": "execute_result",
          "data": {
            "text/html": [
              "<div>\n",
              "<style scoped>\n",
              "    .dataframe tbody tr th:only-of-type {\n",
              "        vertical-align: middle;\n",
              "    }\n",
              "\n",
              "    .dataframe tbody tr th {\n",
              "        vertical-align: top;\n",
              "    }\n",
              "\n",
              "    .dataframe thead th {\n",
              "        text-align: right;\n",
              "    }\n",
              "</style>\n",
              "<table border=\"1\" class=\"dataframe\">\n",
              "  <thead>\n",
              "    <tr style=\"text-align: right;\">\n",
              "      <th></th>\n",
              "      <th>A</th>\n",
              "      <th>B</th>\n",
              "      <th>C</th>\n",
              "      <th>D</th>\n",
              "      <th>E</th>\n",
              "    </tr>\n",
              "  </thead>\n",
              "  <tbody>\n",
              "    <tr>\n",
              "      <th>0</th>\n",
              "      <td>0.639921</td>\n",
              "      <td>0.143353</td>\n",
              "      <td>0.944669</td>\n",
              "      <td>0.521848</td>\n",
              "      <td>0.000000</td>\n",
              "    </tr>\n",
              "    <tr>\n",
              "      <th>1</th>\n",
              "      <td>0.264556</td>\n",
              "      <td>0.000000</td>\n",
              "      <td>0.456150</td>\n",
              "      <td>0.568434</td>\n",
              "      <td>0.000000</td>\n",
              "    </tr>\n",
              "    <tr>\n",
              "      <th>2</th>\n",
              "      <td>0.617635</td>\n",
              "      <td>0.612096</td>\n",
              "      <td>0.616934</td>\n",
              "      <td>0.943748</td>\n",
              "      <td>0.000000</td>\n",
              "    </tr>\n",
              "    <tr>\n",
              "      <th>3</th>\n",
              "      <td>0.000000</td>\n",
              "      <td>0.000000</td>\n",
              "      <td>0.697631</td>\n",
              "      <td>0.060225</td>\n",
              "      <td>0.666767</td>\n",
              "    </tr>\n",
              "    <tr>\n",
              "      <th>4</th>\n",
              "      <td>0.670638</td>\n",
              "      <td>0.210383</td>\n",
              "      <td>0.000000</td>\n",
              "      <td>0.315428</td>\n",
              "      <td>0.000000</td>\n",
              "    </tr>\n",
              "  </tbody>\n",
              "</table>\n",
              "</div>"
            ],
            "text/plain": [
              "          A         B         C         D         E\n",
              "0  0.639921  0.143353  0.944669  0.521848  0.000000\n",
              "1  0.264556  0.000000  0.456150  0.568434  0.000000\n",
              "2  0.617635  0.612096  0.616934  0.943748  0.000000\n",
              "3  0.000000  0.000000  0.697631  0.060225  0.666767\n",
              "4  0.670638  0.210383  0.000000  0.315428  0.000000"
            ]
          },
          "metadata": {
            "tags": []
          },
          "execution_count": 21
        }
      ]
    },
    {
      "cell_type": "code",
      "metadata": {
        "colab": {
          "base_uri": "https://localhost:8080/",
          "height": 108
        },
        "id": "KuAtwi41gDCj",
        "outputId": "a01565d6-3cb2-4367-faac-6ad4bf88618c"
      },
      "source": [
        "df_p   # 위치  (노드)"
      ],
      "execution_count": null,
      "outputs": [
        {
          "output_type": "execute_result",
          "data": {
            "text/html": [
              "<div>\n",
              "<style scoped>\n",
              "    .dataframe tbody tr th:only-of-type {\n",
              "        vertical-align: middle;\n",
              "    }\n",
              "\n",
              "    .dataframe tbody tr th {\n",
              "        vertical-align: top;\n",
              "    }\n",
              "\n",
              "    .dataframe thead th {\n",
              "        text-align: right;\n",
              "    }\n",
              "</style>\n",
              "<table border=\"1\" class=\"dataframe\">\n",
              "  <thead>\n",
              "    <tr style=\"text-align: right;\">\n",
              "      <th></th>\n",
              "      <th>A</th>\n",
              "      <th>B</th>\n",
              "      <th>C</th>\n",
              "      <th>D</th>\n",
              "      <th>E</th>\n",
              "    </tr>\n",
              "  </thead>\n",
              "  <tbody>\n",
              "    <tr>\n",
              "      <th>0</th>\n",
              "      <td>0</td>\n",
              "      <td>0</td>\n",
              "      <td>2</td>\n",
              "      <td>2</td>\n",
              "      <td>1</td>\n",
              "    </tr>\n",
              "    <tr>\n",
              "      <th>1</th>\n",
              "      <td>0</td>\n",
              "      <td>2</td>\n",
              "      <td>0</td>\n",
              "      <td>2</td>\n",
              "      <td>1</td>\n",
              "    </tr>\n",
              "  </tbody>\n",
              "</table>\n",
              "</div>"
            ],
            "text/plain": [
              "   A  B  C  D  E\n",
              "0  0  0  2  2  1\n",
              "1  0  2  0  2  1"
            ]
          },
          "metadata": {
            "tags": []
          },
          "execution_count": 22
        }
      ]
    },
    {
      "cell_type": "code",
      "metadata": {
        "id": "mWZqdWQigXz3"
      },
      "source": [
        "# 가중치 리스트화 \n",
        "\n",
        "edge_weights = []\n",
        "\n",
        "for i in range(len(df_w)):\n",
        "  for j in range(len(df_w.columns)):\n",
        "    edge_weights.append(df_w.iloc[i][j]*10)"
      ],
      "execution_count": null,
      "outputs": []
    },
    {
      "cell_type": "code",
      "metadata": {
        "colab": {
          "base_uri": "https://localhost:8080/"
        },
        "id": "4Wcecb6ohnP_",
        "outputId": "9acd4420-6f85-451b-d0b7-aa46ee1a3162"
      },
      "source": [
        "edge_weights"
      ],
      "execution_count": null,
      "outputs": [
        {
          "output_type": "execute_result",
          "data": {
            "text/plain": [
              "[6.39921,\n",
              " 1.4335300000000002,\n",
              " 9.44669,\n",
              " 5.21848,\n",
              " 0.0,\n",
              " 2.64556,\n",
              " 0.0,\n",
              " 4.5615,\n",
              " 5.68434,\n",
              " 0.0,\n",
              " 6.17635,\n",
              " 6.12096,\n",
              " 6.16934,\n",
              " 9.437479999999999,\n",
              " 0.0,\n",
              " 0.0,\n",
              " 0.0,\n",
              " 6.97631,\n",
              " 0.60225,\n",
              " 6.66767,\n",
              " 6.706379999999999,\n",
              " 2.10383,\n",
              " 0.0,\n",
              " 3.1542800000000004,\n",
              " 0.0]"
            ]
          },
          "metadata": {
            "tags": []
          },
          "execution_count": 25
        }
      ]
    },
    {
      "cell_type": "code",
      "metadata": {
        "id": "QjtzAV9Bh1vV"
      },
      "source": [
        "# 노드 설정\n",
        "G = nx.Graph()\n",
        "for i in range(len(df_w.columns)):\n",
        "  G.add_node(df_w.columns[i])\n",
        "\n",
        "# 엣지 설정\n",
        "for i in range(len(df_w.columns)):# A,B,C,D,E\n",
        "  for j in range(len(df_w.columns)): # A,B,C,D,E\n",
        "    G.add_edge(df_w.columns[i],df_w.columns[j])\n",
        "\n",
        "# 좌표 설정\n",
        "pos = {}\n",
        "for i in range(len(df_w.columns)):\n",
        "  node = df_w.columns[i]\n",
        "  pos[node] = (df_p[node][0],df_p[node][1])    "
      ],
      "execution_count": null,
      "outputs": []
    },
    {
      "cell_type": "code",
      "metadata": {
        "colab": {
          "base_uri": "https://localhost:8080/",
          "height": 319
        },
        "id": "hA7NKie_igPS",
        "outputId": "a2ca578d-206a-4e72-aad1-40ea0918e4c7"
      },
      "source": [
        "nx.draw(G, pos, with_labels=True, font_size = 16, node_size=1000, node_color='k', font_color='w', width=edge_weights)"
      ],
      "execution_count": null,
      "outputs": [
        {
          "output_type": "display_data",
          "data": {
            "image/png": "[encoded data removed]",
            "text/plain": [
              "<Figure size 432x288 with 1 Axes>"
            ]
          },
          "metadata": {
            "tags": []
          }
        }
      ]
    },
    {
      "cell_type": "code",
      "metadata": {
        "id": "tajASj2jkF45"
      },
      "source": [
        "# trans_route 운송경로\n",
        "# trans_route_pos 창고와 공장의 위치정보\n",
        "# trans_cost 운송비용 \n",
        "# demand 생산량에 대한 수요\n",
        "# supply 공급 가능한 최대 부품 수 \n",
        "\n",
        "\n",
        "# trans_route_new 새로 설계한 운송 경로 \n",
        "\n",
        "# 어떤 제품의 부품을 저장한 창고 W1,W2,W3, 조립 공장 F1 F2 F3 F4 로 \n",
        "# 필요한 양의 부품을 운송한다. 되도록이면 최소의 비용으로 부품을 \n",
        "# 운송하고 싶지만 그러기 위해서는 어떤 창고에서 어떤 공장으로 \n",
        "# 어느 정도 양을 운송해야 하는 지를 검토해야  한다. \n"
      ],
      "execution_count": null,
      "outputs": []
    },
    {
      "cell_type": "code",
      "metadata": {
        "colab": {
          "base_uri": "https://localhost:8080/",
          "height": 171
        },
        "id": "0MRHPpJ_LmIS",
        "outputId": "5afcc730-2e97-49ba-b093-e378effaeafa"
      },
      "source": [
        "# 먼저 어느 창고에서 어느 공장으로 어느 정도의 양을 \n",
        "# 운송했는지를 기록한 파일 trans_route.csv 가져오자. \n",
        "\n",
        "import pandas as pd\n",
        "df_tr = pd.read_csv('trans_route.csv', index_col=\"공장\")\n",
        "df_tr.head()"
      ],
      "execution_count": null,
      "outputs": [
        {
          "output_type": "execute_result",
          "data": {
            "text/html": [
              "<div>\n",
              "<style scoped>\n",
              "    .dataframe tbody tr th:only-of-type {\n",
              "        vertical-align: middle;\n",
              "    }\n",
              "\n",
              "    .dataframe tbody tr th {\n",
              "        vertical-align: top;\n",
              "    }\n",
              "\n",
              "    .dataframe thead th {\n",
              "        text-align: right;\n",
              "    }\n",
              "</style>\n",
              "<table border=\"1\" class=\"dataframe\">\n",
              "  <thead>\n",
              "    <tr style=\"text-align: right;\">\n",
              "      <th></th>\n",
              "      <th>F1</th>\n",
              "      <th>F2</th>\n",
              "      <th>F3</th>\n",
              "      <th>F4</th>\n",
              "    </tr>\n",
              "    <tr>\n",
              "      <th>공장</th>\n",
              "      <th></th>\n",
              "      <th></th>\n",
              "      <th></th>\n",
              "      <th></th>\n",
              "    </tr>\n",
              "  </thead>\n",
              "  <tbody>\n",
              "    <tr>\n",
              "      <th>W1</th>\n",
              "      <td>15</td>\n",
              "      <td>15</td>\n",
              "      <td>0</td>\n",
              "      <td>5</td>\n",
              "    </tr>\n",
              "    <tr>\n",
              "      <th>W2</th>\n",
              "      <td>5</td>\n",
              "      <td>0</td>\n",
              "      <td>30</td>\n",
              "      <td>5</td>\n",
              "    </tr>\n",
              "    <tr>\n",
              "      <th>W3</th>\n",
              "      <td>10</td>\n",
              "      <td>15</td>\n",
              "      <td>2</td>\n",
              "      <td>15</td>\n",
              "    </tr>\n",
              "  </tbody>\n",
              "</table>\n",
              "</div>"
            ],
            "text/plain": [
              "    F1  F2  F3  F4\n",
              "공장                \n",
              "W1  15  15   0   5\n",
              "W2   5   0  30   5\n",
              "W3  10  15   2  15"
            ]
          },
          "metadata": {
            "tags": []
          },
          "execution_count": 4
        }
      ]
    },
    {
      "cell_type": "code",
      "metadata": {
        "id": "tjcYtDexNFnv"
      },
      "source": [
        "import pandas as pd\n",
        "import matplotlib.pyplot as plt\n",
        "import networkx as nx\n",
        "\n",
        "df_tr = pd.read_csv('trans_route.csv', index_col=\"공장\")\n",
        "df_pos = pd.read_csv('trans_route_pos.csv')\n"
      ],
      "execution_count": null,
      "outputs": []
    },
    {
      "cell_type": "code",
      "metadata": {
        "colab": {
          "base_uri": "https://localhost:8080/",
          "height": 109
        },
        "id": "pnmLRUtVNoG4",
        "outputId": "52443cf0-500b-4111-d095-6ac7a5f94c93"
      },
      "source": [
        "df_pos  # trans_route_pos 창고와 공장의 위치정보"
      ],
      "execution_count": null,
      "outputs": [
        {
          "output_type": "execute_result",
          "data": {
            "text/html": [
              "<div>\n",
              "<style scoped>\n",
              "    .dataframe tbody tr th:only-of-type {\n",
              "        vertical-align: middle;\n",
              "    }\n",
              "\n",
              "    .dataframe tbody tr th {\n",
              "        vertical-align: top;\n",
              "    }\n",
              "\n",
              "    .dataframe thead th {\n",
              "        text-align: right;\n",
              "    }\n",
              "</style>\n",
              "<table border=\"1\" class=\"dataframe\">\n",
              "  <thead>\n",
              "    <tr style=\"text-align: right;\">\n",
              "      <th></th>\n",
              "      <th>W1</th>\n",
              "      <th>W2</th>\n",
              "      <th>W3</th>\n",
              "      <th>F1</th>\n",
              "      <th>F2</th>\n",
              "      <th>F3</th>\n",
              "      <th>F4</th>\n",
              "    </tr>\n",
              "  </thead>\n",
              "  <tbody>\n",
              "    <tr>\n",
              "      <th>0</th>\n",
              "      <td>0</td>\n",
              "      <td>0</td>\n",
              "      <td>0</td>\n",
              "      <td>4.0</td>\n",
              "      <td>4.0</td>\n",
              "      <td>4.0</td>\n",
              "      <td>4.0</td>\n",
              "    </tr>\n",
              "    <tr>\n",
              "      <th>1</th>\n",
              "      <td>1</td>\n",
              "      <td>2</td>\n",
              "      <td>3</td>\n",
              "      <td>0.5</td>\n",
              "      <td>1.5</td>\n",
              "      <td>2.5</td>\n",
              "      <td>3.5</td>\n",
              "    </tr>\n",
              "  </tbody>\n",
              "</table>\n",
              "</div>"
            ],
            "text/plain": [
              "   W1  W2  W3   F1   F2   F3   F4\n",
              "0   0   0   0  4.0  4.0  4.0  4.0\n",
              "1   1   2   3  0.5  1.5  2.5  3.5"
            ]
          },
          "metadata": {
            "tags": []
          },
          "execution_count": 7
        }
      ]
    },
    {
      "cell_type": "code",
      "metadata": {
        "id": "mv0iWP27N8q0"
      },
      "source": [
        "G = nx.Graph()"
      ],
      "execution_count": null,
      "outputs": []
    },
    {
      "cell_type": "code",
      "metadata": {
        "id": "lWFKWpvDOIXH"
      },
      "source": [
        "# 노드 설정 (공장, 창고)\n",
        "for i in range(len(df_pos.columns)):\n",
        "  G.add_node(df_pos.columns[i])\n",
        "\n"
      ],
      "execution_count": null,
      "outputs": []
    },
    {
      "cell_type": "code",
      "metadata": {
        "id": "YqeNUpYEOzCr"
      },
      "source": [
        "# 엣지 설정 & 가중치\n",
        "\n",
        "num_pre = 0\n",
        "edge_weights = []\n",
        "size = 0.1\n",
        "for i in range(len(df_pos.columns)):\n",
        "    for j in range(len(df_pos.columns)):\n",
        "        if not (i==j):\n",
        "            # 엣지 추가\n",
        "            G.add_edge(df_pos.columns[i],df_pos.columns[j])\n",
        "            # 엣지 가중치 추가\n",
        "            if num_pre<len(G.edges):\n",
        "                num_pre = len(G.edges)\n",
        "                weight = 0\n",
        "                if (df_pos.columns[i] in df_tr.columns)and(df_pos.columns[j] in df_tr.index):\n",
        "                    if df_tr[df_pos.columns[i]][df_pos.columns[j]]:\n",
        "                        weight = df_tr[df_pos.columns[i]][df_pos.columns[j]]*size\n",
        "                elif(df_pos.columns[j] in df_tr.columns)and(df_pos.columns[i] in df_tr.index):\n",
        "                    if df_tr[df_pos.columns[j]][df_pos.columns[i]]:\n",
        "                        weight = df_tr[df_pos.columns[j]][df_pos.columns[i]]*size\n",
        "                edge_weights.append(weight)\n"
      ],
      "execution_count": null,
      "outputs": []
    },
    {
      "cell_type": "code",
      "metadata": {
        "id": "NDd7UP5VPGqV"
      },
      "source": [
        "# 좌표 설정 \n",
        "pos = {}\n",
        "for i in range(len(df_pos.columns)):\n",
        "  node = df_pos.columns[i]\n",
        "  pos[node] = (df_pos[node][0],df_pos[node][1])\n",
        "\n"
      ],
      "execution_count": null,
      "outputs": []
    },
    {
      "cell_type": "code",
      "metadata": {
        "colab": {
          "base_uri": "https://localhost:8080/",
          "height": 319
        },
        "id": "XKSIgINAP2Rn",
        "outputId": "9035e434-88ec-4647-ce58-fc1e946a5ddf"
      },
      "source": [
        "# 그리기\n",
        "\n",
        "nx.draw(G, pos, with_labels=True, font_size = 16, node_size=1000, node_color='k', font_color='w', width=edge_weights)\n",
        "plt.show()"
      ],
      "execution_count": null,
      "outputs": [
        {
          "output_type": "display_data",
          "data": {
            "image/png": "[encoded data removed]",
            "text/plain": [
              "<Figure size 432x288 with 1 Axes>"
            ]
          },
          "metadata": {
            "tags": []
          }
        }
      ]
    },
    {
      "cell_type": "code",
      "metadata": {
        "id": "deAorqrMYOwL"
      },
      "source": [
        "# 운송 경로 정보의 창고와 공장을 노드로 표현하기 위해서 위치 정보를 가지고 있는 \n",
        "# trans_route_pos.csv 를 읽어 파악하기 쉽게 왼쪽에는 W1,W2, W3 오른쪽에는 F1, F2, F3, F4\n",
        "# 를 배치하였다.\n",
        "\n",
        "# 여기서 주목해야 할 점은 어느 창고에서 어느 공장으로든 골고루 경로가 보이고 있다. \n",
        "# 운송 비용을 생각하면 운송 경로는 어느정도 집중되는 편이 효율을 높일 수가 있을 것이다. \n",
        "# 개선의 여지를 볼 수 있다. "
      ],
      "execution_count": null,
      "outputs": []
    },
    {
      "cell_type": "code",
      "metadata": {
        "id": "0AlRs077ZP4h"
      },
      "source": [
        "# 운송 비용 계산 함수를 작성하자. \n",
        "\n",
        "\n",
        "# 위에서 운송 경로를 가시화 함으로써 '개선의 여지가 있을 수도 있다.' \n",
        "# 가설을 세울 수가 있었다. \n",
        "\n",
        "# 현재 직면한 운송 경로를 최적하기 위한 방법을 생각해 보자\n",
        "# '운송비용을 낮출 효율적인 운송경로가 존재한다. '라는 가설을 입증하고\n",
        "# 운송 경로를 최적화 하기 위해 먼저 운송 비용을 계산 할 함수를 작성하자 "
      ],
      "execution_count": null,
      "outputs": []
    },
    {
      "cell_type": "code",
      "metadata": {
        "id": "RiXgU-BWaL5n"
      },
      "source": [
        "import pandas as pd\n",
        "\n",
        "df_tr = pd.read_csv('trans_route.csv', index_col=\"공장\")\n",
        "df_tc = pd.read_csv('trans_cost.csv', index_col=\"공장\")\n"
      ],
      "execution_count": null,
      "outputs": []
    },
    {
      "cell_type": "code",
      "metadata": {
        "colab": {
          "base_uri": "https://localhost:8080/",
          "height": 171
        },
        "id": "d6-DrYgfaRmr",
        "outputId": "06f92ad0-d804-4d28-ff6e-2cc8125f824f"
      },
      "source": [
        "df_tc"
      ],
      "execution_count": null,
      "outputs": [
        {
          "output_type": "execute_result",
          "data": {
            "text/html": [
              "<div>\n",
              "<style scoped>\n",
              "    .dataframe tbody tr th:only-of-type {\n",
              "        vertical-align: middle;\n",
              "    }\n",
              "\n",
              "    .dataframe tbody tr th {\n",
              "        vertical-align: top;\n",
              "    }\n",
              "\n",
              "    .dataframe thead th {\n",
              "        text-align: right;\n",
              "    }\n",
              "</style>\n",
              "<table border=\"1\" class=\"dataframe\">\n",
              "  <thead>\n",
              "    <tr style=\"text-align: right;\">\n",
              "      <th></th>\n",
              "      <th>F1</th>\n",
              "      <th>F2</th>\n",
              "      <th>F3</th>\n",
              "      <th>F4</th>\n",
              "    </tr>\n",
              "    <tr>\n",
              "      <th>공장</th>\n",
              "      <th></th>\n",
              "      <th></th>\n",
              "      <th></th>\n",
              "      <th></th>\n",
              "    </tr>\n",
              "  </thead>\n",
              "  <tbody>\n",
              "    <tr>\n",
              "      <th>W1</th>\n",
              "      <td>10</td>\n",
              "      <td>10</td>\n",
              "      <td>11</td>\n",
              "      <td>27</td>\n",
              "    </tr>\n",
              "    <tr>\n",
              "      <th>W2</th>\n",
              "      <td>18</td>\n",
              "      <td>21</td>\n",
              "      <td>12</td>\n",
              "      <td>14</td>\n",
              "    </tr>\n",
              "    <tr>\n",
              "      <th>W3</th>\n",
              "      <td>15</td>\n",
              "      <td>12</td>\n",
              "      <td>14</td>\n",
              "      <td>12</td>\n",
              "    </tr>\n",
              "  </tbody>\n",
              "</table>\n",
              "</div>"
            ],
            "text/plain": [
              "    F1  F2  F3  F4\n",
              "공장                \n",
              "W1  10  10  11  27\n",
              "W2  18  21  12  14\n",
              "W3  15  12  14  12"
            ]
          },
          "metadata": {
            "tags": []
          },
          "execution_count": 25
        }
      ]
    },
    {
      "cell_type": "code",
      "metadata": {
        "colab": {
          "base_uri": "https://localhost:8080/",
          "height": 171
        },
        "id": "Y7YCXG7Ua4N9",
        "outputId": "43b59803-54d1-4d14-e9ee-6f73749c3bfb"
      },
      "source": [
        "df_tr\n"
      ],
      "execution_count": null,
      "outputs": [
        {
          "output_type": "execute_result",
          "data": {
            "text/html": [
              "<div>\n",
              "<style scoped>\n",
              "    .dataframe tbody tr th:only-of-type {\n",
              "        vertical-align: middle;\n",
              "    }\n",
              "\n",
              "    .dataframe tbody tr th {\n",
              "        vertical-align: top;\n",
              "    }\n",
              "\n",
              "    .dataframe thead th {\n",
              "        text-align: right;\n",
              "    }\n",
              "</style>\n",
              "<table border=\"1\" class=\"dataframe\">\n",
              "  <thead>\n",
              "    <tr style=\"text-align: right;\">\n",
              "      <th></th>\n",
              "      <th>F1</th>\n",
              "      <th>F2</th>\n",
              "      <th>F3</th>\n",
              "      <th>F4</th>\n",
              "    </tr>\n",
              "    <tr>\n",
              "      <th>공장</th>\n",
              "      <th></th>\n",
              "      <th></th>\n",
              "      <th></th>\n",
              "      <th></th>\n",
              "    </tr>\n",
              "  </thead>\n",
              "  <tbody>\n",
              "    <tr>\n",
              "      <th>W1</th>\n",
              "      <td>15</td>\n",
              "      <td>15</td>\n",
              "      <td>0</td>\n",
              "      <td>5</td>\n",
              "    </tr>\n",
              "    <tr>\n",
              "      <th>W2</th>\n",
              "      <td>5</td>\n",
              "      <td>0</td>\n",
              "      <td>30</td>\n",
              "      <td>5</td>\n",
              "    </tr>\n",
              "    <tr>\n",
              "      <th>W3</th>\n",
              "      <td>10</td>\n",
              "      <td>15</td>\n",
              "      <td>2</td>\n",
              "      <td>15</td>\n",
              "    </tr>\n",
              "  </tbody>\n",
              "</table>\n",
              "</div>"
            ],
            "text/plain": [
              "    F1  F2  F3  F4\n",
              "공장                \n",
              "W1  15  15   0   5\n",
              "W2   5   0  30   5\n",
              "W3  10  15   2  15"
            ]
          },
          "metadata": {
            "tags": []
          },
          "execution_count": 26
        }
      ]
    },
    {
      "cell_type": "code",
      "metadata": {
        "colab": {
          "base_uri": "https://localhost:8080/"
        },
        "id": "FMi2LnEHawQW",
        "outputId": "58a069f1-7ac3-4596-8bb1-729d642e0ebd"
      },
      "source": [
        "def trans_cost(df_tr, df_tc):\n",
        "\n",
        "  cost = 0\n",
        "  for i in range(len(df_tc.index)) : #W1, W2, W3    3번\n",
        "    for j in range(len(df_tr.columns)) :  # F1\tF2\tF3\tF4  4번\n",
        "      cost += df_tr.iloc[i][j] * df_tc.iloc[i][j]\n",
        "  return cost\n",
        "\n",
        "print(\"총 운송 비용: \" + str(trans_cost(df_tr, df_tc)))\n",
        "\n",
        "\n",
        "# 운송비용 계산은 운송 경로의 운송량과 비용을 곱하고 전부 더해서 계산한다. \n",
        "# 현재 총 운송비용은 1493(만원)이다. "
      ],
      "execution_count": null,
      "outputs": [
        {
          "output_type": "stream",
          "text": [
            "총 운송 비용: 1493\n"
          ],
          "name": "stdout"
        }
      ]
    },
    {
      "cell_type": "code",
      "metadata": {
        "id": "xaFusRykddIT"
      },
      "source": [
        "# 제약 조건 만들기...\n",
        "\n",
        "# 각 창고는 공급 가능한 부품 수에 제한이 있고 각 공장은 채워야할 최소한의 제품 제조량이 있다. \n",
        "# 각각 supply.csv와 demand.csv 를 읽어서 제약 조건을 만족하는지 확인하자. "
      ],
      "execution_count": null,
      "outputs": []
    },
    {
      "cell_type": "code",
      "metadata": {
        "id": "84pJsUUGeO-c"
      },
      "source": [
        "import pandas as pd\n",
        "\n",
        "# 데이터 불러오기\n",
        "df_tr = pd.read_csv('trans_route.csv', index_col = '공장')\n",
        "df_demand = pd.read_csv('demand.csv')\n",
        "df_supply = pd.read_csv('supply.csv')"
      ],
      "execution_count": null,
      "outputs": []
    },
    {
      "cell_type": "code",
      "metadata": {
        "colab": {
          "base_uri": "https://localhost:8080/",
          "height": 79
        },
        "id": "Aeaxk59qe0mg",
        "outputId": "2c84cef2-fc49-4dec-f003-c427b8376921"
      },
      "source": [
        "df_supply"
      ],
      "execution_count": null,
      "outputs": [
        {
          "output_type": "execute_result",
          "data": {
            "text/html": [
              "<div>\n",
              "<style scoped>\n",
              "    .dataframe tbody tr th:only-of-type {\n",
              "        vertical-align: middle;\n",
              "    }\n",
              "\n",
              "    .dataframe tbody tr th {\n",
              "        vertical-align: top;\n",
              "    }\n",
              "\n",
              "    .dataframe thead th {\n",
              "        text-align: right;\n",
              "    }\n",
              "</style>\n",
              "<table border=\"1\" class=\"dataframe\">\n",
              "  <thead>\n",
              "    <tr style=\"text-align: right;\">\n",
              "      <th></th>\n",
              "      <th>W1</th>\n",
              "      <th>W2</th>\n",
              "      <th>W3</th>\n",
              "    </tr>\n",
              "  </thead>\n",
              "  <tbody>\n",
              "    <tr>\n",
              "      <th>0</th>\n",
              "      <td>35</td>\n",
              "      <td>41</td>\n",
              "      <td>42</td>\n",
              "    </tr>\n",
              "  </tbody>\n",
              "</table>\n",
              "</div>"
            ],
            "text/plain": [
              "   W1  W2  W3\n",
              "0  35  41  42"
            ]
          },
          "metadata": {
            "tags": []
          },
          "execution_count": 36
        }
      ]
    },
    {
      "cell_type": "code",
      "metadata": {
        "colab": {
          "base_uri": "https://localhost:8080/",
          "height": 79
        },
        "id": "Dq6coehUewXQ",
        "outputId": "6c477904-fc05-4115-ac65-1fe83e2bcac6"
      },
      "source": [
        "df_demand"
      ],
      "execution_count": null,
      "outputs": [
        {
          "output_type": "execute_result",
          "data": {
            "text/html": [
              "<div>\n",
              "<style scoped>\n",
              "    .dataframe tbody tr th:only-of-type {\n",
              "        vertical-align: middle;\n",
              "    }\n",
              "\n",
              "    .dataframe tbody tr th {\n",
              "        vertical-align: top;\n",
              "    }\n",
              "\n",
              "    .dataframe thead th {\n",
              "        text-align: right;\n",
              "    }\n",
              "</style>\n",
              "<table border=\"1\" class=\"dataframe\">\n",
              "  <thead>\n",
              "    <tr style=\"text-align: right;\">\n",
              "      <th></th>\n",
              "      <th>F1</th>\n",
              "      <th>F2</th>\n",
              "      <th>F3</th>\n",
              "      <th>F4</th>\n",
              "    </tr>\n",
              "  </thead>\n",
              "  <tbody>\n",
              "    <tr>\n",
              "      <th>0</th>\n",
              "      <td>28</td>\n",
              "      <td>29</td>\n",
              "      <td>31</td>\n",
              "      <td>25</td>\n",
              "    </tr>\n",
              "  </tbody>\n",
              "</table>\n",
              "</div>"
            ],
            "text/plain": [
              "   F1  F2  F3  F4\n",
              "0  28  29  31  25"
            ]
          },
          "metadata": {
            "tags": []
          },
          "execution_count": 35
        }
      ]
    },
    {
      "cell_type": "code",
      "metadata": {
        "colab": {
          "base_uri": "https://localhost:8080/",
          "height": 171
        },
        "id": "F5Xwj0yiemzy",
        "outputId": "e05cf5dd-0255-4c40-85e3-bfd818cdcad6"
      },
      "source": [
        "df_tr"
      ],
      "execution_count": null,
      "outputs": [
        {
          "output_type": "execute_result",
          "data": {
            "text/html": [
              "<div>\n",
              "<style scoped>\n",
              "    .dataframe tbody tr th:only-of-type {\n",
              "        vertical-align: middle;\n",
              "    }\n",
              "\n",
              "    .dataframe tbody tr th {\n",
              "        vertical-align: top;\n",
              "    }\n",
              "\n",
              "    .dataframe thead th {\n",
              "        text-align: right;\n",
              "    }\n",
              "</style>\n",
              "<table border=\"1\" class=\"dataframe\">\n",
              "  <thead>\n",
              "    <tr style=\"text-align: right;\">\n",
              "      <th></th>\n",
              "      <th>F1</th>\n",
              "      <th>F2</th>\n",
              "      <th>F3</th>\n",
              "      <th>F4</th>\n",
              "    </tr>\n",
              "    <tr>\n",
              "      <th>공장</th>\n",
              "      <th></th>\n",
              "      <th></th>\n",
              "      <th></th>\n",
              "      <th></th>\n",
              "    </tr>\n",
              "  </thead>\n",
              "  <tbody>\n",
              "    <tr>\n",
              "      <th>W1</th>\n",
              "      <td>15</td>\n",
              "      <td>15</td>\n",
              "      <td>0</td>\n",
              "      <td>5</td>\n",
              "    </tr>\n",
              "    <tr>\n",
              "      <th>W2</th>\n",
              "      <td>5</td>\n",
              "      <td>0</td>\n",
              "      <td>30</td>\n",
              "      <td>5</td>\n",
              "    </tr>\n",
              "    <tr>\n",
              "      <th>W3</th>\n",
              "      <td>10</td>\n",
              "      <td>15</td>\n",
              "      <td>2</td>\n",
              "      <td>15</td>\n",
              "    </tr>\n",
              "  </tbody>\n",
              "</table>\n",
              "</div>"
            ],
            "text/plain": [
              "    F1  F2  F3  F4\n",
              "공장                \n",
              "W1  15  15   0   5\n",
              "W2   5   0  30   5\n",
              "W3  10  15   2  15"
            ]
          },
          "metadata": {
            "tags": []
          },
          "execution_count": 33
        }
      ]
    },
    {
      "cell_type": "code",
      "metadata": {
        "colab": {
          "base_uri": "https://localhost:8080/"
        },
        "id": "gmza4pC-e_4g",
        "outputId": "22bd9fb2-df71-4c03-e73f-12e9ce1f9721"
      },
      "source": [
        "# 수요측 제약 조건 (demand  공장)\n",
        "for i in range(len(df_demand.columns)):  # F1, F2, F3, F4     4번\n",
        "  temp_sum = sum(df_tr[df_demand.columns[i]]) # F1, F2, F3, F4 \n",
        "  print(str(df_demand.columns[i])+\"으로 운송량:\"+str(temp_sum)+\"(수요량:\" + str(df_demand.iloc[0][i]) + \")\")\n"
      ],
      "execution_count": null,
      "outputs": [
        {
          "output_type": "stream",
          "text": [
            "F1으로 운송량:30(수요량:28)\n",
            "F2으로 운송량:30(수요량:29)\n",
            "F3으로 운송량:32(수요량:31)\n",
            "F4으로 운송량:25(수요량:25)\n"
          ],
          "name": "stdout"
        }
      ]
    },
    {
      "cell_type": "code",
      "metadata": {
        "colab": {
          "base_uri": "https://localhost:8080/"
        },
        "id": "zK93PcWqfKHe",
        "outputId": "e006b792-fd32-44ac-88ff-82d46a08775f"
      },
      "source": [
        "# 공급측 제약 조건 (supply  창고)\n",
        "for i in range(len(df_supply.columns)):  # W1, W2, W3     3번\n",
        "  temp_sum = sum(df_tr.loc[df_supply.columns[i]]) \n",
        "  print(str(df_supply.columns[i])+\"부터의 운송량:\"+str(temp_sum)+\"(공급한계:\" + str(df_supply.iloc[0][i]) + \")\")\n",
        "  "
      ],
      "execution_count": null,
      "outputs": [
        {
          "output_type": "stream",
          "text": [
            "W1부터의 운송량:35(공급한계:35)\n",
            "W2부터의 운송량:40(공급한계:41)\n",
            "W3부터의 운송량:42(공급한계:42)\n"
          ],
          "name": "stdout"
        }
      ]
    },
    {
      "cell_type": "code",
      "metadata": {
        "colab": {
          "base_uri": "https://localhost:8080/",
          "height": 171
        },
        "id": "d-1J45VfpgBh",
        "outputId": "a6b69541-5181-457c-f932-fa2ac1097b38"
      },
      "source": [
        "# 운송 경로를 변경해서 운송 비용 함수의 변화를 확인하자. \n",
        "# 시험 삼아 W1에서 F4로의 운송을 줄이고 그만큼을 W2에서 F4로의 운송으로\n",
        "# 변경한 경로가 저장된 trans_route_new.csv 를 불러들여 비용 개선이 가능한지 확인해 보자 \n",
        "\n",
        "df_tr_new = pd.read_csv('trans_route_new.csv', index_col = '공장')\n",
        "df_tr_new"
      ],
      "execution_count": null,
      "outputs": [
        {
          "output_type": "execute_result",
          "data": {
            "text/html": [
              "<div>\n",
              "<style scoped>\n",
              "    .dataframe tbody tr th:only-of-type {\n",
              "        vertical-align: middle;\n",
              "    }\n",
              "\n",
              "    .dataframe tbody tr th {\n",
              "        vertical-align: top;\n",
              "    }\n",
              "\n",
              "    .dataframe thead th {\n",
              "        text-align: right;\n",
              "    }\n",
              "</style>\n",
              "<table border=\"1\" class=\"dataframe\">\n",
              "  <thead>\n",
              "    <tr style=\"text-align: right;\">\n",
              "      <th></th>\n",
              "      <th>F1</th>\n",
              "      <th>F2</th>\n",
              "      <th>F3</th>\n",
              "      <th>F4</th>\n",
              "    </tr>\n",
              "    <tr>\n",
              "      <th>공장</th>\n",
              "      <th></th>\n",
              "      <th></th>\n",
              "      <th></th>\n",
              "      <th></th>\n",
              "    </tr>\n",
              "  </thead>\n",
              "  <tbody>\n",
              "    <tr>\n",
              "      <th>W1</th>\n",
              "      <td>15</td>\n",
              "      <td>15</td>\n",
              "      <td>0</td>\n",
              "      <td>0</td>\n",
              "    </tr>\n",
              "    <tr>\n",
              "      <th>W2</th>\n",
              "      <td>5</td>\n",
              "      <td>0</td>\n",
              "      <td>30</td>\n",
              "      <td>10</td>\n",
              "    </tr>\n",
              "    <tr>\n",
              "      <th>W3</th>\n",
              "      <td>10</td>\n",
              "      <td>15</td>\n",
              "      <td>2</td>\n",
              "      <td>15</td>\n",
              "    </tr>\n",
              "  </tbody>\n",
              "</table>\n",
              "</div>"
            ],
            "text/plain": [
              "    F1  F2  F3  F4\n",
              "공장                \n",
              "W1  15  15   0   0\n",
              "W2   5   0  30  10\n",
              "W3  10  15   2  15"
            ]
          },
          "metadata": {
            "tags": []
          },
          "execution_count": 44
        }
      ]
    },
    {
      "cell_type": "code",
      "metadata": {
        "colab": {
          "base_uri": "https://localhost:8080/",
          "height": 171
        },
        "id": "LiikQIx7qYyh",
        "outputId": "77d70f1d-a6e6-4999-c155-0cf160a93b97"
      },
      "source": [
        "df_tr"
      ],
      "execution_count": null,
      "outputs": [
        {
          "output_type": "execute_result",
          "data": {
            "text/html": [
              "<div>\n",
              "<style scoped>\n",
              "    .dataframe tbody tr th:only-of-type {\n",
              "        vertical-align: middle;\n",
              "    }\n",
              "\n",
              "    .dataframe tbody tr th {\n",
              "        vertical-align: top;\n",
              "    }\n",
              "\n",
              "    .dataframe thead th {\n",
              "        text-align: right;\n",
              "    }\n",
              "</style>\n",
              "<table border=\"1\" class=\"dataframe\">\n",
              "  <thead>\n",
              "    <tr style=\"text-align: right;\">\n",
              "      <th></th>\n",
              "      <th>F1</th>\n",
              "      <th>F2</th>\n",
              "      <th>F3</th>\n",
              "      <th>F4</th>\n",
              "    </tr>\n",
              "    <tr>\n",
              "      <th>공장</th>\n",
              "      <th></th>\n",
              "      <th></th>\n",
              "      <th></th>\n",
              "      <th></th>\n",
              "    </tr>\n",
              "  </thead>\n",
              "  <tbody>\n",
              "    <tr>\n",
              "      <th>W1</th>\n",
              "      <td>15</td>\n",
              "      <td>15</td>\n",
              "      <td>0</td>\n",
              "      <td>5</td>\n",
              "    </tr>\n",
              "    <tr>\n",
              "      <th>W2</th>\n",
              "      <td>5</td>\n",
              "      <td>0</td>\n",
              "      <td>30</td>\n",
              "      <td>5</td>\n",
              "    </tr>\n",
              "    <tr>\n",
              "      <th>W3</th>\n",
              "      <td>10</td>\n",
              "      <td>15</td>\n",
              "      <td>2</td>\n",
              "      <td>15</td>\n",
              "    </tr>\n",
              "  </tbody>\n",
              "</table>\n",
              "</div>"
            ],
            "text/plain": [
              "    F1  F2  F3  F4\n",
              "공장                \n",
              "W1  15  15   0   5\n",
              "W2   5   0  30   5\n",
              "W3  10  15   2  15"
            ]
          },
          "metadata": {
            "tags": []
          },
          "execution_count": 45
        }
      ]
    },
    {
      "cell_type": "code",
      "metadata": {
        "colab": {
          "base_uri": "https://localhost:8080/"
        },
        "id": "keYyTNhQqt7K",
        "outputId": "ceee248f-1f2f-42db-9a39-574abafdb5e2"
      },
      "source": [
        "# 총 운송비용 재계산\n",
        "print(\"총 운송 비용(변경 후) : \"+str(trans_cost(df_tr_new,df_tc))) # 변경 전  총 운송 비용: 1493\n",
        "\n",
        "\n",
        "# 새로운 경로는 W1에서 F4로의 운송을 줄이고 (10 -> 5) 그만큼을 W2에서 F4로의 운송으로 보충하였다. (5 -> 10)\n",
        "# 이것에 의해 운송비용은 1428만원으로 원래 운송 비용 1493만원과 비교하면 약간의 비용 절감을 기대할 수 있다. \n",
        "# (제약 조건은 일단 생략)\n",
        "\n"
      ],
      "execution_count": null,
      "outputs": [
        {
          "output_type": "stream",
          "text": [
            "총 운송 비용(변경 후) : 1428\n"
          ],
          "name": "stdout"
        }
      ]
    },
    {
      "cell_type": "code",
      "metadata": {
        "id": "czyE82QSsAMq"
      },
      "source": [
        "# 몇 개의 라이브러리를 이용해서 최적화 계산을 자동으로 진행하자. pulp()와 ortoolpy()\n",
        "\n",
        "# pip install pulp\n",
        "# pip install ortoolpy\n",
        "from pulp import LpVariable, lpSum, value\n",
        "from ortoolpy import model_min, addvars, addvals\n",
        "\n",
        "# 데이터 불러오기 \n",
        "df_tc = pd.read_csv('trans_cost.csv', index_col='공장')\n",
        "df_demand = pd.read_csv('demand.csv')\n",
        "df_supply = pd.read_csv('supply.csv')"
      ],
      "execution_count": null,
      "outputs": []
    },
    {
      "cell_type": "code",
      "metadata": {
        "id": "FlghbARatmib"
      },
      "source": [
        "# 초기 설정 (항상 동일)\n",
        "import numpy as np\n",
        "import pandas as pd\n",
        "from itertools import product\n",
        "\n",
        "np.random.seed(1)\n",
        "nw = len(df_tc.index)\n",
        "nf = len(df_tc.columns)\n",
        "pr = list(product(range(nw), range(nf)))"
      ],
      "execution_count": null,
      "outputs": []
    }
  ]
}