{
  "nbformat": 4,
  "nbformat_minor": 0,
  "metadata": {
    "colab": {
      "name": "Titanic.ipynb",
      "provenance": [],
      "authorship_tag": "ABX9TyOrB/WTvYoeZdQrv3SzQ2vA",
      "include_colab_link": true
    },
    "kernelspec": {
      "name": "python3",
      "display_name": "Python 3"
    }
  },
  "cells": [
    {
      "cell_type": "markdown",
      "metadata": {
        "id": "view-in-github",
        "colab_type": "text"
      },
      "source": [
        "<a href=\"https://colab.research.google.com/github/zeruel91/DataAnalysis/blob/main/Titanic(not_Finished).ipynb\" target=\"_parent\"><img src=\"https://colab.research.google.com/assets/colab-badge.svg\" alt=\"Open In Colab\"/></a>"
      ]
    },
    {
      "cell_type": "code",
      "metadata": {
        "id": "1vrAfreczk3p",
        "outputId": "6b02445d-aaa7-44b0-f457-093b0521bb76",
        "colab": {
          "base_uri": "https://localhost:8080/"
        }
      },
      "source": [
        "import pandas as pd\n",
        "import numpy as np\n",
        "from sklearn import model_selection\n",
        "from sklearn import metrics\n",
        "\n",
        "df = pd.read_csv('https://raw.githubusercontent.com/TeamLab/machine_learning_from_scratch_with_python/master/code/ch12/titanic/train.csv')\n",
        "\n",
        "print(df.head())"
      ],
      "execution_count": 1,
      "outputs": [
        {
          "output_type": "stream",
          "text": [
            "   PassengerId  Survived  Pclass  ...     Fare Cabin  Embarked\n",
            "0            1         0       3  ...   7.2500   NaN         S\n",
            "1            2         1       1  ...  71.2833   C85         C\n",
            "2            3         1       3  ...   7.9250   NaN         S\n",
            "3            4         1       1  ...  53.1000  C123         S\n",
            "4            5         0       3  ...   8.0500   NaN         S\n",
            "\n",
            "[5 rows x 12 columns]\n"
          ],
          "name": "stdout"
        }
      ]
    },
    {
      "cell_type": "code",
      "metadata": {
        "id": "_urCtjxy2CWZ",
        "outputId": "965f31a0-9f8e-43f9-d9a6-d5434381ffb2",
        "colab": {
          "base_uri": "https://localhost:8080/"
        }
      },
      "source": [
        "print(df.shape)"
      ],
      "execution_count": 2,
      "outputs": [
        {
          "output_type": "stream",
          "text": [
            "(891, 12)\n"
          ],
          "name": "stdout"
        }
      ]
    },
    {
      "cell_type": "code",
      "metadata": {
        "id": "UBFu4Pmz2C9w",
        "outputId": "aaffdf90-cfac-4108-a446-48e9d29d0c6f",
        "colab": {
          "base_uri": "https://localhost:8080/"
        }
      },
      "source": [
        "# del df['PassengerId']\n",
        "# del df['Name']\n",
        "# del df['Ticket']\n",
        "# del df['Cabin'] \n",
        "#컬럼 삭제\n",
        "print(df.head())"
      ],
      "execution_count": 7,
      "outputs": [
        {
          "output_type": "stream",
          "text": [
            "   Survived  Pclass     Sex   Age  SibSp  Parch     Fare Embarked\n",
            "0         0       3    male  22.0      1      0   7.2500        S\n",
            "1         1       1  female  38.0      1      0  71.2833        C\n",
            "2         1       3  female  26.0      0      0   7.9250        S\n",
            "3         1       1  female  35.0      1      0  53.1000        S\n",
            "4         0       3    male  35.0      0      0   8.0500        S\n"
          ],
          "name": "stdout"
        }
      ]
    },
    {
      "cell_type": "code",
      "metadata": {
        "id": "hG5_tPtc2FXQ",
        "outputId": "1422a023-6d0f-4eea-9677-b9a6d04f7b41",
        "colab": {
          "base_uri": "https://localhost:8080/"
        }
      },
      "source": [
        "print(df.info())"
      ],
      "execution_count": 8,
      "outputs": [
        {
          "output_type": "stream",
          "text": [
            "<class 'pandas.core.frame.DataFrame'>\n",
            "RangeIndex: 891 entries, 0 to 890\n",
            "Data columns (total 8 columns):\n",
            " #   Column    Non-Null Count  Dtype  \n",
            "---  ------    --------------  -----  \n",
            " 0   Survived  891 non-null    int64  \n",
            " 1   Pclass    891 non-null    int64  \n",
            " 2   Sex       891 non-null    object \n",
            " 3   Age       714 non-null    float64\n",
            " 4   SibSp     891 non-null    int64  \n",
            " 5   Parch     891 non-null    int64  \n",
            " 6   Fare      891 non-null    float64\n",
            " 7   Embarked  889 non-null    object \n",
            "dtypes: float64(2), int64(4), object(2)\n",
            "memory usage: 55.8+ KB\n",
            "None\n"
          ],
          "name": "stdout"
        }
      ]
    },
    {
      "cell_type": "code",
      "metadata": {
        "id": "InLvXyyi2aPY",
        "outputId": "425ebd1c-014d-44f5-a6d2-8ae3eabdf5e0",
        "colab": {
          "base_uri": "https://localhost:8080/"
        }
      },
      "source": [
        "#결측치 처리\n",
        "df=df.dropna()\n",
        "df=df.dropna(how='all')\n",
        "df=df.dropna(how='any')\n",
        "df=df.dropna(thresh=3)\n",
        "df['Age']=df['Age'].fillna(df['Age'].mean())\n",
        "\n",
        "print(df.info())"
      ],
      "execution_count": 9,
      "outputs": [
        {
          "output_type": "stream",
          "text": [
            "<class 'pandas.core.frame.DataFrame'>\n",
            "Int64Index: 712 entries, 0 to 890\n",
            "Data columns (total 8 columns):\n",
            " #   Column    Non-Null Count  Dtype  \n",
            "---  ------    --------------  -----  \n",
            " 0   Survived  712 non-null    int64  \n",
            " 1   Pclass    712 non-null    int64  \n",
            " 2   Sex       712 non-null    object \n",
            " 3   Age       712 non-null    float64\n",
            " 4   SibSp     712 non-null    int64  \n",
            " 5   Parch     712 non-null    int64  \n",
            " 6   Fare      712 non-null    float64\n",
            " 7   Embarked  712 non-null    object \n",
            "dtypes: float64(2), int64(4), object(2)\n",
            "memory usage: 50.1+ KB\n",
            "None\n"
          ],
          "name": "stdout"
        }
      ]
    },
    {
      "cell_type": "code",
      "metadata": {
        "id": "G4U2MO3c2jUQ",
        "outputId": "3100c85c-257b-4c95-b67b-5607685b324b",
        "colab": {
          "base_uri": "https://localhost:8080/"
        }
      },
      "source": [
        "print(df['Embarked'].value_counts())"
      ],
      "execution_count": 10,
      "outputs": [
        {
          "output_type": "stream",
          "text": [
            "S    554\n",
            "C    130\n",
            "Q     28\n",
            "Name: Embarked, dtype: int64\n"
          ],
          "name": "stdout"
        }
      ]
    },
    {
      "cell_type": "code",
      "metadata": {
        "id": "4fkGxtzO2zI5",
        "outputId": "1c5bbe50-fc02-443f-fd15-361fbfe0d9b7",
        "colab": {
          "base_uri": "https://localhost:8080/"
        }
      },
      "source": [
        "print(df['Embarked'].value_counts().index[0]) #S\n",
        "df['Embarked']=df['Embarked'].fillna(df['Embarked'].value_counts().index[0])\n",
        "\n",
        "print(df.info())"
      ],
      "execution_count": 11,
      "outputs": [
        {
          "output_type": "stream",
          "text": [
            "S\n",
            "<class 'pandas.core.frame.DataFrame'>\n",
            "Int64Index: 712 entries, 0 to 890\n",
            "Data columns (total 8 columns):\n",
            " #   Column    Non-Null Count  Dtype  \n",
            "---  ------    --------------  -----  \n",
            " 0   Survived  712 non-null    int64  \n",
            " 1   Pclass    712 non-null    int64  \n",
            " 2   Sex       712 non-null    object \n",
            " 3   Age       712 non-null    float64\n",
            " 4   SibSp     712 non-null    int64  \n",
            " 5   Parch     712 non-null    int64  \n",
            " 6   Fare      712 non-null    float64\n",
            " 7   Embarked  712 non-null    object \n",
            "dtypes: float64(2), int64(4), object(2)\n",
            "memory usage: 50.1+ KB\n",
            "None\n"
          ],
          "name": "stdout"
        }
      ]
    },
    {
      "cell_type": "code",
      "metadata": {
        "id": "K7F13xPF20Bp",
        "outputId": "bc3e70ac-5ce1-464d-bbb2-e689d1998502",
        "colab": {
          "base_uri": "https://localhost:8080/"
        }
      },
      "source": [
        "#범주형 컬럼 처리\n",
        "print(df.head())\n",
        "print(df['Pclass'].value_counts())\n",
        "print(df['Sex'].value_counts())\n",
        "print(df['Embarked'].value_counts())"
      ],
      "execution_count": 12,
      "outputs": [
        {
          "output_type": "stream",
          "text": [
            "   Survived  Pclass     Sex   Age  SibSp  Parch     Fare Embarked\n",
            "0         0       3    male  22.0      1      0   7.2500        S\n",
            "1         1       1  female  38.0      1      0  71.2833        C\n",
            "2         1       3  female  26.0      0      0   7.9250        S\n",
            "3         1       1  female  35.0      1      0  53.1000        S\n",
            "4         0       3    male  35.0      0      0   8.0500        S\n",
            "3    355\n",
            "1    184\n",
            "2    173\n",
            "Name: Pclass, dtype: int64\n",
            "male      453\n",
            "female    259\n",
            "Name: Sex, dtype: int64\n",
            "S    554\n",
            "C    130\n",
            "Q     28\n",
            "Name: Embarked, dtype: int64\n"
          ],
          "name": "stdout"
        }
      ]
    },
    {
      "cell_type": "code",
      "metadata": {
        "id": "LYpeeKyj29hk"
      },
      "source": [
        "df['Sex']=df['Sex'].replace(['female','male'],[0,1]) #남자는 1 여자는 0으로 처리"
      ],
      "execution_count": null,
      "outputs": []
    },
    {
      "cell_type": "code",
      "metadata": {
        "id": "XQtaf9eS3Ex5",
        "outputId": "fea1747e-edac-41e6-862d-2d031d0aac30",
        "colab": {
          "base_uri": "https://localhost:8080/"
        }
      },
      "source": [
        "print(df.head())"
      ],
      "execution_count": 15,
      "outputs": [
        {
          "output_type": "stream",
          "text": [
            "   Survived  Pclass  Sex   Age  SibSp  Parch     Fare Embarked\n",
            "0         0       3    1  22.0      1      0   7.2500        S\n",
            "1         1       1    0  38.0      1      0  71.2833        C\n",
            "2         1       3    0  26.0      0      0   7.9250        S\n",
            "3         1       1    0  35.0      1      0  53.1000        S\n",
            "4         0       3    1  35.0      0      0   8.0500        S\n"
          ],
          "name": "stdout"
        }
      ]
    },
    {
      "cell_type": "code",
      "metadata": {
        "id": "0uzR7R-J3JG5",
        "outputId": "1743f77e-fd8b-4a7f-bbd8-d581301c96fe",
        "colab": {
          "base_uri": "https://localhost:8080/"
        }
      },
      "source": [
        "print(df.dtypes) #데이터 타입만 체크. 칼럼 별"
      ],
      "execution_count": 17,
      "outputs": [
        {
          "output_type": "stream",
          "text": [
            "Survived      int64\n",
            "Pclass        int64\n",
            "Sex           int64\n",
            "Age         float64\n",
            "SibSp         int64\n",
            "Parch         int64\n",
            "Fare        float64\n",
            "Embarked     object\n",
            "dtype: object\n"
          ],
          "name": "stdout"
        }
      ]
    },
    {
      "cell_type": "code",
      "metadata": {
        "id": "nJYdhi3g4JTS"
      },
      "source": [
        "df['Pclass']=df['Pclass'].astype('category')  #데이터 타입을 카테고리로 변경.\n",
        "df['Embarked']=df['Embarked'].astype('category')"
      ],
      "execution_count": 19,
      "outputs": []
    },
    {
      "cell_type": "code",
      "metadata": {
        "id": "Rj7Nb7e44ZIS",
        "outputId": "abe9a2fd-2785-4fe5-a97a-6d87247479a1",
        "colab": {
          "base_uri": "https://localhost:8080/"
        }
      },
      "source": [
        "print(df.dtypes) #변경 확인.\n"
      ],
      "execution_count": 20,
      "outputs": [
        {
          "output_type": "stream",
          "text": [
            "Survived       int64\n",
            "Pclass      category\n",
            "Sex            int64\n",
            "Age          float64\n",
            "SibSp          int64\n",
            "Parch          int64\n",
            "Fare         float64\n",
            "Embarked    category\n",
            "dtype: object\n"
          ],
          "name": "stdout"
        }
      ]
    },
    {
      "cell_type": "code",
      "metadata": {
        "id": "UGFV55-m4d16",
        "outputId": "137c1d88-0b50-4be8-fc96-7ae295a9bbdd",
        "colab": {
          "base_uri": "https://localhost:8080/"
        }
      },
      "source": [
        "df = pd.get_dummies(df) #get_dummies <- 가변수화.(무관한 수.)\n",
        "print(df.head())"
      ],
      "execution_count": 21,
      "outputs": [
        {
          "output_type": "stream",
          "text": [
            "   Survived  Sex   Age  SibSp  ...  Pclass_3  Embarked_C  Embarked_Q  Embarked_S\n",
            "0         0    1  22.0      1  ...         1           0           0           1\n",
            "1         1    0  38.0      1  ...         0           1           0           0\n",
            "2         1    0  26.0      0  ...         1           0           0           1\n",
            "3         1    0  35.0      1  ...         0           0           0           1\n",
            "4         0    1  35.0      0  ...         1           0           0           1\n",
            "\n",
            "[5 rows x 12 columns]\n"
          ],
          "name": "stdout"
        }
      ]
    },
    {
      "cell_type": "code",
      "metadata": {
        "id": "R7YLRHHI4fl6"
      },
      "source": [
        "#https://wikidocs.net/50116"
      ],
      "execution_count": null,
      "outputs": []
    }
  ]
}