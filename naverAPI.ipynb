{
  "nbformat": 4,
  "nbformat_minor": 0,
  "metadata": {
    "colab": {
      "name": "naverAPI",
      "provenance": [],
      "authorship_tag": "ABX9TyOGzSPy9TY7KugmyThU3ljO",
      "include_colab_link": true
    },
    "kernelspec": {
      "name": "python3",
      "display_name": "Python 3"
    }
  },
  "cells": [
    {
      "cell_type": "markdown",
      "metadata": {
        "id": "view-in-github",
        "colab_type": "text"
      },
      "source": [
        "<a href=\"https://colab.research.google.com/github/zeruel91/DataAnalysis/blob/main/naverAPI.ipynb\" target=\"_parent\"><img src=\"https://colab.research.google.com/assets/colab-badge.svg\" alt=\"Open In Colab\"/></a>"
      ]
    },
    {
      "cell_type": "code",
      "metadata": {
        "id": "efs99EJt7-31"
      },
      "source": [
        "import urllib.request\n",
        "client_id = \"JtzyEv6hdzG2mhfewvFn\"\n",
        "client_secret = \"b7V0pgnzec\""
      ],
      "execution_count": 2,
      "outputs": []
    },
    {
      "cell_type": "code",
      "metadata": {
        "id": "F5zropwr9Yh3",
        "outputId": "5913cea5-2df5-4ce1-c2ae-1c1509ecb930",
        "colab": {
          "base_uri": "https://localhost:8080/",
          "height": 34
        }
      },
      "source": [
        "encText = urllib.parse.quote(\"aaaa10432\")\n",
        "#url = \"https://openapi.naver.com/v1/search/blog.jason?query=\"+encText\n",
        "url = \"https://blog.naver.com/aaaa10432?query=\" + encText\n",
        "url"
      ],
      "execution_count": 3,
      "outputs": [
        {
          "output_type": "execute_result",
          "data": {
            "application/vnd.google.colaboratory.intrinsic+json": {
              "type": "string"
            },
            "text/plain": [
              "'https://blog.naver.com/aaaa10432?query=aaaa10432'"
            ]
          },
          "metadata": {
            "tags": []
          },
          "execution_count": 3
        }
      ]
    },
    {
      "cell_type": "code",
      "metadata": {
        "id": "OMjOVa-v933f"
      },
      "source": [
        "request = urllib.request.Request(url)\n",
        "request.add_header(\"X-Naver_Client-Id\",client_id)\n",
        "request.add_header(\"X-Naver_Client-Secret\",client_secret)"
      ],
      "execution_count": 4,
      "outputs": []
    },
    {
      "cell_type": "code",
      "metadata": {
        "id": "BjpfyA0o_Bt-",
        "outputId": "e1448d25-d92a-4977-cdf5-5dbfb6f28b8f",
        "colab": {
          "base_uri": "https://localhost:8080/"
        }
      },
      "source": [
        "response = urllib.request.urlopen(request)\n",
        "print(response.getcode())"
      ],
      "execution_count": 5,
      "outputs": [
        {
          "output_type": "stream",
          "text": [
            "200\n"
          ],
          "name": "stdout"
        }
      ]
    },
    {
      "cell_type": "code",
      "metadata": {
        "id": "rmDdNvrD_i2g",
        "outputId": "c099b4f7-5c04-4e43-d8ec-e47d7f8c8df5",
        "colab": {
          "base_uri": "https://localhost:8080/"
        }
      },
      "source": [
        "type(response)\n",
        "print(response.read().decode('utf-8')) #리스폰스를,읽어오고,디코드는(한글)"
      ],
      "execution_count": 6,
      "outputs": [
        {
          "output_type": "stream",
          "text": [
            "\n",
            "\n",
            "\n",
            "\n",
            "\n",
            "\n",
            "\n",
            "<!DOCTYPE html PUBLIC \"-//W3C//DTD XHTML 1.0 Transitional//EN\" \"http://www.w3.org/TR/xhtml1/DTD/xhtml1-transitional.dtd\">\n",
            "<html lang=\"ko\">\n",
            "<head>\n",
            "<meta http-equiv=\"Pragma\" content=\"no-cache\"/>\n",
            "<meta http-equiv=\"Expires\" content=\"-1\"/>\n",
            "<meta name=\"robots\" content=\"noindex,follow\"/>\n",
            "<meta name=\"referrer\" content=\"always\"/>\n",
            "<meta http-equiv=\"content-type\" content=\"text/html;charset=UTF-8\"/>\n",
            "<meta http-equiv=\"X-UA-Compatible\" content=\"IE=edge,chrome=1\" />\n",
            "<link rel=\"shortcut icon\" type=\"image/x-icon\" href=\"/favicon.ico?3\" />\n",
            "<link rel=\"alternate\" type=\"application/rss+xml\" href=\"https://rss.blog.naver.com/aaaa10432.xml\" title=\"RSS feed for aaaa10432 Blog\"/>\n",
            "<link rel=\"wlwmanifest\" type=\"application/wlwmanifest+xml\" href=\"https://blog.naver.com/NBlogWlwLayout.nhn?blogId=aaaa10432\" />\n",
            "\n",
            "\n",
            "\n",
            "\n",
            "<title>초이의파워블로그 : 네이버 블로그</title>\n",
            "</head>\n",
            "<script type=\"text/javascript\" src=\"https://ssl.pstatic.net/t.static.blog/mylog/versioning/Frameset-657805386_https.js\" charset=\"UTF-8\"></script>\n",
            "\n",
            "<script type=\"text/javascript\" charset=\"UTF-8\">\n",
            "var photoContent=\"\";\n",
            "var postContent=\"\";\n",
            "\n",
            "var videoId \t  = \"\";\n",
            "var thumbnail \t  = \"\";\n",
            "var inKey \t\t  = \"\";\n",
            "var movieFileSize = \"\";\n",
            "var playTime \t  = \"\";\n",
            "var screenSize \t  = \"\";\n",
            "\n",
            "var blogId = 'aaaa10432';\n",
            "var blogURL = 'https://blog.naver.com';\n",
            "var eventCnt = '';\n",
            "\n",
            "var g_ShareObject = {};\n",
            "g_ShareObject.referer = \"\";\n",
            "\n",
            "\n",
            "jsMVC.setController(\"framesetTitleController\", FramesetTitleController);\n",
            "jsMVC.setController(\"framesetUrlController\", FramesetUrlController);\n",
            "jsMVC.setController(\"framesetMusicController\", FramesetMusicController);\n",
            "var oFramesetTitleController = jsMVC.getController(\"framesetTitleController\");\n",
            "var oFramesetUrlController = jsMVC.getController(\"framesetUrlController\");\n",
            "var oFramesetMusicController = jsMVC.getController(\"framesetMusicController\");\n",
            "var sTitle = document.title;\n",
            "\n",
            "</script>\n",
            "<style type=\"text/css\">\n",
            "    html{width:100%;height:100%;}\n",
            "    body{width:100%;height:100%;margin:0;padding:0;font-size:0;}\n",
            "    #mainFrame{width:100%;height:99.8%;margin:0;padding:0;border:0;}\n",
            "    #hiddenFrame{width:0;height:0;margin:0;padding:0;border:0;}\n",
            "</style>\n",
            "<body>\n",
            "    <iframe id=\"mainFrame\" name=\"mainFrame\" allowfullscreen=\"true\" src=\"/PostList.nhn?blogId=aaaa10432&widgetTypeCall=true&parentCategoryNo=8&directAccess=true\" scrolling=\"auto\"  onload=\"oFramesetTitleController.start(self.frames['mainFrame'], self, sTitle);oFramesetTitleController.onLoadFrame();oFramesetUrlController.start(self.frames['mainFrame']);oFramesetUrlController.onLoadFrame()\" allowfullscreen></iframe>\n",
            "    <iframe id=\"hiddenFrame\" name=\"hiddenFrame\" src=\"/NBlogHidden.nhn?blogId=aaaa10432&musicYN=false\" scrolling=\"no\" noresize=\"noresize\"></iframe>\n",
            "</body>\n",
            "</html>\n"
          ],
          "name": "stdout"
        }
      ]
    },
    {
      "cell_type": "code",
      "metadata": {
        "id": "cB3z_7_ODOmP"
      },
      "source": [
        "def create_url(api_node,search_text,start_num,disp_num):\n",
        "  base = \"https://openapi.naver.com/v1/search\"\n",
        "  node = \"/\"+api_node+\".jason\"\n",
        "  param_query = \"?query=\"+urllib.parse.quote(search_text)\n",
        "  param_start = \"&start=\"+str(start_num)\n",
        "  param_disp = \"&display=\"+str(disp_num)\n",
        "  return base + node + param_query + param_start + param_disp"
      ],
      "execution_count": 7,
      "outputs": []
    },
    {
      "cell_type": "code",
      "metadata": {
        "id": "zyOM34HSFuXQ",
        "outputId": "e6ca0b44-60ce-4e7a-fa4c-7b4e5c5d7afe",
        "colab": {
          "base_uri": "https://localhost:8080/",
          "height": 34
        }
      },
      "source": [
        "create_url(\"book\",\"TEST\",1,10)"
      ],
      "execution_count": 8,
      "outputs": [
        {
          "output_type": "execute_result",
          "data": {
            "application/vnd.google.colaboratory.intrinsic+json": {
              "type": "string"
            },
            "text/plain": [
              "'https://openapi.naver.com/v1/search/book.jason?query=TEST&start=1&display=10'"
            ]
          },
          "metadata": {
            "tags": []
          },
          "execution_count": 8
        }
      ]
    },
    {
      "cell_type": "code",
      "metadata": {
        "id": "DyGoQuIyF74x",
        "outputId": "f6839f38-ac54-4863-de5a-a476172310aa",
        "colab": {
          "base_uri": "https://localhost:8080/"
        }
      },
      "source": [
        "#print(response.read().decode('utf-8'))\n"
      ],
      "execution_count": 10,
      "outputs": [
        {
          "output_type": "stream",
          "text": [
            "\n"
          ],
          "name": "stdout"
        }
      ]
    }
  ]
}