{
  "nbformat": 4,
  "nbformat_minor": 0,
  "metadata": {
    "colab": {
      "name": "naverAPI.ipynb",
      "provenance": [],
      "collapsed_sections": [],
      "include_colab_link": true
    },
    "kernelspec": {
      "name": "python3",
      "display_name": "Python 3"
    }
  },
  "cells": [
    {
      "cell_type": "markdown",
      "metadata": {
        "id": "view-in-github",
        "colab_type": "text"
      },
      "source": [
        "<a href=\"https://colab.research.google.com/github/zeruel91/DataAnalysis/blob/main/naverAPI.ipynb\" target=\"_parent\"><img src=\"https://colab.research.google.com/assets/colab-badge.svg\" alt=\"Open In Colab\"/></a>"
      ]
    },
    {
      "cell_type": "code",
      "metadata": {
        "id": "eFmhF9VslMUj"
      },
      "source": [
        "import urllib.request  #주어진 주소로 접근해서 데이터를 가져오는 역할을 하는 모듈 \n",
        "client_id = \"JtzyEv6hdzG2mhfewvFn\"\n",
        "client_secret = \"b7VOpgnzec\""
      ],
      "execution_count": 2,
      "outputs": []
    },
    {
      "cell_type": "code",
      "metadata": {
        "id": "iAbHz5vgl08w",
        "outputId": "c5fe14f9-6874-43a8-878c-f4d4d01d2b88",
        "colab": {
          "base_uri": "https://localhost:8080/",
          "height": 34
        }
      },
      "source": [
        "# urllib.parse.quote 영어/한글 구분없이 단어를 utf-8에서 사용가능하도록 설정\n",
        "encText = urllib.parse.quote(\"jchangl9645\")\n",
        "url = \"https://openapi.naver.com/v1/search/blog.json?query=\" + encText\n",
        "url"
      ],
      "execution_count": 3,
      "outputs": [
        {
          "output_type": "execute_result",
          "data": {
            "application/vnd.google.colaboratory.intrinsic+json": {
              "type": "string"
            },
            "text/plain": [
              "'https://openapi.naver.com/v1/search/blog.json?query=jchangl9645'"
            ]
          },
          "metadata": {
            "tags": []
          },
          "execution_count": 3
        }
      ]
    },
    {
      "cell_type": "code",
      "metadata": {
        "id": "2SkdR2RfmWKZ"
      },
      "source": [
        "request = urllib.request.Request(url)\n",
        "request.add_header(\"X-Naver-Client-Id\", client_id)  # 인증 과정\n",
        "request.add_header(\"X-Naver-Client-Secret\", client_secret)"
      ],
      "execution_count": 4,
      "outputs": []
    },
    {
      "cell_type": "code",
      "metadata": {
        "id": "Hxa6B8tQnMd8",
        "outputId": "6593ef28-61da-4363-d6a2-92bda12d75bb",
        "colab": {
          "base_uri": "https://localhost:8080/"
        }
      },
      "source": [
        "response = urllib.request.urlopen(request)\n",
        "print(response.getcode())"
      ],
      "execution_count": 5,
      "outputs": [
        {
          "output_type": "stream",
          "text": [
            "200\n"
          ],
          "name": "stdout"
        }
      ]
    },
    {
      "cell_type": "code",
      "metadata": {
        "id": "xr6OfoiFndYC",
        "outputId": "03060738-ccb8-44b0-d490-2b88b4fd3ad8",
        "colab": {
          "base_uri": "https://localhost:8080/"
        }
      },
      "source": [
        "type(response)"
      ],
      "execution_count": 6,
      "outputs": [
        {
          "output_type": "execute_result",
          "data": {
            "text/plain": [
              "http.client.HTTPResponse"
            ]
          },
          "metadata": {
            "tags": []
          },
          "execution_count": 6
        }
      ]
    },
    {
      "cell_type": "code",
      "metadata": {
        "id": "H9JGNuT4onna",
        "outputId": "0b477b6b-15e4-4480-c1e7-6aa975807fd1",
        "colab": {
          "base_uri": "https://localhost:8080/"
        }
      },
      "source": [
        "print(response.read().decode('utf-8'))"
      ],
      "execution_count": 7,
      "outputs": [
        {
          "output_type": "stream",
          "text": [
            "{\n",
            "\"lastBuildDate\": \"Tue, 10 Nov 2020 11:11:29 +0900\",\n",
            "\"total\": 111,\n",
            "\"start\": 1,\n",
            "\"display\": 10,\n",
            "\"items\": [\n",
            "{\n",
            "\"title\": \"'놀면뭐하니?' 김종민, 'Pick up the Phone' 듣고 '피카츄똥'\",\n",
            "\"link\": \"https://felkmt.tistory.com/2232\",\n",
            "\"description\": \"Smoothies are my pick-me-up drink 주소: https://blog.naver.com/<b>jchangl9645</b>?Redirect=Log&amp;logNo=222089736552 요약: Smoothies are my pick-me-up drink A. 윤, 너 너무 지쳐보인다. B. 맞아. 오늘 너무... \",\n",
            "\"bloggername\": \"Blogser\",\n",
            "\"bloggerlink\": \"https://felkmt.tistory.com/\",\n",
            "\"postdate\": \"20201017\"\n",
            "\n",
            "},\n",
            "{\n",
            "\"title\": \"6/3, Day 45\",\n",
            "\"link\": \"https:\\/\\/blog.naver.com\\/harashow247?Redirect=Log&logNo=221553343733\",\n",
            "\"description\": \"https://blog.naver.com/<b>jchangl9645</b>/221459757717 - Yes, We have seats available for the 22nd. Would you like me to reserve them? - On the 22nd, the departure time is 1:00pm. Should I reserve... \",\n",
            "\"bloggername\": \"Space\",\n",
            "\"bloggerlink\": \"https://blog.naver.com/harashow247\",\n",
            "\"postdate\": \"20190603\"\n",
            "\n",
            "},\n",
            "{\n",
            "\"title\": \"영어\",\n",
            "\"link\": \"https:\\/\\/blog.naver.com\\/redlip78?Redirect=Log&logNo=221798927083\",\n",
            "\"description\": \"https://m.blog.naver.com/<b>jchangl9645</b>/221789747871\",\n",
            "\"bloggername\": \"재인맘\",\n",
            "\"bloggerlink\": \"https://blog.naver.com/redlip78\",\n",
            "\"postdate\": \"20200206\"\n",
            "\n",
            "},\n",
            "{\n",
            "\"title\": \"14.12.16\",\n",
            "\"link\": \"https:\\/\\/blog.naver.com\\/muhanzia?Redirect=Log&logNo=220211379320\",\n",
            "\"description\": \"vulnerable insecure generic cleanse one of a kind http://blog.naver.com/<b>jchangl9645</b>/50035558842 -------------------------------------------------------- ▶News &amp; Highlights 1 Taurine's... \",\n",
            "\"bloggername\": \"시작하기\",\n",
            "\"bloggerlink\": \"https://blog.naver.com/muhanzia\",\n",
            "\"postdate\": \"20141216\"\n",
            "\n",
            "},\n",
            "{\n",
            "\"title\": \"14.12.02.\",\n",
            "\"link\": \"https:\\/\\/blog.naver.com\\/muhanzia?Redirect=Log&logNo=220198017616\",\n",
            "\"description\": \"hand-me-downs http://blog.naver.com/<b>jchangl9645</b>/220097100918 (이지잉 140820) make it worse Sth takes over rose colored glasses one's self-doubt... \",\n",
            "\"bloggername\": \"시작하기\",\n",
            "\"bloggerlink\": \"https://blog.naver.com/muhanzia\",\n",
            "\"postdate\": \"20141202\"\n",
            "\n",
            "},\n",
            "{\n",
            "\"title\": \"09.05.06. send out some packages.\",\n",
            "\"link\": \"https:\\/\\/blog.naver.com\\/muhanzia?Redirect=Log&logNo=220248253281\",\n",
            "\"description\": \"그리고 난 돈 쓸 필요 없어. 외동딸이잖아. 조심할 수록 좋다. 넌 절대 날 속일 수 없어. 친구는 있을 수록 좋다. 충분히 계획할 순 없다. 그들을 결코 믿으면 안돼. http://blog.naver.com/<b>jchangl9645</b>/50047002526\",\n",
            "\"bloggername\": \"시작하기\",\n",
            "\"bloggerlink\": \"https://blog.naver.com/muhanzia\",\n",
            "\"postdate\": \"20150122\"\n",
            "\n",
            "},\n",
            "{\n",
            "\"title\": \"09.03.24. It's a toss-up.\",\n",
            "\"link\": \"https:\\/\\/blog.naver.com\\/muhanzia?Redirect=Log&logNo=220205727000\",\n",
            "\"description\": \"고마워. 그가 나를 다치게 했어. 내가 네 몫까지 해 줄게. 차를 청소해야 한다. 누가 널 이렇게 화나게 했니? 너땜에 깜짝놀랐다. 그 소식 때문에 우울해졌다. http://blog.naver.com/<b>jchangl9645</b>/50044687623\",\n",
            "\"bloggername\": \"시작하기\",\n",
            "\"bloggerlink\": \"https://blog.naver.com/muhanzia\",\n",
            "\"postdate\": \"20141210\"\n",
            "\n",
            "},\n",
            "{\n",
            "\"title\": \"10.04.22. squeaky clean\",\n",
            "\"link\": \"https:\\/\\/blog.naver.com\\/muhanzia?Redirect=Log&logNo=220233446159\",\n",
            "\"description\": \"그냥 좀 이상하다고요. 그냥 좀 조심하라고. 그냥 지금 결정을 해야 할 필요는 없다는 거지. 공짜 점심은 없다고. 그냥 그렇다고. 그냥 돈을 아끼자고. http://blog.naver.com/<b>jchangl9645</b>/50046360336\",\n",
            "\"bloggername\": \"시작하기\",\n",
            "\"bloggerlink\": \"https://blog.naver.com/muhanzia\",\n",
            "\"postdate\": \"20150108\"\n",
            "\n",
            "},\n",
            "{\n",
            "\"title\": \"09.05.12. I can't take it.\",\n",
            "\"link\": \"https:\\/\\/blog.naver.com\\/muhanzia?Redirect=Log&logNo=220254718410\",\n",
            "\"description\": \"눈뜨고 있기 조차 힘들다. 7시도 안됐어. 5살도 안됐는데. 우리 거의 얘기도 안해요. 벌써 배가 불러? 거의 먹지도 않았잖아. http://blog.naver.com/<b>jchangl9645</b>/50047341575\",\n",
            "\"bloggername\": \"시작하기\",\n",
            "\"bloggerlink\": \"https://blog.naver.com/muhanzia\",\n",
            "\"postdate\": \"20150128\"\n",
            "\n",
            "},\n",
            "{\n",
            "\"title\": \"09.05.14. then do something about it.\",\n",
            "\"link\": \"https:\\/\\/blog.naver.com\\/muhanzia?Redirect=Log&logNo=220257110237\",\n",
            "\"description\": \"그렇게 하는 이유가 뭐야. 우리가 왜 거기까지 가야 되냐고. 네가 쓸수 없다면 그렇게 많은 돈을 가져서 뭐하게 얘기하지마. 너가 가지지도 못하는거 원해서 뭐햬. http://blog.naver.com/<b>jchangl9645</b>/50047426300\",\n",
            "\"bloggername\": \"시작하기\",\n",
            "\"bloggerlink\": \"https://blog.naver.com/muhanzia\",\n",
            "\"postdate\": \"20150130\"\n",
            "\n",
            "}\n",
            "]\n",
            "}\n",
            "\n"
          ],
          "name": "stdout"
        }
      ]
    },
    {
      "cell_type": "code",
      "metadata": {
        "id": "H56z34CYoxQ6"
      },
      "source": [
        ""
      ],
      "execution_count": 7,
      "outputs": []
    },
    {
      "cell_type": "markdown",
      "metadata": {
        "id": "H6D60KiNpfzs"
      },
      "source": [
        "######## 기본 문법 복습 #########"
      ]
    },
    {
      "cell_type": "code",
      "metadata": {
        "id": "sqcj9r03pjS8",
        "outputId": "9fc963c3-e81c-4122-c334-b7147923bf75",
        "colab": {
          "base_uri": "https://localhost:8080/"
        }
      },
      "source": [
        "for n in [1,2,3]:    # 반복문 기본\n",
        "  print(n)           # 들여쓰기 중요"
      ],
      "execution_count": 8,
      "outputs": [
        {
          "output_type": "stream",
          "text": [
            "1\n",
            "2\n",
            "3\n"
          ],
          "name": "stdout"
        }
      ]
    },
    {
      "cell_type": "code",
      "metadata": {
        "id": "lG7ZngSfpvfk",
        "outputId": "5beaa93a-67ee-43c8-e57b-9e174072f4f5",
        "colab": {
          "base_uri": "https://localhost:8080/"
        }
      },
      "source": [
        "for n in [1,2,3]:    # 반복문 응용\n",
        "  print(n**2)   "
      ],
      "execution_count": 9,
      "outputs": [
        {
          "output_type": "stream",
          "text": [
            "1\n",
            "4\n",
            "9\n"
          ],
          "name": "stdout"
        }
      ]
    },
    {
      "cell_type": "code",
      "metadata": {
        "id": "-NBeyy9MqBwc",
        "outputId": "29146672-9cf7-4906-9bb0-51a87b1c463e",
        "colab": {
          "base_uri": "https://localhost:8080/"
        }
      },
      "source": [
        "[n**2 for n in range(1,6)]   # 리스트 축약 "
      ],
      "execution_count": 10,
      "outputs": [
        {
          "output_type": "execute_result",
          "data": {
            "text/plain": [
              "[1, 4, 9, 16, 25]"
            ]
          },
          "metadata": {
            "tags": []
          },
          "execution_count": 10
        }
      ]
    },
    {
      "cell_type": "code",
      "metadata": {
        "id": "2zYk0uenqLBL"
      },
      "source": [
        "def get_square(n):  # 함수 , 재활용이 용이\n",
        "  return n**2"
      ],
      "execution_count": 11,
      "outputs": []
    },
    {
      "cell_type": "code",
      "metadata": {
        "id": "RP_7w6sSqejz",
        "outputId": "a8b284b6-959d-4729-b453-79bb657ff48d",
        "colab": {
          "base_uri": "https://localhost:8080/"
        }
      },
      "source": [
        "get_square(5)"
      ],
      "execution_count": 12,
      "outputs": [
        {
          "output_type": "execute_result",
          "data": {
            "text/plain": [
              "25"
            ]
          },
          "metadata": {
            "tags": []
          },
          "execution_count": 12
        }
      ]
    },
    {
      "cell_type": "code",
      "metadata": {
        "id": "71xxhxaYqjC7",
        "outputId": "4b719ef8-1f37-4fa6-95a9-36cbc817d6ec",
        "colab": {
          "base_uri": "https://localhost:8080/"
        }
      },
      "source": [
        "[get_square(n) for n in [1,2,3,4]]"
      ],
      "execution_count": 13,
      "outputs": [
        {
          "output_type": "execute_result",
          "data": {
            "text/plain": [
              "[1, 4, 9, 16]"
            ]
          },
          "metadata": {
            "tags": []
          },
          "execution_count": 13
        }
      ]
    },
    {
      "cell_type": "code",
      "metadata": {
        "id": "648nI_zTq0OD"
      },
      "source": [
        ""
      ],
      "execution_count": 13,
      "outputs": []
    },
    {
      "cell_type": "markdown",
      "metadata": {
        "id": "HOnvNGT3rDd2"
      },
      "source": [
        "# 네이버 책 정보 가져오기\n",
        "\n",
        "\n",
        "\n"
      ]
    },
    {
      "cell_type": "code",
      "metadata": {
        "id": "LQFVyFCcrHYt"
      },
      "source": [
        "def create_url(api_node, search_text, start_num, disp_num):\n",
        "  base = \"https://openapi.naver.com/v1/search\"\n",
        "  node = \"/\"+ api_node + \".json\"\n",
        "  param_query = \"?query=\" + urllib.parse.quote(search_text)\n",
        "  param_start = \"&start=\" + str(start_num)\n",
        "  param_disp = \"&display=\" + str(disp_num)\n",
        "\n",
        "  return base + node + param_query + param_start + param_disp"
      ],
      "execution_count": 14,
      "outputs": []
    },
    {
      "cell_type": "code",
      "metadata": {
        "id": "LH5Jx4Lus9x7",
        "outputId": "397aea3d-26e9-4097-e2c0-eb7e2d660929",
        "colab": {
          "base_uri": "https://localhost:8080/",
          "height": 34
        }
      },
      "source": [
        "create_url(\"book\", \"TEST\", 1, 10)"
      ],
      "execution_count": 15,
      "outputs": [
        {
          "output_type": "execute_result",
          "data": {
            "application/vnd.google.colaboratory.intrinsic+json": {
              "type": "string"
            },
            "text/plain": [
              "'https://openapi.naver.com/v1/search/book.json?query=TEST&start=1&display=10'"
            ]
          },
          "metadata": {
            "tags": []
          },
          "execution_count": 15
        }
      ]
    },
    {
      "cell_type": "code",
      "metadata": {
        "id": "0M1aRtQntYMI"
      },
      "source": [
        "import json\n",
        "\n",
        "url = create_url(\"book\",\"파이썬\",1,3)\n",
        "\n",
        "request = urllib.request.Request(url)\n",
        "request.add_header(\"X-Naver-Client-Id\", client_id)  # 인증 과정\n",
        "request.add_header(\"X-Naver-Client-Secret\", client_secret)\n",
        "\n",
        "response = urllib.request.urlopen(request)\n",
        "\n",
        "result = json.loads(response.read().decode('utf-8'))"
      ],
      "execution_count": 16,
      "outputs": []
    },
    {
      "cell_type": "code",
      "metadata": {
        "id": "PP1XWV1GuLcs"
      },
      "source": [
        "#result"
      ],
      "execution_count": 36,
      "outputs": []
    },
    {
      "cell_type": "code",
      "metadata": {
        "id": "SLAIjOhNuMrE",
        "outputId": "574d96b5-378b-438e-bb96-e2d479ed1099",
        "colab": {
          "base_uri": "https://localhost:8080/",
          "height": 34
        }
      },
      "source": [
        "result['display']\n",
        "url"
      ],
      "execution_count": 18,
      "outputs": [
        {
          "output_type": "execute_result",
          "data": {
            "application/vnd.google.colaboratory.intrinsic+json": {
              "type": "string"
            },
            "text/plain": [
              "'https://openapi.naver.com/v1/search/book.json?query=%ED%8C%8C%EC%9D%B4%EC%8D%AC&start=1&display=3'"
            ]
          },
          "metadata": {
            "tags": []
          },
          "execution_count": 18
        }
      ]
    },
    {
      "cell_type": "code",
      "metadata": {
        "id": "wv-kpKhUyI2m"
      },
      "source": [
        "#result['items']"
      ],
      "execution_count": 35,
      "outputs": []
    },
    {
      "cell_type": "code",
      "metadata": {
        "id": "zBgTldjtygqf",
        "outputId": "00875bb5-6c27-4bf5-d337-6162079657ef",
        "colab": {
          "base_uri": "https://localhost:8080/"
        }
      },
      "source": [
        "len(result['items'])"
      ],
      "execution_count": 20,
      "outputs": [
        {
          "output_type": "execute_result",
          "data": {
            "text/plain": [
              "3"
            ]
          },
          "metadata": {
            "tags": []
          },
          "execution_count": 20
        }
      ]
    },
    {
      "cell_type": "code",
      "metadata": {
        "id": "oCYfr0XQyrlP",
        "outputId": "6adf2941-a1dd-448c-8794-ba9eb3a90ffa",
        "colab": {
          "base_uri": "https://localhost:8080/",
          "height": 34
        }
      },
      "source": [
        "result['items'][1]['title']"
      ],
      "execution_count": 21,
      "outputs": [
        {
          "output_type": "execute_result",
          "data": {
            "application/vnd.google.colaboratory.intrinsic+json": {
              "type": "string"
            },
            "text/plain": [
              "'<b>파이썬</b> 알고리즘 인터뷰 (95가지 알고리즘 문제 풀이로 완성하는 코딩 테스트)'"
            ]
          },
          "metadata": {
            "tags": []
          },
          "execution_count": 21
        }
      ]
    },
    {
      "cell_type": "code",
      "metadata": {
        "id": "GufDdtWcy6r_",
        "outputId": "b7c7afb1-2a0d-47da-9860-f0fca8d35e9a",
        "colab": {
          "base_uri": "https://localhost:8080/",
          "height": 34
        }
      },
      "source": [
        "result['items'][2]['title']"
      ],
      "execution_count": 22,
      "outputs": [
        {
          "output_type": "execute_result",
          "data": {
            "application/vnd.google.colaboratory.intrinsic+json": {
              "type": "string"
            },
            "text/plain": [
              "'혼자 공부하는 <b>파이썬</b> (<b>파이썬</b> 최신 버전 반영)'"
            ]
          },
          "metadata": {
            "tags": []
          },
          "execution_count": 22
        }
      ]
    },
    {
      "cell_type": "code",
      "metadata": {
        "id": "ZxDIiRr9zMM6",
        "outputId": "eab5e96c-c893-4a06-8198-eb5de64f029e",
        "colab": {
          "base_uri": "https://localhost:8080/"
        }
      },
      "source": [
        "titles = [result['items'][n]['title'] for n in range(3)]\n",
        "titles"
      ],
      "execution_count": 23,
      "outputs": [
        {
          "output_type": "execute_result",
          "data": {
            "text/plain": [
              "['이것이 취업을 위한 코딩 테스트다 with <b>파이썬</b> (취업과 이직을 결정하는 알고리즘 인터뷰 완벽 가이드, C/C++, 자바 코드 제공)',\n",
              " '<b>파이썬</b> 알고리즘 인터뷰 (95가지 알고리즘 문제 풀이로 완성하는 코딩 테스트)',\n",
              " '혼자 공부하는 <b>파이썬</b> (<b>파이썬</b> 최신 버전 반영)']"
            ]
          },
          "metadata": {
            "tags": []
          },
          "execution_count": 23
        }
      ]
    },
    {
      "cell_type": "code",
      "metadata": {
        "id": "BwzU8oSo0165",
        "outputId": "3ad7ea65-c8c2-4ede-8616-01b310e97a43",
        "colab": {
          "base_uri": "https://localhost:8080/"
        }
      },
      "source": [
        "titles = [result['items'][n]['title'] for n in range(3)]\n",
        "titles"
      ],
      "execution_count": 24,
      "outputs": [
        {
          "output_type": "execute_result",
          "data": {
            "text/plain": [
              "['이것이 취업을 위한 코딩 테스트다 with <b>파이썬</b> (취업과 이직을 결정하는 알고리즘 인터뷰 완벽 가이드, C/C++, 자바 코드 제공)',\n",
              " '<b>파이썬</b> 알고리즘 인터뷰 (95가지 알고리즘 문제 풀이로 완성하는 코딩 테스트)',\n",
              " '혼자 공부하는 <b>파이썬</b> (<b>파이썬</b> 최신 버전 반영)']"
            ]
          },
          "metadata": {
            "tags": []
          },
          "execution_count": 24
        }
      ]
    },
    {
      "cell_type": "code",
      "metadata": {
        "id": "FtRXLXqC1zNz"
      },
      "source": [
        "#result['items']"
      ],
      "execution_count": 34,
      "outputs": []
    },
    {
      "cell_type": "code",
      "metadata": {
        "id": "vxBddCZX16-o",
        "outputId": "c5dc556f-2df3-417a-9ef3-1a8578d83c38",
        "colab": {
          "base_uri": "https://localhost:8080/"
        }
      },
      "source": [
        "pubdate = [result['items'][n]['pubdate']for n in range(3)]\n",
        "pubdate\n",
        "authors = [result['items'][n]['author']for n in range(3)]\n",
        "authors"
      ],
      "execution_count": 26,
      "outputs": [
        {
          "output_type": "execute_result",
          "data": {
            "text/plain": [
              "['나동빈', '박상길', '윤인성']"
            ]
          },
          "metadata": {
            "tags": []
          },
          "execution_count": 26
        }
      ]
    },
    {
      "cell_type": "code",
      "metadata": {
        "id": "c9D4mklq2N4w",
        "outputId": "ed798afb-c93d-4f05-a0c4-6beaea1ddcd3",
        "colab": {
          "base_uri": "https://localhost:8080/",
          "height": 137
        }
      },
      "source": [
        "import pandas as pd\n",
        "pd.DataFrame({'책제목':titles,'작가':authors,'출판일':pubdate})"
      ],
      "execution_count": 27,
      "outputs": [
        {
          "output_type": "execute_result",
          "data": {
            "text/html": [
              "<div>\n",
              "<style scoped>\n",
              "    .dataframe tbody tr th:only-of-type {\n",
              "        vertical-align: middle;\n",
              "    }\n",
              "\n",
              "    .dataframe tbody tr th {\n",
              "        vertical-align: top;\n",
              "    }\n",
              "\n",
              "    .dataframe thead th {\n",
              "        text-align: right;\n",
              "    }\n",
              "</style>\n",
              "<table border=\"1\" class=\"dataframe\">\n",
              "  <thead>\n",
              "    <tr style=\"text-align: right;\">\n",
              "      <th></th>\n",
              "      <th>책제목</th>\n",
              "      <th>작가</th>\n",
              "      <th>출판일</th>\n",
              "    </tr>\n",
              "  </thead>\n",
              "  <tbody>\n",
              "    <tr>\n",
              "      <th>0</th>\n",
              "      <td>이것이 취업을 위한 코딩 테스트다 with &lt;b&gt;파이썬&lt;/b&gt; (취업과 이직을 결정...</td>\n",
              "      <td>나동빈</td>\n",
              "      <td>20200805</td>\n",
              "    </tr>\n",
              "    <tr>\n",
              "      <th>1</th>\n",
              "      <td>&lt;b&gt;파이썬&lt;/b&gt; 알고리즘 인터뷰 (95가지 알고리즘 문제 풀이로 완성하는 코딩 ...</td>\n",
              "      <td>박상길</td>\n",
              "      <td>20200715</td>\n",
              "    </tr>\n",
              "    <tr>\n",
              "      <th>2</th>\n",
              "      <td>혼자 공부하는 &lt;b&gt;파이썬&lt;/b&gt; (&lt;b&gt;파이썬&lt;/b&gt; 최신 버전 반영)</td>\n",
              "      <td>윤인성</td>\n",
              "      <td>20190610</td>\n",
              "    </tr>\n",
              "  </tbody>\n",
              "</table>\n",
              "</div>"
            ],
            "text/plain": [
              "                                                 책제목   작가       출판일\n",
              "0  이것이 취업을 위한 코딩 테스트다 with <b>파이썬</b> (취업과 이직을 결정...  나동빈  20200805\n",
              "1  <b>파이썬</b> 알고리즘 인터뷰 (95가지 알고리즘 문제 풀이로 완성하는 코딩 ...  박상길  20200715\n",
              "2           혼자 공부하는 <b>파이썬</b> (<b>파이썬</b> 최신 버전 반영)  윤인성  20190610"
            ]
          },
          "metadata": {
            "tags": []
          },
          "execution_count": 27
        }
      ]
    },
    {
      "cell_type": "code",
      "metadata": {
        "id": "TuIpv7TU4IiZ",
        "outputId": "f7cf2a06-fc77-43ad-d051-23df34a155d7",
        "colab": {
          "base_uri": "https://localhost:8080/",
          "height": 187
        }
      },
      "source": [
        "def get_dataframe(url):\n",
        "  \n",
        "\n",
        "  request = urllib.request.Request(url)\n",
        "  request.add_header(\"X-Naver-Client-Id\", client_id)  # 인증 과정\n",
        "  request.add_header(\"X-Naver-Client-Secret\", client_secret)\n",
        "\n",
        "  response = urllib.request.urlopen(request)\n",
        "\n",
        "  result = json.loads(response.read().decode('utf-8'))\n",
        "  pubdate = [result['items'][n]['pubdate']for n in range(len(result['items']))]\n",
        "  authors = [result['items'][n]['author']for n in range(len(result['items']))]\n",
        "  titles = [result['items'][n]['title'] for n in range(len(result['items']))]\n",
        "  return pd.DataFrame({'책제목':titles,'작가':authors,'출판일':pubdate})\n",
        "\n",
        "url = create_url(\"book\",\"파이썬\",1,3)\n",
        "get_dataframe(url)\n"
      ],
      "execution_count": 28,
      "outputs": [
        {
          "output_type": "execute_result",
          "data": {
            "text/html": [
              "<div>\n",
              "<style scoped>\n",
              "    .dataframe tbody tr th:only-of-type {\n",
              "        vertical-align: middle;\n",
              "    }\n",
              "\n",
              "    .dataframe tbody tr th {\n",
              "        vertical-align: top;\n",
              "    }\n",
              "\n",
              "    .dataframe thead th {\n",
              "        text-align: right;\n",
              "    }\n",
              "</style>\n",
              "<table border=\"1\" class=\"dataframe\">\n",
              "  <thead>\n",
              "    <tr style=\"text-align: right;\">\n",
              "      <th></th>\n",
              "      <th>책제목</th>\n",
              "      <th>작가</th>\n",
              "      <th>출판일</th>\n",
              "    </tr>\n",
              "  </thead>\n",
              "  <tbody>\n",
              "    <tr>\n",
              "      <th>0</th>\n",
              "      <td>이것이 취업을 위한 코딩 테스트다 with &lt;b&gt;파이썬&lt;/b&gt; (취업과 이직을 결정...</td>\n",
              "      <td>나동빈</td>\n",
              "      <td>20200805</td>\n",
              "    </tr>\n",
              "    <tr>\n",
              "      <th>1</th>\n",
              "      <td>&lt;b&gt;파이썬&lt;/b&gt; 알고리즘 인터뷰 (95가지 알고리즘 문제 풀이로 완성하는 코딩 ...</td>\n",
              "      <td>박상길</td>\n",
              "      <td>20200715</td>\n",
              "    </tr>\n",
              "    <tr>\n",
              "      <th>2</th>\n",
              "      <td>혼자 공부하는 &lt;b&gt;파이썬&lt;/b&gt; (&lt;b&gt;파이썬&lt;/b&gt; 최신 버전 반영)</td>\n",
              "      <td>윤인성</td>\n",
              "      <td>20190610</td>\n",
              "    </tr>\n",
              "  </tbody>\n",
              "</table>\n",
              "</div>"
            ],
            "text/plain": [
              "                                                 책제목   작가       출판일\n",
              "0  이것이 취업을 위한 코딩 테스트다 with <b>파이썬</b> (취업과 이직을 결정...  나동빈  20200805\n",
              "1  <b>파이썬</b> 알고리즘 인터뷰 (95가지 알고리즘 문제 풀이로 완성하는 코딩 ...  박상길  20200715\n",
              "2           혼자 공부하는 <b>파이썬</b> (<b>파이썬</b> 최신 버전 반영)  윤인성  20190610"
            ]
          },
          "metadata": {
            "tags": []
          },
          "execution_count": 28
        }
      ]
    },
    {
      "cell_type": "code",
      "metadata": {
        "id": "VLtFqaAp42dM",
        "outputId": "c3c3d573-9541-4f08-885a-e37c14d691f6",
        "colab": {
          "base_uri": "https://localhost:8080/",
          "height": 347
        }
      },
      "source": [
        "def get_dataframe(url):\n",
        "  \n",
        "\n",
        "  request = urllib.request.Request(url)\n",
        "  request.add_header(\"X-Naver-Client-Id\", client_id)  # 인증 과정\n",
        "  request.add_header(\"X-Naver-Client-Secret\", client_secret)\n",
        "\n",
        "  response = urllib.request.urlopen(request)\n",
        "\n",
        "  result = json.loads(response.read().decode('utf-8'))\n",
        "  pubdate = [result['items'][n]['pubdate'].replace(\"<b>\",\"\").replace(\"</b>\",\"\")for n in range(len(result['items']))]\n",
        "  authors = [result['items'][n]['author'].replace(\"<b>\",\"\").replace(\"</b>\",\"\")for n in range(len(result['items']))]\n",
        "  titles = [result['items'][n]['title'].replace(\"<b>\",\"\").replace(\"</b>\",\"\") for n in range(len(result['items']))]\n",
        "  return pd.DataFrame({'책제목':titles,'작가':authors,'출판일':pubdate})\n",
        "\n",
        "url = create_url(\"book\",\"파스칼\",1,10)\n",
        "get_dataframe(url)\n",
        "# body = re.sub('<b>.*?</b>', '', body, 0, re.I|re.S)\n"
      ],
      "execution_count": 33,
      "outputs": [
        {
          "output_type": "execute_result",
          "data": {
            "text/html": [
              "<div>\n",
              "<style scoped>\n",
              "    .dataframe tbody tr th:only-of-type {\n",
              "        vertical-align: middle;\n",
              "    }\n",
              "\n",
              "    .dataframe tbody tr th {\n",
              "        vertical-align: top;\n",
              "    }\n",
              "\n",
              "    .dataframe thead th {\n",
              "        text-align: right;\n",
              "    }\n",
              "</style>\n",
              "<table border=\"1\" class=\"dataframe\">\n",
              "  <thead>\n",
              "    <tr style=\"text-align: right;\">\n",
              "      <th></th>\n",
              "      <th>책제목</th>\n",
              "      <th>작가</th>\n",
              "      <th>출판일</th>\n",
              "    </tr>\n",
              "  </thead>\n",
              "  <tbody>\n",
              "    <tr>\n",
              "      <th>0</th>\n",
              "      <td>지도로 보는 세계정세 (국제관계 전문가 파스칼 보니파스가 바라본 글로벌 이슈와 국제...</td>\n",
              "      <td>파스칼 보니파스</td>\n",
              "      <td>20200410</td>\n",
              "    </tr>\n",
              "    <tr>\n",
              "      <th>1</th>\n",
              "      <td>리스본행 야간열차 (한정판 윈터 에디션)</td>\n",
              "      <td>파스칼 메르시어</td>\n",
              "      <td>20140325</td>\n",
              "    </tr>\n",
              "    <tr>\n",
              "      <th>2</th>\n",
              "      <td>우리가 사랑했던 정원에서</td>\n",
              "      <td>파스칼 키냐르</td>\n",
              "      <td>20190705</td>\n",
              "    </tr>\n",
              "    <tr>\n",
              "      <th>3</th>\n",
              "      <td>팡세</td>\n",
              "      <td>블레즈 파스칼</td>\n",
              "      <td>20030825</td>\n",
              "    </tr>\n",
              "    <tr>\n",
              "      <th>4</th>\n",
              "      <td>음악 혐오</td>\n",
              "      <td>파스칼 키냐르</td>\n",
              "      <td>20170629</td>\n",
              "    </tr>\n",
              "    <tr>\n",
              "      <th>5</th>\n",
              "      <td>팡세 (고전의 숲 : 두란노 머스트북 2) (Pensees)</td>\n",
              "      <td>블레즈 파스칼</td>\n",
              "      <td>20200226</td>\n",
              "    </tr>\n",
              "    <tr>\n",
              "      <th>6</th>\n",
              "      <td>자기 결정 (행복하고 존엄한 삶은 내가 결정하는 삶이다,일상 인문학 005)</td>\n",
              "      <td>파스칼 메르시어</td>\n",
              "      <td>20150921</td>\n",
              "    </tr>\n",
              "    <tr>\n",
              "      <th>7</th>\n",
              "      <td>은밀한 생</td>\n",
              "      <td>파스칼 키냐르</td>\n",
              "      <td>20010712</td>\n",
              "    </tr>\n",
              "    <tr>\n",
              "      <th>8</th>\n",
              "      <td>세상의 모든 아침 (Tous Les Matins Du Monde)</td>\n",
              "      <td>파스칼 키냐르</td>\n",
              "      <td>20130827</td>\n",
              "    </tr>\n",
              "    <tr>\n",
              "      <th>9</th>\n",
              "      <td>지정학 지금 세계에 무슨 일이 벌어지고 있는가?</td>\n",
              "      <td>파스칼 보니파스</td>\n",
              "      <td>20190219</td>\n",
              "    </tr>\n",
              "  </tbody>\n",
              "</table>\n",
              "</div>"
            ],
            "text/plain": [
              "                                                 책제목        작가       출판일\n",
              "0  지도로 보는 세계정세 (국제관계 전문가 파스칼 보니파스가 바라본 글로벌 이슈와 국제...  파스칼 보니파스  20200410\n",
              "1                             리스본행 야간열차 (한정판 윈터 에디션)  파스칼 메르시어  20140325\n",
              "2                                      우리가 사랑했던 정원에서   파스칼 키냐르  20190705\n",
              "3                                                 팡세   블레즈 파스칼  20030825\n",
              "4                                              음악 혐오   파스칼 키냐르  20170629\n",
              "5                  팡세 (고전의 숲 : 두란노 머스트북 2) (Pensees)   블레즈 파스칼  20200226\n",
              "6         자기 결정 (행복하고 존엄한 삶은 내가 결정하는 삶이다,일상 인문학 005)  파스칼 메르시어  20150921\n",
              "7                                              은밀한 생   파스칼 키냐르  20010712\n",
              "8               세상의 모든 아침 (Tous Les Matins Du Monde)   파스칼 키냐르  20130827\n",
              "9                         지정학 지금 세계에 무슨 일이 벌어지고 있는가?  파스칼 보니파스  20190219"
            ]
          },
          "metadata": {
            "tags": []
          },
          "execution_count": 33
        }
      ]
    },
    {
      "cell_type": "code",
      "metadata": {
        "id": "P4xZZ4oa97BL",
        "outputId": "5fc10875-499f-4e12-836b-aefbe88364ac",
        "colab": {
          "base_uri": "https://localhost:8080/",
          "height": 406
        }
      },
      "source": [
        "result_search = []\n",
        "for n in range(1,300,10):\n",
        "  url = create_url(\"book\",\"파이썬\",n,100)\n",
        "  result_search.append(get_dataframe(url))\n",
        "result_search = pd.concat(result_search)\n",
        "result_search"
      ],
      "execution_count": 41,
      "outputs": [
        {
          "output_type": "execute_result",
          "data": {
            "text/html": [
              "<div>\n",
              "<style scoped>\n",
              "    .dataframe tbody tr th:only-of-type {\n",
              "        vertical-align: middle;\n",
              "    }\n",
              "\n",
              "    .dataframe tbody tr th {\n",
              "        vertical-align: top;\n",
              "    }\n",
              "\n",
              "    .dataframe thead th {\n",
              "        text-align: right;\n",
              "    }\n",
              "</style>\n",
              "<table border=\"1\" class=\"dataframe\">\n",
              "  <thead>\n",
              "    <tr style=\"text-align: right;\">\n",
              "      <th></th>\n",
              "      <th>책제목</th>\n",
              "      <th>작가</th>\n",
              "      <th>출판일</th>\n",
              "    </tr>\n",
              "  </thead>\n",
              "  <tbody>\n",
              "    <tr>\n",
              "      <th>0</th>\n",
              "      <td>이것이 취업을 위한 코딩 테스트다 with 파이썬 (취업과 이직을 결정하는 알고리즘...</td>\n",
              "      <td>나동빈</td>\n",
              "      <td>20200805</td>\n",
              "    </tr>\n",
              "    <tr>\n",
              "      <th>1</th>\n",
              "      <td>파이썬 알고리즘 인터뷰 (95가지 알고리즘 문제 풀이로 완성하는 코딩 테스트)</td>\n",
              "      <td>박상길</td>\n",
              "      <td>20200715</td>\n",
              "    </tr>\n",
              "    <tr>\n",
              "      <th>2</th>\n",
              "      <td>혼자 공부하는 파이썬 (파이썬 최신 버전 반영)</td>\n",
              "      <td>윤인성</td>\n",
              "      <td>20190610</td>\n",
              "    </tr>\n",
              "    <tr>\n",
              "      <th>3</th>\n",
              "      <td>Do it! 점프 투 파이썬</td>\n",
              "      <td>박응용</td>\n",
              "      <td>20190620</td>\n",
              "    </tr>\n",
              "    <tr>\n",
              "      <th>4</th>\n",
              "      <td>파이썬 증권 데이터 분석 (파이썬 입문, 웹 스크레이핑, 트레이딩 전략, 자동 매매)</td>\n",
              "      <td>김황후</td>\n",
              "      <td>20200701</td>\n",
              "    </tr>\n",
              "    <tr>\n",
              "      <th>...</th>\n",
              "      <td>...</td>\n",
              "      <td>...</td>\n",
              "      <td>...</td>\n",
              "    </tr>\n",
              "    <tr>\n",
              "      <th>95</th>\n",
              "      <td>예제 중심의 파이썬3 (쉽고 재미있는 프로그래밍 언어,Python)</td>\n",
              "      <td>최용</td>\n",
              "      <td>20140212</td>\n",
              "    </tr>\n",
              "    <tr>\n",
              "      <th>96</th>\n",
              "      <td>파이썬 코딩 (처음 시작하는)</td>\n",
              "      <td>문병수|Annie Chong|문석균</td>\n",
              "      <td>20170717</td>\n",
              "    </tr>\n",
              "    <tr>\n",
              "      <th>97</th>\n",
              "      <td>파이썬 프로그래밍 (공학 모델링을 위한)</td>\n",
              "      <td>Philip Nelson|Jesse M. Kinder</td>\n",
              "      <td>20170131</td>\n",
              "    </tr>\n",
              "    <tr>\n",
              "      <th>98</th>\n",
              "      <td>나의 첫 파이썬 (설치부터 시작하는 가장 쉬운 입문서)</td>\n",
              "      <td>에릭 마테스</td>\n",
              "      <td>20170501</td>\n",
              "    </tr>\n",
              "    <tr>\n",
              "      <th>99</th>\n",
              "      <td>초간단 파이썬 입문서</td>\n",
              "      <td>유채곤</td>\n",
              "      <td>20170223</td>\n",
              "    </tr>\n",
              "  </tbody>\n",
              "</table>\n",
              "<p>3000 rows × 3 columns</p>\n",
              "</div>"
            ],
            "text/plain": [
              "                                                  책제목  ...       출판일\n",
              "0   이것이 취업을 위한 코딩 테스트다 with 파이썬 (취업과 이직을 결정하는 알고리즘...  ...  20200805\n",
              "1         파이썬 알고리즘 인터뷰 (95가지 알고리즘 문제 풀이로 완성하는 코딩 테스트)  ...  20200715\n",
              "2                          혼자 공부하는 파이썬 (파이썬 최신 버전 반영)  ...  20190610\n",
              "3                                     Do it! 점프 투 파이썬  ...  20190620\n",
              "4     파이썬 증권 데이터 분석 (파이썬 입문, 웹 스크레이핑, 트레이딩 전략, 자동 매매)  ...  20200701\n",
              "..                                                ...  ...       ...\n",
              "95              예제 중심의 파이썬3 (쉽고 재미있는 프로그래밍 언어,Python)  ...  20140212\n",
              "96                                   파이썬 코딩 (처음 시작하는)  ...  20170717\n",
              "97                             파이썬 프로그래밍 (공학 모델링을 위한)  ...  20170131\n",
              "98                     나의 첫 파이썬 (설치부터 시작하는 가장 쉬운 입문서)  ...  20170501\n",
              "99                                        초간단 파이썬 입문서  ...  20170223\n",
              "\n",
              "[3000 rows x 3 columns]"
            ]
          },
          "metadata": {
            "tags": []
          },
          "execution_count": 41
        }
      ]
    },
    {
      "cell_type": "markdown",
      "metadata": {
        "id": "ygg08Y__FAhC"
      },
      "source": [
        ""
      ]
    },
    {
      "cell_type": "markdown",
      "metadata": {
        "id": "Ge8dG_aQEuYs"
      },
      "source": [
        "**크롤링한후 엑셀 형식으로 저장하는 양식**"
      ]
    },
    {
      "cell_type": "code",
      "metadata": {
        "id": "ZCCplFjQDwOC",
        "outputId": "0fa66610-09c1-4563-af63-44530460686a",
        "colab": {
          "base_uri": "https://localhost:8080/"
        }
      },
      "source": [
        "pip install xlsxwriter"
      ],
      "execution_count": 53,
      "outputs": [
        {
          "output_type": "stream",
          "text": [
            "Requirement already satisfied: xlsxwriter in /usr/local/lib/python3.6/dist-packages (1.3.7)\n"
          ],
          "name": "stdout"
        }
      ]
    },
    {
      "cell_type": "code",
      "metadata": {
        "id": "MqJmZZtDAOZ5"
      },
      "source": [
        "\n",
        "#result_search.info()\n",
        "\n",
        "\n",
        "writer = pd.ExcelWriter(\"books.xlsx\",engine = 'xlsxwriter')\n",
        "result_search.to_excel(writer,sheet_name = 'Sheet1')\n",
        "workbook = writer.book\n",
        "worksheet = writer.sheets['Sheet1']\n",
        "format_center = workbook.add_format({'text_wrap':True})\n",
        "format_center.set_align('center')\n",
        "format_center.set_align('vcenter')\n",
        "\n",
        "worksheet.set_column('A:A',5)\n",
        "worksheet.set_column('B:B',90,format_center)\n",
        "worksheet.set_column('C:C',40,format_center)\n",
        "worksheet.set_column('D:D',15)\n",
        "\n",
        "writer.save() #파일에 저장되어있음."
      ],
      "execution_count": 52,
      "outputs": []
    },
    {
      "cell_type": "markdown",
      "metadata": {
        "id": "TM5NDItWExtC"
      },
      "source": [
        ""
      ]
    },
    {
      "cell_type": "code",
      "metadata": {
        "id": "DwPRVGz9Ezla"
      },
      "source": [
        ""
      ],
      "execution_count": null,
      "outputs": []
    }
  ]
}