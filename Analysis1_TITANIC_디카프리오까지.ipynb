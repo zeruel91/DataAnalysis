{
  "nbformat": 4,
  "nbformat_minor": 0,
  "metadata": {
    "colab": {
      "name": "Analysis1 TITANIC.ipynb",
      "provenance": [],
      "collapsed_sections": [],
      "include_colab_link": true
    },
    "kernelspec": {
      "name": "python3",
      "display_name": "Python 3"
    }
  },
  "cells": [
    {
      "cell_type": "markdown",
      "metadata": {
        "id": "view-in-github",
        "colab_type": "text"
      },
      "source": [
        "<a href=\"https://colab.research.google.com/github/zeruel91/DataAnalysis/blob/main/Analysis1_TITANIC_%EB%94%94%EC%B9%B4%ED%94%84%EB%A6%AC%EC%98%A4%EA%B9%8C%EC%A7%80.ipynb\" target=\"_parent\"><img src=\"https://colab.research.google.com/assets/colab-badge.svg\" alt=\"Open In Colab\"/></a>"
      ]
    },
    {
      "cell_type": "code",
      "metadata": {
        "id": "sRmHczCglaBo"
      },
      "source": [
        "import numpy as np\n",
        "import pandas as pd\n",
        "import matplotlib.pyplot as plt\n",
        "import seaborn as sns\n",
        "%matplotlib inline \n",
        "\n",
        "raw_data = pd.read_excel('titanic.xls')"
      ],
      "execution_count": null,
      "outputs": []
    },
    {
      "cell_type": "code",
      "metadata": {
        "id": "s6DrvlROfGz7"
      },
      "source": [
        ""
      ],
      "execution_count": null,
      "outputs": []
    },
    {
      "cell_type": "code",
      "metadata": {
        "id": "qwmzy1sQovsV"
      },
      "source": [
        "raw_data = pd.read_excel('titanic.xls')"
      ],
      "execution_count": null,
      "outputs": []
    },
    {
      "cell_type": "code",
      "metadata": {
        "colab": {
          "base_uri": "https://localhost:8080/"
        },
        "id": "Ng1VTsIOpHMk",
        "outputId": "719e3a46-d5af-4213-8c6a-5cd9681f153c"
      },
      "source": [
        "raw_data.info()"
      ],
      "execution_count": null,
      "outputs": [
        {
          "output_type": "stream",
          "text": [
            "<class 'pandas.core.frame.DataFrame'>\n",
            "RangeIndex: 1309 entries, 0 to 1308\n",
            "Data columns (total 14 columns):\n",
            " #   Column     Non-Null Count  Dtype  \n",
            "---  ------     --------------  -----  \n",
            " 0   pclass     1309 non-null   int64  \n",
            " 1   survived   1309 non-null   int64  \n",
            " 2   name       1309 non-null   object \n",
            " 3   sex        1309 non-null   object \n",
            " 4   age        1046 non-null   float64\n",
            " 5   sibsp      1309 non-null   int64  \n",
            " 6   parch      1309 non-null   int64  \n",
            " 7   ticket     1309 non-null   object \n",
            " 8   fare       1308 non-null   float64\n",
            " 9   cabin      295 non-null    object \n",
            " 10  embarked   1307 non-null   object \n",
            " 11  boat       486 non-null    object \n",
            " 12  body       121 non-null    float64\n",
            " 13  home.dest  745 non-null    object \n",
            "dtypes: float64(3), int64(4), object(7)\n",
            "memory usage: 143.3+ KB\n"
          ],
          "name": "stdout"
        }
      ]
    },
    {
      "cell_type": "code",
      "metadata": {
        "colab": {
          "base_uri": "https://localhost:8080/",
          "height": 530
        },
        "id": "VA1ppg7fpLFM",
        "outputId": "1f2a17e6-1f04-4d46-c191-649011a9be08"
      },
      "source": [
        "raw_data.head()"
      ],
      "execution_count": null,
      "outputs": [
        {
          "output_type": "execute_result",
          "data": {
            "text/html": [
              "<div>\n",
              "<style scoped>\n",
              "    .dataframe tbody tr th:only-of-type {\n",
              "        vertical-align: middle;\n",
              "    }\n",
              "\n",
              "    .dataframe tbody tr th {\n",
              "        vertical-align: top;\n",
              "    }\n",
              "\n",
              "    .dataframe thead th {\n",
              "        text-align: right;\n",
              "    }\n",
              "</style>\n",
              "<table border=\"1\" class=\"dataframe\">\n",
              "  <thead>\n",
              "    <tr style=\"text-align: right;\">\n",
              "      <th></th>\n",
              "      <th>pclass</th>\n",
              "      <th>survived</th>\n",
              "      <th>name</th>\n",
              "      <th>sex</th>\n",
              "      <th>age</th>\n",
              "      <th>sibsp</th>\n",
              "      <th>parch</th>\n",
              "      <th>ticket</th>\n",
              "      <th>fare</th>\n",
              "      <th>cabin</th>\n",
              "      <th>embarked</th>\n",
              "      <th>boat</th>\n",
              "      <th>body</th>\n",
              "      <th>home.dest</th>\n",
              "    </tr>\n",
              "  </thead>\n",
              "  <tbody>\n",
              "    <tr>\n",
              "      <th>0</th>\n",
              "      <td>1</td>\n",
              "      <td>1</td>\n",
              "      <td>Allen, Miss. Elisabeth Walton</td>\n",
              "      <td>female</td>\n",
              "      <td>29.0000</td>\n",
              "      <td>0</td>\n",
              "      <td>0</td>\n",
              "      <td>24160</td>\n",
              "      <td>211.3375</td>\n",
              "      <td>B5</td>\n",
              "      <td>S</td>\n",
              "      <td>2</td>\n",
              "      <td>NaN</td>\n",
              "      <td>St Louis, MO</td>\n",
              "    </tr>\n",
              "    <tr>\n",
              "      <th>1</th>\n",
              "      <td>1</td>\n",
              "      <td>1</td>\n",
              "      <td>Allison, Master. Hudson Trevor</td>\n",
              "      <td>male</td>\n",
              "      <td>0.9167</td>\n",
              "      <td>1</td>\n",
              "      <td>2</td>\n",
              "      <td>113781</td>\n",
              "      <td>151.5500</td>\n",
              "      <td>C22 C26</td>\n",
              "      <td>S</td>\n",
              "      <td>11</td>\n",
              "      <td>NaN</td>\n",
              "      <td>Montreal, PQ / Chesterville, ON</td>\n",
              "    </tr>\n",
              "    <tr>\n",
              "      <th>2</th>\n",
              "      <td>1</td>\n",
              "      <td>0</td>\n",
              "      <td>Allison, Miss. Helen Loraine</td>\n",
              "      <td>female</td>\n",
              "      <td>2.0000</td>\n",
              "      <td>1</td>\n",
              "      <td>2</td>\n",
              "      <td>113781</td>\n",
              "      <td>151.5500</td>\n",
              "      <td>C22 C26</td>\n",
              "      <td>S</td>\n",
              "      <td>NaN</td>\n",
              "      <td>NaN</td>\n",
              "      <td>Montreal, PQ / Chesterville, ON</td>\n",
              "    </tr>\n",
              "    <tr>\n",
              "      <th>3</th>\n",
              "      <td>1</td>\n",
              "      <td>0</td>\n",
              "      <td>Allison, Mr. Hudson Joshua Creighton</td>\n",
              "      <td>male</td>\n",
              "      <td>30.0000</td>\n",
              "      <td>1</td>\n",
              "      <td>2</td>\n",
              "      <td>113781</td>\n",
              "      <td>151.5500</td>\n",
              "      <td>C22 C26</td>\n",
              "      <td>S</td>\n",
              "      <td>NaN</td>\n",
              "      <td>135.0</td>\n",
              "      <td>Montreal, PQ / Chesterville, ON</td>\n",
              "    </tr>\n",
              "    <tr>\n",
              "      <th>4</th>\n",
              "      <td>1</td>\n",
              "      <td>0</td>\n",
              "      <td>Allison, Mrs. Hudson J C (Bessie Waldo Daniels)</td>\n",
              "      <td>female</td>\n",
              "      <td>25.0000</td>\n",
              "      <td>1</td>\n",
              "      <td>2</td>\n",
              "      <td>113781</td>\n",
              "      <td>151.5500</td>\n",
              "      <td>C22 C26</td>\n",
              "      <td>S</td>\n",
              "      <td>NaN</td>\n",
              "      <td>NaN</td>\n",
              "      <td>Montreal, PQ / Chesterville, ON</td>\n",
              "    </tr>\n",
              "  </tbody>\n",
              "</table>\n",
              "</div>"
            ],
            "text/plain": [
              "   pclass  survived  ...   body                        home.dest\n",
              "0       1         1  ...    NaN                     St Louis, MO\n",
              "1       1         1  ...    NaN  Montreal, PQ / Chesterville, ON\n",
              "2       1         0  ...    NaN  Montreal, PQ / Chesterville, ON\n",
              "3       1         0  ...  135.0  Montreal, PQ / Chesterville, ON\n",
              "4       1         0  ...    NaN  Montreal, PQ / Chesterville, ON\n",
              "\n",
              "[5 rows x 14 columns]"
            ]
          },
          "metadata": {
            "tags": []
          },
          "execution_count": 4
        }
      ]
    },
    {
      "cell_type": "code",
      "metadata": {
        "colab": {
          "base_uri": "https://localhost:8080/",
          "height": 316
        },
        "id": "I6NdxA5zpQ4O",
        "outputId": "4644bd48-fb1e-4d28-bd53-b598c7c0ff78"
      },
      "source": [
        "raw_data.describe()"
      ],
      "execution_count": null,
      "outputs": [
        {
          "output_type": "execute_result",
          "data": {
            "text/html": [
              "<div>\n",
              "<style scoped>\n",
              "    .dataframe tbody tr th:only-of-type {\n",
              "        vertical-align: middle;\n",
              "    }\n",
              "\n",
              "    .dataframe tbody tr th {\n",
              "        vertical-align: top;\n",
              "    }\n",
              "\n",
              "    .dataframe thead th {\n",
              "        text-align: right;\n",
              "    }\n",
              "</style>\n",
              "<table border=\"1\" class=\"dataframe\">\n",
              "  <thead>\n",
              "    <tr style=\"text-align: right;\">\n",
              "      <th></th>\n",
              "      <th>pclass</th>\n",
              "      <th>survived</th>\n",
              "      <th>age</th>\n",
              "      <th>sibsp</th>\n",
              "      <th>parch</th>\n",
              "      <th>fare</th>\n",
              "      <th>body</th>\n",
              "    </tr>\n",
              "  </thead>\n",
              "  <tbody>\n",
              "    <tr>\n",
              "      <th>count</th>\n",
              "      <td>1309.000000</td>\n",
              "      <td>1309.000000</td>\n",
              "      <td>1046.000000</td>\n",
              "      <td>1309.000000</td>\n",
              "      <td>1309.000000</td>\n",
              "      <td>1308.000000</td>\n",
              "      <td>121.000000</td>\n",
              "    </tr>\n",
              "    <tr>\n",
              "      <th>mean</th>\n",
              "      <td>2.294882</td>\n",
              "      <td>0.381971</td>\n",
              "      <td>29.881135</td>\n",
              "      <td>0.498854</td>\n",
              "      <td>0.385027</td>\n",
              "      <td>33.295479</td>\n",
              "      <td>160.809917</td>\n",
              "    </tr>\n",
              "    <tr>\n",
              "      <th>std</th>\n",
              "      <td>0.837836</td>\n",
              "      <td>0.486055</td>\n",
              "      <td>14.413500</td>\n",
              "      <td>1.041658</td>\n",
              "      <td>0.865560</td>\n",
              "      <td>51.758668</td>\n",
              "      <td>97.696922</td>\n",
              "    </tr>\n",
              "    <tr>\n",
              "      <th>min</th>\n",
              "      <td>1.000000</td>\n",
              "      <td>0.000000</td>\n",
              "      <td>0.166700</td>\n",
              "      <td>0.000000</td>\n",
              "      <td>0.000000</td>\n",
              "      <td>0.000000</td>\n",
              "      <td>1.000000</td>\n",
              "    </tr>\n",
              "    <tr>\n",
              "      <th>25%</th>\n",
              "      <td>2.000000</td>\n",
              "      <td>0.000000</td>\n",
              "      <td>21.000000</td>\n",
              "      <td>0.000000</td>\n",
              "      <td>0.000000</td>\n",
              "      <td>7.895800</td>\n",
              "      <td>72.000000</td>\n",
              "    </tr>\n",
              "    <tr>\n",
              "      <th>50%</th>\n",
              "      <td>3.000000</td>\n",
              "      <td>0.000000</td>\n",
              "      <td>28.000000</td>\n",
              "      <td>0.000000</td>\n",
              "      <td>0.000000</td>\n",
              "      <td>14.454200</td>\n",
              "      <td>155.000000</td>\n",
              "    </tr>\n",
              "    <tr>\n",
              "      <th>75%</th>\n",
              "      <td>3.000000</td>\n",
              "      <td>1.000000</td>\n",
              "      <td>39.000000</td>\n",
              "      <td>1.000000</td>\n",
              "      <td>0.000000</td>\n",
              "      <td>31.275000</td>\n",
              "      <td>256.000000</td>\n",
              "    </tr>\n",
              "    <tr>\n",
              "      <th>max</th>\n",
              "      <td>3.000000</td>\n",
              "      <td>1.000000</td>\n",
              "      <td>80.000000</td>\n",
              "      <td>8.000000</td>\n",
              "      <td>9.000000</td>\n",
              "      <td>512.329200</td>\n",
              "      <td>328.000000</td>\n",
              "    </tr>\n",
              "  </tbody>\n",
              "</table>\n",
              "</div>"
            ],
            "text/plain": [
              "            pclass     survived  ...         fare        body\n",
              "count  1309.000000  1309.000000  ...  1308.000000  121.000000\n",
              "mean      2.294882     0.381971  ...    33.295479  160.809917\n",
              "std       0.837836     0.486055  ...    51.758668   97.696922\n",
              "min       1.000000     0.000000  ...     0.000000    1.000000\n",
              "25%       2.000000     0.000000  ...     7.895800   72.000000\n",
              "50%       3.000000     0.000000  ...    14.454200  155.000000\n",
              "75%       3.000000     1.000000  ...    31.275000  256.000000\n",
              "max       3.000000     1.000000  ...   512.329200  328.000000\n",
              "\n",
              "[8 rows x 7 columns]"
            ]
          },
          "metadata": {
            "tags": []
          },
          "execution_count": 5
        }
      ]
    },
    {
      "cell_type": "code",
      "metadata": {
        "colab": {
          "base_uri": "https://localhost:8080/",
          "height": 426
        },
        "id": "jmGfvhz2p5h1",
        "outputId": "a5581072-4365-437e-f448-b3fcc5fff0f0"
      },
      "source": [
        "f,ax = plt.subplots(1,2,figsize=(12,6))\n",
        "\n",
        "raw_data['survived'].value_counts().plot.pie(explode=[0,0.1], autopct='%1.2f%%',ax=ax[0])\n",
        "\n",
        "sns.countplot('survived', data=raw_data, ax=ax[1])\n"
      ],
      "execution_count": null,
      "outputs": [
        {
          "output_type": "stream",
          "text": [
            "/usr/local/lib/python3.6/dist-packages/seaborn/_decorators.py:43: FutureWarning: Pass the following variable as a keyword arg: x. From version 0.12, the only valid positional argument will be `data`, and passing other arguments without an explicit keyword will result in an error or misinterpretation.\n",
            "  FutureWarning\n"
          ],
          "name": "stderr"
        },
        {
          "output_type": "execute_result",
          "data": {
            "text/plain": [
              "<matplotlib.axes._subplots.AxesSubplot at 0x7fc68e86f2b0>"
            ]
          },
          "metadata": {
            "tags": []
          },
          "execution_count": 6
        },
        {
          "output_type": "display_data",
          "data": {
            "image/png": "[encoded data removed]",
            "text/plain": [
              "<Figure size 864x432 with 2 Axes>"
            ]
          },
          "metadata": {
            "tags": [],
            "needs_background": "light"
          }
        }
      ]
    },
    {
      "cell_type": "code",
      "metadata": {
        "colab": {
          "base_uri": "https://localhost:8080/",
          "height": 426
        },
        "id": "ZxYIBoTRqxy0",
        "outputId": "0360e15e-3f1b-4a70-b890-0326c0de7063"
      },
      "source": [
        "f,ax = plt.subplots(1,2,figsize=(12,6))\n",
        "\n",
        "raw_data['pclass'].value_counts().plot.pie(explode=[0.1,0.1,0.1], autopct='%1.2f%%',ax=ax[0])\n",
        "\n",
        "sns.countplot('pclass', data=raw_data, ax=ax[1])"
      ],
      "execution_count": null,
      "outputs": [
        {
          "output_type": "stream",
          "text": [
            "/usr/local/lib/python3.6/dist-packages/seaborn/_decorators.py:43: FutureWarning: Pass the following variable as a keyword arg: x. From version 0.12, the only valid positional argument will be `data`, and passing other arguments without an explicit keyword will result in an error or misinterpretation.\n",
            "  FutureWarning\n"
          ],
          "name": "stderr"
        },
        {
          "output_type": "execute_result",
          "data": {
            "text/plain": [
              "<matplotlib.axes._subplots.AxesSubplot at 0x7fc68d136fd0>"
            ]
          },
          "metadata": {
            "tags": []
          },
          "execution_count": 7
        },
        {
          "output_type": "display_data",
          "data": {
            "image/png": "[encoded data removed]",
            "text/plain": [
              "<Figure size 864x432 with 2 Axes>"
            ]
          },
          "metadata": {
            "tags": [],
            "needs_background": "light"
          }
        }
      ]
    },
    {
      "cell_type": "code",
      "metadata": {
        "colab": {
          "base_uri": "https://localhost:8080/",
          "height": 297
        },
        "id": "NF_WcaGnxLR2",
        "outputId": "2a474c0b-f098-4ae9-b817-dc3f6f38fd39"
      },
      "source": [
        "raw_data['age'].hist(bins=20, figsize=(18,8), grid=False);"
      ],
      "execution_count": null,
      "outputs": [
        {
          "output_type": "display_data",
          "data": {
            "image/png": "[encoded data removed]",
            "text/plain": [
              "<Figure size 1296x576 with 1 Axes>"
            ]
          },
          "metadata": {
            "tags": [],
            "needs_background": "light"
          }
        }
      ]
    },
    {
      "cell_type": "code",
      "metadata": {
        "colab": {
          "base_uri": "https://localhost:8080/",
          "height": 172
        },
        "id": "3ai-y35_zRDL",
        "outputId": "1bfb4912-e3ba-435f-cbe1-ec7839051830"
      },
      "source": [
        "raw_data.groupby('pclass').mean()\n",
        "# 지정된 컬럼 index로 데이터를 재정렬한다. "
      ],
      "execution_count": null,
      "outputs": [
        {
          "output_type": "execute_result",
          "data": {
            "text/html": [
              "<div>\n",
              "<style scoped>\n",
              "    .dataframe tbody tr th:only-of-type {\n",
              "        vertical-align: middle;\n",
              "    }\n",
              "\n",
              "    .dataframe tbody tr th {\n",
              "        vertical-align: top;\n",
              "    }\n",
              "\n",
              "    .dataframe thead th {\n",
              "        text-align: right;\n",
              "    }\n",
              "</style>\n",
              "<table border=\"1\" class=\"dataframe\">\n",
              "  <thead>\n",
              "    <tr style=\"text-align: right;\">\n",
              "      <th></th>\n",
              "      <th>survived</th>\n",
              "      <th>age</th>\n",
              "      <th>sibsp</th>\n",
              "      <th>parch</th>\n",
              "      <th>fare</th>\n",
              "      <th>body</th>\n",
              "    </tr>\n",
              "    <tr>\n",
              "      <th>pclass</th>\n",
              "      <th></th>\n",
              "      <th></th>\n",
              "      <th></th>\n",
              "      <th></th>\n",
              "      <th></th>\n",
              "      <th></th>\n",
              "    </tr>\n",
              "  </thead>\n",
              "  <tbody>\n",
              "    <tr>\n",
              "      <th>1</th>\n",
              "      <td>0.619195</td>\n",
              "      <td>39.159918</td>\n",
              "      <td>0.436533</td>\n",
              "      <td>0.365325</td>\n",
              "      <td>87.508992</td>\n",
              "      <td>162.828571</td>\n",
              "    </tr>\n",
              "    <tr>\n",
              "      <th>2</th>\n",
              "      <td>0.429603</td>\n",
              "      <td>29.506705</td>\n",
              "      <td>0.393502</td>\n",
              "      <td>0.368231</td>\n",
              "      <td>21.179196</td>\n",
              "      <td>167.387097</td>\n",
              "    </tr>\n",
              "    <tr>\n",
              "      <th>3</th>\n",
              "      <td>0.255289</td>\n",
              "      <td>24.816367</td>\n",
              "      <td>0.568406</td>\n",
              "      <td>0.400564</td>\n",
              "      <td>13.302889</td>\n",
              "      <td>155.818182</td>\n",
              "    </tr>\n",
              "  </tbody>\n",
              "</table>\n",
              "</div>"
            ],
            "text/plain": [
              "        survived        age     sibsp     parch       fare        body\n",
              "pclass                                                                \n",
              "1       0.619195  39.159918  0.436533  0.365325  87.508992  162.828571\n",
              "2       0.429603  29.506705  0.393502  0.368231  21.179196  167.387097\n",
              "3       0.255289  24.816367  0.568406  0.400564  13.302889  155.818182"
            ]
          },
          "metadata": {
            "tags": []
          },
          "execution_count": 9
        }
      ]
    },
    {
      "cell_type": "code",
      "metadata": {
        "colab": {
          "base_uri": "https://localhost:8080/",
          "height": 265
        },
        "id": "4xm4JYK60TCj",
        "outputId": "408a3c62-8cab-418f-f8a2-1f4c3d8903f1"
      },
      "source": [
        "raw_data.corr()\n",
        "# corr()함수는 상관계수를 계산해주는 함수"
      ],
      "execution_count": null,
      "outputs": [
        {
          "output_type": "execute_result",
          "data": {
            "text/html": [
              "<div>\n",
              "<style scoped>\n",
              "    .dataframe tbody tr th:only-of-type {\n",
              "        vertical-align: middle;\n",
              "    }\n",
              "\n",
              "    .dataframe tbody tr th {\n",
              "        vertical-align: top;\n",
              "    }\n",
              "\n",
              "    .dataframe thead th {\n",
              "        text-align: right;\n",
              "    }\n",
              "</style>\n",
              "<table border=\"1\" class=\"dataframe\">\n",
              "  <thead>\n",
              "    <tr style=\"text-align: right;\">\n",
              "      <th></th>\n",
              "      <th>pclass</th>\n",
              "      <th>survived</th>\n",
              "      <th>age</th>\n",
              "      <th>sibsp</th>\n",
              "      <th>parch</th>\n",
              "      <th>fare</th>\n",
              "      <th>body</th>\n",
              "    </tr>\n",
              "  </thead>\n",
              "  <tbody>\n",
              "    <tr>\n",
              "      <th>pclass</th>\n",
              "      <td>1.000000</td>\n",
              "      <td>-0.312469</td>\n",
              "      <td>-0.408106</td>\n",
              "      <td>0.060832</td>\n",
              "      <td>0.018322</td>\n",
              "      <td>-0.558629</td>\n",
              "      <td>-0.034642</td>\n",
              "    </tr>\n",
              "    <tr>\n",
              "      <th>survived</th>\n",
              "      <td>-0.312469</td>\n",
              "      <td>1.000000</td>\n",
              "      <td>-0.055513</td>\n",
              "      <td>-0.027825</td>\n",
              "      <td>0.082660</td>\n",
              "      <td>0.244265</td>\n",
              "      <td>NaN</td>\n",
              "    </tr>\n",
              "    <tr>\n",
              "      <th>age</th>\n",
              "      <td>-0.408106</td>\n",
              "      <td>-0.055513</td>\n",
              "      <td>1.000000</td>\n",
              "      <td>-0.243699</td>\n",
              "      <td>-0.150917</td>\n",
              "      <td>0.178739</td>\n",
              "      <td>0.058809</td>\n",
              "    </tr>\n",
              "    <tr>\n",
              "      <th>sibsp</th>\n",
              "      <td>0.060832</td>\n",
              "      <td>-0.027825</td>\n",
              "      <td>-0.243699</td>\n",
              "      <td>1.000000</td>\n",
              "      <td>0.373587</td>\n",
              "      <td>0.160238</td>\n",
              "      <td>-0.099961</td>\n",
              "    </tr>\n",
              "    <tr>\n",
              "      <th>parch</th>\n",
              "      <td>0.018322</td>\n",
              "      <td>0.082660</td>\n",
              "      <td>-0.150917</td>\n",
              "      <td>0.373587</td>\n",
              "      <td>1.000000</td>\n",
              "      <td>0.221539</td>\n",
              "      <td>0.051099</td>\n",
              "    </tr>\n",
              "    <tr>\n",
              "      <th>fare</th>\n",
              "      <td>-0.558629</td>\n",
              "      <td>0.244265</td>\n",
              "      <td>0.178739</td>\n",
              "      <td>0.160238</td>\n",
              "      <td>0.221539</td>\n",
              "      <td>1.000000</td>\n",
              "      <td>-0.043110</td>\n",
              "    </tr>\n",
              "    <tr>\n",
              "      <th>body</th>\n",
              "      <td>-0.034642</td>\n",
              "      <td>NaN</td>\n",
              "      <td>0.058809</td>\n",
              "      <td>-0.099961</td>\n",
              "      <td>0.051099</td>\n",
              "      <td>-0.043110</td>\n",
              "      <td>1.000000</td>\n",
              "    </tr>\n",
              "  </tbody>\n",
              "</table>\n",
              "</div>"
            ],
            "text/plain": [
              "            pclass  survived       age     sibsp     parch      fare      body\n",
              "pclass    1.000000 -0.312469 -0.408106  0.060832  0.018322 -0.558629 -0.034642\n",
              "survived -0.312469  1.000000 -0.055513 -0.027825  0.082660  0.244265       NaN\n",
              "age      -0.408106 -0.055513  1.000000 -0.243699 -0.150917  0.178739  0.058809\n",
              "sibsp     0.060832 -0.027825 -0.243699  1.000000  0.373587  0.160238 -0.099961\n",
              "parch     0.018322  0.082660 -0.150917  0.373587  1.000000  0.221539  0.051099\n",
              "fare     -0.558629  0.244265  0.178739  0.160238  0.221539  1.000000 -0.043110\n",
              "body     -0.034642       NaN  0.058809 -0.099961  0.051099 -0.043110  1.000000"
            ]
          },
          "metadata": {
            "tags": []
          },
          "execution_count": 10
        }
      ]
    },
    {
      "cell_type": "code",
      "metadata": {
        "colab": {
          "base_uri": "https://localhost:8080/",
          "height": 597
        },
        "id": "D6QY_Kse00V6",
        "outputId": "84b894b4-bd40-4a2d-c5cb-22fffcb57645"
      },
      "source": [
        "plt.figure(figsize=(10,10))\n",
        "\n",
        "sns.heatmap(raw_data.corr(), linewidths=0.01, square=True, annot=True, cmap=plt.cm.viridis)\n",
        "plt.title('Correlation between features')\n",
        "\n",
        "# 상관계수는 두 데이터 사이의 상관 관계만 확인하는 것으로 인과관계로 해석하면 안된다. \n",
        "# 선실등급(pclass)이 낮을 수록 생존율(survived)이 높아지는 관계가 있다는 것과 \n",
        "# 선실등급(pclass)이 낮을 수록 탑승객의 나이가 많아진다를 것을 대략 볼 수 있다. \n"
      ],
      "execution_count": null,
      "outputs": [
        {
          "output_type": "execute_result",
          "data": {
            "text/plain": [
              "Text(0.5, 1.0, 'Correlation between features')"
            ]
          },
          "metadata": {
            "tags": []
          },
          "execution_count": 11
        },
        {
          "output_type": "display_data",
          "data": {
            "image/png": "[encoded data removed]",
            "text/plain": [
              "<Figure size 720x720 with 2 Axes>"
            ]
          },
          "metadata": {
            "tags": [],
            "needs_background": "light"
          }
        }
      ]
    },
    {
      "cell_type": "code",
      "metadata": {
        "id": "OhAZ6sZV1iuL"
      },
      "source": [
        "raw_data['age_cat'] = pd.cut(raw_data['age'],\n",
        "                             bins = [0, 3, 7, 15, 30, 60, 100],\n",
        "                             labels = ['baby','children','teenage','young','adult','old'])"
      ],
      "execution_count": null,
      "outputs": []
    },
    {
      "cell_type": "code",
      "metadata": {
        "colab": {
          "base_uri": "https://localhost:8080/",
          "height": 265
        },
        "id": "vPudt1Xd5VAU",
        "outputId": "40abe58a-81d2-4a8f-8885-8e1c61015219"
      },
      "source": [
        "raw_data.groupby('age_cat').mean()"
      ],
      "execution_count": null,
      "outputs": [
        {
          "output_type": "execute_result",
          "data": {
            "text/html": [
              "<div>\n",
              "<style scoped>\n",
              "    .dataframe tbody tr th:only-of-type {\n",
              "        vertical-align: middle;\n",
              "    }\n",
              "\n",
              "    .dataframe tbody tr th {\n",
              "        vertical-align: top;\n",
              "    }\n",
              "\n",
              "    .dataframe thead th {\n",
              "        text-align: right;\n",
              "    }\n",
              "</style>\n",
              "<table border=\"1\" class=\"dataframe\">\n",
              "  <thead>\n",
              "    <tr style=\"text-align: right;\">\n",
              "      <th></th>\n",
              "      <th>pclass</th>\n",
              "      <th>survived</th>\n",
              "      <th>age</th>\n",
              "      <th>sibsp</th>\n",
              "      <th>parch</th>\n",
              "      <th>fare</th>\n",
              "      <th>body</th>\n",
              "    </tr>\n",
              "    <tr>\n",
              "      <th>age_cat</th>\n",
              "      <th></th>\n",
              "      <th></th>\n",
              "      <th></th>\n",
              "      <th></th>\n",
              "      <th></th>\n",
              "      <th></th>\n",
              "      <th></th>\n",
              "    </tr>\n",
              "  </thead>\n",
              "  <tbody>\n",
              "    <tr>\n",
              "      <th>baby</th>\n",
              "      <td>2.585366</td>\n",
              "      <td>0.634146</td>\n",
              "      <td>1.540651</td>\n",
              "      <td>1.487805</td>\n",
              "      <td>1.365854</td>\n",
              "      <td>29.615346</td>\n",
              "      <td>4.000000</td>\n",
              "    </tr>\n",
              "    <tr>\n",
              "      <th>children</th>\n",
              "      <td>2.640000</td>\n",
              "      <td>0.640000</td>\n",
              "      <td>5.160000</td>\n",
              "      <td>1.760000</td>\n",
              "      <td>1.360000</td>\n",
              "      <td>31.022828</td>\n",
              "      <td>NaN</td>\n",
              "    </tr>\n",
              "    <tr>\n",
              "      <th>teenage</th>\n",
              "      <td>2.632653</td>\n",
              "      <td>0.489796</td>\n",
              "      <td>11.540816</td>\n",
              "      <td>1.734694</td>\n",
              "      <td>1.163265</td>\n",
              "      <td>38.390904</td>\n",
              "      <td>132.000000</td>\n",
              "    </tr>\n",
              "    <tr>\n",
              "      <th>young</th>\n",
              "      <td>2.412955</td>\n",
              "      <td>0.368421</td>\n",
              "      <td>23.389676</td>\n",
              "      <td>0.352227</td>\n",
              "      <td>0.236842</td>\n",
              "      <td>27.313140</td>\n",
              "      <td>169.720930</td>\n",
              "    </tr>\n",
              "    <tr>\n",
              "      <th>adult</th>\n",
              "      <td>1.893564</td>\n",
              "      <td>0.423267</td>\n",
              "      <td>41.548267</td>\n",
              "      <td>0.376238</td>\n",
              "      <td>0.405941</td>\n",
              "      <td>47.141986</td>\n",
              "      <td>154.777778</td>\n",
              "    </tr>\n",
              "    <tr>\n",
              "      <th>old</th>\n",
              "      <td>1.545455</td>\n",
              "      <td>0.242424</td>\n",
              "      <td>65.393939</td>\n",
              "      <td>0.303030</td>\n",
              "      <td>0.363636</td>\n",
              "      <td>60.248309</td>\n",
              "      <td>185.600000</td>\n",
              "    </tr>\n",
              "  </tbody>\n",
              "</table>\n",
              "</div>"
            ],
            "text/plain": [
              "            pclass  survived        age  ...     parch       fare        body\n",
              "age_cat                                  ...                                 \n",
              "baby      2.585366  0.634146   1.540651  ...  1.365854  29.615346    4.000000\n",
              "children  2.640000  0.640000   5.160000  ...  1.360000  31.022828         NaN\n",
              "teenage   2.632653  0.489796  11.540816  ...  1.163265  38.390904  132.000000\n",
              "young     2.412955  0.368421  23.389676  ...  0.236842  27.313140  169.720930\n",
              "adult     1.893564  0.423267  41.548267  ...  0.405941  47.141986  154.777778\n",
              "old       1.545455  0.242424  65.393939  ...  0.363636  60.248309  185.600000\n",
              "\n",
              "[6 rows x 7 columns]"
            ]
          },
          "metadata": {
            "tags": []
          },
          "execution_count": 13
        }
      ]
    },
    {
      "cell_type": "code",
      "metadata": {
        "colab": {
          "base_uri": "https://localhost:8080/",
          "height": 355
        },
        "id": "PvI1kbSjPgaC",
        "outputId": "64200d84-199e-41a2-e30b-12b52f4021f6"
      },
      "source": [
        "# pclass별 생존survived\n",
        "sns.barplot('pclass','survived',data=raw_data)\n",
        "\n"
      ],
      "execution_count": null,
      "outputs": [
        {
          "output_type": "stream",
          "text": [
            "/usr/local/lib/python3.6/dist-packages/seaborn/_decorators.py:43: FutureWarning: Pass the following variables as keyword args: x, y. From version 0.12, the only valid positional argument will be `data`, and passing other arguments without an explicit keyword will result in an error or misinterpretation.\n",
            "  FutureWarning\n"
          ],
          "name": "stderr"
        },
        {
          "output_type": "execute_result",
          "data": {
            "text/plain": [
              "<matplotlib.axes._subplots.AxesSubplot at 0x7fc68cfb0940>"
            ]
          },
          "metadata": {
            "tags": []
          },
          "execution_count": 14
        },
        {
          "output_type": "display_data",
          "data": {
            "image/png": "[encoded data removed]",
            "text/plain": [
              "<Figure size 432x288 with 1 Axes>"
            ]
          },
          "metadata": {
            "tags": [],
            "needs_background": "light"
          }
        }
      ]
    },
    {
      "cell_type": "code",
      "metadata": {
        "colab": {
          "base_uri": "https://localhost:8080/",
          "height": 354
        },
        "id": "y7DGOa76QpLC",
        "outputId": "8a822fa2-65d4-4d63-8a55-8631b3dd98f6"
      },
      "source": [
        "# age_cat별 생존survived\n",
        "\n",
        "sns.barplot('age_cat','survived',data=raw_data)"
      ],
      "execution_count": null,
      "outputs": [
        {
          "output_type": "stream",
          "text": [
            "/usr/local/lib/python3.6/dist-packages/seaborn/_decorators.py:43: FutureWarning: Pass the following variables as keyword args: x, y. From version 0.12, the only valid positional argument will be `data`, and passing other arguments without an explicit keyword will result in an error or misinterpretation.\n",
            "  FutureWarning\n"
          ],
          "name": "stderr"
        },
        {
          "output_type": "execute_result",
          "data": {
            "text/plain": [
              "<matplotlib.axes._subplots.AxesSubplot at 0x7fc68d5d9668>"
            ]
          },
          "metadata": {
            "tags": []
          },
          "execution_count": 15
        },
        {
          "output_type": "display_data",
          "data": {
            "image/png": "[encoded data removed]",
            "text/plain": [
              "<Figure size 432x288 with 1 Axes>"
            ]
          },
          "metadata": {
            "tags": [],
            "needs_background": "light"
          }
        }
      ]
    },
    {
      "cell_type": "code",
      "metadata": {
        "colab": {
          "base_uri": "https://localhost:8080/",
          "height": 356
        },
        "id": "zmZCaIrcRDgp",
        "outputId": "a1e39045-22c1-4f05-a19e-1111a3f4a28b"
      },
      "source": [
        "# sex별 생존survived\n",
        "sns.barplot('sex','survived',data=raw_data)"
      ],
      "execution_count": null,
      "outputs": [
        {
          "output_type": "stream",
          "text": [
            "/usr/local/lib/python3.6/dist-packages/seaborn/_decorators.py:43: FutureWarning: Pass the following variables as keyword args: x, y. From version 0.12, the only valid positional argument will be `data`, and passing other arguments without an explicit keyword will result in an error or misinterpretation.\n",
            "  FutureWarning\n"
          ],
          "name": "stderr"
        },
        {
          "output_type": "execute_result",
          "data": {
            "text/plain": [
              "<matplotlib.axes._subplots.AxesSubplot at 0x7fc68a654748>"
            ]
          },
          "metadata": {
            "tags": []
          },
          "execution_count": 16
        },
        {
          "output_type": "display_data",
          "data": {
            "image/png": "[encoded data removed]",
            "text/plain": [
              "<Figure size 432x288 with 1 Axes>"
            ]
          },
          "metadata": {
            "tags": [],
            "needs_background": "light"
          }
        }
      ]
    },
    {
      "cell_type": "code",
      "metadata": {
        "colab": {
          "base_uri": "https://localhost:8080/",
          "height": 346
        },
        "id": "uFB_I_92So86",
        "outputId": "1388730f-9991-421f-b73b-d1a6fa4c3401"
      },
      "source": [
        "plt.figure(figsize=[14,4])\n",
        "\n",
        "# pclass별 생존survived\n",
        "plt.subplot(131)\n",
        "sns.barplot('pclass','survived',data=raw_data)\n",
        "# age_cat별 생존survived\n",
        "plt.subplot(132)\n",
        "sns.barplot('age_cat','survived',data=raw_data)\n",
        "# sex별 생존survived\n",
        "plt.subplot(133)\n",
        "sns.barplot('sex','survived',data=raw_data)\n",
        "\n",
        "plt.show()"
      ],
      "execution_count": null,
      "outputs": [
        {
          "output_type": "stream",
          "text": [
            "/usr/local/lib/python3.6/dist-packages/seaborn/_decorators.py:43: FutureWarning: Pass the following variables as keyword args: x, y. From version 0.12, the only valid positional argument will be `data`, and passing other arguments without an explicit keyword will result in an error or misinterpretation.\n",
            "  FutureWarning\n",
            "/usr/local/lib/python3.6/dist-packages/seaborn/_decorators.py:43: FutureWarning: Pass the following variables as keyword args: x, y. From version 0.12, the only valid positional argument will be `data`, and passing other arguments without an explicit keyword will result in an error or misinterpretation.\n",
            "  FutureWarning\n",
            "/usr/local/lib/python3.6/dist-packages/seaborn/_decorators.py:43: FutureWarning: Pass the following variables as keyword args: x, y. From version 0.12, the only valid positional argument will be `data`, and passing other arguments without an explicit keyword will result in an error or misinterpretation.\n",
            "  FutureWarning\n"
          ],
          "name": "stderr"
        },
        {
          "output_type": "display_data",
          "data": {
            "image/png": "[encoded data removed]",
            "text/plain": [
              "<Figure size 1008x288 with 3 Axes>"
            ]
          },
          "metadata": {
            "tags": [],
            "needs_background": "light"
          }
        }
      ]
    },
    {
      "cell_type": "code",
      "metadata": {
        "colab": {
          "base_uri": "https://localhost:8080/",
          "height": 353
        },
        "id": "0-IH7GPEWM6p",
        "outputId": "75939a68-b7c0-4509-cb61-c0ad1bb85cbc"
      },
      "source": [
        "# 성별 인원수(사람의 수) 와 성별 생존률\n",
        "\n",
        "sns.countplot('sex',data=raw_data)\n"
      ],
      "execution_count": null,
      "outputs": [
        {
          "output_type": "stream",
          "text": [
            "/usr/local/lib/python3.6/dist-packages/seaborn/_decorators.py:43: FutureWarning: Pass the following variable as a keyword arg: x. From version 0.12, the only valid positional argument will be `data`, and passing other arguments without an explicit keyword will result in an error or misinterpretation.\n",
            "  FutureWarning\n"
          ],
          "name": "stderr"
        },
        {
          "output_type": "execute_result",
          "data": {
            "text/plain": [
              "<matplotlib.axes._subplots.AxesSubplot at 0x7fc68a4ed438>"
            ]
          },
          "metadata": {
            "tags": []
          },
          "execution_count": 18
        },
        {
          "output_type": "display_data",
          "data": {
            "image/png": "[encoded data removed]",
            "text/plain": [
              "<Figure size 432x288 with 1 Axes>"
            ]
          },
          "metadata": {
            "tags": [],
            "needs_background": "light"
          }
        }
      ]
    },
    {
      "cell_type": "code",
      "metadata": {
        "id": "mvfEkYE4Xwol"
      },
      "source": [
        ""
      ],
      "execution_count": null,
      "outputs": []
    },
    {
      "cell_type": "code",
      "metadata": {
        "id": "XmXCAabUXxbD"
      },
      "source": [
        ""
      ],
      "execution_count": null,
      "outputs": []
    },
    {
      "cell_type": "code",
      "metadata": {
        "colab": {
          "base_uri": "https://localhost:8080/",
          "height": 353
        },
        "id": "xsYzUBMXWNDg",
        "outputId": "4d08b8d7-7685-4a54-8f48-8b91df241fb8"
      },
      "source": [
        "sns.countplot('sex',hue='survived', data=raw_data)"
      ],
      "execution_count": null,
      "outputs": [
        {
          "output_type": "stream",
          "text": [
            "/usr/local/lib/python3.6/dist-packages/seaborn/_decorators.py:43: FutureWarning: Pass the following variable as a keyword arg: x. From version 0.12, the only valid positional argument will be `data`, and passing other arguments without an explicit keyword will result in an error or misinterpretation.\n",
            "  FutureWarning\n"
          ],
          "name": "stderr"
        },
        {
          "output_type": "execute_result",
          "data": {
            "text/plain": [
              "<matplotlib.axes._subplots.AxesSubplot at 0x7fc68a452f98>"
            ]
          },
          "metadata": {
            "tags": []
          },
          "execution_count": 19
        },
        {
          "output_type": "display_data",
          "data": {
            "image/png": "[encoded data removed]",
            "text/plain": [
              "<Figure size 432x288 with 1 Axes>"
            ]
          },
          "metadata": {
            "tags": [],
            "needs_background": "light"
          }
        }
      ]
    },
    {
      "cell_type": "code",
      "metadata": {
        "colab": {
          "base_uri": "https://localhost:8080/",
          "height": 432
        },
        "id": "K372ndu5XyOh",
        "outputId": "b369d3f6-c2f6-428f-f72e-5c4bfb5754fc"
      },
      "source": [
        "\n",
        "f, ax = plt.subplots(1,2,figsize=(12,6))\n",
        "\n",
        "sns.countplot('sex',data=raw_data, ax=ax[0])\n",
        "sns.countplot('sex',hue='survived', data=raw_data, ax=ax[1])\n",
        "plt.show()"
      ],
      "execution_count": null,
      "outputs": [
        {
          "output_type": "stream",
          "text": [
            "/usr/local/lib/python3.6/dist-packages/seaborn/_decorators.py:43: FutureWarning: Pass the following variable as a keyword arg: x. From version 0.12, the only valid positional argument will be `data`, and passing other arguments without an explicit keyword will result in an error or misinterpretation.\n",
            "  FutureWarning\n",
            "/usr/local/lib/python3.6/dist-packages/seaborn/_decorators.py:43: FutureWarning: Pass the following variable as a keyword arg: x. From version 0.12, the only valid positional argument will be `data`, and passing other arguments without an explicit keyword will result in an error or misinterpretation.\n",
            "  FutureWarning\n"
          ],
          "name": "stderr"
        },
        {
          "output_type": "display_data",
          "data": {
            "image/png": "[encoded data removed]",
            "text/plain": [
              "<Figure size 864x432 with 2 Axes>"
            ]
          },
          "metadata": {
            "tags": [],
            "needs_background": "light"
          }
        }
      ]
    },
    {
      "cell_type": "code",
      "metadata": {
        "colab": {
          "base_uri": "https://localhost:8080/",
          "height": 479
        },
        "id": "n1IwO9hIMIlO",
        "outputId": "b17e6df7-3809-44da-b5fd-3244ce8be22a"
      },
      "source": [
        "# 보트 탑승 승객 생존율\n",
        "\n",
        "# 보트 탑승 고객만 데이터 추출\n",
        "\n",
        "boat_survivors = raw_data[raw_data['boat'].notnull()]\n",
        "\n",
        "boat_survivors.head()"
      ],
      "execution_count": null,
      "outputs": [
        {
          "output_type": "execute_result",
          "data": {
            "text/html": [
              "<div>\n",
              "<style scoped>\n",
              "    .dataframe tbody tr th:only-of-type {\n",
              "        vertical-align: middle;\n",
              "    }\n",
              "\n",
              "    .dataframe tbody tr th {\n",
              "        vertical-align: top;\n",
              "    }\n",
              "\n",
              "    .dataframe thead th {\n",
              "        text-align: right;\n",
              "    }\n",
              "</style>\n",
              "<table border=\"1\" class=\"dataframe\">\n",
              "  <thead>\n",
              "    <tr style=\"text-align: right;\">\n",
              "      <th></th>\n",
              "      <th>pclass</th>\n",
              "      <th>survived</th>\n",
              "      <th>name</th>\n",
              "      <th>sex</th>\n",
              "      <th>age</th>\n",
              "      <th>sibsp</th>\n",
              "      <th>parch</th>\n",
              "      <th>ticket</th>\n",
              "      <th>fare</th>\n",
              "      <th>cabin</th>\n",
              "      <th>embarked</th>\n",
              "      <th>boat</th>\n",
              "      <th>body</th>\n",
              "      <th>home.dest</th>\n",
              "      <th>age_cat</th>\n",
              "    </tr>\n",
              "  </thead>\n",
              "  <tbody>\n",
              "    <tr>\n",
              "      <th>0</th>\n",
              "      <td>1</td>\n",
              "      <td>1</td>\n",
              "      <td>Allen, Miss. Elisabeth Walton</td>\n",
              "      <td>female</td>\n",
              "      <td>29.0000</td>\n",
              "      <td>0</td>\n",
              "      <td>0</td>\n",
              "      <td>24160</td>\n",
              "      <td>211.3375</td>\n",
              "      <td>B5</td>\n",
              "      <td>S</td>\n",
              "      <td>2</td>\n",
              "      <td>NaN</td>\n",
              "      <td>St Louis, MO</td>\n",
              "      <td>young</td>\n",
              "    </tr>\n",
              "    <tr>\n",
              "      <th>1</th>\n",
              "      <td>1</td>\n",
              "      <td>1</td>\n",
              "      <td>Allison, Master. Hudson Trevor</td>\n",
              "      <td>male</td>\n",
              "      <td>0.9167</td>\n",
              "      <td>1</td>\n",
              "      <td>2</td>\n",
              "      <td>113781</td>\n",
              "      <td>151.5500</td>\n",
              "      <td>C22 C26</td>\n",
              "      <td>S</td>\n",
              "      <td>11</td>\n",
              "      <td>NaN</td>\n",
              "      <td>Montreal, PQ / Chesterville, ON</td>\n",
              "      <td>baby</td>\n",
              "    </tr>\n",
              "    <tr>\n",
              "      <th>5</th>\n",
              "      <td>1</td>\n",
              "      <td>1</td>\n",
              "      <td>Anderson, Mr. Harry</td>\n",
              "      <td>male</td>\n",
              "      <td>48.0000</td>\n",
              "      <td>0</td>\n",
              "      <td>0</td>\n",
              "      <td>19952</td>\n",
              "      <td>26.5500</td>\n",
              "      <td>E12</td>\n",
              "      <td>S</td>\n",
              "      <td>3</td>\n",
              "      <td>NaN</td>\n",
              "      <td>New York, NY</td>\n",
              "      <td>adult</td>\n",
              "    </tr>\n",
              "    <tr>\n",
              "      <th>6</th>\n",
              "      <td>1</td>\n",
              "      <td>1</td>\n",
              "      <td>Andrews, Miss. Kornelia Theodosia</td>\n",
              "      <td>female</td>\n",
              "      <td>63.0000</td>\n",
              "      <td>1</td>\n",
              "      <td>0</td>\n",
              "      <td>13502</td>\n",
              "      <td>77.9583</td>\n",
              "      <td>D7</td>\n",
              "      <td>S</td>\n",
              "      <td>10</td>\n",
              "      <td>NaN</td>\n",
              "      <td>Hudson, NY</td>\n",
              "      <td>old</td>\n",
              "    </tr>\n",
              "    <tr>\n",
              "      <th>8</th>\n",
              "      <td>1</td>\n",
              "      <td>1</td>\n",
              "      <td>Appleton, Mrs. Edward Dale (Charlotte Lamson)</td>\n",
              "      <td>female</td>\n",
              "      <td>53.0000</td>\n",
              "      <td>2</td>\n",
              "      <td>0</td>\n",
              "      <td>11769</td>\n",
              "      <td>51.4792</td>\n",
              "      <td>C101</td>\n",
              "      <td>S</td>\n",
              "      <td>D</td>\n",
              "      <td>NaN</td>\n",
              "      <td>Bayside, Queens, NY</td>\n",
              "      <td>adult</td>\n",
              "    </tr>\n",
              "  </tbody>\n",
              "</table>\n",
              "</div>"
            ],
            "text/plain": [
              "   pclass  survived  ...                        home.dest age_cat\n",
              "0       1         1  ...                     St Louis, MO   young\n",
              "1       1         1  ...  Montreal, PQ / Chesterville, ON    baby\n",
              "5       1         1  ...                     New York, NY   adult\n",
              "6       1         1  ...                       Hudson, NY     old\n",
              "8       1         1  ...              Bayside, Queens, NY   adult\n",
              "\n",
              "[5 rows x 15 columns]"
            ]
          },
          "metadata": {
            "tags": []
          },
          "execution_count": 21
        }
      ]
    },
    {
      "cell_type": "code",
      "metadata": {
        "colab": {
          "base_uri": "https://localhost:8080/",
          "height": 429
        },
        "id": "257BGYibM8s3",
        "outputId": "be8d8fe3-620c-4d45-8037-ee6c9a134ed8"
      },
      "source": [
        "# 보트 탑승자 생존률 그래프 (pie, countplot)\n",
        "\n",
        "\n",
        "f,ax = plt.subplots(1,2,figsize=(12,6))\n",
        "\n",
        "boat_survivors['survived'].value_counts().plot.pie(explode=[0,0.1], autopct='%1.2f%%',ax=ax[0])\n",
        "ax[0].set_ylabel('Survived')\n",
        "\n",
        "sns.countplot('survived', data=boat_survivors, ax=ax[1])\n",
        "ax[1].set_ylabel('Survived')"
      ],
      "execution_count": null,
      "outputs": [
        {
          "output_type": "stream",
          "text": [
            "/usr/local/lib/python3.6/dist-packages/seaborn/_decorators.py:43: FutureWarning: Pass the following variable as a keyword arg: x. From version 0.12, the only valid positional argument will be `data`, and passing other arguments without an explicit keyword will result in an error or misinterpretation.\n",
            "  FutureWarning\n"
          ],
          "name": "stderr"
        },
        {
          "output_type": "execute_result",
          "data": {
            "text/plain": [
              "Text(0, 0.5, 'Survived')"
            ]
          },
          "metadata": {
            "tags": []
          },
          "execution_count": 22
        },
        {
          "output_type": "display_data",
          "data": {
            "image/png": "[encoded data removed]",
            "text/plain": [
              "<Figure size 864x432 with 2 Axes>"
            ]
          },
          "metadata": {
            "tags": [],
            "needs_background": "light"
          }
        }
      ]
    },
    {
      "cell_type": "code",
      "metadata": {
        "colab": {
          "base_uri": "https://localhost:8080/"
        },
        "id": "2kI0DDRlOSoZ",
        "outputId": "723e72e5-5f08-48f7-ce1d-66113598027b"
      },
      "source": [
        "# 귀족들만 조사\n",
        "# 귀족들은 이름에 귀족을 확인할 수 있는 호칭이 포함되어 있다. \n",
        "raw_data['name']"
      ],
      "execution_count": null,
      "outputs": [
        {
          "output_type": "execute_result",
          "data": {
            "text/plain": [
              "0                         Allen, Miss. Elisabeth Walton\n",
              "1                        Allison, Master. Hudson Trevor\n",
              "2                          Allison, Miss. Helen Loraine\n",
              "3                  Allison, Mr. Hudson Joshua Creighton\n",
              "4       Allison, Mrs. Hudson J C (Bessie Waldo Daniels)\n",
              "                             ...                       \n",
              "1304                               Zabour, Miss. Hileni\n",
              "1305                              Zabour, Miss. Thamine\n",
              "1306                          Zakarian, Mr. Mapriededer\n",
              "1307                                Zakarian, Mr. Ortin\n",
              "1308                                 Zimmerman, Mr. Leo\n",
              "Name: name, Length: 1309, dtype: object"
            ]
          },
          "metadata": {
            "tags": []
          },
          "execution_count": 23
        }
      ]
    },
    {
      "cell_type": "code",
      "metadata": {
        "colab": {
          "base_uri": "https://localhost:8080/",
          "height": 35
        },
        "id": "vglDQv7qOvOf",
        "outputId": "db9f1d04-a67c-4302-98ad-f1e62fd509f2"
      },
      "source": [
        "raw_data['name'][0].split(',')[1]   # 0번째 사람의 이름을 , 나누고 1번째(2번째)값을 선택"
      ],
      "execution_count": null,
      "outputs": [
        {
          "output_type": "execute_result",
          "data": {
            "application/vnd.google.colaboratory.intrinsic+json": {
              "type": "string"
            },
            "text/plain": [
              "' Miss. Elisabeth Walton'"
            ]
          },
          "metadata": {
            "tags": []
          },
          "execution_count": 24
        }
      ]
    },
    {
      "cell_type": "code",
      "metadata": {
        "colab": {
          "base_uri": "https://localhost:8080/",
          "height": 35
        },
        "id": "Om_JLamQPU3O",
        "outputId": "b45c6330-163a-45df-8e4f-3307a1cbf743"
      },
      "source": [
        "raw_data['name'][0].split(',')[1].split('.')[0]"
      ],
      "execution_count": null,
      "outputs": [
        {
          "output_type": "execute_result",
          "data": {
            "application/vnd.google.colaboratory.intrinsic+json": {
              "type": "string"
            },
            "text/plain": [
              "' Miss'"
            ]
          },
          "metadata": {
            "tags": []
          },
          "execution_count": 25
        }
      ]
    },
    {
      "cell_type": "code",
      "metadata": {
        "id": "VGuv4y74P877"
      },
      "source": [
        "conversion_rare = lambda x : x.split(',')[1].split('.')[0].strip()\n",
        "\n",
        "raw_data['title'] = raw_data['name'].map(conversion_rare)"
      ],
      "execution_count": null,
      "outputs": []
    },
    {
      "cell_type": "code",
      "metadata": {
        "id": "myjgK6ecRTm5"
      },
      "source": [
        "titles = raw_data['title'].unique()"
      ],
      "execution_count": null,
      "outputs": []
    },
    {
      "cell_type": "code",
      "metadata": {
        "colab": {
          "base_uri": "https://localhost:8080/"
        },
        "id": "kfwW9PZnRbjR",
        "outputId": "5dbfb700-8de6-42e6-c89e-d87f9c7e5136"
      },
      "source": [
        "titles"
      ],
      "execution_count": null,
      "outputs": [
        {
          "output_type": "execute_result",
          "data": {
            "text/plain": [
              "array(['Miss', 'Master', 'Mr', 'Mrs', 'Col', 'Mme', 'Dr', 'Major', 'Capt',\n",
              "       'Lady', 'Sir', 'Mlle', 'Dona', 'Jonkheer', 'the Countess', 'Don',\n",
              "       'Rev', 'Ms'], dtype=object)"
            ]
          },
          "metadata": {
            "tags": []
          },
          "execution_count": 28
        }
      ]
    },
    {
      "cell_type": "code",
      "metadata": {
        "colab": {
          "base_uri": "https://localhost:8080/",
          "height": 813
        },
        "id": "ubSYsc11RsvI",
        "outputId": "e4dd112b-e520-4729-e5e9-a9d02e3a6e87"
      },
      "source": [
        "raw_data"
      ],
      "execution_count": null,
      "outputs": [
        {
          "output_type": "execute_result",
          "data": {
            "text/html": [
              "<div>\n",
              "<style scoped>\n",
              "    .dataframe tbody tr th:only-of-type {\n",
              "        vertical-align: middle;\n",
              "    }\n",
              "\n",
              "    .dataframe tbody tr th {\n",
              "        vertical-align: top;\n",
              "    }\n",
              "\n",
              "    .dataframe thead th {\n",
              "        text-align: right;\n",
              "    }\n",
              "</style>\n",
              "<table border=\"1\" class=\"dataframe\">\n",
              "  <thead>\n",
              "    <tr style=\"text-align: right;\">\n",
              "      <th></th>\n",
              "      <th>pclass</th>\n",
              "      <th>survived</th>\n",
              "      <th>name</th>\n",
              "      <th>sex</th>\n",
              "      <th>age</th>\n",
              "      <th>sibsp</th>\n",
              "      <th>parch</th>\n",
              "      <th>ticket</th>\n",
              "      <th>fare</th>\n",
              "      <th>cabin</th>\n",
              "      <th>embarked</th>\n",
              "      <th>boat</th>\n",
              "      <th>body</th>\n",
              "      <th>home.dest</th>\n",
              "      <th>age_cat</th>\n",
              "      <th>title</th>\n",
              "    </tr>\n",
              "  </thead>\n",
              "  <tbody>\n",
              "    <tr>\n",
              "      <th>0</th>\n",
              "      <td>1</td>\n",
              "      <td>1</td>\n",
              "      <td>Allen, Miss. Elisabeth Walton</td>\n",
              "      <td>female</td>\n",
              "      <td>29.0000</td>\n",
              "      <td>0</td>\n",
              "      <td>0</td>\n",
              "      <td>24160</td>\n",
              "      <td>211.3375</td>\n",
              "      <td>B5</td>\n",
              "      <td>S</td>\n",
              "      <td>2</td>\n",
              "      <td>NaN</td>\n",
              "      <td>St Louis, MO</td>\n",
              "      <td>young</td>\n",
              "      <td>Miss</td>\n",
              "    </tr>\n",
              "    <tr>\n",
              "      <th>1</th>\n",
              "      <td>1</td>\n",
              "      <td>1</td>\n",
              "      <td>Allison, Master. Hudson Trevor</td>\n",
              "      <td>male</td>\n",
              "      <td>0.9167</td>\n",
              "      <td>1</td>\n",
              "      <td>2</td>\n",
              "      <td>113781</td>\n",
              "      <td>151.5500</td>\n",
              "      <td>C22 C26</td>\n",
              "      <td>S</td>\n",
              "      <td>11</td>\n",
              "      <td>NaN</td>\n",
              "      <td>Montreal, PQ / Chesterville, ON</td>\n",
              "      <td>baby</td>\n",
              "      <td>Master</td>\n",
              "    </tr>\n",
              "    <tr>\n",
              "      <th>2</th>\n",
              "      <td>1</td>\n",
              "      <td>0</td>\n",
              "      <td>Allison, Miss. Helen Loraine</td>\n",
              "      <td>female</td>\n",
              "      <td>2.0000</td>\n",
              "      <td>1</td>\n",
              "      <td>2</td>\n",
              "      <td>113781</td>\n",
              "      <td>151.5500</td>\n",
              "      <td>C22 C26</td>\n",
              "      <td>S</td>\n",
              "      <td>NaN</td>\n",
              "      <td>NaN</td>\n",
              "      <td>Montreal, PQ / Chesterville, ON</td>\n",
              "      <td>baby</td>\n",
              "      <td>Miss</td>\n",
              "    </tr>\n",
              "    <tr>\n",
              "      <th>3</th>\n",
              "      <td>1</td>\n",
              "      <td>0</td>\n",
              "      <td>Allison, Mr. Hudson Joshua Creighton</td>\n",
              "      <td>male</td>\n",
              "      <td>30.0000</td>\n",
              "      <td>1</td>\n",
              "      <td>2</td>\n",
              "      <td>113781</td>\n",
              "      <td>151.5500</td>\n",
              "      <td>C22 C26</td>\n",
              "      <td>S</td>\n",
              "      <td>NaN</td>\n",
              "      <td>135.0</td>\n",
              "      <td>Montreal, PQ / Chesterville, ON</td>\n",
              "      <td>young</td>\n",
              "      <td>Mr</td>\n",
              "    </tr>\n",
              "    <tr>\n",
              "      <th>4</th>\n",
              "      <td>1</td>\n",
              "      <td>0</td>\n",
              "      <td>Allison, Mrs. Hudson J C (Bessie Waldo Daniels)</td>\n",
              "      <td>female</td>\n",
              "      <td>25.0000</td>\n",
              "      <td>1</td>\n",
              "      <td>2</td>\n",
              "      <td>113781</td>\n",
              "      <td>151.5500</td>\n",
              "      <td>C22 C26</td>\n",
              "      <td>S</td>\n",
              "      <td>NaN</td>\n",
              "      <td>NaN</td>\n",
              "      <td>Montreal, PQ / Chesterville, ON</td>\n",
              "      <td>young</td>\n",
              "      <td>Mrs</td>\n",
              "    </tr>\n",
              "    <tr>\n",
              "      <th>...</th>\n",
              "      <td>...</td>\n",
              "      <td>...</td>\n",
              "      <td>...</td>\n",
              "      <td>...</td>\n",
              "      <td>...</td>\n",
              "      <td>...</td>\n",
              "      <td>...</td>\n",
              "      <td>...</td>\n",
              "      <td>...</td>\n",
              "      <td>...</td>\n",
              "      <td>...</td>\n",
              "      <td>...</td>\n",
              "      <td>...</td>\n",
              "      <td>...</td>\n",
              "      <td>...</td>\n",
              "      <td>...</td>\n",
              "    </tr>\n",
              "    <tr>\n",
              "      <th>1304</th>\n",
              "      <td>3</td>\n",
              "      <td>0</td>\n",
              "      <td>Zabour, Miss. Hileni</td>\n",
              "      <td>female</td>\n",
              "      <td>14.5000</td>\n",
              "      <td>1</td>\n",
              "      <td>0</td>\n",
              "      <td>2665</td>\n",
              "      <td>14.4542</td>\n",
              "      <td>NaN</td>\n",
              "      <td>C</td>\n",
              "      <td>NaN</td>\n",
              "      <td>328.0</td>\n",
              "      <td>NaN</td>\n",
              "      <td>teenage</td>\n",
              "      <td>Miss</td>\n",
              "    </tr>\n",
              "    <tr>\n",
              "      <th>1305</th>\n",
              "      <td>3</td>\n",
              "      <td>0</td>\n",
              "      <td>Zabour, Miss. Thamine</td>\n",
              "      <td>female</td>\n",
              "      <td>NaN</td>\n",
              "      <td>1</td>\n",
              "      <td>0</td>\n",
              "      <td>2665</td>\n",
              "      <td>14.4542</td>\n",
              "      <td>NaN</td>\n",
              "      <td>C</td>\n",
              "      <td>NaN</td>\n",
              "      <td>NaN</td>\n",
              "      <td>NaN</td>\n",
              "      <td>NaN</td>\n",
              "      <td>Miss</td>\n",
              "    </tr>\n",
              "    <tr>\n",
              "      <th>1306</th>\n",
              "      <td>3</td>\n",
              "      <td>0</td>\n",
              "      <td>Zakarian, Mr. Mapriededer</td>\n",
              "      <td>male</td>\n",
              "      <td>26.5000</td>\n",
              "      <td>0</td>\n",
              "      <td>0</td>\n",
              "      <td>2656</td>\n",
              "      <td>7.2250</td>\n",
              "      <td>NaN</td>\n",
              "      <td>C</td>\n",
              "      <td>NaN</td>\n",
              "      <td>304.0</td>\n",
              "      <td>NaN</td>\n",
              "      <td>young</td>\n",
              "      <td>Mr</td>\n",
              "    </tr>\n",
              "    <tr>\n",
              "      <th>1307</th>\n",
              "      <td>3</td>\n",
              "      <td>0</td>\n",
              "      <td>Zakarian, Mr. Ortin</td>\n",
              "      <td>male</td>\n",
              "      <td>27.0000</td>\n",
              "      <td>0</td>\n",
              "      <td>0</td>\n",
              "      <td>2670</td>\n",
              "      <td>7.2250</td>\n",
              "      <td>NaN</td>\n",
              "      <td>C</td>\n",
              "      <td>NaN</td>\n",
              "      <td>NaN</td>\n",
              "      <td>NaN</td>\n",
              "      <td>young</td>\n",
              "      <td>Mr</td>\n",
              "    </tr>\n",
              "    <tr>\n",
              "      <th>1308</th>\n",
              "      <td>3</td>\n",
              "      <td>0</td>\n",
              "      <td>Zimmerman, Mr. Leo</td>\n",
              "      <td>male</td>\n",
              "      <td>29.0000</td>\n",
              "      <td>0</td>\n",
              "      <td>0</td>\n",
              "      <td>315082</td>\n",
              "      <td>7.8750</td>\n",
              "      <td>NaN</td>\n",
              "      <td>S</td>\n",
              "      <td>NaN</td>\n",
              "      <td>NaN</td>\n",
              "      <td>NaN</td>\n",
              "      <td>young</td>\n",
              "      <td>Mr</td>\n",
              "    </tr>\n",
              "  </tbody>\n",
              "</table>\n",
              "<p>1309 rows × 16 columns</p>\n",
              "</div>"
            ],
            "text/plain": [
              "      pclass  survived  ...  age_cat   title\n",
              "0          1         1  ...    young    Miss\n",
              "1          1         1  ...     baby  Master\n",
              "2          1         0  ...     baby    Miss\n",
              "3          1         0  ...    young      Mr\n",
              "4          1         0  ...    young     Mrs\n",
              "...      ...       ...  ...      ...     ...\n",
              "1304       3         0  ...  teenage    Miss\n",
              "1305       3         0  ...      NaN    Miss\n",
              "1306       3         0  ...    young      Mr\n",
              "1307       3         0  ...    young      Mr\n",
              "1308       3         0  ...    young      Mr\n",
              "\n",
              "[1309 rows x 16 columns]"
            ]
          },
          "metadata": {
            "tags": []
          },
          "execution_count": 29
        }
      ]
    },
    {
      "cell_type": "code",
      "metadata": {
        "colab": {
          "base_uri": "https://localhost:8080/",
          "height": 636
        },
        "id": "vIbu0OoARtiq",
        "outputId": "3c8abaab-8c06-4972-bf90-7a5d0603e053"
      },
      "source": [
        "pd.crosstab(raw_data['title'],raw_data['sex'])"
      ],
      "execution_count": null,
      "outputs": [
        {
          "output_type": "execute_result",
          "data": {
            "text/html": [
              "<div>\n",
              "<style scoped>\n",
              "    .dataframe tbody tr th:only-of-type {\n",
              "        vertical-align: middle;\n",
              "    }\n",
              "\n",
              "    .dataframe tbody tr th {\n",
              "        vertical-align: top;\n",
              "    }\n",
              "\n",
              "    .dataframe thead th {\n",
              "        text-align: right;\n",
              "    }\n",
              "</style>\n",
              "<table border=\"1\" class=\"dataframe\">\n",
              "  <thead>\n",
              "    <tr style=\"text-align: right;\">\n",
              "      <th>sex</th>\n",
              "      <th>female</th>\n",
              "      <th>male</th>\n",
              "    </tr>\n",
              "    <tr>\n",
              "      <th>title</th>\n",
              "      <th></th>\n",
              "      <th></th>\n",
              "    </tr>\n",
              "  </thead>\n",
              "  <tbody>\n",
              "    <tr>\n",
              "      <th>Capt</th>\n",
              "      <td>0</td>\n",
              "      <td>1</td>\n",
              "    </tr>\n",
              "    <tr>\n",
              "      <th>Col</th>\n",
              "      <td>0</td>\n",
              "      <td>4</td>\n",
              "    </tr>\n",
              "    <tr>\n",
              "      <th>Don</th>\n",
              "      <td>0</td>\n",
              "      <td>1</td>\n",
              "    </tr>\n",
              "    <tr>\n",
              "      <th>Dona</th>\n",
              "      <td>1</td>\n",
              "      <td>0</td>\n",
              "    </tr>\n",
              "    <tr>\n",
              "      <th>Dr</th>\n",
              "      <td>1</td>\n",
              "      <td>7</td>\n",
              "    </tr>\n",
              "    <tr>\n",
              "      <th>Jonkheer</th>\n",
              "      <td>0</td>\n",
              "      <td>1</td>\n",
              "    </tr>\n",
              "    <tr>\n",
              "      <th>Lady</th>\n",
              "      <td>1</td>\n",
              "      <td>0</td>\n",
              "    </tr>\n",
              "    <tr>\n",
              "      <th>Major</th>\n",
              "      <td>0</td>\n",
              "      <td>2</td>\n",
              "    </tr>\n",
              "    <tr>\n",
              "      <th>Master</th>\n",
              "      <td>0</td>\n",
              "      <td>61</td>\n",
              "    </tr>\n",
              "    <tr>\n",
              "      <th>Miss</th>\n",
              "      <td>260</td>\n",
              "      <td>0</td>\n",
              "    </tr>\n",
              "    <tr>\n",
              "      <th>Mlle</th>\n",
              "      <td>2</td>\n",
              "      <td>0</td>\n",
              "    </tr>\n",
              "    <tr>\n",
              "      <th>Mme</th>\n",
              "      <td>1</td>\n",
              "      <td>0</td>\n",
              "    </tr>\n",
              "    <tr>\n",
              "      <th>Mr</th>\n",
              "      <td>0</td>\n",
              "      <td>757</td>\n",
              "    </tr>\n",
              "    <tr>\n",
              "      <th>Mrs</th>\n",
              "      <td>197</td>\n",
              "      <td>0</td>\n",
              "    </tr>\n",
              "    <tr>\n",
              "      <th>Ms</th>\n",
              "      <td>2</td>\n",
              "      <td>0</td>\n",
              "    </tr>\n",
              "    <tr>\n",
              "      <th>Rev</th>\n",
              "      <td>0</td>\n",
              "      <td>8</td>\n",
              "    </tr>\n",
              "    <tr>\n",
              "      <th>Sir</th>\n",
              "      <td>0</td>\n",
              "      <td>1</td>\n",
              "    </tr>\n",
              "    <tr>\n",
              "      <th>the Countess</th>\n",
              "      <td>1</td>\n",
              "      <td>0</td>\n",
              "    </tr>\n",
              "  </tbody>\n",
              "</table>\n",
              "</div>"
            ],
            "text/plain": [
              "sex           female  male\n",
              "title                     \n",
              "Capt               0     1\n",
              "Col                0     4\n",
              "Don                0     1\n",
              "Dona               1     0\n",
              "Dr                 1     7\n",
              "Jonkheer           0     1\n",
              "Lady               1     0\n",
              "Major              0     2\n",
              "Master             0    61\n",
              "Miss             260     0\n",
              "Mlle               2     0\n",
              "Mme                1     0\n",
              "Mr                 0   757\n",
              "Mrs              197     0\n",
              "Ms                 2     0\n",
              "Rev                0     8\n",
              "Sir                0     1\n",
              "the Countess       1     0"
            ]
          },
          "metadata": {
            "tags": []
          },
          "execution_count": 30
        }
      ]
    },
    {
      "cell_type": "code",
      "metadata": {
        "colab": {
          "base_uri": "https://localhost:8080/",
          "height": 636
        },
        "id": "P3IkqSbKTVyR",
        "outputId": "75b17f48-0ed5-4121-807e-59d59ce00b53"
      },
      "source": [
        "pd.crosstab(raw_data['title'],raw_data['sex'])"
      ],
      "execution_count": null,
      "outputs": [
        {
          "output_type": "execute_result",
          "data": {
            "text/html": [
              "<div>\n",
              "<style scoped>\n",
              "    .dataframe tbody tr th:only-of-type {\n",
              "        vertical-align: middle;\n",
              "    }\n",
              "\n",
              "    .dataframe tbody tr th {\n",
              "        vertical-align: top;\n",
              "    }\n",
              "\n",
              "    .dataframe thead th {\n",
              "        text-align: right;\n",
              "    }\n",
              "</style>\n",
              "<table border=\"1\" class=\"dataframe\">\n",
              "  <thead>\n",
              "    <tr style=\"text-align: right;\">\n",
              "      <th>sex</th>\n",
              "      <th>female</th>\n",
              "      <th>male</th>\n",
              "    </tr>\n",
              "    <tr>\n",
              "      <th>title</th>\n",
              "      <th></th>\n",
              "      <th></th>\n",
              "    </tr>\n",
              "  </thead>\n",
              "  <tbody>\n",
              "    <tr>\n",
              "      <th>Capt</th>\n",
              "      <td>0</td>\n",
              "      <td>1</td>\n",
              "    </tr>\n",
              "    <tr>\n",
              "      <th>Col</th>\n",
              "      <td>0</td>\n",
              "      <td>4</td>\n",
              "    </tr>\n",
              "    <tr>\n",
              "      <th>Don</th>\n",
              "      <td>0</td>\n",
              "      <td>1</td>\n",
              "    </tr>\n",
              "    <tr>\n",
              "      <th>Dona</th>\n",
              "      <td>1</td>\n",
              "      <td>0</td>\n",
              "    </tr>\n",
              "    <tr>\n",
              "      <th>Dr</th>\n",
              "      <td>1</td>\n",
              "      <td>7</td>\n",
              "    </tr>\n",
              "    <tr>\n",
              "      <th>Jonkheer</th>\n",
              "      <td>0</td>\n",
              "      <td>1</td>\n",
              "    </tr>\n",
              "    <tr>\n",
              "      <th>Lady</th>\n",
              "      <td>1</td>\n",
              "      <td>0</td>\n",
              "    </tr>\n",
              "    <tr>\n",
              "      <th>Major</th>\n",
              "      <td>0</td>\n",
              "      <td>2</td>\n",
              "    </tr>\n",
              "    <tr>\n",
              "      <th>Master</th>\n",
              "      <td>0</td>\n",
              "      <td>61</td>\n",
              "    </tr>\n",
              "    <tr>\n",
              "      <th>Miss</th>\n",
              "      <td>260</td>\n",
              "      <td>0</td>\n",
              "    </tr>\n",
              "    <tr>\n",
              "      <th>Mlle</th>\n",
              "      <td>2</td>\n",
              "      <td>0</td>\n",
              "    </tr>\n",
              "    <tr>\n",
              "      <th>Mme</th>\n",
              "      <td>1</td>\n",
              "      <td>0</td>\n",
              "    </tr>\n",
              "    <tr>\n",
              "      <th>Mr</th>\n",
              "      <td>0</td>\n",
              "      <td>757</td>\n",
              "    </tr>\n",
              "    <tr>\n",
              "      <th>Mrs</th>\n",
              "      <td>197</td>\n",
              "      <td>0</td>\n",
              "    </tr>\n",
              "    <tr>\n",
              "      <th>Ms</th>\n",
              "      <td>2</td>\n",
              "      <td>0</td>\n",
              "    </tr>\n",
              "    <tr>\n",
              "      <th>Rev</th>\n",
              "      <td>0</td>\n",
              "      <td>8</td>\n",
              "    </tr>\n",
              "    <tr>\n",
              "      <th>Sir</th>\n",
              "      <td>0</td>\n",
              "      <td>1</td>\n",
              "    </tr>\n",
              "    <tr>\n",
              "      <th>the Countess</th>\n",
              "      <td>1</td>\n",
              "      <td>0</td>\n",
              "    </tr>\n",
              "  </tbody>\n",
              "</table>\n",
              "</div>"
            ],
            "text/plain": [
              "sex           female  male\n",
              "title                     \n",
              "Capt               0     1\n",
              "Col                0     4\n",
              "Don                0     1\n",
              "Dona               1     0\n",
              "Dr                 1     7\n",
              "Jonkheer           0     1\n",
              "Lady               1     0\n",
              "Major              0     2\n",
              "Master             0    61\n",
              "Miss             260     0\n",
              "Mlle               2     0\n",
              "Mme                1     0\n",
              "Mr                 0   757\n",
              "Mrs              197     0\n",
              "Ms                 2     0\n",
              "Rev                0     8\n",
              "Sir                0     1\n",
              "the Countess       1     0"
            ]
          },
          "metadata": {
            "tags": []
          },
          "execution_count": 33
        }
      ]
    },
    {
      "cell_type": "code",
      "metadata": {
        "id": "Yn07C7JFbCzA"
      },
      "source": [
        "# 학습을 위한 데이터 정리 / 특징 선택\n",
        "\n",
        "# 남성과 여성 으로 학습을 하려면 문자 -> 숫자로 변경\n",
        "\n",
        "tmp = []\n",
        "for each in raw_data['sex']:\n",
        "  if each == 'female':\n",
        "    tmp.append(0)\n",
        "  elif each == 'male':\n",
        "    tmp.append(1)\n",
        "  else:\n",
        "    tmp.append(np.nan)\n"
      ],
      "execution_count": null,
      "outputs": []
    },
    {
      "cell_type": "code",
      "metadata": {
        "colab": {
          "base_uri": "https://localhost:8080/",
          "height": 821
        },
        "id": "mWaU5rVOcjO1",
        "outputId": "f58d24d0-5ed8-439e-a9f6-cd240079e206"
      },
      "source": [
        "raw_data['sex'] = tmp\n",
        "\n",
        "raw_data.head(10)"
      ],
      "execution_count": null,
      "outputs": [
        {
          "output_type": "execute_result",
          "data": {
            "text/html": [
              "<div>\n",
              "<style scoped>\n",
              "    .dataframe tbody tr th:only-of-type {\n",
              "        vertical-align: middle;\n",
              "    }\n",
              "\n",
              "    .dataframe tbody tr th {\n",
              "        vertical-align: top;\n",
              "    }\n",
              "\n",
              "    .dataframe thead th {\n",
              "        text-align: right;\n",
              "    }\n",
              "</style>\n",
              "<table border=\"1\" class=\"dataframe\">\n",
              "  <thead>\n",
              "    <tr style=\"text-align: right;\">\n",
              "      <th></th>\n",
              "      <th>pclass</th>\n",
              "      <th>survived</th>\n",
              "      <th>name</th>\n",
              "      <th>sex</th>\n",
              "      <th>age</th>\n",
              "      <th>sibsp</th>\n",
              "      <th>parch</th>\n",
              "      <th>ticket</th>\n",
              "      <th>fare</th>\n",
              "      <th>cabin</th>\n",
              "      <th>embarked</th>\n",
              "      <th>boat</th>\n",
              "      <th>body</th>\n",
              "      <th>home.dest</th>\n",
              "      <th>age_cat</th>\n",
              "      <th>title</th>\n",
              "    </tr>\n",
              "  </thead>\n",
              "  <tbody>\n",
              "    <tr>\n",
              "      <th>0</th>\n",
              "      <td>1</td>\n",
              "      <td>1</td>\n",
              "      <td>Allen, Miss. Elisabeth Walton</td>\n",
              "      <td>0</td>\n",
              "      <td>29.0000</td>\n",
              "      <td>0</td>\n",
              "      <td>0</td>\n",
              "      <td>24160</td>\n",
              "      <td>211.3375</td>\n",
              "      <td>B5</td>\n",
              "      <td>S</td>\n",
              "      <td>2</td>\n",
              "      <td>NaN</td>\n",
              "      <td>St Louis, MO</td>\n",
              "      <td>young</td>\n",
              "      <td>Miss</td>\n",
              "    </tr>\n",
              "    <tr>\n",
              "      <th>1</th>\n",
              "      <td>1</td>\n",
              "      <td>1</td>\n",
              "      <td>Allison, Master. Hudson Trevor</td>\n",
              "      <td>1</td>\n",
              "      <td>0.9167</td>\n",
              "      <td>1</td>\n",
              "      <td>2</td>\n",
              "      <td>113781</td>\n",
              "      <td>151.5500</td>\n",
              "      <td>C22 C26</td>\n",
              "      <td>S</td>\n",
              "      <td>11</td>\n",
              "      <td>NaN</td>\n",
              "      <td>Montreal, PQ / Chesterville, ON</td>\n",
              "      <td>baby</td>\n",
              "      <td>Master</td>\n",
              "    </tr>\n",
              "    <tr>\n",
              "      <th>2</th>\n",
              "      <td>1</td>\n",
              "      <td>0</td>\n",
              "      <td>Allison, Miss. Helen Loraine</td>\n",
              "      <td>0</td>\n",
              "      <td>2.0000</td>\n",
              "      <td>1</td>\n",
              "      <td>2</td>\n",
              "      <td>113781</td>\n",
              "      <td>151.5500</td>\n",
              "      <td>C22 C26</td>\n",
              "      <td>S</td>\n",
              "      <td>NaN</td>\n",
              "      <td>NaN</td>\n",
              "      <td>Montreal, PQ / Chesterville, ON</td>\n",
              "      <td>baby</td>\n",
              "      <td>Miss</td>\n",
              "    </tr>\n",
              "    <tr>\n",
              "      <th>3</th>\n",
              "      <td>1</td>\n",
              "      <td>0</td>\n",
              "      <td>Allison, Mr. Hudson Joshua Creighton</td>\n",
              "      <td>1</td>\n",
              "      <td>30.0000</td>\n",
              "      <td>1</td>\n",
              "      <td>2</td>\n",
              "      <td>113781</td>\n",
              "      <td>151.5500</td>\n",
              "      <td>C22 C26</td>\n",
              "      <td>S</td>\n",
              "      <td>NaN</td>\n",
              "      <td>135.0</td>\n",
              "      <td>Montreal, PQ / Chesterville, ON</td>\n",
              "      <td>young</td>\n",
              "      <td>Mr</td>\n",
              "    </tr>\n",
              "    <tr>\n",
              "      <th>4</th>\n",
              "      <td>1</td>\n",
              "      <td>0</td>\n",
              "      <td>Allison, Mrs. Hudson J C (Bessie Waldo Daniels)</td>\n",
              "      <td>0</td>\n",
              "      <td>25.0000</td>\n",
              "      <td>1</td>\n",
              "      <td>2</td>\n",
              "      <td>113781</td>\n",
              "      <td>151.5500</td>\n",
              "      <td>C22 C26</td>\n",
              "      <td>S</td>\n",
              "      <td>NaN</td>\n",
              "      <td>NaN</td>\n",
              "      <td>Montreal, PQ / Chesterville, ON</td>\n",
              "      <td>young</td>\n",
              "      <td>Mrs</td>\n",
              "    </tr>\n",
              "    <tr>\n",
              "      <th>5</th>\n",
              "      <td>1</td>\n",
              "      <td>1</td>\n",
              "      <td>Anderson, Mr. Harry</td>\n",
              "      <td>1</td>\n",
              "      <td>48.0000</td>\n",
              "      <td>0</td>\n",
              "      <td>0</td>\n",
              "      <td>19952</td>\n",
              "      <td>26.5500</td>\n",
              "      <td>E12</td>\n",
              "      <td>S</td>\n",
              "      <td>3</td>\n",
              "      <td>NaN</td>\n",
              "      <td>New York, NY</td>\n",
              "      <td>adult</td>\n",
              "      <td>Mr</td>\n",
              "    </tr>\n",
              "    <tr>\n",
              "      <th>6</th>\n",
              "      <td>1</td>\n",
              "      <td>1</td>\n",
              "      <td>Andrews, Miss. Kornelia Theodosia</td>\n",
              "      <td>0</td>\n",
              "      <td>63.0000</td>\n",
              "      <td>1</td>\n",
              "      <td>0</td>\n",
              "      <td>13502</td>\n",
              "      <td>77.9583</td>\n",
              "      <td>D7</td>\n",
              "      <td>S</td>\n",
              "      <td>10</td>\n",
              "      <td>NaN</td>\n",
              "      <td>Hudson, NY</td>\n",
              "      <td>old</td>\n",
              "      <td>Miss</td>\n",
              "    </tr>\n",
              "    <tr>\n",
              "      <th>7</th>\n",
              "      <td>1</td>\n",
              "      <td>0</td>\n",
              "      <td>Andrews, Mr. Thomas Jr</td>\n",
              "      <td>1</td>\n",
              "      <td>39.0000</td>\n",
              "      <td>0</td>\n",
              "      <td>0</td>\n",
              "      <td>112050</td>\n",
              "      <td>0.0000</td>\n",
              "      <td>A36</td>\n",
              "      <td>S</td>\n",
              "      <td>NaN</td>\n",
              "      <td>NaN</td>\n",
              "      <td>Belfast, NI</td>\n",
              "      <td>adult</td>\n",
              "      <td>Mr</td>\n",
              "    </tr>\n",
              "    <tr>\n",
              "      <th>8</th>\n",
              "      <td>1</td>\n",
              "      <td>1</td>\n",
              "      <td>Appleton, Mrs. Edward Dale (Charlotte Lamson)</td>\n",
              "      <td>0</td>\n",
              "      <td>53.0000</td>\n",
              "      <td>2</td>\n",
              "      <td>0</td>\n",
              "      <td>11769</td>\n",
              "      <td>51.4792</td>\n",
              "      <td>C101</td>\n",
              "      <td>S</td>\n",
              "      <td>D</td>\n",
              "      <td>NaN</td>\n",
              "      <td>Bayside, Queens, NY</td>\n",
              "      <td>adult</td>\n",
              "      <td>Mrs</td>\n",
              "    </tr>\n",
              "    <tr>\n",
              "      <th>9</th>\n",
              "      <td>1</td>\n",
              "      <td>0</td>\n",
              "      <td>Artagaveytia, Mr. Ramon</td>\n",
              "      <td>1</td>\n",
              "      <td>71.0000</td>\n",
              "      <td>0</td>\n",
              "      <td>0</td>\n",
              "      <td>PC 17609</td>\n",
              "      <td>49.5042</td>\n",
              "      <td>NaN</td>\n",
              "      <td>C</td>\n",
              "      <td>NaN</td>\n",
              "      <td>22.0</td>\n",
              "      <td>Montevideo, Uruguay</td>\n",
              "      <td>old</td>\n",
              "      <td>Mr</td>\n",
              "    </tr>\n",
              "  </tbody>\n",
              "</table>\n",
              "</div>"
            ],
            "text/plain": [
              "   pclass  survived  ... age_cat   title\n",
              "0       1         1  ...   young    Miss\n",
              "1       1         1  ...    baby  Master\n",
              "2       1         0  ...    baby    Miss\n",
              "3       1         0  ...   young      Mr\n",
              "4       1         0  ...   young     Mrs\n",
              "5       1         1  ...   adult      Mr\n",
              "6       1         1  ...     old    Miss\n",
              "7       1         0  ...   adult      Mr\n",
              "8       1         1  ...   adult     Mrs\n",
              "9       1         0  ...     old      Mr\n",
              "\n",
              "[10 rows x 16 columns]"
            ]
          },
          "metadata": {
            "tags": []
          },
          "execution_count": 35
        }
      ]
    },
    {
      "cell_type": "code",
      "metadata": {
        "id": "AF8eyYYsdPzW"
      },
      "source": [
        "raw_data['pclass'] = raw_data['pclass'].astype('float')\n",
        "raw_data['survived'] = raw_data['survived'].astype('float')\n",
        "raw_data['sex'] = raw_data['sex'].astype('float')\n",
        "raw_data['sibsp'] = raw_data['sibsp'].astype('float')\n",
        "raw_data['parch'] = raw_data['parch'].astype('float')\n",
        "raw_data['fare'] = raw_data['fare'].astype('float')"
      ],
      "execution_count": null,
      "outputs": []
    },
    {
      "cell_type": "code",
      "metadata": {
        "colab": {
          "base_uri": "https://localhost:8080/",
          "height": 530
        },
        "id": "rTcwh1W1du28",
        "outputId": "f7afc383-13ee-47b1-e77c-ff1a69925b1d"
      },
      "source": [
        "raw_data.head()"
      ],
      "execution_count": null,
      "outputs": [
        {
          "output_type": "execute_result",
          "data": {
            "text/html": [
              "<div>\n",
              "<style scoped>\n",
              "    .dataframe tbody tr th:only-of-type {\n",
              "        vertical-align: middle;\n",
              "    }\n",
              "\n",
              "    .dataframe tbody tr th {\n",
              "        vertical-align: top;\n",
              "    }\n",
              "\n",
              "    .dataframe thead th {\n",
              "        text-align: right;\n",
              "    }\n",
              "</style>\n",
              "<table border=\"1\" class=\"dataframe\">\n",
              "  <thead>\n",
              "    <tr style=\"text-align: right;\">\n",
              "      <th></th>\n",
              "      <th>pclass</th>\n",
              "      <th>survived</th>\n",
              "      <th>name</th>\n",
              "      <th>sex</th>\n",
              "      <th>age</th>\n",
              "      <th>sibsp</th>\n",
              "      <th>parch</th>\n",
              "      <th>ticket</th>\n",
              "      <th>fare</th>\n",
              "      <th>cabin</th>\n",
              "      <th>embarked</th>\n",
              "      <th>boat</th>\n",
              "      <th>body</th>\n",
              "      <th>home.dest</th>\n",
              "      <th>age_cat</th>\n",
              "      <th>title</th>\n",
              "    </tr>\n",
              "  </thead>\n",
              "  <tbody>\n",
              "    <tr>\n",
              "      <th>0</th>\n",
              "      <td>1.0</td>\n",
              "      <td>1.0</td>\n",
              "      <td>Allen, Miss. Elisabeth Walton</td>\n",
              "      <td>0.0</td>\n",
              "      <td>29.0000</td>\n",
              "      <td>0.0</td>\n",
              "      <td>0.0</td>\n",
              "      <td>24160</td>\n",
              "      <td>211.3375</td>\n",
              "      <td>B5</td>\n",
              "      <td>S</td>\n",
              "      <td>2</td>\n",
              "      <td>NaN</td>\n",
              "      <td>St Louis, MO</td>\n",
              "      <td>young</td>\n",
              "      <td>Miss</td>\n",
              "    </tr>\n",
              "    <tr>\n",
              "      <th>1</th>\n",
              "      <td>1.0</td>\n",
              "      <td>1.0</td>\n",
              "      <td>Allison, Master. Hudson Trevor</td>\n",
              "      <td>1.0</td>\n",
              "      <td>0.9167</td>\n",
              "      <td>1.0</td>\n",
              "      <td>2.0</td>\n",
              "      <td>113781</td>\n",
              "      <td>151.5500</td>\n",
              "      <td>C22 C26</td>\n",
              "      <td>S</td>\n",
              "      <td>11</td>\n",
              "      <td>NaN</td>\n",
              "      <td>Montreal, PQ / Chesterville, ON</td>\n",
              "      <td>baby</td>\n",
              "      <td>Master</td>\n",
              "    </tr>\n",
              "    <tr>\n",
              "      <th>2</th>\n",
              "      <td>1.0</td>\n",
              "      <td>0.0</td>\n",
              "      <td>Allison, Miss. Helen Loraine</td>\n",
              "      <td>0.0</td>\n",
              "      <td>2.0000</td>\n",
              "      <td>1.0</td>\n",
              "      <td>2.0</td>\n",
              "      <td>113781</td>\n",
              "      <td>151.5500</td>\n",
              "      <td>C22 C26</td>\n",
              "      <td>S</td>\n",
              "      <td>NaN</td>\n",
              "      <td>NaN</td>\n",
              "      <td>Montreal, PQ / Chesterville, ON</td>\n",
              "      <td>baby</td>\n",
              "      <td>Miss</td>\n",
              "    </tr>\n",
              "    <tr>\n",
              "      <th>3</th>\n",
              "      <td>1.0</td>\n",
              "      <td>0.0</td>\n",
              "      <td>Allison, Mr. Hudson Joshua Creighton</td>\n",
              "      <td>1.0</td>\n",
              "      <td>30.0000</td>\n",
              "      <td>1.0</td>\n",
              "      <td>2.0</td>\n",
              "      <td>113781</td>\n",
              "      <td>151.5500</td>\n",
              "      <td>C22 C26</td>\n",
              "      <td>S</td>\n",
              "      <td>NaN</td>\n",
              "      <td>135.0</td>\n",
              "      <td>Montreal, PQ / Chesterville, ON</td>\n",
              "      <td>young</td>\n",
              "      <td>Mr</td>\n",
              "    </tr>\n",
              "    <tr>\n",
              "      <th>4</th>\n",
              "      <td>1.0</td>\n",
              "      <td>0.0</td>\n",
              "      <td>Allison, Mrs. Hudson J C (Bessie Waldo Daniels)</td>\n",
              "      <td>0.0</td>\n",
              "      <td>25.0000</td>\n",
              "      <td>1.0</td>\n",
              "      <td>2.0</td>\n",
              "      <td>113781</td>\n",
              "      <td>151.5500</td>\n",
              "      <td>C22 C26</td>\n",
              "      <td>S</td>\n",
              "      <td>NaN</td>\n",
              "      <td>NaN</td>\n",
              "      <td>Montreal, PQ / Chesterville, ON</td>\n",
              "      <td>young</td>\n",
              "      <td>Mrs</td>\n",
              "    </tr>\n",
              "  </tbody>\n",
              "</table>\n",
              "</div>"
            ],
            "text/plain": [
              "   pclass  survived  ... age_cat   title\n",
              "0     1.0       1.0  ...   young    Miss\n",
              "1     1.0       1.0  ...    baby  Master\n",
              "2     1.0       0.0  ...    baby    Miss\n",
              "3     1.0       0.0  ...   young      Mr\n",
              "4     1.0       0.0  ...   young     Mrs\n",
              "\n",
              "[5 rows x 16 columns]"
            ]
          },
          "metadata": {
            "tags": []
          },
          "execution_count": 37
        }
      ]
    },
    {
      "cell_type": "code",
      "metadata": {
        "colab": {
          "base_uri": "https://localhost:8080/"
        },
        "id": "MiNUzOqHdwc4",
        "outputId": "09401540-9db3-4d4f-dda2-85abc2e51824"
      },
      "source": [
        "# NaN을 빼고 다시 저장 \n",
        "\n",
        "raw_data.info()\n",
        "\n",
        "raw_data = raw_data[raw_data['age'].notnull()]\n",
        "raw_data = raw_data[raw_data['sibsp'].notnull()]\n",
        "raw_data = raw_data[raw_data['parch'].notnull()]\n",
        "raw_data = raw_data[raw_data['fare'].notnull()]\n",
        "\n",
        "raw_data.info()"
      ],
      "execution_count": null,
      "outputs": [
        {
          "output_type": "stream",
          "text": [
            "<class 'pandas.core.frame.DataFrame'>\n",
            "RangeIndex: 1309 entries, 0 to 1308\n",
            "Data columns (total 16 columns):\n",
            " #   Column     Non-Null Count  Dtype   \n",
            "---  ------     --------------  -----   \n",
            " 0   pclass     1309 non-null   float64 \n",
            " 1   survived   1309 non-null   float64 \n",
            " 2   name       1309 non-null   object  \n",
            " 3   sex        1309 non-null   float64 \n",
            " 4   age        1046 non-null   float64 \n",
            " 5   sibsp      1309 non-null   float64 \n",
            " 6   parch      1309 non-null   float64 \n",
            " 7   ticket     1309 non-null   object  \n",
            " 8   fare       1308 non-null   float64 \n",
            " 9   cabin      295 non-null    object  \n",
            " 10  embarked   1307 non-null   object  \n",
            " 11  boat       486 non-null    object  \n",
            " 12  body       121 non-null    float64 \n",
            " 13  home.dest  745 non-null    object  \n",
            " 14  age_cat    1046 non-null   category\n",
            " 15  title      1309 non-null   object  \n",
            "dtypes: category(1), float64(8), object(7)\n",
            "memory usage: 155.0+ KB\n",
            "<class 'pandas.core.frame.DataFrame'>\n",
            "Int64Index: 1045 entries, 0 to 1308\n",
            "Data columns (total 16 columns):\n",
            " #   Column     Non-Null Count  Dtype   \n",
            "---  ------     --------------  -----   \n",
            " 0   pclass     1045 non-null   float64 \n",
            " 1   survived   1045 non-null   float64 \n",
            " 2   name       1045 non-null   object  \n",
            " 3   sex        1045 non-null   float64 \n",
            " 4   age        1045 non-null   float64 \n",
            " 5   sibsp      1045 non-null   float64 \n",
            " 6   parch      1045 non-null   float64 \n",
            " 7   ticket     1045 non-null   object  \n",
            " 8   fare       1045 non-null   float64 \n",
            " 9   cabin      272 non-null    object  \n",
            " 10  embarked   1043 non-null   object  \n",
            " 11  boat       417 non-null    object  \n",
            " 12  body       119 non-null    float64 \n",
            " 13  home.dest  685 non-null    object  \n",
            " 14  age_cat    1045 non-null   category\n",
            " 15  title      1045 non-null   object  \n",
            "dtypes: category(1), float64(8), object(7)\n",
            "memory usage: 131.8+ KB\n"
          ],
          "name": "stdout"
        }
      ]
    },
    {
      "cell_type": "code",
      "metadata": {
        "colab": {
          "base_uri": "https://localhost:8080/",
          "height": 417
        },
        "id": "dVRtTqnYecwA",
        "outputId": "f7f34f54-3b89-406a-e8d3-26ca9281c359"
      },
      "source": [
        "train_pre = raw_data[['pclass','sex','age','sibsp','parch','fare']]\n",
        "train_pre\n",
        "\n"
      ],
      "execution_count": null,
      "outputs": [
        {
          "output_type": "execute_result",
          "data": {
            "text/html": [
              "<div>\n",
              "<style scoped>\n",
              "    .dataframe tbody tr th:only-of-type {\n",
              "        vertical-align: middle;\n",
              "    }\n",
              "\n",
              "    .dataframe tbody tr th {\n",
              "        vertical-align: top;\n",
              "    }\n",
              "\n",
              "    .dataframe thead th {\n",
              "        text-align: right;\n",
              "    }\n",
              "</style>\n",
              "<table border=\"1\" class=\"dataframe\">\n",
              "  <thead>\n",
              "    <tr style=\"text-align: right;\">\n",
              "      <th></th>\n",
              "      <th>pclass</th>\n",
              "      <th>sex</th>\n",
              "      <th>age</th>\n",
              "      <th>sibsp</th>\n",
              "      <th>parch</th>\n",
              "      <th>fare</th>\n",
              "    </tr>\n",
              "  </thead>\n",
              "  <tbody>\n",
              "    <tr>\n",
              "      <th>0</th>\n",
              "      <td>1.0</td>\n",
              "      <td>0.0</td>\n",
              "      <td>29.0000</td>\n",
              "      <td>0.0</td>\n",
              "      <td>0.0</td>\n",
              "      <td>211.3375</td>\n",
              "    </tr>\n",
              "    <tr>\n",
              "      <th>1</th>\n",
              "      <td>1.0</td>\n",
              "      <td>1.0</td>\n",
              "      <td>0.9167</td>\n",
              "      <td>1.0</td>\n",
              "      <td>2.0</td>\n",
              "      <td>151.5500</td>\n",
              "    </tr>\n",
              "    <tr>\n",
              "      <th>2</th>\n",
              "      <td>1.0</td>\n",
              "      <td>0.0</td>\n",
              "      <td>2.0000</td>\n",
              "      <td>1.0</td>\n",
              "      <td>2.0</td>\n",
              "      <td>151.5500</td>\n",
              "    </tr>\n",
              "    <tr>\n",
              "      <th>3</th>\n",
              "      <td>1.0</td>\n",
              "      <td>1.0</td>\n",
              "      <td>30.0000</td>\n",
              "      <td>1.0</td>\n",
              "      <td>2.0</td>\n",
              "      <td>151.5500</td>\n",
              "    </tr>\n",
              "    <tr>\n",
              "      <th>4</th>\n",
              "      <td>1.0</td>\n",
              "      <td>0.0</td>\n",
              "      <td>25.0000</td>\n",
              "      <td>1.0</td>\n",
              "      <td>2.0</td>\n",
              "      <td>151.5500</td>\n",
              "    </tr>\n",
              "    <tr>\n",
              "      <th>...</th>\n",
              "      <td>...</td>\n",
              "      <td>...</td>\n",
              "      <td>...</td>\n",
              "      <td>...</td>\n",
              "      <td>...</td>\n",
              "      <td>...</td>\n",
              "    </tr>\n",
              "    <tr>\n",
              "      <th>1301</th>\n",
              "      <td>3.0</td>\n",
              "      <td>1.0</td>\n",
              "      <td>45.5000</td>\n",
              "      <td>0.0</td>\n",
              "      <td>0.0</td>\n",
              "      <td>7.2250</td>\n",
              "    </tr>\n",
              "    <tr>\n",
              "      <th>1304</th>\n",
              "      <td>3.0</td>\n",
              "      <td>0.0</td>\n",
              "      <td>14.5000</td>\n",
              "      <td>1.0</td>\n",
              "      <td>0.0</td>\n",
              "      <td>14.4542</td>\n",
              "    </tr>\n",
              "    <tr>\n",
              "      <th>1306</th>\n",
              "      <td>3.0</td>\n",
              "      <td>1.0</td>\n",
              "      <td>26.5000</td>\n",
              "      <td>0.0</td>\n",
              "      <td>0.0</td>\n",
              "      <td>7.2250</td>\n",
              "    </tr>\n",
              "    <tr>\n",
              "      <th>1307</th>\n",
              "      <td>3.0</td>\n",
              "      <td>1.0</td>\n",
              "      <td>27.0000</td>\n",
              "      <td>0.0</td>\n",
              "      <td>0.0</td>\n",
              "      <td>7.2250</td>\n",
              "    </tr>\n",
              "    <tr>\n",
              "      <th>1308</th>\n",
              "      <td>3.0</td>\n",
              "      <td>1.0</td>\n",
              "      <td>29.0000</td>\n",
              "      <td>0.0</td>\n",
              "      <td>0.0</td>\n",
              "      <td>7.8750</td>\n",
              "    </tr>\n",
              "  </tbody>\n",
              "</table>\n",
              "<p>1045 rows × 6 columns</p>\n",
              "</div>"
            ],
            "text/plain": [
              "      pclass  sex      age  sibsp  parch      fare\n",
              "0        1.0  0.0  29.0000    0.0    0.0  211.3375\n",
              "1        1.0  1.0   0.9167    1.0    2.0  151.5500\n",
              "2        1.0  0.0   2.0000    1.0    2.0  151.5500\n",
              "3        1.0  1.0  30.0000    1.0    2.0  151.5500\n",
              "4        1.0  0.0  25.0000    1.0    2.0  151.5500\n",
              "...      ...  ...      ...    ...    ...       ...\n",
              "1301     3.0  1.0  45.5000    0.0    0.0    7.2250\n",
              "1304     3.0  0.0  14.5000    1.0    0.0   14.4542\n",
              "1306     3.0  1.0  26.5000    0.0    0.0    7.2250\n",
              "1307     3.0  1.0  27.0000    0.0    0.0    7.2250\n",
              "1308     3.0  1.0  29.0000    0.0    0.0    7.8750\n",
              "\n",
              "[1045 rows x 6 columns]"
            ]
          },
          "metadata": {
            "tags": []
          },
          "execution_count": 39
        }
      ]
    },
    {
      "cell_type": "code",
      "metadata": {
        "id": "CYymYGMpfSiT"
      },
      "source": [
        "# 훈련용과 검증용으로 나누자\n",
        "from sklearn.model_selection import train_test_split\n",
        "\n",
        "X_train, X_test, y_train, y_test = train_test_split(train_pre,\n",
        "                                                    raw_data[['survived']],\n",
        "                                                    test_size = 0.1,\n",
        "                                                    random_state=13)\n"
      ],
      "execution_count": null,
      "outputs": []
    },
    {
      "cell_type": "code",
      "metadata": {
        "id": "szfc255rc3nf"
      },
      "source": [
        ""
      ],
      "execution_count": null,
      "outputs": []
    },
    {
      "cell_type": "code",
      "metadata": {
        "colab": {
          "base_uri": "https://localhost:8080/"
        },
        "id": "tGO-liV3cQdI",
        "outputId": "cf3cbe7d-8ab9-4c05-f59f-88fd3e3075de"
      },
      "source": [
        "X_train.info()"
      ],
      "execution_count": null,
      "outputs": [
        {
          "output_type": "stream",
          "text": [
            "<class 'pandas.core.frame.DataFrame'>\n",
            "Int64Index: 940 entries, 710 to 378\n",
            "Data columns (total 6 columns):\n",
            " #   Column  Non-Null Count  Dtype  \n",
            "---  ------  --------------  -----  \n",
            " 0   pclass  940 non-null    float64\n",
            " 1   sex     940 non-null    float64\n",
            " 2   age     940 non-null    float64\n",
            " 3   sibsp   940 non-null    float64\n",
            " 4   parch   940 non-null    float64\n",
            " 5   fare    940 non-null    float64\n",
            "dtypes: float64(6)\n",
            "memory usage: 51.4 KB\n"
          ],
          "name": "stdout"
        }
      ]
    },
    {
      "cell_type": "code",
      "metadata": {
        "id": "8zVBLIt1c4cC"
      },
      "source": [
        ""
      ],
      "execution_count": null,
      "outputs": []
    },
    {
      "cell_type": "code",
      "metadata": {
        "colab": {
          "base_uri": "https://localhost:8080/"
        },
        "id": "PvYVcE7wcXI2",
        "outputId": "a2251c17-a1c1-4252-abca-0ffb16fc2ede"
      },
      "source": [
        "X_test.info()"
      ],
      "execution_count": null,
      "outputs": [
        {
          "output_type": "stream",
          "text": [
            "<class 'pandas.core.frame.DataFrame'>\n",
            "Int64Index: 105 entries, 699 to 1057\n",
            "Data columns (total 6 columns):\n",
            " #   Column  Non-Null Count  Dtype  \n",
            "---  ------  --------------  -----  \n",
            " 0   pclass  105 non-null    float64\n",
            " 1   sex     105 non-null    float64\n",
            " 2   age     105 non-null    float64\n",
            " 3   sibsp   105 non-null    float64\n",
            " 4   parch   105 non-null    float64\n",
            " 5   fare    105 non-null    float64\n",
            "dtypes: float64(6)\n",
            "memory usage: 5.7 KB\n"
          ],
          "name": "stdout"
        }
      ]
    },
    {
      "cell_type": "code",
      "metadata": {
        "colab": {
          "base_uri": "https://localhost:8080/"
        },
        "id": "JyIgLo8wc5e4",
        "outputId": "31720acc-f7ff-4fc1-8eaf-d1c9d0bced5d"
      },
      "source": [
        "# 모델 만들기 \n",
        "\n",
        "from sklearn.tree import DecisionTreeClassifier\n",
        "\n",
        "tree_clf = DecisionTreeClassifier(max_depth = 5, random_state=13)\n",
        "tree_clf.fit(X_train, y_train)\n",
        "\n",
        "tree_clf.score(X_train, y_train)   # 훈련용 데이터의 정확도 81.17%\n"
      ],
      "execution_count": null,
      "outputs": [
        {
          "output_type": "execute_result",
          "data": {
            "text/plain": [
              "0.8319148936170213"
            ]
          },
          "metadata": {
            "tags": []
          },
          "execution_count": 59
        }
      ]
    },
    {
      "cell_type": "code",
      "metadata": {
        "id": "ZlGQiioRfJEx"
      },
      "source": [
        "from sklearn.tree import export_graphviz\n",
        "\n",
        "export_graphviz (\n",
        "    tree_clf,\n",
        "    out_file = 'titanic.dot',\n",
        "    feature_names=['pclass','sex','age','sibsp','parch','fare'],\n",
        "    class_names=['Unsurvived','Survived'],\n",
        "    rounded=True,\n",
        "    filled=True\n",
        ")"
      ],
      "execution_count": null,
      "outputs": []
    },
    {
      "cell_type": "code",
      "metadata": {
        "colab": {
          "base_uri": "https://localhost:8080/",
          "height": 934
        },
        "id": "eEY8NkNujAHD",
        "outputId": "de74f36e-c245-4c3a-9bdd-996f9e27be85"
      },
      "source": [
        "import graphviz\n",
        "with open('titanic.dot') as f:\n",
        "  dot_graph = f.read()\n",
        "dot = graphviz.Source(dot_graph)\n",
        "dot.format = 'png'\n",
        "dot.render(filename='titanic_tree')\n",
        "dot"
      ],
      "execution_count": null,
      "outputs": [
        {
          "output_type": "execute_result",
          "data": {
            "text/plain": [
              "<graphviz.files.Source at 0x7fc67d58bf28>"
            ],
            "image/svg+xml": "<?xml version=\"1.0\" encoding=\"UTF-8\" standalone=\"no\"?>\n<!DOCTYPE svg PUBLIC \"-//W3C//DTD SVG 1.1//EN\"\n \"http://www.w3.org/Graphics/SVG/1.1/DTD/svg11.dtd\">\n<!-- Generated by graphviz version 2.40.1 (20161225.0304)\n -->\n<!-- Title: Tree Pages: 1 -->\n<svg width=\"3607pt\" height=\"671pt\"\n viewBox=\"0.00 0.00 3606.50 671.00\" xmlns=\"http://www.w3.org/2000/svg\" xmlns:xlink=\"http://www.w3.org/1999/xlink\">\n<g id=\"graph0\" class=\"graph\" transform=\"scale(1 1) rotate(0) translate(4 667)\">\n<title>Tree</title>\n<polygon fill=\"#ffffff\" stroke=\"transparent\" points=\"-4,4 -4,-667 3602.5,-667 3602.5,4 -4,4\"/>\n<!-- 0 -->\n<g id=\"node1\" class=\"node\">\n<title>0</title>\n<path fill=\"#f7d8c2\" stroke=\"#000000\" d=\"M1830.5,-663C1830.5,-663 1714.5,-663 1714.5,-663 1708.5,-663 1702.5,-657 1702.5,-651 1702.5,-651 1702.5,-592 1702.5,-592 1702.5,-586 1708.5,-580 1714.5,-580 1714.5,-580 1830.5,-580 1830.5,-580 1836.5,-580 1842.5,-586 1842.5,-592 1842.5,-592 1842.5,-651 1842.5,-651 1842.5,-657 1836.5,-663 1830.5,-663\"/>\n<text text-anchor=\"middle\" x=\"1772.5\" y=\"-647.8\" font-family=\"Helvetica,sans-Serif\" font-size=\"14.00\" fill=\"#000000\">sex &lt;= 0.5</text>\n<text text-anchor=\"middle\" x=\"1772.5\" y=\"-632.8\" font-family=\"Helvetica,sans-Serif\" font-size=\"14.00\" fill=\"#000000\">gini = 0.483</text>\n<text text-anchor=\"middle\" x=\"1772.5\" y=\"-617.8\" font-family=\"Helvetica,sans-Serif\" font-size=\"14.00\" fill=\"#000000\">samples = 940</text>\n<text text-anchor=\"middle\" x=\"1772.5\" y=\"-602.8\" font-family=\"Helvetica,sans-Serif\" font-size=\"14.00\" fill=\"#000000\">value = [556, 384]</text>\n<text text-anchor=\"middle\" x=\"1772.5\" y=\"-587.8\" font-family=\"Helvetica,sans-Serif\" font-size=\"14.00\" fill=\"#000000\">class = Unsurvived</text>\n</g>\n<!-- 1 -->\n<g id=\"node2\" class=\"node\">\n<title>1</title>\n<path fill=\"#7dbfee\" stroke=\"#000000\" d=\"M1381.5,-544C1381.5,-544 1281.5,-544 1281.5,-544 1275.5,-544 1269.5,-538 1269.5,-532 1269.5,-532 1269.5,-473 1269.5,-473 1269.5,-467 1275.5,-461 1281.5,-461 1281.5,-461 1381.5,-461 1381.5,-461 1387.5,-461 1393.5,-467 1393.5,-473 1393.5,-473 1393.5,-532 1393.5,-532 1393.5,-538 1387.5,-544 1381.5,-544\"/>\n<text text-anchor=\"middle\" x=\"1331.5\" y=\"-528.8\" font-family=\"Helvetica,sans-Serif\" font-size=\"14.00\" fill=\"#000000\">pclass &lt;= 2.5</text>\n<text text-anchor=\"middle\" x=\"1331.5\" y=\"-513.8\" font-family=\"Helvetica,sans-Serif\" font-size=\"14.00\" fill=\"#000000\">gini = 0.381</text>\n<text text-anchor=\"middle\" x=\"1331.5\" y=\"-498.8\" font-family=\"Helvetica,sans-Serif\" font-size=\"14.00\" fill=\"#000000\">samples = 355</text>\n<text text-anchor=\"middle\" x=\"1331.5\" y=\"-483.8\" font-family=\"Helvetica,sans-Serif\" font-size=\"14.00\" fill=\"#000000\">value = [91, 264]</text>\n<text text-anchor=\"middle\" x=\"1331.5\" y=\"-468.8\" font-family=\"Helvetica,sans-Serif\" font-size=\"14.00\" fill=\"#000000\">class = Survived</text>\n</g>\n<!-- 0&#45;&gt;1 -->\n<g id=\"edge1\" class=\"edge\">\n<title>0&#45;&gt;1</title>\n<path fill=\"none\" stroke=\"#000000\" d=\"M1702.1346,-602.5125C1620.3475,-580.443 1486.0799,-544.212 1403.5713,-521.9478\"/>\n<polygon fill=\"#000000\" stroke=\"#000000\" points=\"1404.3394,-518.53 1393.7729,-519.3038 1402.5157,-525.2882 1404.3394,-518.53\"/>\n<text text-anchor=\"middle\" x=\"1406.2347\" y=\"-537.2764\" font-family=\"Helvetica,sans-Serif\" font-size=\"14.00\" fill=\"#000000\">True</text>\n</g>\n<!-- 28 -->\n<g id=\"node29\" class=\"node\">\n<title>28</title>\n<path fill=\"#eca26c\" stroke=\"#000000\" d=\"M2121.5,-544C2121.5,-544 2005.5,-544 2005.5,-544 1999.5,-544 1993.5,-538 1993.5,-532 1993.5,-532 1993.5,-473 1993.5,-473 1993.5,-467 1999.5,-461 2005.5,-461 2005.5,-461 2121.5,-461 2121.5,-461 2127.5,-461 2133.5,-467 2133.5,-473 2133.5,-473 2133.5,-532 2133.5,-532 2133.5,-538 2127.5,-544 2121.5,-544\"/>\n<text text-anchor=\"middle\" x=\"2063.5\" y=\"-528.8\" font-family=\"Helvetica,sans-Serif\" font-size=\"14.00\" fill=\"#000000\">age &lt;= 9.5</text>\n<text text-anchor=\"middle\" x=\"2063.5\" y=\"-513.8\" font-family=\"Helvetica,sans-Serif\" font-size=\"14.00\" fill=\"#000000\">gini = 0.326</text>\n<text text-anchor=\"middle\" x=\"2063.5\" y=\"-498.8\" font-family=\"Helvetica,sans-Serif\" font-size=\"14.00\" fill=\"#000000\">samples = 585</text>\n<text text-anchor=\"middle\" x=\"2063.5\" y=\"-483.8\" font-family=\"Helvetica,sans-Serif\" font-size=\"14.00\" fill=\"#000000\">value = [465, 120]</text>\n<text text-anchor=\"middle\" x=\"2063.5\" y=\"-468.8\" font-family=\"Helvetica,sans-Serif\" font-size=\"14.00\" fill=\"#000000\">class = Unsurvived</text>\n</g>\n<!-- 0&#45;&gt;28 -->\n<g id=\"edge28\" class=\"edge\">\n<title>0&#45;&gt;28</title>\n<path fill=\"none\" stroke=\"#000000\" d=\"M1842.5721,-592.8451C1885.2,-575.4131 1939.7671,-553.0987 1984.0048,-535.0083\"/>\n<polygon fill=\"#000000\" stroke=\"#000000\" points=\"1985.3487,-538.2402 1993.2799,-531.2155 1982.6991,-531.761 1985.3487,-538.2402\"/>\n<text text-anchor=\"middle\" x=\"1983.6086\" y=\"-550.569\" font-family=\"Helvetica,sans-Serif\" font-size=\"14.00\" fill=\"#000000\">False</text>\n</g>\n<!-- 2 -->\n<g id=\"node3\" class=\"node\">\n<title>2</title>\n<path fill=\"#49a5e7\" stroke=\"#000000\" d=\"M640.5,-425C640.5,-425 540.5,-425 540.5,-425 534.5,-425 528.5,-419 528.5,-413 528.5,-413 528.5,-354 528.5,-354 528.5,-348 534.5,-342 540.5,-342 540.5,-342 640.5,-342 640.5,-342 646.5,-342 652.5,-348 652.5,-354 652.5,-354 652.5,-413 652.5,-413 652.5,-419 646.5,-425 640.5,-425\"/>\n<text text-anchor=\"middle\" x=\"590.5\" y=\"-409.8\" font-family=\"Helvetica,sans-Serif\" font-size=\"14.00\" fill=\"#000000\">fare &lt;= 32.09</text>\n<text text-anchor=\"middle\" x=\"590.5\" y=\"-394.8\" font-family=\"Helvetica,sans-Serif\" font-size=\"14.00\" fill=\"#000000\">gini = 0.139</text>\n<text text-anchor=\"middle\" x=\"590.5\" y=\"-379.8\" font-family=\"Helvetica,sans-Serif\" font-size=\"14.00\" fill=\"#000000\">samples = 213</text>\n<text text-anchor=\"middle\" x=\"590.5\" y=\"-364.8\" font-family=\"Helvetica,sans-Serif\" font-size=\"14.00\" fill=\"#000000\">value = [16, 197]</text>\n<text text-anchor=\"middle\" x=\"590.5\" y=\"-349.8\" font-family=\"Helvetica,sans-Serif\" font-size=\"14.00\" fill=\"#000000\">class = Survived</text>\n</g>\n<!-- 1&#45;&gt;2 -->\n<g id=\"edge2\" class=\"edge\">\n<title>1&#45;&gt;2</title>\n<path fill=\"none\" stroke=\"#000000\" d=\"M1269.2797,-492.5078C1132.8547,-470.5988 808.0384,-418.4353 662.8191,-395.114\"/>\n<polygon fill=\"#000000\" stroke=\"#000000\" points=\"663.1072,-391.6155 652.6787,-393.4855 661.9972,-398.5269 663.1072,-391.6155\"/>\n</g>\n<!-- 15 -->\n<g id=\"node16\" class=\"node\">\n<title>15</title>\n<path fill=\"#fcf2ea\" stroke=\"#000000\" d=\"M1389.5,-425C1389.5,-425 1273.5,-425 1273.5,-425 1267.5,-425 1261.5,-419 1261.5,-413 1261.5,-413 1261.5,-354 1261.5,-354 1261.5,-348 1267.5,-342 1273.5,-342 1273.5,-342 1389.5,-342 1389.5,-342 1395.5,-342 1401.5,-348 1401.5,-354 1401.5,-354 1401.5,-413 1401.5,-413 1401.5,-419 1395.5,-425 1389.5,-425\"/>\n<text text-anchor=\"middle\" x=\"1331.5\" y=\"-409.8\" font-family=\"Helvetica,sans-Serif\" font-size=\"14.00\" fill=\"#000000\">fare &lt;= 23.087</text>\n<text text-anchor=\"middle\" x=\"1331.5\" y=\"-394.8\" font-family=\"Helvetica,sans-Serif\" font-size=\"14.00\" fill=\"#000000\">gini = 0.498</text>\n<text text-anchor=\"middle\" x=\"1331.5\" y=\"-379.8\" font-family=\"Helvetica,sans-Serif\" font-size=\"14.00\" fill=\"#000000\">samples = 142</text>\n<text text-anchor=\"middle\" x=\"1331.5\" y=\"-364.8\" font-family=\"Helvetica,sans-Serif\" font-size=\"14.00\" fill=\"#000000\">value = [75, 67]</text>\n<text text-anchor=\"middle\" x=\"1331.5\" y=\"-349.8\" font-family=\"Helvetica,sans-Serif\" font-size=\"14.00\" fill=\"#000000\">class = Unsurvived</text>\n</g>\n<!-- 1&#45;&gt;15 -->\n<g id=\"edge15\" class=\"edge\">\n<title>1&#45;&gt;15</title>\n<path fill=\"none\" stroke=\"#000000\" d=\"M1331.5,-460.8796C1331.5,-452.6838 1331.5,-443.9891 1331.5,-435.5013\"/>\n<polygon fill=\"#000000\" stroke=\"#000000\" points=\"1335.0001,-435.298 1331.5,-425.2981 1328.0001,-435.2981 1335.0001,-435.298\"/>\n</g>\n<!-- 3 -->\n<g id=\"node4\" class=\"node\">\n<title>3</title>\n<path fill=\"#5baee9\" stroke=\"#000000\" d=\"M407,-306C407,-306 308,-306 308,-306 302,-306 296,-300 296,-294 296,-294 296,-235 296,-235 296,-229 302,-223 308,-223 308,-223 407,-223 407,-223 413,-223 419,-229 419,-235 419,-235 419,-294 419,-294 419,-300 413,-306 407,-306\"/>\n<text text-anchor=\"middle\" x=\"357.5\" y=\"-290.8\" font-family=\"Helvetica,sans-Serif\" font-size=\"14.00\" fill=\"#000000\">fare &lt;= 31.34</text>\n<text text-anchor=\"middle\" x=\"357.5\" y=\"-275.8\" font-family=\"Helvetica,sans-Serif\" font-size=\"14.00\" fill=\"#000000\">gini = 0.249</text>\n<text text-anchor=\"middle\" x=\"357.5\" y=\"-260.8\" font-family=\"Helvetica,sans-Serif\" font-size=\"14.00\" fill=\"#000000\">samples = 89</text>\n<text text-anchor=\"middle\" x=\"357.5\" y=\"-245.8\" font-family=\"Helvetica,sans-Serif\" font-size=\"14.00\" fill=\"#000000\">value = [13, 76]</text>\n<text text-anchor=\"middle\" x=\"357.5\" y=\"-230.8\" font-family=\"Helvetica,sans-Serif\" font-size=\"14.00\" fill=\"#000000\">class = Survived</text>\n</g>\n<!-- 2&#45;&gt;3 -->\n<g id=\"edge3\" class=\"edge\">\n<title>2&#45;&gt;3</title>\n<path fill=\"none\" stroke=\"#000000\" d=\"M528.3664,-351.7665C497.5691,-336.0374 460.2376,-316.9712 428.3343,-300.6772\"/>\n<polygon fill=\"#000000\" stroke=\"#000000\" points=\"429.5544,-297.3703 419.0567,-295.9389 426.3705,-303.6043 429.5544,-297.3703\"/>\n</g>\n<!-- 8 -->\n<g id=\"node9\" class=\"node\">\n<title>8</title>\n<path fill=\"#3e9fe6\" stroke=\"#000000\" d=\"M640,-306C640,-306 541,-306 541,-306 535,-306 529,-300 529,-294 529,-294 529,-235 529,-235 529,-229 535,-223 541,-223 541,-223 640,-223 640,-223 646,-223 652,-229 652,-235 652,-235 652,-294 652,-294 652,-300 646,-306 640,-306\"/>\n<text text-anchor=\"middle\" x=\"590.5\" y=\"-290.8\" font-family=\"Helvetica,sans-Serif\" font-size=\"14.00\" fill=\"#000000\">age &lt;= 2.5</text>\n<text text-anchor=\"middle\" x=\"590.5\" y=\"-275.8\" font-family=\"Helvetica,sans-Serif\" font-size=\"14.00\" fill=\"#000000\">gini = 0.047</text>\n<text text-anchor=\"middle\" x=\"590.5\" y=\"-260.8\" font-family=\"Helvetica,sans-Serif\" font-size=\"14.00\" fill=\"#000000\">samples = 124</text>\n<text text-anchor=\"middle\" x=\"590.5\" y=\"-245.8\" font-family=\"Helvetica,sans-Serif\" font-size=\"14.00\" fill=\"#000000\">value = [3, 121]</text>\n<text text-anchor=\"middle\" x=\"590.5\" y=\"-230.8\" font-family=\"Helvetica,sans-Serif\" font-size=\"14.00\" fill=\"#000000\">class = Survived</text>\n</g>\n<!-- 2&#45;&gt;8 -->\n<g id=\"edge8\" class=\"edge\">\n<title>2&#45;&gt;8</title>\n<path fill=\"none\" stroke=\"#000000\" d=\"M590.5,-341.8796C590.5,-333.6838 590.5,-324.9891 590.5,-316.5013\"/>\n<polygon fill=\"#000000\" stroke=\"#000000\" points=\"594.0001,-316.298 590.5,-306.2981 587.0001,-316.2981 594.0001,-316.298\"/>\n</g>\n<!-- 4 -->\n<g id=\"node5\" class=\"node\">\n<title>4</title>\n<path fill=\"#58ace9\" stroke=\"#000000\" d=\"M257,-187C257,-187 158,-187 158,-187 152,-187 146,-181 146,-175 146,-175 146,-116 146,-116 146,-110 152,-104 158,-104 158,-104 257,-104 257,-104 263,-104 269,-110 269,-116 269,-116 269,-175 269,-175 269,-181 263,-187 257,-187\"/>\n<text text-anchor=\"middle\" x=\"207.5\" y=\"-171.8\" font-family=\"Helvetica,sans-Serif\" font-size=\"14.00\" fill=\"#000000\">age &lt;= 56.0</text>\n<text text-anchor=\"middle\" x=\"207.5\" y=\"-156.8\" font-family=\"Helvetica,sans-Serif\" font-size=\"14.00\" fill=\"#000000\">gini = 0.236</text>\n<text text-anchor=\"middle\" x=\"207.5\" y=\"-141.8\" font-family=\"Helvetica,sans-Serif\" font-size=\"14.00\" fill=\"#000000\">samples = 88</text>\n<text text-anchor=\"middle\" x=\"207.5\" y=\"-126.8\" font-family=\"Helvetica,sans-Serif\" font-size=\"14.00\" fill=\"#000000\">value = [12, 76]</text>\n<text text-anchor=\"middle\" x=\"207.5\" y=\"-111.8\" font-family=\"Helvetica,sans-Serif\" font-size=\"14.00\" fill=\"#000000\">class = Survived</text>\n</g>\n<!-- 3&#45;&gt;4 -->\n<g id=\"edge4\" class=\"edge\">\n<title>3&#45;&gt;4</title>\n<path fill=\"none\" stroke=\"#000000\" d=\"M305.0373,-222.8796C293.0479,-213.368 280.2113,-203.1843 267.9184,-193.432\"/>\n<polygon fill=\"#000000\" stroke=\"#000000\" points=\"269.9425,-190.5701 259.9331,-187.0969 265.5919,-196.054 269.9425,-190.5701\"/>\n</g>\n<!-- 7 -->\n<g id=\"node8\" class=\"node\">\n<title>7</title>\n<path fill=\"#e58139\" stroke=\"#000000\" d=\"M415.5,-179.5C415.5,-179.5 299.5,-179.5 299.5,-179.5 293.5,-179.5 287.5,-173.5 287.5,-167.5 287.5,-167.5 287.5,-123.5 287.5,-123.5 287.5,-117.5 293.5,-111.5 299.5,-111.5 299.5,-111.5 415.5,-111.5 415.5,-111.5 421.5,-111.5 427.5,-117.5 427.5,-123.5 427.5,-123.5 427.5,-167.5 427.5,-167.5 427.5,-173.5 421.5,-179.5 415.5,-179.5\"/>\n<text text-anchor=\"middle\" x=\"357.5\" y=\"-164.3\" font-family=\"Helvetica,sans-Serif\" font-size=\"14.00\" fill=\"#000000\">gini = 0.0</text>\n<text text-anchor=\"middle\" x=\"357.5\" y=\"-149.3\" font-family=\"Helvetica,sans-Serif\" font-size=\"14.00\" fill=\"#000000\">samples = 1</text>\n<text text-anchor=\"middle\" x=\"357.5\" y=\"-134.3\" font-family=\"Helvetica,sans-Serif\" font-size=\"14.00\" fill=\"#000000\">value = [1, 0]</text>\n<text text-anchor=\"middle\" x=\"357.5\" y=\"-119.3\" font-family=\"Helvetica,sans-Serif\" font-size=\"14.00\" fill=\"#000000\">class = Unsurvived</text>\n</g>\n<!-- 3&#45;&gt;7 -->\n<g id=\"edge7\" class=\"edge\">\n<title>3&#45;&gt;7</title>\n<path fill=\"none\" stroke=\"#000000\" d=\"M357.5,-222.8796C357.5,-212.2134 357.5,-200.7021 357.5,-189.9015\"/>\n<polygon fill=\"#000000\" stroke=\"#000000\" points=\"361.0001,-189.8149 357.5,-179.8149 354.0001,-189.815 361.0001,-189.8149\"/>\n</g>\n<!-- 5 -->\n<g id=\"node6\" class=\"node\">\n<title>5</title>\n<path fill=\"#54aae9\" stroke=\"#000000\" d=\"M111,-68C111,-68 12,-68 12,-68 6,-68 0,-62 0,-56 0,-56 0,-12 0,-12 0,-6 6,0 12,0 12,0 111,0 111,0 117,0 123,-6 123,-12 123,-12 123,-56 123,-56 123,-62 117,-68 111,-68\"/>\n<text text-anchor=\"middle\" x=\"61.5\" y=\"-52.8\" font-family=\"Helvetica,sans-Serif\" font-size=\"14.00\" fill=\"#000000\">gini = 0.21</text>\n<text text-anchor=\"middle\" x=\"61.5\" y=\"-37.8\" font-family=\"Helvetica,sans-Serif\" font-size=\"14.00\" fill=\"#000000\">samples = 84</text>\n<text text-anchor=\"middle\" x=\"61.5\" y=\"-22.8\" font-family=\"Helvetica,sans-Serif\" font-size=\"14.00\" fill=\"#000000\">value = [10, 74]</text>\n<text text-anchor=\"middle\" x=\"61.5\" y=\"-7.8\" font-family=\"Helvetica,sans-Serif\" font-size=\"14.00\" fill=\"#000000\">class = Survived</text>\n</g>\n<!-- 4&#45;&gt;5 -->\n<g id=\"edge5\" class=\"edge\">\n<title>4&#45;&gt;5</title>\n<path fill=\"none\" stroke=\"#000000\" d=\"M153.135,-103.9815C140.4989,-94.3313 127.0644,-84.0714 114.4885,-74.4673\"/>\n<polygon fill=\"#000000\" stroke=\"#000000\" points=\"116.4372,-71.5515 106.3654,-68.2637 112.1886,-77.1148 116.4372,-71.5515\"/>\n</g>\n<!-- 6 -->\n<g id=\"node7\" class=\"node\">\n<title>6</title>\n<path fill=\"#ffffff\" stroke=\"#000000\" d=\"M269.5,-68C269.5,-68 153.5,-68 153.5,-68 147.5,-68 141.5,-62 141.5,-56 141.5,-56 141.5,-12 141.5,-12 141.5,-6 147.5,0 153.5,0 153.5,0 269.5,0 269.5,0 275.5,0 281.5,-6 281.5,-12 281.5,-12 281.5,-56 281.5,-56 281.5,-62 275.5,-68 269.5,-68\"/>\n<text text-anchor=\"middle\" x=\"211.5\" y=\"-52.8\" font-family=\"Helvetica,sans-Serif\" font-size=\"14.00\" fill=\"#000000\">gini = 0.5</text>\n<text text-anchor=\"middle\" x=\"211.5\" y=\"-37.8\" font-family=\"Helvetica,sans-Serif\" font-size=\"14.00\" fill=\"#000000\">samples = 4</text>\n<text text-anchor=\"middle\" x=\"211.5\" y=\"-22.8\" font-family=\"Helvetica,sans-Serif\" font-size=\"14.00\" fill=\"#000000\">value = [2, 2]</text>\n<text text-anchor=\"middle\" x=\"211.5\" y=\"-7.8\" font-family=\"Helvetica,sans-Serif\" font-size=\"14.00\" fill=\"#000000\">class = Unsurvived</text>\n</g>\n<!-- 4&#45;&gt;6 -->\n<g id=\"edge6\" class=\"edge\">\n<title>4&#45;&gt;6</title>\n<path fill=\"none\" stroke=\"#000000\" d=\"M208.9895,-103.9815C209.2895,-95.618 209.606,-86.7965 209.9093,-78.3409\"/>\n<polygon fill=\"#000000\" stroke=\"#000000\" points=\"213.41,-78.3828 210.2708,-68.2637 206.4145,-78.1317 213.41,-78.3828\"/>\n</g>\n<!-- 9 -->\n<g id=\"node10\" class=\"node\">\n<title>9</title>\n<path fill=\"#ffffff\" stroke=\"#000000\" d=\"M573.5,-187C573.5,-187 457.5,-187 457.5,-187 451.5,-187 445.5,-181 445.5,-175 445.5,-175 445.5,-116 445.5,-116 445.5,-110 451.5,-104 457.5,-104 457.5,-104 573.5,-104 573.5,-104 579.5,-104 585.5,-110 585.5,-116 585.5,-116 585.5,-175 585.5,-175 585.5,-181 579.5,-187 573.5,-187\"/>\n<text text-anchor=\"middle\" x=\"515.5\" y=\"-171.8\" font-family=\"Helvetica,sans-Serif\" font-size=\"14.00\" fill=\"#000000\">age &lt;= 1.5</text>\n<text text-anchor=\"middle\" x=\"515.5\" y=\"-156.8\" font-family=\"Helvetica,sans-Serif\" font-size=\"14.00\" fill=\"#000000\">gini = 0.5</text>\n<text text-anchor=\"middle\" x=\"515.5\" y=\"-141.8\" font-family=\"Helvetica,sans-Serif\" font-size=\"14.00\" fill=\"#000000\">samples = 2</text>\n<text text-anchor=\"middle\" x=\"515.5\" y=\"-126.8\" font-family=\"Helvetica,sans-Serif\" font-size=\"14.00\" fill=\"#000000\">value = [1, 1]</text>\n<text text-anchor=\"middle\" x=\"515.5\" y=\"-111.8\" font-family=\"Helvetica,sans-Serif\" font-size=\"14.00\" fill=\"#000000\">class = Unsurvived</text>\n</g>\n<!-- 8&#45;&gt;9 -->\n<g id=\"edge9\" class=\"edge\">\n<title>8&#45;&gt;9</title>\n<path fill=\"none\" stroke=\"#000000\" d=\"M564.2686,-222.8796C558.7627,-214.1434 552.8994,-204.8404 547.2176,-195.8253\"/>\n<polygon fill=\"#000000\" stroke=\"#000000\" points=\"550.1363,-193.8919 541.8433,-187.2981 544.2143,-197.6242 550.1363,-193.8919\"/>\n</g>\n<!-- 12 -->\n<g id=\"node13\" class=\"node\">\n<title>12</title>\n<path fill=\"#3c9fe5\" stroke=\"#000000\" d=\"M715,-187C715,-187 616,-187 616,-187 610,-187 604,-181 604,-175 604,-175 604,-116 604,-116 604,-110 610,-104 616,-104 616,-104 715,-104 715,-104 721,-104 727,-110 727,-116 727,-116 727,-175 727,-175 727,-181 721,-187 715,-187\"/>\n<text text-anchor=\"middle\" x=\"665.5\" y=\"-171.8\" font-family=\"Helvetica,sans-Serif\" font-size=\"14.00\" fill=\"#000000\">age &lt;= 62.5</text>\n<text text-anchor=\"middle\" x=\"665.5\" y=\"-156.8\" font-family=\"Helvetica,sans-Serif\" font-size=\"14.00\" fill=\"#000000\">gini = 0.032</text>\n<text text-anchor=\"middle\" x=\"665.5\" y=\"-141.8\" font-family=\"Helvetica,sans-Serif\" font-size=\"14.00\" fill=\"#000000\">samples = 122</text>\n<text text-anchor=\"middle\" x=\"665.5\" y=\"-126.8\" font-family=\"Helvetica,sans-Serif\" font-size=\"14.00\" fill=\"#000000\">value = [2, 120]</text>\n<text text-anchor=\"middle\" x=\"665.5\" y=\"-111.8\" font-family=\"Helvetica,sans-Serif\" font-size=\"14.00\" fill=\"#000000\">class = Survived</text>\n</g>\n<!-- 8&#45;&gt;12 -->\n<g id=\"edge12\" class=\"edge\">\n<title>8&#45;&gt;12</title>\n<path fill=\"none\" stroke=\"#000000\" d=\"M616.7314,-222.8796C622.2373,-214.1434 628.1006,-204.8404 633.7824,-195.8253\"/>\n<polygon fill=\"#000000\" stroke=\"#000000\" points=\"636.7857,-197.6242 639.1567,-187.2981 630.8637,-193.8919 636.7857,-197.6242\"/>\n</g>\n<!-- 10 -->\n<g id=\"node11\" class=\"node\">\n<title>10</title>\n<path fill=\"#399de5\" stroke=\"#000000\" d=\"M415,-68C415,-68 316,-68 316,-68 310,-68 304,-62 304,-56 304,-56 304,-12 304,-12 304,-6 310,0 316,0 316,0 415,0 415,0 421,0 427,-6 427,-12 427,-12 427,-56 427,-56 427,-62 421,-68 415,-68\"/>\n<text text-anchor=\"middle\" x=\"365.5\" y=\"-52.8\" font-family=\"Helvetica,sans-Serif\" font-size=\"14.00\" fill=\"#000000\">gini = 0.0</text>\n<text text-anchor=\"middle\" x=\"365.5\" y=\"-37.8\" font-family=\"Helvetica,sans-Serif\" font-size=\"14.00\" fill=\"#000000\">samples = 1</text>\n<text text-anchor=\"middle\" x=\"365.5\" y=\"-22.8\" font-family=\"Helvetica,sans-Serif\" font-size=\"14.00\" fill=\"#000000\">value = [0, 1]</text>\n<text text-anchor=\"middle\" x=\"365.5\" y=\"-7.8\" font-family=\"Helvetica,sans-Serif\" font-size=\"14.00\" fill=\"#000000\">class = Survived</text>\n</g>\n<!-- 9&#45;&gt;10 -->\n<g id=\"edge10\" class=\"edge\">\n<title>9&#45;&gt;10</title>\n<path fill=\"none\" stroke=\"#000000\" d=\"M459.6455,-103.9815C446.6632,-94.3313 432.8606,-84.0714 419.9403,-74.4673\"/>\n<polygon fill=\"#000000\" stroke=\"#000000\" points=\"421.7083,-71.4204 411.5946,-68.2637 417.5322,-77.0384 421.7083,-71.4204\"/>\n</g>\n<!-- 11 -->\n<g id=\"node12\" class=\"node\">\n<title>11</title>\n<path fill=\"#e58139\" stroke=\"#000000\" d=\"M573.5,-68C573.5,-68 457.5,-68 457.5,-68 451.5,-68 445.5,-62 445.5,-56 445.5,-56 445.5,-12 445.5,-12 445.5,-6 451.5,0 457.5,0 457.5,0 573.5,0 573.5,0 579.5,0 585.5,-6 585.5,-12 585.5,-12 585.5,-56 585.5,-56 585.5,-62 579.5,-68 573.5,-68\"/>\n<text text-anchor=\"middle\" x=\"515.5\" y=\"-52.8\" font-family=\"Helvetica,sans-Serif\" font-size=\"14.00\" fill=\"#000000\">gini = 0.0</text>\n<text text-anchor=\"middle\" x=\"515.5\" y=\"-37.8\" font-family=\"Helvetica,sans-Serif\" font-size=\"14.00\" fill=\"#000000\">samples = 1</text>\n<text text-anchor=\"middle\" x=\"515.5\" y=\"-22.8\" font-family=\"Helvetica,sans-Serif\" font-size=\"14.00\" fill=\"#000000\">value = [1, 0]</text>\n<text text-anchor=\"middle\" x=\"515.5\" y=\"-7.8\" font-family=\"Helvetica,sans-Serif\" font-size=\"14.00\" fill=\"#000000\">class = Unsurvived</text>\n</g>\n<!-- 9&#45;&gt;11 -->\n<g id=\"edge11\" class=\"edge\">\n<title>9&#45;&gt;11</title>\n<path fill=\"none\" stroke=\"#000000\" d=\"M515.5,-103.9815C515.5,-95.618 515.5,-86.7965 515.5,-78.3409\"/>\n<polygon fill=\"#000000\" stroke=\"#000000\" points=\"519.0001,-78.2636 515.5,-68.2637 512.0001,-78.2637 519.0001,-78.2636\"/>\n</g>\n<!-- 13 -->\n<g id=\"node14\" class=\"node\">\n<title>13</title>\n<path fill=\"#3b9ee5\" stroke=\"#000000\" d=\"M715,-68C715,-68 616,-68 616,-68 610,-68 604,-62 604,-56 604,-56 604,-12 604,-12 604,-6 610,0 616,0 616,0 715,0 715,0 721,0 727,-6 727,-12 727,-12 727,-56 727,-56 727,-62 721,-68 715,-68\"/>\n<text text-anchor=\"middle\" x=\"665.5\" y=\"-52.8\" font-family=\"Helvetica,sans-Serif\" font-size=\"14.00\" fill=\"#000000\">gini = 0.017</text>\n<text text-anchor=\"middle\" x=\"665.5\" y=\"-37.8\" font-family=\"Helvetica,sans-Serif\" font-size=\"14.00\" fill=\"#000000\">samples = 119</text>\n<text text-anchor=\"middle\" x=\"665.5\" y=\"-22.8\" font-family=\"Helvetica,sans-Serif\" font-size=\"14.00\" fill=\"#000000\">value = [1, 118]</text>\n<text text-anchor=\"middle\" x=\"665.5\" y=\"-7.8\" font-family=\"Helvetica,sans-Serif\" font-size=\"14.00\" fill=\"#000000\">class = Survived</text>\n</g>\n<!-- 12&#45;&gt;13 -->\n<g id=\"edge13\" class=\"edge\">\n<title>12&#45;&gt;13</title>\n<path fill=\"none\" stroke=\"#000000\" d=\"M665.5,-103.9815C665.5,-95.618 665.5,-86.7965 665.5,-78.3409\"/>\n<polygon fill=\"#000000\" stroke=\"#000000\" points=\"669.0001,-78.2636 665.5,-68.2637 662.0001,-78.2637 669.0001,-78.2636\"/>\n</g>\n<!-- 14 -->\n<g id=\"node15\" class=\"node\">\n<title>14</title>\n<path fill=\"#9ccef2\" stroke=\"#000000\" d=\"M856,-68C856,-68 757,-68 757,-68 751,-68 745,-62 745,-56 745,-56 745,-12 745,-12 745,-6 751,0 757,0 757,0 856,0 856,0 862,0 868,-6 868,-12 868,-12 868,-56 868,-56 868,-62 862,-68 856,-68\"/>\n<text text-anchor=\"middle\" x=\"806.5\" y=\"-52.8\" font-family=\"Helvetica,sans-Serif\" font-size=\"14.00\" fill=\"#000000\">gini = 0.444</text>\n<text text-anchor=\"middle\" x=\"806.5\" y=\"-37.8\" font-family=\"Helvetica,sans-Serif\" font-size=\"14.00\" fill=\"#000000\">samples = 3</text>\n<text text-anchor=\"middle\" x=\"806.5\" y=\"-22.8\" font-family=\"Helvetica,sans-Serif\" font-size=\"14.00\" fill=\"#000000\">value = [1, 2]</text>\n<text text-anchor=\"middle\" x=\"806.5\" y=\"-7.8\" font-family=\"Helvetica,sans-Serif\" font-size=\"14.00\" fill=\"#000000\">class = Survived</text>\n</g>\n<!-- 12&#45;&gt;14 -->\n<g id=\"edge14\" class=\"edge\">\n<title>12&#45;&gt;14</title>\n<path fill=\"none\" stroke=\"#000000\" d=\"M718.0032,-103.9815C730.2066,-94.3313 743.181,-84.0714 755.3261,-74.4673\"/>\n<polygon fill=\"#000000\" stroke=\"#000000\" points=\"757.4982,-77.2118 763.171,-68.2637 753.1562,-71.7211 757.4982,-77.2118\"/>\n</g>\n<!-- 16 -->\n<g id=\"node17\" class=\"node\">\n<title>16</title>\n<path fill=\"#e4f1fb\" stroke=\"#000000\" d=\"M1306,-306C1306,-306 1207,-306 1207,-306 1201,-306 1195,-300 1195,-294 1195,-294 1195,-235 1195,-235 1195,-229 1201,-223 1207,-223 1207,-223 1306,-223 1306,-223 1312,-223 1318,-229 1318,-235 1318,-235 1318,-294 1318,-294 1318,-300 1312,-306 1306,-306\"/>\n<text text-anchor=\"middle\" x=\"1256.5\" y=\"-290.8\" font-family=\"Helvetica,sans-Serif\" font-size=\"14.00\" fill=\"#000000\">fare &lt;= 7.267</text>\n<text text-anchor=\"middle\" x=\"1256.5\" y=\"-275.8\" font-family=\"Helvetica,sans-Serif\" font-size=\"14.00\" fill=\"#000000\">gini = 0.497</text>\n<text text-anchor=\"middle\" x=\"1256.5\" y=\"-260.8\" font-family=\"Helvetica,sans-Serif\" font-size=\"14.00\" fill=\"#000000\">samples = 121</text>\n<text text-anchor=\"middle\" x=\"1256.5\" y=\"-245.8\" font-family=\"Helvetica,sans-Serif\" font-size=\"14.00\" fill=\"#000000\">value = [56, 65]</text>\n<text text-anchor=\"middle\" x=\"1256.5\" y=\"-230.8\" font-family=\"Helvetica,sans-Serif\" font-size=\"14.00\" fill=\"#000000\">class = Survived</text>\n</g>\n<!-- 15&#45;&gt;16 -->\n<g id=\"edge16\" class=\"edge\">\n<title>15&#45;&gt;16</title>\n<path fill=\"none\" stroke=\"#000000\" d=\"M1305.2686,-341.8796C1299.7627,-333.1434 1293.8994,-323.8404 1288.2176,-314.8253\"/>\n<polygon fill=\"#000000\" stroke=\"#000000\" points=\"1291.1363,-312.8919 1282.8433,-306.2981 1285.2143,-316.6242 1291.1363,-312.8919\"/>\n</g>\n<!-- 23 -->\n<g id=\"node24\" class=\"node\">\n<title>23</title>\n<path fill=\"#e88e4e\" stroke=\"#000000\" d=\"M1464.5,-306C1464.5,-306 1348.5,-306 1348.5,-306 1342.5,-306 1336.5,-300 1336.5,-294 1336.5,-294 1336.5,-235 1336.5,-235 1336.5,-229 1342.5,-223 1348.5,-223 1348.5,-223 1464.5,-223 1464.5,-223 1470.5,-223 1476.5,-229 1476.5,-235 1476.5,-235 1476.5,-294 1476.5,-294 1476.5,-300 1470.5,-306 1464.5,-306\"/>\n<text text-anchor=\"middle\" x=\"1406.5\" y=\"-290.8\" font-family=\"Helvetica,sans-Serif\" font-size=\"14.00\" fill=\"#000000\">fare &lt;= 31.331</text>\n<text text-anchor=\"middle\" x=\"1406.5\" y=\"-275.8\" font-family=\"Helvetica,sans-Serif\" font-size=\"14.00\" fill=\"#000000\">gini = 0.172</text>\n<text text-anchor=\"middle\" x=\"1406.5\" y=\"-260.8\" font-family=\"Helvetica,sans-Serif\" font-size=\"14.00\" fill=\"#000000\">samples = 21</text>\n<text text-anchor=\"middle\" x=\"1406.5\" y=\"-245.8\" font-family=\"Helvetica,sans-Serif\" font-size=\"14.00\" fill=\"#000000\">value = [19, 2]</text>\n<text text-anchor=\"middle\" x=\"1406.5\" y=\"-230.8\" font-family=\"Helvetica,sans-Serif\" font-size=\"14.00\" fill=\"#000000\">class = Unsurvived</text>\n</g>\n<!-- 15&#45;&gt;23 -->\n<g id=\"edge23\" class=\"edge\">\n<title>15&#45;&gt;23</title>\n<path fill=\"none\" stroke=\"#000000\" d=\"M1357.7314,-341.8796C1363.2373,-333.1434 1369.1006,-323.8404 1374.7824,-314.8253\"/>\n<polygon fill=\"#000000\" stroke=\"#000000\" points=\"1377.7857,-316.6242 1380.1567,-306.2981 1371.8637,-312.8919 1377.7857,-316.6242\"/>\n</g>\n<!-- 17 -->\n<g id=\"node18\" class=\"node\">\n<title>17</title>\n<path fill=\"#52a9e8\" stroke=\"#000000\" d=\"M1156,-187C1156,-187 1057,-187 1057,-187 1051,-187 1045,-181 1045,-175 1045,-175 1045,-116 1045,-116 1045,-110 1051,-104 1057,-104 1057,-104 1156,-104 1156,-104 1162,-104 1168,-110 1168,-116 1168,-116 1168,-175 1168,-175 1168,-181 1162,-187 1156,-187\"/>\n<text text-anchor=\"middle\" x=\"1106.5\" y=\"-171.8\" font-family=\"Helvetica,sans-Serif\" font-size=\"14.00\" fill=\"#000000\">fare &lt;= 6.85</text>\n<text text-anchor=\"middle\" x=\"1106.5\" y=\"-156.8\" font-family=\"Helvetica,sans-Serif\" font-size=\"14.00\" fill=\"#000000\">gini = 0.198</text>\n<text text-anchor=\"middle\" x=\"1106.5\" y=\"-141.8\" font-family=\"Helvetica,sans-Serif\" font-size=\"14.00\" fill=\"#000000\">samples = 9</text>\n<text text-anchor=\"middle\" x=\"1106.5\" y=\"-126.8\" font-family=\"Helvetica,sans-Serif\" font-size=\"14.00\" fill=\"#000000\">value = [1, 8]</text>\n<text text-anchor=\"middle\" x=\"1106.5\" y=\"-111.8\" font-family=\"Helvetica,sans-Serif\" font-size=\"14.00\" fill=\"#000000\">class = Survived</text>\n</g>\n<!-- 16&#45;&gt;17 -->\n<g id=\"edge17\" class=\"edge\">\n<title>16&#45;&gt;17</title>\n<path fill=\"none\" stroke=\"#000000\" d=\"M1204.0373,-222.8796C1192.0479,-213.368 1179.2113,-203.1843 1166.9184,-193.432\"/>\n<polygon fill=\"#000000\" stroke=\"#000000\" points=\"1168.9425,-190.5701 1158.9331,-187.0969 1164.5919,-196.054 1168.9425,-190.5701\"/>\n</g>\n<!-- 20 -->\n<g id=\"node21\" class=\"node\">\n<title>20</title>\n<path fill=\"#f8fcfe\" stroke=\"#000000\" d=\"M1306,-187C1306,-187 1207,-187 1207,-187 1201,-187 1195,-181 1195,-175 1195,-175 1195,-116 1195,-116 1195,-110 1201,-104 1207,-104 1207,-104 1306,-104 1306,-104 1312,-104 1318,-110 1318,-116 1318,-116 1318,-175 1318,-175 1318,-181 1312,-187 1306,-187\"/>\n<text text-anchor=\"middle\" x=\"1256.5\" y=\"-171.8\" font-family=\"Helvetica,sans-Serif\" font-size=\"14.00\" fill=\"#000000\">parch &lt;= 0.5</text>\n<text text-anchor=\"middle\" x=\"1256.5\" y=\"-156.8\" font-family=\"Helvetica,sans-Serif\" font-size=\"14.00\" fill=\"#000000\">gini = 0.5</text>\n<text text-anchor=\"middle\" x=\"1256.5\" y=\"-141.8\" font-family=\"Helvetica,sans-Serif\" font-size=\"14.00\" fill=\"#000000\">samples = 112</text>\n<text text-anchor=\"middle\" x=\"1256.5\" y=\"-126.8\" font-family=\"Helvetica,sans-Serif\" font-size=\"14.00\" fill=\"#000000\">value = [55, 57]</text>\n<text text-anchor=\"middle\" x=\"1256.5\" y=\"-111.8\" font-family=\"Helvetica,sans-Serif\" font-size=\"14.00\" fill=\"#000000\">class = Survived</text>\n</g>\n<!-- 16&#45;&gt;20 -->\n<g id=\"edge20\" class=\"edge\">\n<title>16&#45;&gt;20</title>\n<path fill=\"none\" stroke=\"#000000\" d=\"M1256.5,-222.8796C1256.5,-214.6838 1256.5,-205.9891 1256.5,-197.5013\"/>\n<polygon fill=\"#000000\" stroke=\"#000000\" points=\"1260.0001,-197.298 1256.5,-187.2981 1253.0001,-197.2981 1260.0001,-197.298\"/>\n</g>\n<!-- 18 -->\n<g id=\"node19\" class=\"node\">\n<title>18</title>\n<path fill=\"#e58139\" stroke=\"#000000\" d=\"M1014.5,-68C1014.5,-68 898.5,-68 898.5,-68 892.5,-68 886.5,-62 886.5,-56 886.5,-56 886.5,-12 886.5,-12 886.5,-6 892.5,0 898.5,0 898.5,0 1014.5,0 1014.5,0 1020.5,0 1026.5,-6 1026.5,-12 1026.5,-12 1026.5,-56 1026.5,-56 1026.5,-62 1020.5,-68 1014.5,-68\"/>\n<text text-anchor=\"middle\" x=\"956.5\" y=\"-52.8\" font-family=\"Helvetica,sans-Serif\" font-size=\"14.00\" fill=\"#000000\">gini = 0.0</text>\n<text text-anchor=\"middle\" x=\"956.5\" y=\"-37.8\" font-family=\"Helvetica,sans-Serif\" font-size=\"14.00\" fill=\"#000000\">samples = 1</text>\n<text text-anchor=\"middle\" x=\"956.5\" y=\"-22.8\" font-family=\"Helvetica,sans-Serif\" font-size=\"14.00\" fill=\"#000000\">value = [1, 0]</text>\n<text text-anchor=\"middle\" x=\"956.5\" y=\"-7.8\" font-family=\"Helvetica,sans-Serif\" font-size=\"14.00\" fill=\"#000000\">class = Unsurvived</text>\n</g>\n<!-- 17&#45;&gt;18 -->\n<g id=\"edge18\" class=\"edge\">\n<title>17&#45;&gt;18</title>\n<path fill=\"none\" stroke=\"#000000\" d=\"M1050.6455,-103.9815C1037.6632,-94.3313 1023.8606,-84.0714 1010.9403,-74.4673\"/>\n<polygon fill=\"#000000\" stroke=\"#000000\" points=\"1012.7083,-71.4204 1002.5946,-68.2637 1008.5322,-77.0384 1012.7083,-71.4204\"/>\n</g>\n<!-- 19 -->\n<g id=\"node20\" class=\"node\">\n<title>19</title>\n<path fill=\"#399de5\" stroke=\"#000000\" d=\"M1156,-68C1156,-68 1057,-68 1057,-68 1051,-68 1045,-62 1045,-56 1045,-56 1045,-12 1045,-12 1045,-6 1051,0 1057,0 1057,0 1156,0 1156,0 1162,0 1168,-6 1168,-12 1168,-12 1168,-56 1168,-56 1168,-62 1162,-68 1156,-68\"/>\n<text text-anchor=\"middle\" x=\"1106.5\" y=\"-52.8\" font-family=\"Helvetica,sans-Serif\" font-size=\"14.00\" fill=\"#000000\">gini = 0.0</text>\n<text text-anchor=\"middle\" x=\"1106.5\" y=\"-37.8\" font-family=\"Helvetica,sans-Serif\" font-size=\"14.00\" fill=\"#000000\">samples = 8</text>\n<text text-anchor=\"middle\" x=\"1106.5\" y=\"-22.8\" font-family=\"Helvetica,sans-Serif\" font-size=\"14.00\" fill=\"#000000\">value = [0, 8]</text>\n<text text-anchor=\"middle\" x=\"1106.5\" y=\"-7.8\" font-family=\"Helvetica,sans-Serif\" font-size=\"14.00\" fill=\"#000000\">class = Survived</text>\n</g>\n<!-- 17&#45;&gt;19 -->\n<g id=\"edge19\" class=\"edge\">\n<title>17&#45;&gt;19</title>\n<path fill=\"none\" stroke=\"#000000\" d=\"M1106.5,-103.9815C1106.5,-95.618 1106.5,-86.7965 1106.5,-78.3409\"/>\n<polygon fill=\"#000000\" stroke=\"#000000\" points=\"1110.0001,-78.2636 1106.5,-68.2637 1103.0001,-78.2637 1110.0001,-78.2636\"/>\n</g>\n<!-- 21 -->\n<g id=\"node22\" class=\"node\">\n<title>21</title>\n<path fill=\"#f8ddca\" stroke=\"#000000\" d=\"M1314.5,-68C1314.5,-68 1198.5,-68 1198.5,-68 1192.5,-68 1186.5,-62 1186.5,-56 1186.5,-56 1186.5,-12 1186.5,-12 1186.5,-6 1192.5,0 1198.5,0 1198.5,0 1314.5,0 1314.5,0 1320.5,0 1326.5,-6 1326.5,-12 1326.5,-12 1326.5,-56 1326.5,-56 1326.5,-62 1320.5,-68 1314.5,-68\"/>\n<text text-anchor=\"middle\" x=\"1256.5\" y=\"-52.8\" font-family=\"Helvetica,sans-Serif\" font-size=\"14.00\" fill=\"#000000\">gini = 0.488</text>\n<text text-anchor=\"middle\" x=\"1256.5\" y=\"-37.8\" font-family=\"Helvetica,sans-Serif\" font-size=\"14.00\" fill=\"#000000\">samples = 71</text>\n<text text-anchor=\"middle\" x=\"1256.5\" y=\"-22.8\" font-family=\"Helvetica,sans-Serif\" font-size=\"14.00\" fill=\"#000000\">value = [41, 30]</text>\n<text text-anchor=\"middle\" x=\"1256.5\" y=\"-7.8\" font-family=\"Helvetica,sans-Serif\" font-size=\"14.00\" fill=\"#000000\">class = Unsurvived</text>\n</g>\n<!-- 20&#45;&gt;21 -->\n<g id=\"edge21\" class=\"edge\">\n<title>20&#45;&gt;21</title>\n<path fill=\"none\" stroke=\"#000000\" d=\"M1256.5,-103.9815C1256.5,-95.618 1256.5,-86.7965 1256.5,-78.3409\"/>\n<polygon fill=\"#000000\" stroke=\"#000000\" points=\"1260.0001,-78.2636 1256.5,-68.2637 1253.0001,-78.2637 1260.0001,-78.2636\"/>\n</g>\n<!-- 22 -->\n<g id=\"node23\" class=\"node\">\n<title>22</title>\n<path fill=\"#a0d0f2\" stroke=\"#000000\" d=\"M1456,-68C1456,-68 1357,-68 1357,-68 1351,-68 1345,-62 1345,-56 1345,-56 1345,-12 1345,-12 1345,-6 1351,0 1357,0 1357,0 1456,0 1456,0 1462,0 1468,-6 1468,-12 1468,-12 1468,-56 1468,-56 1468,-62 1462,-68 1456,-68\"/>\n<text text-anchor=\"middle\" x=\"1406.5\" y=\"-52.8\" font-family=\"Helvetica,sans-Serif\" font-size=\"14.00\" fill=\"#000000\">gini = 0.45</text>\n<text text-anchor=\"middle\" x=\"1406.5\" y=\"-37.8\" font-family=\"Helvetica,sans-Serif\" font-size=\"14.00\" fill=\"#000000\">samples = 41</text>\n<text text-anchor=\"middle\" x=\"1406.5\" y=\"-22.8\" font-family=\"Helvetica,sans-Serif\" font-size=\"14.00\" fill=\"#000000\">value = [14, 27]</text>\n<text text-anchor=\"middle\" x=\"1406.5\" y=\"-7.8\" font-family=\"Helvetica,sans-Serif\" font-size=\"14.00\" fill=\"#000000\">class = Survived</text>\n</g>\n<!-- 20&#45;&gt;22 -->\n<g id=\"edge22\" class=\"edge\">\n<title>20&#45;&gt;22</title>\n<path fill=\"none\" stroke=\"#000000\" d=\"M1312.3545,-103.9815C1325.3368,-94.3313 1339.1394,-84.0714 1352.0597,-74.4673\"/>\n<polygon fill=\"#000000\" stroke=\"#000000\" points=\"1354.4678,-77.0384 1360.4054,-68.2637 1350.2917,-71.4204 1354.4678,-77.0384\"/>\n</g>\n<!-- 24 -->\n<g id=\"node25\" class=\"node\">\n<title>24</title>\n<path fill=\"#e58139\" stroke=\"#000000\" d=\"M1464.5,-179.5C1464.5,-179.5 1348.5,-179.5 1348.5,-179.5 1342.5,-179.5 1336.5,-173.5 1336.5,-167.5 1336.5,-167.5 1336.5,-123.5 1336.5,-123.5 1336.5,-117.5 1342.5,-111.5 1348.5,-111.5 1348.5,-111.5 1464.5,-111.5 1464.5,-111.5 1470.5,-111.5 1476.5,-117.5 1476.5,-123.5 1476.5,-123.5 1476.5,-167.5 1476.5,-167.5 1476.5,-173.5 1470.5,-179.5 1464.5,-179.5\"/>\n<text text-anchor=\"middle\" x=\"1406.5\" y=\"-164.3\" font-family=\"Helvetica,sans-Serif\" font-size=\"14.00\" fill=\"#000000\">gini = 0.0</text>\n<text text-anchor=\"middle\" x=\"1406.5\" y=\"-149.3\" font-family=\"Helvetica,sans-Serif\" font-size=\"14.00\" fill=\"#000000\">samples = 11</text>\n<text text-anchor=\"middle\" x=\"1406.5\" y=\"-134.3\" font-family=\"Helvetica,sans-Serif\" font-size=\"14.00\" fill=\"#000000\">value = [11, 0]</text>\n<text text-anchor=\"middle\" x=\"1406.5\" y=\"-119.3\" font-family=\"Helvetica,sans-Serif\" font-size=\"14.00\" fill=\"#000000\">class = Unsurvived</text>\n</g>\n<!-- 23&#45;&gt;24 -->\n<g id=\"edge24\" class=\"edge\">\n<title>23&#45;&gt;24</title>\n<path fill=\"none\" stroke=\"#000000\" d=\"M1406.5,-222.8796C1406.5,-212.2134 1406.5,-200.7021 1406.5,-189.9015\"/>\n<polygon fill=\"#000000\" stroke=\"#000000\" points=\"1410.0001,-189.8149 1406.5,-179.8149 1403.0001,-189.815 1410.0001,-189.8149\"/>\n</g>\n<!-- 25 -->\n<g id=\"node26\" class=\"node\">\n<title>25</title>\n<path fill=\"#eca06a\" stroke=\"#000000\" d=\"M1622.5,-187C1622.5,-187 1506.5,-187 1506.5,-187 1500.5,-187 1494.5,-181 1494.5,-175 1494.5,-175 1494.5,-116 1494.5,-116 1494.5,-110 1500.5,-104 1506.5,-104 1506.5,-104 1622.5,-104 1622.5,-104 1628.5,-104 1634.5,-110 1634.5,-116 1634.5,-116 1634.5,-175 1634.5,-175 1634.5,-181 1628.5,-187 1622.5,-187\"/>\n<text text-anchor=\"middle\" x=\"1564.5\" y=\"-171.8\" font-family=\"Helvetica,sans-Serif\" font-size=\"14.00\" fill=\"#000000\">fare &lt;= 32.881</text>\n<text text-anchor=\"middle\" x=\"1564.5\" y=\"-156.8\" font-family=\"Helvetica,sans-Serif\" font-size=\"14.00\" fill=\"#000000\">gini = 0.32</text>\n<text text-anchor=\"middle\" x=\"1564.5\" y=\"-141.8\" font-family=\"Helvetica,sans-Serif\" font-size=\"14.00\" fill=\"#000000\">samples = 10</text>\n<text text-anchor=\"middle\" x=\"1564.5\" y=\"-126.8\" font-family=\"Helvetica,sans-Serif\" font-size=\"14.00\" fill=\"#000000\">value = [8, 2]</text>\n<text text-anchor=\"middle\" x=\"1564.5\" y=\"-111.8\" font-family=\"Helvetica,sans-Serif\" font-size=\"14.00\" fill=\"#000000\">class = Unsurvived</text>\n</g>\n<!-- 23&#45;&gt;25 -->\n<g id=\"edge25\" class=\"edge\">\n<title>23&#45;&gt;25</title>\n<path fill=\"none\" stroke=\"#000000\" d=\"M1461.7607,-222.8796C1474.5099,-213.2774 1488.1683,-202.9903 1501.2291,-193.1534\"/>\n<polygon fill=\"#000000\" stroke=\"#000000\" points=\"1503.3883,-195.9089 1509.2705,-187.0969 1499.1769,-190.3174 1503.3883,-195.9089\"/>\n</g>\n<!-- 26 -->\n<g id=\"node27\" class=\"node\">\n<title>26</title>\n<path fill=\"#399de5\" stroke=\"#000000\" d=\"M1597,-68C1597,-68 1498,-68 1498,-68 1492,-68 1486,-62 1486,-56 1486,-56 1486,-12 1486,-12 1486,-6 1492,0 1498,0 1498,0 1597,0 1597,0 1603,0 1609,-6 1609,-12 1609,-12 1609,-56 1609,-56 1609,-62 1603,-68 1597,-68\"/>\n<text text-anchor=\"middle\" x=\"1547.5\" y=\"-52.8\" font-family=\"Helvetica,sans-Serif\" font-size=\"14.00\" fill=\"#000000\">gini = 0.0</text>\n<text text-anchor=\"middle\" x=\"1547.5\" y=\"-37.8\" font-family=\"Helvetica,sans-Serif\" font-size=\"14.00\" fill=\"#000000\">samples = 2</text>\n<text text-anchor=\"middle\" x=\"1547.5\" y=\"-22.8\" font-family=\"Helvetica,sans-Serif\" font-size=\"14.00\" fill=\"#000000\">value = [0, 2]</text>\n<text text-anchor=\"middle\" x=\"1547.5\" y=\"-7.8\" font-family=\"Helvetica,sans-Serif\" font-size=\"14.00\" fill=\"#000000\">class = Survived</text>\n</g>\n<!-- 25&#45;&gt;26 -->\n<g id=\"edge26\" class=\"edge\">\n<title>25&#45;&gt;26</title>\n<path fill=\"none\" stroke=\"#000000\" d=\"M1558.1698,-103.9815C1556.8947,-95.618 1555.5497,-86.7965 1554.2605,-78.3409\"/>\n<polygon fill=\"#000000\" stroke=\"#000000\" points=\"1557.6914,-77.6219 1552.7241,-68.2637 1550.7714,-78.677 1557.6914,-77.6219\"/>\n</g>\n<!-- 27 -->\n<g id=\"node28\" class=\"node\">\n<title>27</title>\n<path fill=\"#e58139\" stroke=\"#000000\" d=\"M1755.5,-68C1755.5,-68 1639.5,-68 1639.5,-68 1633.5,-68 1627.5,-62 1627.5,-56 1627.5,-56 1627.5,-12 1627.5,-12 1627.5,-6 1633.5,0 1639.5,0 1639.5,0 1755.5,0 1755.5,0 1761.5,0 1767.5,-6 1767.5,-12 1767.5,-12 1767.5,-56 1767.5,-56 1767.5,-62 1761.5,-68 1755.5,-68\"/>\n<text text-anchor=\"middle\" x=\"1697.5\" y=\"-52.8\" font-family=\"Helvetica,sans-Serif\" font-size=\"14.00\" fill=\"#000000\">gini = 0.0</text>\n<text text-anchor=\"middle\" x=\"1697.5\" y=\"-37.8\" font-family=\"Helvetica,sans-Serif\" font-size=\"14.00\" fill=\"#000000\">samples = 8</text>\n<text text-anchor=\"middle\" x=\"1697.5\" y=\"-22.8\" font-family=\"Helvetica,sans-Serif\" font-size=\"14.00\" fill=\"#000000\">value = [8, 0]</text>\n<text text-anchor=\"middle\" x=\"1697.5\" y=\"-7.8\" font-family=\"Helvetica,sans-Serif\" font-size=\"14.00\" fill=\"#000000\">class = Unsurvived</text>\n</g>\n<!-- 25&#45;&gt;27 -->\n<g id=\"edge27\" class=\"edge\">\n<title>25&#45;&gt;27</title>\n<path fill=\"none\" stroke=\"#000000\" d=\"M1614.0243,-103.9815C1625.4257,-94.4232 1637.5405,-84.2668 1648.9021,-74.7419\"/>\n<polygon fill=\"#000000\" stroke=\"#000000\" points=\"1651.2147,-77.3704 1656.6294,-68.2637 1646.7175,-72.006 1651.2147,-77.3704\"/>\n</g>\n<!-- 29 -->\n<g id=\"node30\" class=\"node\">\n<title>29</title>\n<path fill=\"#d9ecfa\" stroke=\"#000000\" d=\"M2113,-425C2113,-425 2014,-425 2014,-425 2008,-425 2002,-419 2002,-413 2002,-413 2002,-354 2002,-354 2002,-348 2008,-342 2014,-342 2014,-342 2113,-342 2113,-342 2119,-342 2125,-348 2125,-354 2125,-354 2125,-413 2125,-413 2125,-419 2119,-425 2113,-425\"/>\n<text text-anchor=\"middle\" x=\"2063.5\" y=\"-409.8\" font-family=\"Helvetica,sans-Serif\" font-size=\"14.00\" fill=\"#000000\">sibsp &lt;= 2.5</text>\n<text text-anchor=\"middle\" x=\"2063.5\" y=\"-394.8\" font-family=\"Helvetica,sans-Serif\" font-size=\"14.00\" fill=\"#000000\">gini = 0.494</text>\n<text text-anchor=\"middle\" x=\"2063.5\" y=\"-379.8\" font-family=\"Helvetica,sans-Serif\" font-size=\"14.00\" fill=\"#000000\">samples = 38</text>\n<text text-anchor=\"middle\" x=\"2063.5\" y=\"-364.8\" font-family=\"Helvetica,sans-Serif\" font-size=\"14.00\" fill=\"#000000\">value = [17, 21]</text>\n<text text-anchor=\"middle\" x=\"2063.5\" y=\"-349.8\" font-family=\"Helvetica,sans-Serif\" font-size=\"14.00\" fill=\"#000000\">class = Survived</text>\n</g>\n<!-- 28&#45;&gt;29 -->\n<g id=\"edge29\" class=\"edge\">\n<title>28&#45;&gt;29</title>\n<path fill=\"none\" stroke=\"#000000\" d=\"M2063.5,-460.8796C2063.5,-452.6838 2063.5,-443.9891 2063.5,-435.5013\"/>\n<polygon fill=\"#000000\" stroke=\"#000000\" points=\"2067.0001,-435.298 2063.5,-425.2981 2060.0001,-435.2981 2067.0001,-435.298\"/>\n</g>\n<!-- 40 -->\n<g id=\"node41\" class=\"node\">\n<title>40</title>\n<path fill=\"#eb9d65\" stroke=\"#000000\" d=\"M2733.5,-425C2733.5,-425 2617.5,-425 2617.5,-425 2611.5,-425 2605.5,-419 2605.5,-413 2605.5,-413 2605.5,-354 2605.5,-354 2605.5,-348 2611.5,-342 2617.5,-342 2617.5,-342 2733.5,-342 2733.5,-342 2739.5,-342 2745.5,-348 2745.5,-354 2745.5,-354 2745.5,-413 2745.5,-413 2745.5,-419 2739.5,-425 2733.5,-425\"/>\n<text text-anchor=\"middle\" x=\"2675.5\" y=\"-409.8\" font-family=\"Helvetica,sans-Serif\" font-size=\"14.00\" fill=\"#000000\">pclass &lt;= 1.5</text>\n<text text-anchor=\"middle\" x=\"2675.5\" y=\"-394.8\" font-family=\"Helvetica,sans-Serif\" font-size=\"14.00\" fill=\"#000000\">gini = 0.296</text>\n<text text-anchor=\"middle\" x=\"2675.5\" y=\"-379.8\" font-family=\"Helvetica,sans-Serif\" font-size=\"14.00\" fill=\"#000000\">samples = 547</text>\n<text text-anchor=\"middle\" x=\"2675.5\" y=\"-364.8\" font-family=\"Helvetica,sans-Serif\" font-size=\"14.00\" fill=\"#000000\">value = [448, 99]</text>\n<text text-anchor=\"middle\" x=\"2675.5\" y=\"-349.8\" font-family=\"Helvetica,sans-Serif\" font-size=\"14.00\" fill=\"#000000\">class = Unsurvived</text>\n</g>\n<!-- 28&#45;&gt;40 -->\n<g id=\"edge40\" class=\"edge\">\n<title>28&#45;&gt;40</title>\n<path fill=\"none\" stroke=\"#000000\" d=\"M2133.7042,-488.8492C2248.2235,-466.5815 2474.5417,-422.5752 2595.2496,-399.1042\"/>\n<polygon fill=\"#000000\" stroke=\"#000000\" points=\"2596.0265,-402.5188 2605.1745,-397.1744 2594.6903,-395.6475 2596.0265,-402.5188\"/>\n</g>\n<!-- 30 -->\n<g id=\"node31\" class=\"node\">\n<title>30</title>\n<path fill=\"#57ace9\" stroke=\"#000000\" d=\"M2038,-306C2038,-306 1939,-306 1939,-306 1933,-306 1927,-300 1927,-294 1927,-294 1927,-235 1927,-235 1927,-229 1933,-223 1939,-223 1939,-223 2038,-223 2038,-223 2044,-223 2050,-229 2050,-235 2050,-235 2050,-294 2050,-294 2050,-300 2044,-306 2038,-306\"/>\n<text text-anchor=\"middle\" x=\"1988.5\" y=\"-290.8\" font-family=\"Helvetica,sans-Serif\" font-size=\"14.00\" fill=\"#000000\">age &lt;= 0.375</text>\n<text text-anchor=\"middle\" x=\"1988.5\" y=\"-275.8\" font-family=\"Helvetica,sans-Serif\" font-size=\"14.00\" fill=\"#000000\">gini = 0.227</text>\n<text text-anchor=\"middle\" x=\"1988.5\" y=\"-260.8\" font-family=\"Helvetica,sans-Serif\" font-size=\"14.00\" fill=\"#000000\">samples = 23</text>\n<text text-anchor=\"middle\" x=\"1988.5\" y=\"-245.8\" font-family=\"Helvetica,sans-Serif\" font-size=\"14.00\" fill=\"#000000\">value = [3, 20]</text>\n<text text-anchor=\"middle\" x=\"1988.5\" y=\"-230.8\" font-family=\"Helvetica,sans-Serif\" font-size=\"14.00\" fill=\"#000000\">class = Survived</text>\n</g>\n<!-- 29&#45;&gt;30 -->\n<g id=\"edge30\" class=\"edge\">\n<title>29&#45;&gt;30</title>\n<path fill=\"none\" stroke=\"#000000\" d=\"M2037.2686,-341.8796C2031.7627,-333.1434 2025.8994,-323.8404 2020.2176,-314.8253\"/>\n<polygon fill=\"#000000\" stroke=\"#000000\" points=\"2023.1363,-312.8919 2014.8433,-306.2981 2017.2143,-316.6242 2023.1363,-312.8919\"/>\n</g>\n<!-- 35 -->\n<g id=\"node36\" class=\"node\">\n<title>35</title>\n<path fill=\"#e78a47\" stroke=\"#000000\" d=\"M2196.5,-306C2196.5,-306 2080.5,-306 2080.5,-306 2074.5,-306 2068.5,-300 2068.5,-294 2068.5,-294 2068.5,-235 2068.5,-235 2068.5,-229 2074.5,-223 2080.5,-223 2080.5,-223 2196.5,-223 2196.5,-223 2202.5,-223 2208.5,-229 2208.5,-235 2208.5,-235 2208.5,-294 2208.5,-294 2208.5,-300 2202.5,-306 2196.5,-306\"/>\n<text text-anchor=\"middle\" x=\"2138.5\" y=\"-290.8\" font-family=\"Helvetica,sans-Serif\" font-size=\"14.00\" fill=\"#000000\">age &lt;= 3.5</text>\n<text text-anchor=\"middle\" x=\"2138.5\" y=\"-275.8\" font-family=\"Helvetica,sans-Serif\" font-size=\"14.00\" fill=\"#000000\">gini = 0.124</text>\n<text text-anchor=\"middle\" x=\"2138.5\" y=\"-260.8\" font-family=\"Helvetica,sans-Serif\" font-size=\"14.00\" fill=\"#000000\">samples = 15</text>\n<text text-anchor=\"middle\" x=\"2138.5\" y=\"-245.8\" font-family=\"Helvetica,sans-Serif\" font-size=\"14.00\" fill=\"#000000\">value = [14, 1]</text>\n<text text-anchor=\"middle\" x=\"2138.5\" y=\"-230.8\" font-family=\"Helvetica,sans-Serif\" font-size=\"14.00\" fill=\"#000000\">class = Unsurvived</text>\n</g>\n<!-- 29&#45;&gt;35 -->\n<g id=\"edge35\" class=\"edge\">\n<title>29&#45;&gt;35</title>\n<path fill=\"none\" stroke=\"#000000\" d=\"M2089.7314,-341.8796C2095.2373,-333.1434 2101.1006,-323.8404 2106.7824,-314.8253\"/>\n<polygon fill=\"#000000\" stroke=\"#000000\" points=\"2109.7857,-316.6242 2112.1567,-306.2981 2103.8637,-312.8919 2109.7857,-316.6242\"/>\n</g>\n<!-- 31 -->\n<g id=\"node32\" class=\"node\">\n<title>31</title>\n<path fill=\"#e58139\" stroke=\"#000000\" d=\"M1896.5,-179.5C1896.5,-179.5 1780.5,-179.5 1780.5,-179.5 1774.5,-179.5 1768.5,-173.5 1768.5,-167.5 1768.5,-167.5 1768.5,-123.5 1768.5,-123.5 1768.5,-117.5 1774.5,-111.5 1780.5,-111.5 1780.5,-111.5 1896.5,-111.5 1896.5,-111.5 1902.5,-111.5 1908.5,-117.5 1908.5,-123.5 1908.5,-123.5 1908.5,-167.5 1908.5,-167.5 1908.5,-173.5 1902.5,-179.5 1896.5,-179.5\"/>\n<text text-anchor=\"middle\" x=\"1838.5\" y=\"-164.3\" font-family=\"Helvetica,sans-Serif\" font-size=\"14.00\" fill=\"#000000\">gini = 0.0</text>\n<text text-anchor=\"middle\" x=\"1838.5\" y=\"-149.3\" font-family=\"Helvetica,sans-Serif\" font-size=\"14.00\" fill=\"#000000\">samples = 1</text>\n<text text-anchor=\"middle\" x=\"1838.5\" y=\"-134.3\" font-family=\"Helvetica,sans-Serif\" font-size=\"14.00\" fill=\"#000000\">value = [1, 0]</text>\n<text text-anchor=\"middle\" x=\"1838.5\" y=\"-119.3\" font-family=\"Helvetica,sans-Serif\" font-size=\"14.00\" fill=\"#000000\">class = Unsurvived</text>\n</g>\n<!-- 30&#45;&gt;31 -->\n<g id=\"edge31\" class=\"edge\">\n<title>30&#45;&gt;31</title>\n<path fill=\"none\" stroke=\"#000000\" d=\"M1936.0373,-222.8796C1921.0678,-211.0038 1904.7778,-198.0804 1889.8741,-186.2568\"/>\n<polygon fill=\"#000000\" stroke=\"#000000\" points=\"1891.7635,-183.2881 1881.7541,-179.8149 1887.413,-188.772 1891.7635,-183.2881\"/>\n</g>\n<!-- 32 -->\n<g id=\"node33\" class=\"node\">\n<title>32</title>\n<path fill=\"#4da7e8\" stroke=\"#000000\" d=\"M2038,-187C2038,-187 1939,-187 1939,-187 1933,-187 1927,-181 1927,-175 1927,-175 1927,-116 1927,-116 1927,-110 1933,-104 1939,-104 1939,-104 2038,-104 2038,-104 2044,-104 2050,-110 2050,-116 2050,-116 2050,-175 2050,-175 2050,-181 2044,-187 2038,-187\"/>\n<text text-anchor=\"middle\" x=\"1988.5\" y=\"-171.8\" font-family=\"Helvetica,sans-Serif\" font-size=\"14.00\" fill=\"#000000\">fare &lt;= 15.573</text>\n<text text-anchor=\"middle\" x=\"1988.5\" y=\"-156.8\" font-family=\"Helvetica,sans-Serif\" font-size=\"14.00\" fill=\"#000000\">gini = 0.165</text>\n<text text-anchor=\"middle\" x=\"1988.5\" y=\"-141.8\" font-family=\"Helvetica,sans-Serif\" font-size=\"14.00\" fill=\"#000000\">samples = 22</text>\n<text text-anchor=\"middle\" x=\"1988.5\" y=\"-126.8\" font-family=\"Helvetica,sans-Serif\" font-size=\"14.00\" fill=\"#000000\">value = [2, 20]</text>\n<text text-anchor=\"middle\" x=\"1988.5\" y=\"-111.8\" font-family=\"Helvetica,sans-Serif\" font-size=\"14.00\" fill=\"#000000\">class = Survived</text>\n</g>\n<!-- 30&#45;&gt;32 -->\n<g id=\"edge32\" class=\"edge\">\n<title>30&#45;&gt;32</title>\n<path fill=\"none\" stroke=\"#000000\" d=\"M1988.5,-222.8796C1988.5,-214.6838 1988.5,-205.9891 1988.5,-197.5013\"/>\n<polygon fill=\"#000000\" stroke=\"#000000\" points=\"1992.0001,-197.298 1988.5,-187.2981 1985.0001,-197.2981 1992.0001,-197.298\"/>\n</g>\n<!-- 33 -->\n<g id=\"node34\" class=\"node\">\n<title>33</title>\n<path fill=\"#7bbeee\" stroke=\"#000000\" d=\"M1897,-68C1897,-68 1798,-68 1798,-68 1792,-68 1786,-62 1786,-56 1786,-56 1786,-12 1786,-12 1786,-6 1792,0 1798,0 1798,0 1897,0 1897,0 1903,0 1909,-6 1909,-12 1909,-12 1909,-56 1909,-56 1909,-62 1903,-68 1897,-68\"/>\n<text text-anchor=\"middle\" x=\"1847.5\" y=\"-52.8\" font-family=\"Helvetica,sans-Serif\" font-size=\"14.00\" fill=\"#000000\">gini = 0.375</text>\n<text text-anchor=\"middle\" x=\"1847.5\" y=\"-37.8\" font-family=\"Helvetica,sans-Serif\" font-size=\"14.00\" fill=\"#000000\">samples = 8</text>\n<text text-anchor=\"middle\" x=\"1847.5\" y=\"-22.8\" font-family=\"Helvetica,sans-Serif\" font-size=\"14.00\" fill=\"#000000\">value = [2, 6]</text>\n<text text-anchor=\"middle\" x=\"1847.5\" y=\"-7.8\" font-family=\"Helvetica,sans-Serif\" font-size=\"14.00\" fill=\"#000000\">class = Survived</text>\n</g>\n<!-- 32&#45;&gt;33 -->\n<g id=\"edge33\" class=\"edge\">\n<title>32&#45;&gt;33</title>\n<path fill=\"none\" stroke=\"#000000\" d=\"M1935.9968,-103.9815C1923.7934,-94.3313 1910.819,-84.0714 1898.6739,-74.4673\"/>\n<polygon fill=\"#000000\" stroke=\"#000000\" points=\"1900.8438,-71.7211 1890.829,-68.2637 1896.5018,-77.2118 1900.8438,-71.7211\"/>\n</g>\n<!-- 34 -->\n<g id=\"node35\" class=\"node\">\n<title>34</title>\n<path fill=\"#399de5\" stroke=\"#000000\" d=\"M2038,-68C2038,-68 1939,-68 1939,-68 1933,-68 1927,-62 1927,-56 1927,-56 1927,-12 1927,-12 1927,-6 1933,0 1939,0 1939,0 2038,0 2038,0 2044,0 2050,-6 2050,-12 2050,-12 2050,-56 2050,-56 2050,-62 2044,-68 2038,-68\"/>\n<text text-anchor=\"middle\" x=\"1988.5\" y=\"-52.8\" font-family=\"Helvetica,sans-Serif\" font-size=\"14.00\" fill=\"#000000\">gini = 0.0</text>\n<text text-anchor=\"middle\" x=\"1988.5\" y=\"-37.8\" font-family=\"Helvetica,sans-Serif\" font-size=\"14.00\" fill=\"#000000\">samples = 14</text>\n<text text-anchor=\"middle\" x=\"1988.5\" y=\"-22.8\" font-family=\"Helvetica,sans-Serif\" font-size=\"14.00\" fill=\"#000000\">value = [0, 14]</text>\n<text text-anchor=\"middle\" x=\"1988.5\" y=\"-7.8\" font-family=\"Helvetica,sans-Serif\" font-size=\"14.00\" fill=\"#000000\">class = Survived</text>\n</g>\n<!-- 32&#45;&gt;34 -->\n<g id=\"edge34\" class=\"edge\">\n<title>32&#45;&gt;34</title>\n<path fill=\"none\" stroke=\"#000000\" d=\"M1988.5,-103.9815C1988.5,-95.618 1988.5,-86.7965 1988.5,-78.3409\"/>\n<polygon fill=\"#000000\" stroke=\"#000000\" points=\"1992.0001,-78.2636 1988.5,-68.2637 1985.0001,-78.2637 1992.0001,-78.2636\"/>\n</g>\n<!-- 36 -->\n<g id=\"node37\" class=\"node\">\n<title>36</title>\n<path fill=\"#eca06a\" stroke=\"#000000\" d=\"M2196.5,-187C2196.5,-187 2080.5,-187 2080.5,-187 2074.5,-187 2068.5,-181 2068.5,-175 2068.5,-175 2068.5,-116 2068.5,-116 2068.5,-110 2074.5,-104 2080.5,-104 2080.5,-104 2196.5,-104 2196.5,-104 2202.5,-104 2208.5,-110 2208.5,-116 2208.5,-116 2208.5,-175 2208.5,-175 2208.5,-181 2202.5,-187 2196.5,-187\"/>\n<text text-anchor=\"middle\" x=\"2138.5\" y=\"-171.8\" font-family=\"Helvetica,sans-Serif\" font-size=\"14.00\" fill=\"#000000\">age &lt;= 2.5</text>\n<text text-anchor=\"middle\" x=\"2138.5\" y=\"-156.8\" font-family=\"Helvetica,sans-Serif\" font-size=\"14.00\" fill=\"#000000\">gini = 0.32</text>\n<text text-anchor=\"middle\" x=\"2138.5\" y=\"-141.8\" font-family=\"Helvetica,sans-Serif\" font-size=\"14.00\" fill=\"#000000\">samples = 5</text>\n<text text-anchor=\"middle\" x=\"2138.5\" y=\"-126.8\" font-family=\"Helvetica,sans-Serif\" font-size=\"14.00\" fill=\"#000000\">value = [4, 1]</text>\n<text text-anchor=\"middle\" x=\"2138.5\" y=\"-111.8\" font-family=\"Helvetica,sans-Serif\" font-size=\"14.00\" fill=\"#000000\">class = Unsurvived</text>\n</g>\n<!-- 35&#45;&gt;36 -->\n<g id=\"edge36\" class=\"edge\">\n<title>35&#45;&gt;36</title>\n<path fill=\"none\" stroke=\"#000000\" d=\"M2138.5,-222.8796C2138.5,-214.6838 2138.5,-205.9891 2138.5,-197.5013\"/>\n<polygon fill=\"#000000\" stroke=\"#000000\" points=\"2142.0001,-197.298 2138.5,-187.2981 2135.0001,-197.2981 2142.0001,-197.298\"/>\n</g>\n<!-- 39 -->\n<g id=\"node40\" class=\"node\">\n<title>39</title>\n<path fill=\"#e58139\" stroke=\"#000000\" d=\"M2354.5,-179.5C2354.5,-179.5 2238.5,-179.5 2238.5,-179.5 2232.5,-179.5 2226.5,-173.5 2226.5,-167.5 2226.5,-167.5 2226.5,-123.5 2226.5,-123.5 2226.5,-117.5 2232.5,-111.5 2238.5,-111.5 2238.5,-111.5 2354.5,-111.5 2354.5,-111.5 2360.5,-111.5 2366.5,-117.5 2366.5,-123.5 2366.5,-123.5 2366.5,-167.5 2366.5,-167.5 2366.5,-173.5 2360.5,-179.5 2354.5,-179.5\"/>\n<text text-anchor=\"middle\" x=\"2296.5\" y=\"-164.3\" font-family=\"Helvetica,sans-Serif\" font-size=\"14.00\" fill=\"#000000\">gini = 0.0</text>\n<text text-anchor=\"middle\" x=\"2296.5\" y=\"-149.3\" font-family=\"Helvetica,sans-Serif\" font-size=\"14.00\" fill=\"#000000\">samples = 10</text>\n<text text-anchor=\"middle\" x=\"2296.5\" y=\"-134.3\" font-family=\"Helvetica,sans-Serif\" font-size=\"14.00\" fill=\"#000000\">value = [10, 0]</text>\n<text text-anchor=\"middle\" x=\"2296.5\" y=\"-119.3\" font-family=\"Helvetica,sans-Serif\" font-size=\"14.00\" fill=\"#000000\">class = Unsurvived</text>\n</g>\n<!-- 35&#45;&gt;39 -->\n<g id=\"edge39\" class=\"edge\">\n<title>35&#45;&gt;39</title>\n<path fill=\"none\" stroke=\"#000000\" d=\"M2193.7607,-222.8796C2209.7503,-210.8368 2227.1703,-197.7167 2243.0474,-185.7586\"/>\n<polygon fill=\"#000000\" stroke=\"#000000\" points=\"2245.3116,-188.435 2251.1938,-179.623 2241.1002,-182.8435 2245.3116,-188.435\"/>\n</g>\n<!-- 37 -->\n<g id=\"node38\" class=\"node\">\n<title>37</title>\n<path fill=\"#e58139\" stroke=\"#000000\" d=\"M2196.5,-68C2196.5,-68 2080.5,-68 2080.5,-68 2074.5,-68 2068.5,-62 2068.5,-56 2068.5,-56 2068.5,-12 2068.5,-12 2068.5,-6 2074.5,0 2080.5,0 2080.5,0 2196.5,0 2196.5,0 2202.5,0 2208.5,-6 2208.5,-12 2208.5,-12 2208.5,-56 2208.5,-56 2208.5,-62 2202.5,-68 2196.5,-68\"/>\n<text text-anchor=\"middle\" x=\"2138.5\" y=\"-52.8\" font-family=\"Helvetica,sans-Serif\" font-size=\"14.00\" fill=\"#000000\">gini = 0.0</text>\n<text text-anchor=\"middle\" x=\"2138.5\" y=\"-37.8\" font-family=\"Helvetica,sans-Serif\" font-size=\"14.00\" fill=\"#000000\">samples = 4</text>\n<text text-anchor=\"middle\" x=\"2138.5\" y=\"-22.8\" font-family=\"Helvetica,sans-Serif\" font-size=\"14.00\" fill=\"#000000\">value = [4, 0]</text>\n<text text-anchor=\"middle\" x=\"2138.5\" y=\"-7.8\" font-family=\"Helvetica,sans-Serif\" font-size=\"14.00\" fill=\"#000000\">class = Unsurvived</text>\n</g>\n<!-- 36&#45;&gt;37 -->\n<g id=\"edge37\" class=\"edge\">\n<title>36&#45;&gt;37</title>\n<path fill=\"none\" stroke=\"#000000\" d=\"M2138.5,-103.9815C2138.5,-95.618 2138.5,-86.7965 2138.5,-78.3409\"/>\n<polygon fill=\"#000000\" stroke=\"#000000\" points=\"2142.0001,-78.2636 2138.5,-68.2637 2135.0001,-78.2637 2142.0001,-78.2636\"/>\n</g>\n<!-- 38 -->\n<g id=\"node39\" class=\"node\">\n<title>38</title>\n<path fill=\"#399de5\" stroke=\"#000000\" d=\"M2338,-68C2338,-68 2239,-68 2239,-68 2233,-68 2227,-62 2227,-56 2227,-56 2227,-12 2227,-12 2227,-6 2233,0 2239,0 2239,0 2338,0 2338,0 2344,0 2350,-6 2350,-12 2350,-12 2350,-56 2350,-56 2350,-62 2344,-68 2338,-68\"/>\n<text text-anchor=\"middle\" x=\"2288.5\" y=\"-52.8\" font-family=\"Helvetica,sans-Serif\" font-size=\"14.00\" fill=\"#000000\">gini = 0.0</text>\n<text text-anchor=\"middle\" x=\"2288.5\" y=\"-37.8\" font-family=\"Helvetica,sans-Serif\" font-size=\"14.00\" fill=\"#000000\">samples = 1</text>\n<text text-anchor=\"middle\" x=\"2288.5\" y=\"-22.8\" font-family=\"Helvetica,sans-Serif\" font-size=\"14.00\" fill=\"#000000\">value = [0, 1]</text>\n<text text-anchor=\"middle\" x=\"2288.5\" y=\"-7.8\" font-family=\"Helvetica,sans-Serif\" font-size=\"14.00\" fill=\"#000000\">class = Survived</text>\n</g>\n<!-- 36&#45;&gt;38 -->\n<g id=\"edge38\" class=\"edge\">\n<title>36&#45;&gt;38</title>\n<path fill=\"none\" stroke=\"#000000\" d=\"M2194.3545,-103.9815C2207.3368,-94.3313 2221.1394,-84.0714 2234.0597,-74.4673\"/>\n<polygon fill=\"#000000\" stroke=\"#000000\" points=\"2236.4678,-77.0384 2242.4054,-68.2637 2232.2917,-71.4204 2236.4678,-77.0384\"/>\n</g>\n<!-- 41 -->\n<g id=\"node42\" class=\"node\">\n<title>41</title>\n<path fill=\"#f3c3a1\" stroke=\"#000000\" d=\"M2733.5,-306C2733.5,-306 2617.5,-306 2617.5,-306 2611.5,-306 2605.5,-300 2605.5,-294 2605.5,-294 2605.5,-235 2605.5,-235 2605.5,-229 2611.5,-223 2617.5,-223 2617.5,-223 2733.5,-223 2733.5,-223 2739.5,-223 2745.5,-229 2745.5,-235 2745.5,-235 2745.5,-294 2745.5,-294 2745.5,-300 2739.5,-306 2733.5,-306\"/>\n<text text-anchor=\"middle\" x=\"2675.5\" y=\"-290.8\" font-family=\"Helvetica,sans-Serif\" font-size=\"14.00\" fill=\"#000000\">age &lt;= 53.5</text>\n<text text-anchor=\"middle\" x=\"2675.5\" y=\"-275.8\" font-family=\"Helvetica,sans-Serif\" font-size=\"14.00\" fill=\"#000000\">gini = 0.452</text>\n<text text-anchor=\"middle\" x=\"2675.5\" y=\"-260.8\" font-family=\"Helvetica,sans-Serif\" font-size=\"14.00\" fill=\"#000000\">samples = 139</text>\n<text text-anchor=\"middle\" x=\"2675.5\" y=\"-245.8\" font-family=\"Helvetica,sans-Serif\" font-size=\"14.00\" fill=\"#000000\">value = [91, 48]</text>\n<text text-anchor=\"middle\" x=\"2675.5\" y=\"-230.8\" font-family=\"Helvetica,sans-Serif\" font-size=\"14.00\" fill=\"#000000\">class = Unsurvived</text>\n</g>\n<!-- 40&#45;&gt;41 -->\n<g id=\"edge41\" class=\"edge\">\n<title>40&#45;&gt;41</title>\n<path fill=\"none\" stroke=\"#000000\" d=\"M2675.5,-341.8796C2675.5,-333.6838 2675.5,-324.9891 2675.5,-316.5013\"/>\n<polygon fill=\"#000000\" stroke=\"#000000\" points=\"2679.0001,-316.298 2675.5,-306.2981 2672.0001,-316.2981 2679.0001,-316.298\"/>\n</g>\n<!-- 48 -->\n<g id=\"node49\" class=\"node\">\n<title>48</title>\n<path fill=\"#e99355\" stroke=\"#000000\" d=\"M3191.5,-306C3191.5,-306 3075.5,-306 3075.5,-306 3069.5,-306 3063.5,-300 3063.5,-294 3063.5,-294 3063.5,-235 3063.5,-235 3063.5,-229 3069.5,-223 3075.5,-223 3075.5,-223 3191.5,-223 3191.5,-223 3197.5,-223 3203.5,-229 3203.5,-235 3203.5,-235 3203.5,-294 3203.5,-294 3203.5,-300 3197.5,-306 3191.5,-306\"/>\n<text text-anchor=\"middle\" x=\"3133.5\" y=\"-290.8\" font-family=\"Helvetica,sans-Serif\" font-size=\"14.00\" fill=\"#000000\">age &lt;= 32.25</text>\n<text text-anchor=\"middle\" x=\"3133.5\" y=\"-275.8\" font-family=\"Helvetica,sans-Serif\" font-size=\"14.00\" fill=\"#000000\">gini = 0.219</text>\n<text text-anchor=\"middle\" x=\"3133.5\" y=\"-260.8\" font-family=\"Helvetica,sans-Serif\" font-size=\"14.00\" fill=\"#000000\">samples = 408</text>\n<text text-anchor=\"middle\" x=\"3133.5\" y=\"-245.8\" font-family=\"Helvetica,sans-Serif\" font-size=\"14.00\" fill=\"#000000\">value = [357, 51]</text>\n<text text-anchor=\"middle\" x=\"3133.5\" y=\"-230.8\" font-family=\"Helvetica,sans-Serif\" font-size=\"14.00\" fill=\"#000000\">class = Unsurvived</text>\n</g>\n<!-- 40&#45;&gt;48 -->\n<g id=\"edge48\" class=\"edge\">\n<title>40&#45;&gt;48</title>\n<path fill=\"none\" stroke=\"#000000\" d=\"M2745.5589,-365.2969C2828.5612,-343.7308 2966.5347,-307.8818 3053.6138,-285.2565\"/>\n<polygon fill=\"#000000\" stroke=\"#000000\" points=\"3054.6505,-288.6034 3063.4489,-282.701 3052.8901,-281.8284 3054.6505,-288.6034\"/>\n</g>\n<!-- 42 -->\n<g id=\"node43\" class=\"node\">\n<title>42</title>\n<path fill=\"#f6d6be\" stroke=\"#000000\" d=\"M2654.5,-187C2654.5,-187 2538.5,-187 2538.5,-187 2532.5,-187 2526.5,-181 2526.5,-175 2526.5,-175 2526.5,-116 2526.5,-116 2526.5,-110 2532.5,-104 2538.5,-104 2538.5,-104 2654.5,-104 2654.5,-104 2660.5,-104 2666.5,-110 2666.5,-116 2666.5,-116 2666.5,-175 2666.5,-175 2666.5,-181 2660.5,-187 2654.5,-187\"/>\n<text text-anchor=\"middle\" x=\"2596.5\" y=\"-171.8\" font-family=\"Helvetica,sans-Serif\" font-size=\"14.00\" fill=\"#000000\">fare &lt;= 26.144</text>\n<text text-anchor=\"middle\" x=\"2596.5\" y=\"-156.8\" font-family=\"Helvetica,sans-Serif\" font-size=\"14.00\" fill=\"#000000\">gini = 0.481</text>\n<text text-anchor=\"middle\" x=\"2596.5\" y=\"-141.8\" font-family=\"Helvetica,sans-Serif\" font-size=\"14.00\" fill=\"#000000\">samples = 112</text>\n<text text-anchor=\"middle\" x=\"2596.5\" y=\"-126.8\" font-family=\"Helvetica,sans-Serif\" font-size=\"14.00\" fill=\"#000000\">value = [67, 45]</text>\n<text text-anchor=\"middle\" x=\"2596.5\" y=\"-111.8\" font-family=\"Helvetica,sans-Serif\" font-size=\"14.00\" fill=\"#000000\">class = Unsurvived</text>\n</g>\n<!-- 41&#45;&gt;42 -->\n<g id=\"edge42\" class=\"edge\">\n<title>41&#45;&gt;42</title>\n<path fill=\"none\" stroke=\"#000000\" d=\"M2647.8696,-222.8796C2642.07,-214.1434 2635.8941,-204.8404 2629.9092,-195.8253\"/>\n<polygon fill=\"#000000\" stroke=\"#000000\" points=\"2632.6951,-193.6935 2624.2483,-187.2981 2626.8632,-197.5652 2632.6951,-193.6935\"/>\n</g>\n<!-- 45 -->\n<g id=\"node46\" class=\"node\">\n<title>45</title>\n<path fill=\"#e89152\" stroke=\"#000000\" d=\"M2812.5,-187C2812.5,-187 2696.5,-187 2696.5,-187 2690.5,-187 2684.5,-181 2684.5,-175 2684.5,-175 2684.5,-116 2684.5,-116 2684.5,-110 2690.5,-104 2696.5,-104 2696.5,-104 2812.5,-104 2812.5,-104 2818.5,-104 2824.5,-110 2824.5,-116 2824.5,-116 2824.5,-175 2824.5,-175 2824.5,-181 2818.5,-187 2812.5,-187\"/>\n<text text-anchor=\"middle\" x=\"2754.5\" y=\"-171.8\" font-family=\"Helvetica,sans-Serif\" font-size=\"14.00\" fill=\"#000000\">age &lt;= 75.5</text>\n<text text-anchor=\"middle\" x=\"2754.5\" y=\"-156.8\" font-family=\"Helvetica,sans-Serif\" font-size=\"14.00\" fill=\"#000000\">gini = 0.198</text>\n<text text-anchor=\"middle\" x=\"2754.5\" y=\"-141.8\" font-family=\"Helvetica,sans-Serif\" font-size=\"14.00\" fill=\"#000000\">samples = 27</text>\n<text text-anchor=\"middle\" x=\"2754.5\" y=\"-126.8\" font-family=\"Helvetica,sans-Serif\" font-size=\"14.00\" fill=\"#000000\">value = [24, 3]</text>\n<text text-anchor=\"middle\" x=\"2754.5\" y=\"-111.8\" font-family=\"Helvetica,sans-Serif\" font-size=\"14.00\" fill=\"#000000\">class = Unsurvived</text>\n</g>\n<!-- 41&#45;&gt;45 -->\n<g id=\"edge45\" class=\"edge\">\n<title>41&#45;&gt;45</title>\n<path fill=\"none\" stroke=\"#000000\" d=\"M2703.1304,-222.8796C2708.93,-214.1434 2715.1059,-204.8404 2721.0908,-195.8253\"/>\n<polygon fill=\"#000000\" stroke=\"#000000\" points=\"2724.1368,-197.5652 2726.7517,-187.2981 2718.3049,-193.6935 2724.1368,-197.5652\"/>\n</g>\n<!-- 43 -->\n<g id=\"node44\" class=\"node\">\n<title>43</title>\n<path fill=\"#e88e4d\" stroke=\"#000000\" d=\"M2496.5,-68C2496.5,-68 2380.5,-68 2380.5,-68 2374.5,-68 2368.5,-62 2368.5,-56 2368.5,-56 2368.5,-12 2368.5,-12 2368.5,-6 2374.5,0 2380.5,0 2380.5,0 2496.5,0 2496.5,0 2502.5,0 2508.5,-6 2508.5,-12 2508.5,-12 2508.5,-56 2508.5,-56 2508.5,-62 2502.5,-68 2496.5,-68\"/>\n<text text-anchor=\"middle\" x=\"2438.5\" y=\"-52.8\" font-family=\"Helvetica,sans-Serif\" font-size=\"14.00\" fill=\"#000000\">gini = 0.165</text>\n<text text-anchor=\"middle\" x=\"2438.5\" y=\"-37.8\" font-family=\"Helvetica,sans-Serif\" font-size=\"14.00\" fill=\"#000000\">samples = 11</text>\n<text text-anchor=\"middle\" x=\"2438.5\" y=\"-22.8\" font-family=\"Helvetica,sans-Serif\" font-size=\"14.00\" fill=\"#000000\">value = [10, 1]</text>\n<text text-anchor=\"middle\" x=\"2438.5\" y=\"-7.8\" font-family=\"Helvetica,sans-Serif\" font-size=\"14.00\" fill=\"#000000\">class = Unsurvived</text>\n</g>\n<!-- 42&#45;&gt;43 -->\n<g id=\"edge43\" class=\"edge\">\n<title>42&#45;&gt;43</title>\n<path fill=\"none\" stroke=\"#000000\" d=\"M2537.6666,-103.9815C2523.789,-94.1881 2509.0216,-83.7668 2495.2386,-74.0402\"/>\n<polygon fill=\"#000000\" stroke=\"#000000\" points=\"2496.9892,-70.9918 2486.8007,-68.0856 2492.9531,-76.7111 2496.9892,-70.9918\"/>\n</g>\n<!-- 44 -->\n<g id=\"node45\" class=\"node\">\n<title>44</title>\n<path fill=\"#f9e2d2\" stroke=\"#000000\" d=\"M2654.5,-68C2654.5,-68 2538.5,-68 2538.5,-68 2532.5,-68 2526.5,-62 2526.5,-56 2526.5,-56 2526.5,-12 2526.5,-12 2526.5,-6 2532.5,0 2538.5,0 2538.5,0 2654.5,0 2654.5,0 2660.5,0 2666.5,-6 2666.5,-12 2666.5,-12 2666.5,-56 2666.5,-56 2666.5,-62 2660.5,-68 2654.5,-68\"/>\n<text text-anchor=\"middle\" x=\"2596.5\" y=\"-52.8\" font-family=\"Helvetica,sans-Serif\" font-size=\"14.00\" fill=\"#000000\">gini = 0.492</text>\n<text text-anchor=\"middle\" x=\"2596.5\" y=\"-37.8\" font-family=\"Helvetica,sans-Serif\" font-size=\"14.00\" fill=\"#000000\">samples = 101</text>\n<text text-anchor=\"middle\" x=\"2596.5\" y=\"-22.8\" font-family=\"Helvetica,sans-Serif\" font-size=\"14.00\" fill=\"#000000\">value = [57, 44]</text>\n<text text-anchor=\"middle\" x=\"2596.5\" y=\"-7.8\" font-family=\"Helvetica,sans-Serif\" font-size=\"14.00\" fill=\"#000000\">class = Unsurvived</text>\n</g>\n<!-- 42&#45;&gt;44 -->\n<g id=\"edge44\" class=\"edge\">\n<title>42&#45;&gt;44</title>\n<path fill=\"none\" stroke=\"#000000\" d=\"M2596.5,-103.9815C2596.5,-95.618 2596.5,-86.7965 2596.5,-78.3409\"/>\n<polygon fill=\"#000000\" stroke=\"#000000\" points=\"2600.0001,-78.2636 2596.5,-68.2637 2593.0001,-78.2637 2600.0001,-78.2636\"/>\n</g>\n<!-- 46 -->\n<g id=\"node47\" class=\"node\">\n<title>46</title>\n<path fill=\"#e78c49\" stroke=\"#000000\" d=\"M2812.5,-68C2812.5,-68 2696.5,-68 2696.5,-68 2690.5,-68 2684.5,-62 2684.5,-56 2684.5,-56 2684.5,-12 2684.5,-12 2684.5,-6 2690.5,0 2696.5,0 2696.5,0 2812.5,0 2812.5,0 2818.5,0 2824.5,-6 2824.5,-12 2824.5,-12 2824.5,-56 2824.5,-56 2824.5,-62 2818.5,-68 2812.5,-68\"/>\n<text text-anchor=\"middle\" x=\"2754.5\" y=\"-52.8\" font-family=\"Helvetica,sans-Serif\" font-size=\"14.00\" fill=\"#000000\">gini = 0.142</text>\n<text text-anchor=\"middle\" x=\"2754.5\" y=\"-37.8\" font-family=\"Helvetica,sans-Serif\" font-size=\"14.00\" fill=\"#000000\">samples = 26</text>\n<text text-anchor=\"middle\" x=\"2754.5\" y=\"-22.8\" font-family=\"Helvetica,sans-Serif\" font-size=\"14.00\" fill=\"#000000\">value = [24, 2]</text>\n<text text-anchor=\"middle\" x=\"2754.5\" y=\"-7.8\" font-family=\"Helvetica,sans-Serif\" font-size=\"14.00\" fill=\"#000000\">class = Unsurvived</text>\n</g>\n<!-- 45&#45;&gt;46 -->\n<g id=\"edge46\" class=\"edge\">\n<title>45&#45;&gt;46</title>\n<path fill=\"none\" stroke=\"#000000\" d=\"M2754.5,-103.9815C2754.5,-95.618 2754.5,-86.7965 2754.5,-78.3409\"/>\n<polygon fill=\"#000000\" stroke=\"#000000\" points=\"2758.0001,-78.2636 2754.5,-68.2637 2751.0001,-78.2637 2758.0001,-78.2636\"/>\n</g>\n<!-- 47 -->\n<g id=\"node48\" class=\"node\">\n<title>47</title>\n<path fill=\"#399de5\" stroke=\"#000000\" d=\"M2954,-68C2954,-68 2855,-68 2855,-68 2849,-68 2843,-62 2843,-56 2843,-56 2843,-12 2843,-12 2843,-6 2849,0 2855,0 2855,0 2954,0 2954,0 2960,0 2966,-6 2966,-12 2966,-12 2966,-56 2966,-56 2966,-62 2960,-68 2954,-68\"/>\n<text text-anchor=\"middle\" x=\"2904.5\" y=\"-52.8\" font-family=\"Helvetica,sans-Serif\" font-size=\"14.00\" fill=\"#000000\">gini = 0.0</text>\n<text text-anchor=\"middle\" x=\"2904.5\" y=\"-37.8\" font-family=\"Helvetica,sans-Serif\" font-size=\"14.00\" fill=\"#000000\">samples = 1</text>\n<text text-anchor=\"middle\" x=\"2904.5\" y=\"-22.8\" font-family=\"Helvetica,sans-Serif\" font-size=\"14.00\" fill=\"#000000\">value = [0, 1]</text>\n<text text-anchor=\"middle\" x=\"2904.5\" y=\"-7.8\" font-family=\"Helvetica,sans-Serif\" font-size=\"14.00\" fill=\"#000000\">class = Survived</text>\n</g>\n<!-- 45&#45;&gt;47 -->\n<g id=\"edge47\" class=\"edge\">\n<title>45&#45;&gt;47</title>\n<path fill=\"none\" stroke=\"#000000\" d=\"M2810.3545,-103.9815C2823.3368,-94.3313 2837.1394,-84.0714 2850.0597,-74.4673\"/>\n<polygon fill=\"#000000\" stroke=\"#000000\" points=\"2852.4678,-77.0384 2858.4054,-68.2637 2848.2917,-71.4204 2852.4678,-77.0384\"/>\n</g>\n<!-- 49 -->\n<g id=\"node50\" class=\"node\">\n<title>49</title>\n<path fill=\"#ea985e\" stroke=\"#000000\" d=\"M3191.5,-187C3191.5,-187 3075.5,-187 3075.5,-187 3069.5,-187 3063.5,-181 3063.5,-175 3063.5,-175 3063.5,-116 3063.5,-116 3063.5,-110 3069.5,-104 3075.5,-104 3075.5,-104 3191.5,-104 3191.5,-104 3197.5,-104 3203.5,-110 3203.5,-116 3203.5,-116 3203.5,-175 3203.5,-175 3203.5,-181 3197.5,-187 3191.5,-187\"/>\n<text text-anchor=\"middle\" x=\"3133.5\" y=\"-171.8\" font-family=\"Helvetica,sans-Serif\" font-size=\"14.00\" fill=\"#000000\">fare &lt;= 7.837</text>\n<text text-anchor=\"middle\" x=\"3133.5\" y=\"-156.8\" font-family=\"Helvetica,sans-Serif\" font-size=\"14.00\" fill=\"#000000\">gini = 0.265</text>\n<text text-anchor=\"middle\" x=\"3133.5\" y=\"-141.8\" font-family=\"Helvetica,sans-Serif\" font-size=\"14.00\" fill=\"#000000\">samples = 280</text>\n<text text-anchor=\"middle\" x=\"3133.5\" y=\"-126.8\" font-family=\"Helvetica,sans-Serif\" font-size=\"14.00\" fill=\"#000000\">value = [236, 44]</text>\n<text text-anchor=\"middle\" x=\"3133.5\" y=\"-111.8\" font-family=\"Helvetica,sans-Serif\" font-size=\"14.00\" fill=\"#000000\">class = Unsurvived</text>\n</g>\n<!-- 48&#45;&gt;49 -->\n<g id=\"edge49\" class=\"edge\">\n<title>48&#45;&gt;49</title>\n<path fill=\"none\" stroke=\"#000000\" d=\"M3133.5,-222.8796C3133.5,-214.6838 3133.5,-205.9891 3133.5,-197.5013\"/>\n<polygon fill=\"#000000\" stroke=\"#000000\" points=\"3137.0001,-197.298 3133.5,-187.2981 3130.0001,-197.2981 3137.0001,-197.298\"/>\n</g>\n<!-- 52 -->\n<g id=\"node53\" class=\"node\">\n<title>52</title>\n<path fill=\"#e78844\" stroke=\"#000000\" d=\"M3428.5,-187C3428.5,-187 3312.5,-187 3312.5,-187 3306.5,-187 3300.5,-181 3300.5,-175 3300.5,-175 3300.5,-116 3300.5,-116 3300.5,-110 3306.5,-104 3312.5,-104 3312.5,-104 3428.5,-104 3428.5,-104 3434.5,-104 3440.5,-110 3440.5,-116 3440.5,-116 3440.5,-175 3440.5,-175 3440.5,-181 3434.5,-187 3428.5,-187\"/>\n<text text-anchor=\"middle\" x=\"3370.5\" y=\"-171.8\" font-family=\"Helvetica,sans-Serif\" font-size=\"14.00\" fill=\"#000000\">age &lt;= 36.25</text>\n<text text-anchor=\"middle\" x=\"3370.5\" y=\"-156.8\" font-family=\"Helvetica,sans-Serif\" font-size=\"14.00\" fill=\"#000000\">gini = 0.103</text>\n<text text-anchor=\"middle\" x=\"3370.5\" y=\"-141.8\" font-family=\"Helvetica,sans-Serif\" font-size=\"14.00\" fill=\"#000000\">samples = 128</text>\n<text text-anchor=\"middle\" x=\"3370.5\" y=\"-126.8\" font-family=\"Helvetica,sans-Serif\" font-size=\"14.00\" fill=\"#000000\">value = [121, 7]</text>\n<text text-anchor=\"middle\" x=\"3370.5\" y=\"-111.8\" font-family=\"Helvetica,sans-Serif\" font-size=\"14.00\" fill=\"#000000\">class = Unsurvived</text>\n</g>\n<!-- 48&#45;&gt;52 -->\n<g id=\"edge52\" class=\"edge\">\n<title>48&#45;&gt;52</title>\n<path fill=\"none\" stroke=\"#000000\" d=\"M3203.6459,-229.2791C3231.1118,-215.4882 3262.761,-199.5968 3291.0628,-185.3862\"/>\n<polygon fill=\"#000000\" stroke=\"#000000\" points=\"3292.7584,-188.4513 3300.1246,-180.8362 3289.6173,-182.1956 3292.7584,-188.4513\"/>\n</g>\n<!-- 50 -->\n<g id=\"node51\" class=\"node\">\n<title>50</title>\n<path fill=\"#eeae80\" stroke=\"#000000\" d=\"M3112.5,-68C3112.5,-68 2996.5,-68 2996.5,-68 2990.5,-68 2984.5,-62 2984.5,-56 2984.5,-56 2984.5,-12 2984.5,-12 2984.5,-6 2990.5,0 2996.5,0 2996.5,0 3112.5,0 3112.5,0 3118.5,0 3124.5,-6 3124.5,-12 3124.5,-12 3124.5,-56 3124.5,-56 3124.5,-62 3118.5,-68 3112.5,-68\"/>\n<text text-anchor=\"middle\" x=\"3054.5\" y=\"-52.8\" font-family=\"Helvetica,sans-Serif\" font-size=\"14.00\" fill=\"#000000\">gini = 0.389</text>\n<text text-anchor=\"middle\" x=\"3054.5\" y=\"-37.8\" font-family=\"Helvetica,sans-Serif\" font-size=\"14.00\" fill=\"#000000\">samples = 72</text>\n<text text-anchor=\"middle\" x=\"3054.5\" y=\"-22.8\" font-family=\"Helvetica,sans-Serif\" font-size=\"14.00\" fill=\"#000000\">value = [53, 19]</text>\n<text text-anchor=\"middle\" x=\"3054.5\" y=\"-7.8\" font-family=\"Helvetica,sans-Serif\" font-size=\"14.00\" fill=\"#000000\">class = Unsurvived</text>\n</g>\n<!-- 49&#45;&gt;50 -->\n<g id=\"edge50\" class=\"edge\">\n<title>49&#45;&gt;50</title>\n<path fill=\"none\" stroke=\"#000000\" d=\"M3104.0833,-103.9815C3097.7669,-95.0666 3091.0818,-85.6313 3084.7349,-76.6734\"/>\n<polygon fill=\"#000000\" stroke=\"#000000\" points=\"3087.4136,-74.3998 3078.7765,-68.2637 3081.7019,-78.4466 3087.4136,-74.3998\"/>\n</g>\n<!-- 51 -->\n<g id=\"node52\" class=\"node\">\n<title>51</title>\n<path fill=\"#e99254\" stroke=\"#000000\" d=\"M3270.5,-68C3270.5,-68 3154.5,-68 3154.5,-68 3148.5,-68 3142.5,-62 3142.5,-56 3142.5,-56 3142.5,-12 3142.5,-12 3142.5,-6 3148.5,0 3154.5,0 3154.5,0 3270.5,0 3270.5,0 3276.5,0 3282.5,-6 3282.5,-12 3282.5,-12 3282.5,-56 3282.5,-56 3282.5,-62 3276.5,-68 3270.5,-68\"/>\n<text text-anchor=\"middle\" x=\"3212.5\" y=\"-52.8\" font-family=\"Helvetica,sans-Serif\" font-size=\"14.00\" fill=\"#000000\">gini = 0.211</text>\n<text text-anchor=\"middle\" x=\"3212.5\" y=\"-37.8\" font-family=\"Helvetica,sans-Serif\" font-size=\"14.00\" fill=\"#000000\">samples = 208</text>\n<text text-anchor=\"middle\" x=\"3212.5\" y=\"-22.8\" font-family=\"Helvetica,sans-Serif\" font-size=\"14.00\" fill=\"#000000\">value = [183, 25]</text>\n<text text-anchor=\"middle\" x=\"3212.5\" y=\"-7.8\" font-family=\"Helvetica,sans-Serif\" font-size=\"14.00\" fill=\"#000000\">class = Unsurvived</text>\n</g>\n<!-- 49&#45;&gt;51 -->\n<g id=\"edge51\" class=\"edge\">\n<title>49&#45;&gt;51</title>\n<path fill=\"none\" stroke=\"#000000\" d=\"M3162.9167,-103.9815C3169.2331,-95.0666 3175.9182,-85.6313 3182.2651,-76.6734\"/>\n<polygon fill=\"#000000\" stroke=\"#000000\" points=\"3185.2981,-78.4466 3188.2235,-68.2637 3179.5864,-74.3998 3185.2981,-78.4466\"/>\n</g>\n<!-- 53 -->\n<g id=\"node54\" class=\"node\">\n<title>53</title>\n<path fill=\"#e58139\" stroke=\"#000000\" d=\"M3428.5,-68C3428.5,-68 3312.5,-68 3312.5,-68 3306.5,-68 3300.5,-62 3300.5,-56 3300.5,-56 3300.5,-12 3300.5,-12 3300.5,-6 3306.5,0 3312.5,0 3312.5,0 3428.5,0 3428.5,0 3434.5,0 3440.5,-6 3440.5,-12 3440.5,-12 3440.5,-56 3440.5,-56 3440.5,-62 3434.5,-68 3428.5,-68\"/>\n<text text-anchor=\"middle\" x=\"3370.5\" y=\"-52.8\" font-family=\"Helvetica,sans-Serif\" font-size=\"14.00\" fill=\"#000000\">gini = 0.0</text>\n<text text-anchor=\"middle\" x=\"3370.5\" y=\"-37.8\" font-family=\"Helvetica,sans-Serif\" font-size=\"14.00\" fill=\"#000000\">samples = 42</text>\n<text text-anchor=\"middle\" x=\"3370.5\" y=\"-22.8\" font-family=\"Helvetica,sans-Serif\" font-size=\"14.00\" fill=\"#000000\">value = [42, 0]</text>\n<text text-anchor=\"middle\" x=\"3370.5\" y=\"-7.8\" font-family=\"Helvetica,sans-Serif\" font-size=\"14.00\" fill=\"#000000\">class = Unsurvived</text>\n</g>\n<!-- 52&#45;&gt;53 -->\n<g id=\"edge53\" class=\"edge\">\n<title>52&#45;&gt;53</title>\n<path fill=\"none\" stroke=\"#000000\" d=\"M3370.5,-103.9815C3370.5,-95.618 3370.5,-86.7965 3370.5,-78.3409\"/>\n<polygon fill=\"#000000\" stroke=\"#000000\" points=\"3374.0001,-78.2636 3370.5,-68.2637 3367.0001,-78.2637 3374.0001,-78.2636\"/>\n</g>\n<!-- 54 -->\n<g id=\"node55\" class=\"node\">\n<title>54</title>\n<path fill=\"#e78c4b\" stroke=\"#000000\" d=\"M3586.5,-68C3586.5,-68 3470.5,-68 3470.5,-68 3464.5,-68 3458.5,-62 3458.5,-56 3458.5,-56 3458.5,-12 3458.5,-12 3458.5,-6 3464.5,0 3470.5,0 3470.5,0 3586.5,0 3586.5,0 3592.5,0 3598.5,-6 3598.5,-12 3598.5,-12 3598.5,-56 3598.5,-56 3598.5,-62 3592.5,-68 3586.5,-68\"/>\n<text text-anchor=\"middle\" x=\"3528.5\" y=\"-52.8\" font-family=\"Helvetica,sans-Serif\" font-size=\"14.00\" fill=\"#000000\">gini = 0.15</text>\n<text text-anchor=\"middle\" x=\"3528.5\" y=\"-37.8\" font-family=\"Helvetica,sans-Serif\" font-size=\"14.00\" fill=\"#000000\">samples = 86</text>\n<text text-anchor=\"middle\" x=\"3528.5\" y=\"-22.8\" font-family=\"Helvetica,sans-Serif\" font-size=\"14.00\" fill=\"#000000\">value = [79, 7]</text>\n<text text-anchor=\"middle\" x=\"3528.5\" y=\"-7.8\" font-family=\"Helvetica,sans-Serif\" font-size=\"14.00\" fill=\"#000000\">class = Unsurvived</text>\n</g>\n<!-- 52&#45;&gt;54 -->\n<g id=\"edge54\" class=\"edge\">\n<title>52&#45;&gt;54</title>\n<path fill=\"none\" stroke=\"#000000\" d=\"M3429.3334,-103.9815C3443.211,-94.1881 3457.9784,-83.7668 3471.7614,-74.0402\"/>\n<polygon fill=\"#000000\" stroke=\"#000000\" points=\"3474.0469,-76.7111 3480.1993,-68.0856 3470.0108,-70.9918 3474.0469,-76.7111\"/>\n</g>\n</g>\n</svg>\n"
          },
          "metadata": {
            "tags": []
          },
          "execution_count": 61
        }
      ]
    },
    {
      "cell_type": "code",
      "metadata": {
        "colab": {
          "base_uri": "https://localhost:8080/"
        },
        "id": "A-mGSklPnlua",
        "outputId": "bd139ddc-c27f-4afb-9b35-a995a607faf2"
      },
      "source": [
        "from sklearn.metrics import accuracy_score\n",
        "\n",
        "y_pred = tree_clf.predict(X_test)\n",
        "accuracy_score(y_test, y_pred)"
      ],
      "execution_count": null,
      "outputs": [
        {
          "output_type": "execute_result",
          "data": {
            "text/plain": [
              "0.8285714285714286"
            ]
          },
          "metadata": {
            "tags": []
          },
          "execution_count": 62
        }
      ]
    },
    {
      "cell_type": "code",
      "metadata": {
        "id": "DJd0_cDzohfE"
      },
      "source": [
        "# ['pclass','sex','age','sibsp','parch','fare'],\n",
        "\n",
        "dicaprio = [3.,1.,14.,0.,0.,10.]\n",
        "winslet = [1.,0.,13.,1.,2.,100.]\n",
        "austin = "
      ],
      "execution_count": null,
      "outputs": []
    },
    {
      "cell_type": "code",
      "metadata": {
        "colab": {
          "base_uri": "https://localhost:8080/"
        },
        "id": "UhIdQpKzpmPh",
        "outputId": "2f1a6c9e-c62e-4325-b918-8c0404bc1512"
      },
      "source": [
        "tree_clf.predict_proba([winslet])"
      ],
      "execution_count": null,
      "outputs": [
        {
          "output_type": "execute_result",
          "data": {
            "text/plain": [
              "array([[0.02419355, 0.97580645]])"
            ]
          },
          "metadata": {
            "tags": []
          },
          "execution_count": 56
        }
      ]
    },
    {
      "cell_type": "code",
      "metadata": {
        "colab": {
          "base_uri": "https://localhost:8080/"
        },
        "id": "GJo3uX_Fpu2A",
        "outputId": "f349ad0e-f0e3-428b-87c8-4e4106dc2e69"
      },
      "source": [
        "tree_clf.predict_proba([dicaprio])"
      ],
      "execution_count": null,
      "outputs": [
        {
          "output_type": "execute_result",
          "data": {
            "text/plain": [
              "array([[0.875, 0.125]])"
            ]
          },
          "metadata": {
            "tags": []
          },
          "execution_count": 57
        }
      ]
    }
  ]
}