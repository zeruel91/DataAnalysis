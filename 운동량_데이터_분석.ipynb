{
  "nbformat": 4,
  "nbformat_minor": 0,
  "metadata": {
    "colab": {
      "name": "운동량 데이터 분석.ipynb",
      "provenance": [],
      "include_colab_link": true
    },
    "kernelspec": {
      "name": "python3",
      "display_name": "Python 3"
    }
  },
  "cells": [
    {
      "cell_type": "markdown",
      "metadata": {
        "id": "view-in-github",
        "colab_type": "text"
      },
      "source": [
        "<a href=\"https://colab.research.google.com/github/zeruel91/DataAnalysis/blob/main/%EC%9A%B4%EB%8F%99%EB%9F%89_%EB%8D%B0%EC%9D%B4%ED%84%B0_%EB%B6%84%EC%84%9D.ipynb\" target=\"_parent\"><img src=\"https://colab.research.google.com/assets/colab-badge.svg\" alt=\"Open In Colab\"/></a>"
      ]
    },
    {
      "cell_type": "markdown",
      "metadata": {
        "id": "W95bQ3TV5Sai"
      },
      "source": [
        "먼저 기초 문법 정리\n",
        "\n",
        "리스트 \n",
        "\n"
      ]
    },
    {
      "cell_type": "code",
      "metadata": {
        "id": "Ggh0saz55Nit",
        "outputId": "d15d16bb-bbf0-4074-f5e7-79a8c9dce75a",
        "colab": {
          "base_uri": "https://localhost:8080/"
        }
      },
      "source": [
        "list1 =[1,2,3,4,5]\n",
        "list1\n",
        "\n"
      ],
      "execution_count": null,
      "outputs": [
        {
          "output_type": "execute_result",
          "data": {
            "text/plain": [
              "[1, 2, 3, 4, 5]"
            ]
          },
          "metadata": {
            "tags": []
          },
          "execution_count": 1
        }
      ]
    },
    {
      "cell_type": "code",
      "metadata": {
        "id": "utmlrihU5ph8",
        "outputId": "3abbce57-d71b-47d8-a383-ade87c991b89",
        "colab": {
          "base_uri": "https://localhost:8080/"
        }
      },
      "source": [
        "list2 = ['a','b',1, 2, 3] # 파이썬은 다른 언어와는 달리 다양한 형태의 데이터를 하나의 리스트에 넣을 수 있다. \n",
        "list2"
      ],
      "execution_count": null,
      "outputs": [
        {
          "output_type": "execute_result",
          "data": {
            "text/plain": [
              "['a', 'b', 1, 2, 3]"
            ]
          },
          "metadata": {
            "tags": []
          },
          "execution_count": 2
        }
      ]
    },
    {
      "cell_type": "code",
      "metadata": {
        "id": "y_DMzlU95zK_",
        "outputId": "e41dfb71-dfb6-4d45-bf7d-eaafd1873fae",
        "colab": {
          "base_uri": "https://localhost:8080/"
        }
      },
      "source": [
        "len(list2)   # 갯수"
      ],
      "execution_count": null,
      "outputs": [
        {
          "output_type": "execute_result",
          "data": {
            "text/plain": [
              "5"
            ]
          },
          "metadata": {
            "tags": []
          },
          "execution_count": 3
        }
      ]
    },
    {
      "cell_type": "code",
      "metadata": {
        "id": "J4-lQY256Cqe",
        "outputId": "f24eeaa3-9e3a-4907-e120-11816b649355",
        "colab": {
          "base_uri": "https://localhost:8080/"
        }
      },
      "source": [
        "list1\n",
        "list1.append(1)\n",
        "list1"
      ],
      "execution_count": null,
      "outputs": [
        {
          "output_type": "execute_result",
          "data": {
            "text/plain": [
              "[1, 2, 3, 4, 5, 1]"
            ]
          },
          "metadata": {
            "tags": []
          },
          "execution_count": 4
        }
      ]
    },
    {
      "cell_type": "code",
      "metadata": {
        "id": "K3jwxAIv6HQO",
        "outputId": "76fe18f0-a313-4735-d5c2-fb3a2f965293",
        "colab": {
          "base_uri": "https://localhost:8080/"
        }
      },
      "source": [
        "list1.pop()"
      ],
      "execution_count": null,
      "outputs": [
        {
          "output_type": "execute_result",
          "data": {
            "text/plain": [
              "1"
            ]
          },
          "metadata": {
            "tags": []
          },
          "execution_count": 5
        }
      ]
    },
    {
      "cell_type": "code",
      "metadata": {
        "id": "iMSpkAgN6YgP",
        "outputId": "38a5649b-b315-4a9e-90eb-4310a3610b9c",
        "colab": {
          "base_uri": "https://localhost:8080/"
        }
      },
      "source": [
        "list1"
      ],
      "execution_count": null,
      "outputs": [
        {
          "output_type": "execute_result",
          "data": {
            "text/plain": [
              "[1, 2, 3, 4, 5]"
            ]
          },
          "metadata": {
            "tags": []
          },
          "execution_count": 6
        }
      ]
    },
    {
      "cell_type": "code",
      "metadata": {
        "id": "07Yc0VoS6Zwn",
        "outputId": "b12213e2-ae5f-42db-bdff-941ce3786c77",
        "colab": {
          "base_uri": "https://localhost:8080/"
        }
      },
      "source": [
        "list2\n",
        "list2.extend(['aa','bb','cc'])    # 다수의 데이터를 리스트에 추가\n",
        "list2"
      ],
      "execution_count": null,
      "outputs": [
        {
          "output_type": "execute_result",
          "data": {
            "text/plain": [
              "['a', 'b', 1, 2, 3, 'aa', 'bb', 'cc']"
            ]
          },
          "metadata": {
            "tags": []
          },
          "execution_count": 7
        }
      ]
    },
    {
      "cell_type": "code",
      "metadata": {
        "id": "ybwT8L0m6p8O"
      },
      "source": [
        "list1.remove(1) # 해당 이름의 데이터를 삭제"
      ],
      "execution_count": null,
      "outputs": []
    },
    {
      "cell_type": "code",
      "metadata": {
        "id": "9UuJ15EJ65v6",
        "outputId": "d025eaf1-27aa-4800-ac5d-ade429929eed",
        "colab": {
          "base_uri": "https://localhost:8080/"
        }
      },
      "source": [
        "list1"
      ],
      "execution_count": null,
      "outputs": [
        {
          "output_type": "execute_result",
          "data": {
            "text/plain": [
              "[2, 3, 4, 5]"
            ]
          },
          "metadata": {
            "tags": []
          },
          "execution_count": 9
        }
      ]
    },
    {
      "cell_type": "code",
      "metadata": {
        "id": "U_ej8TU666gm"
      },
      "source": [
        "list1.append(1)"
      ],
      "execution_count": null,
      "outputs": []
    },
    {
      "cell_type": "code",
      "metadata": {
        "id": "LwhKSe4t7Krm",
        "outputId": "cc6a0eac-95d3-4b62-90c5-209e9407eb28",
        "colab": {
          "base_uri": "https://localhost:8080/"
        }
      },
      "source": [
        "list1"
      ],
      "execution_count": null,
      "outputs": [
        {
          "output_type": "execute_result",
          "data": {
            "text/plain": [
              "[2, 3, 4, 5, 1]"
            ]
          },
          "metadata": {
            "tags": []
          },
          "execution_count": 11
        }
      ]
    },
    {
      "cell_type": "code",
      "metadata": {
        "id": "UjZS7UBz7Mt2"
      },
      "source": [
        "list1.remove(1) "
      ],
      "execution_count": null,
      "outputs": []
    },
    {
      "cell_type": "code",
      "metadata": {
        "id": "fNnlKTen7PRW",
        "outputId": "b30ef070-a3bb-4f38-c339-1d9bb2896636",
        "colab": {
          "base_uri": "https://localhost:8080/"
        }
      },
      "source": [
        "list1"
      ],
      "execution_count": null,
      "outputs": [
        {
          "output_type": "execute_result",
          "data": {
            "text/plain": [
              "[2, 3, 4, 5]"
            ]
          },
          "metadata": {
            "tags": []
          },
          "execution_count": 13
        }
      ]
    },
    {
      "cell_type": "code",
      "metadata": {
        "id": "sL3VsjYe7QIW"
      },
      "source": [
        "# 위치지정 삽입\n",
        "\n",
        "list1.insert(0,1)"
      ],
      "execution_count": null,
      "outputs": []
    },
    {
      "cell_type": "code",
      "metadata": {
        "id": "zXPRohFl7k2e"
      },
      "source": [
        ""
      ],
      "execution_count": null,
      "outputs": []
    },
    {
      "cell_type": "code",
      "metadata": {
        "id": "WMWaAw5C7lmO"
      },
      "source": [
        "import pandas as pd\n",
        "\n",
        "practice = pd.DataFrame({'날짜':[],'운동':[],'양':[]})"
      ],
      "execution_count": null,
      "outputs": []
    },
    {
      "cell_type": "code",
      "metadata": {
        "id": "7PDhra0V8FCX",
        "outputId": "fefa3747-3025-4e14-b838-3cac20c423c9",
        "colab": {
          "base_uri": "https://localhost:8080/",
          "height": 48
        }
      },
      "source": [
        "practice\n"
      ],
      "execution_count": null,
      "outputs": [
        {
          "output_type": "execute_result",
          "data": {
            "text/html": [
              "<div>\n",
              "<style scoped>\n",
              "    .dataframe tbody tr th:only-of-type {\n",
              "        vertical-align: middle;\n",
              "    }\n",
              "\n",
              "    .dataframe tbody tr th {\n",
              "        vertical-align: top;\n",
              "    }\n",
              "\n",
              "    .dataframe thead th {\n",
              "        text-align: right;\n",
              "    }\n",
              "</style>\n",
              "<table border=\"1\" class=\"dataframe\">\n",
              "  <thead>\n",
              "    <tr style=\"text-align: right;\">\n",
              "      <th></th>\n",
              "      <th>날짜</th>\n",
              "      <th>운동</th>\n",
              "      <th>양</th>\n",
              "    </tr>\n",
              "  </thead>\n",
              "  <tbody>\n",
              "  </tbody>\n",
              "</table>\n",
              "</div>"
            ],
            "text/plain": [
              "Empty DataFrame\n",
              "Columns: [날짜, 운동, 양]\n",
              "Index: []"
            ]
          },
          "metadata": {
            "tags": []
          },
          "execution_count": 16
        }
      ]
    },
    {
      "cell_type": "code",
      "metadata": {
        "id": "5p1DWJaS8PF-"
      },
      "source": [
        "practice.loc[0] = ['19-3-1','달리기',1.]"
      ],
      "execution_count": null,
      "outputs": []
    },
    {
      "cell_type": "code",
      "metadata": {
        "id": "_42DR1Vk8cTW",
        "outputId": "6c03b4eb-01ce-43b2-9d45-97b94a900a8b",
        "colab": {
          "base_uri": "https://localhost:8080/",
          "height": 79
        }
      },
      "source": [
        "practice\n"
      ],
      "execution_count": null,
      "outputs": [
        {
          "output_type": "execute_result",
          "data": {
            "text/html": [
              "<div>\n",
              "<style scoped>\n",
              "    .dataframe tbody tr th:only-of-type {\n",
              "        vertical-align: middle;\n",
              "    }\n",
              "\n",
              "    .dataframe tbody tr th {\n",
              "        vertical-align: top;\n",
              "    }\n",
              "\n",
              "    .dataframe thead th {\n",
              "        text-align: right;\n",
              "    }\n",
              "</style>\n",
              "<table border=\"1\" class=\"dataframe\">\n",
              "  <thead>\n",
              "    <tr style=\"text-align: right;\">\n",
              "      <th></th>\n",
              "      <th>날짜</th>\n",
              "      <th>운동</th>\n",
              "      <th>양</th>\n",
              "    </tr>\n",
              "  </thead>\n",
              "  <tbody>\n",
              "    <tr>\n",
              "      <th>0</th>\n",
              "      <td>19-3-1</td>\n",
              "      <td>달리기</td>\n",
              "      <td>1.0</td>\n",
              "    </tr>\n",
              "  </tbody>\n",
              "</table>\n",
              "</div>"
            ],
            "text/plain": [
              "       날짜   운동    양\n",
              "0  19-3-1  달리기  1.0"
            ]
          },
          "metadata": {
            "tags": []
          },
          "execution_count": 18
        }
      ]
    },
    {
      "cell_type": "code",
      "metadata": {
        "id": "FhBmKZqb8dsW"
      },
      "source": [
        "practice.loc[1] = ['19-3-2','걷기',1.]\n",
        "practice.loc[2] = ['19-3-2','달리기',1.]\n",
        "practice.loc[3] = ['19-3-2','계단오르기',1.]"
      ],
      "execution_count": null,
      "outputs": []
    },
    {
      "cell_type": "code",
      "metadata": {
        "id": "NSmlCgSQ-l_I"
      },
      "source": [
        ""
      ],
      "execution_count": null,
      "outputs": []
    },
    {
      "cell_type": "code",
      "metadata": {
        "id": "QEXj0DAy8zBG",
        "outputId": "43314687-f512-41ef-d86e-f0beaeaf2f5b",
        "colab": {
          "base_uri": "https://localhost:8080/",
          "height": 172
        }
      },
      "source": [
        "practice"
      ],
      "execution_count": null,
      "outputs": [
        {
          "output_type": "execute_result",
          "data": {
            "text/html": [
              "<div>\n",
              "<style scoped>\n",
              "    .dataframe tbody tr th:only-of-type {\n",
              "        vertical-align: middle;\n",
              "    }\n",
              "\n",
              "    .dataframe tbody tr th {\n",
              "        vertical-align: top;\n",
              "    }\n",
              "\n",
              "    .dataframe thead th {\n",
              "        text-align: right;\n",
              "    }\n",
              "</style>\n",
              "<table border=\"1\" class=\"dataframe\">\n",
              "  <thead>\n",
              "    <tr style=\"text-align: right;\">\n",
              "      <th></th>\n",
              "      <th>날짜</th>\n",
              "      <th>운동</th>\n",
              "      <th>양</th>\n",
              "    </tr>\n",
              "  </thead>\n",
              "  <tbody>\n",
              "    <tr>\n",
              "      <th>0</th>\n",
              "      <td>19-3-1</td>\n",
              "      <td>달리기</td>\n",
              "      <td>1.0</td>\n",
              "    </tr>\n",
              "    <tr>\n",
              "      <th>1</th>\n",
              "      <td>19-3-2</td>\n",
              "      <td>걷기</td>\n",
              "      <td>1.0</td>\n",
              "    </tr>\n",
              "    <tr>\n",
              "      <th>2</th>\n",
              "      <td>19-3-2</td>\n",
              "      <td>달리기</td>\n",
              "      <td>1.0</td>\n",
              "    </tr>\n",
              "    <tr>\n",
              "      <th>3</th>\n",
              "      <td>19-3-2</td>\n",
              "      <td>계단오르기</td>\n",
              "      <td>1.0</td>\n",
              "    </tr>\n",
              "  </tbody>\n",
              "</table>\n",
              "</div>"
            ],
            "text/plain": [
              "       날짜     운동    양\n",
              "0  19-3-1    달리기  1.0\n",
              "1  19-3-2     걷기  1.0\n",
              "2  19-3-2    달리기  1.0\n",
              "3  19-3-2  계단오르기  1.0"
            ]
          },
          "metadata": {
            "tags": []
          },
          "execution_count": 20
        }
      ]
    },
    {
      "cell_type": "code",
      "metadata": {
        "id": "eXIq39yu80h2"
      },
      "source": [
        "practice.loc[4] = ['19-3-3','걷기',1.5]\n",
        "practice.loc[5] = ['19-3-3','달리기',1.]"
      ],
      "execution_count": null,
      "outputs": []
    },
    {
      "cell_type": "code",
      "metadata": {
        "id": "J23RmQFg9B7O",
        "outputId": "f22138ef-304e-455e-f1f4-4949f328ca40",
        "colab": {
          "base_uri": "https://localhost:8080/",
          "height": 234
        }
      },
      "source": [
        "practice\n"
      ],
      "execution_count": null,
      "outputs": [
        {
          "output_type": "execute_result",
          "data": {
            "text/html": [
              "<div>\n",
              "<style scoped>\n",
              "    .dataframe tbody tr th:only-of-type {\n",
              "        vertical-align: middle;\n",
              "    }\n",
              "\n",
              "    .dataframe tbody tr th {\n",
              "        vertical-align: top;\n",
              "    }\n",
              "\n",
              "    .dataframe thead th {\n",
              "        text-align: right;\n",
              "    }\n",
              "</style>\n",
              "<table border=\"1\" class=\"dataframe\">\n",
              "  <thead>\n",
              "    <tr style=\"text-align: right;\">\n",
              "      <th></th>\n",
              "      <th>날짜</th>\n",
              "      <th>운동</th>\n",
              "      <th>양</th>\n",
              "    </tr>\n",
              "  </thead>\n",
              "  <tbody>\n",
              "    <tr>\n",
              "      <th>0</th>\n",
              "      <td>19-3-1</td>\n",
              "      <td>달리기</td>\n",
              "      <td>1.0</td>\n",
              "    </tr>\n",
              "    <tr>\n",
              "      <th>1</th>\n",
              "      <td>19-3-2</td>\n",
              "      <td>걷기</td>\n",
              "      <td>1.0</td>\n",
              "    </tr>\n",
              "    <tr>\n",
              "      <th>2</th>\n",
              "      <td>19-3-2</td>\n",
              "      <td>달리기</td>\n",
              "      <td>1.0</td>\n",
              "    </tr>\n",
              "    <tr>\n",
              "      <th>3</th>\n",
              "      <td>19-3-2</td>\n",
              "      <td>계단오르기</td>\n",
              "      <td>1.0</td>\n",
              "    </tr>\n",
              "    <tr>\n",
              "      <th>4</th>\n",
              "      <td>19-3-3</td>\n",
              "      <td>걷기</td>\n",
              "      <td>1.5</td>\n",
              "    </tr>\n",
              "    <tr>\n",
              "      <th>5</th>\n",
              "      <td>19-3-3</td>\n",
              "      <td>달리기</td>\n",
              "      <td>1.0</td>\n",
              "    </tr>\n",
              "  </tbody>\n",
              "</table>\n",
              "</div>"
            ],
            "text/plain": [
              "       날짜     운동    양\n",
              "0  19-3-1    달리기  1.0\n",
              "1  19-3-2     걷기  1.0\n",
              "2  19-3-2    달리기  1.0\n",
              "3  19-3-2  계단오르기  1.0\n",
              "4  19-3-3     걷기  1.5\n",
              "5  19-3-3    달리기  1.0"
            ]
          },
          "metadata": {
            "tags": []
          },
          "execution_count": 22
        }
      ]
    },
    {
      "cell_type": "code",
      "metadata": {
        "id": "c8t_f_lo9EC-"
      },
      "source": [
        "practice.to_csv(\"practice.csv\", encoding='utf-8') # csv로 저장"
      ],
      "execution_count": null,
      "outputs": []
    },
    {
      "cell_type": "code",
      "metadata": {
        "id": "VZHgeN7v90Za",
        "outputId": "31d09f89-f1d6-4435-e577-197c1d94e15c",
        "colab": {
          "base_uri": "https://localhost:8080/",
          "height": 234
        }
      },
      "source": [
        "pd.read_csv(\"practice.csv\", encoding = 'utf8')"
      ],
      "execution_count": null,
      "outputs": [
        {
          "output_type": "execute_result",
          "data": {
            "text/html": [
              "<div>\n",
              "<style scoped>\n",
              "    .dataframe tbody tr th:only-of-type {\n",
              "        vertical-align: middle;\n",
              "    }\n",
              "\n",
              "    .dataframe tbody tr th {\n",
              "        vertical-align: top;\n",
              "    }\n",
              "\n",
              "    .dataframe thead th {\n",
              "        text-align: right;\n",
              "    }\n",
              "</style>\n",
              "<table border=\"1\" class=\"dataframe\">\n",
              "  <thead>\n",
              "    <tr style=\"text-align: right;\">\n",
              "      <th></th>\n",
              "      <th>Unnamed: 0</th>\n",
              "      <th>날짜</th>\n",
              "      <th>운동</th>\n",
              "      <th>양</th>\n",
              "    </tr>\n",
              "  </thead>\n",
              "  <tbody>\n",
              "    <tr>\n",
              "      <th>0</th>\n",
              "      <td>0</td>\n",
              "      <td>19-3-1</td>\n",
              "      <td>달리기</td>\n",
              "      <td>1.0</td>\n",
              "    </tr>\n",
              "    <tr>\n",
              "      <th>1</th>\n",
              "      <td>1</td>\n",
              "      <td>19-3-2</td>\n",
              "      <td>걷기</td>\n",
              "      <td>1.0</td>\n",
              "    </tr>\n",
              "    <tr>\n",
              "      <th>2</th>\n",
              "      <td>2</td>\n",
              "      <td>19-3-2</td>\n",
              "      <td>달리기</td>\n",
              "      <td>1.0</td>\n",
              "    </tr>\n",
              "    <tr>\n",
              "      <th>3</th>\n",
              "      <td>3</td>\n",
              "      <td>19-3-2</td>\n",
              "      <td>계단오르기</td>\n",
              "      <td>1.0</td>\n",
              "    </tr>\n",
              "    <tr>\n",
              "      <th>4</th>\n",
              "      <td>4</td>\n",
              "      <td>19-3-3</td>\n",
              "      <td>걷기</td>\n",
              "      <td>1.5</td>\n",
              "    </tr>\n",
              "    <tr>\n",
              "      <th>5</th>\n",
              "      <td>5</td>\n",
              "      <td>19-3-3</td>\n",
              "      <td>달리기</td>\n",
              "      <td>1.0</td>\n",
              "    </tr>\n",
              "  </tbody>\n",
              "</table>\n",
              "</div>"
            ],
            "text/plain": [
              "   Unnamed: 0      날짜     운동    양\n",
              "0           0  19-3-1    달리기  1.0\n",
              "1           1  19-3-2     걷기  1.0\n",
              "2           2  19-3-2    달리기  1.0\n",
              "3           3  19-3-2  계단오르기  1.0\n",
              "4           4  19-3-3     걷기  1.5\n",
              "5           5  19-3-3    달리기  1.0"
            ]
          },
          "metadata": {
            "tags": []
          },
          "execution_count": 24
        }
      ]
    },
    {
      "cell_type": "code",
      "metadata": {
        "id": "FM4zqpTj-GLG",
        "outputId": "ea572018-9813-438f-8405-53120ff5be41",
        "colab": {
          "base_uri": "https://localhost:8080/",
          "height": 234
        }
      },
      "source": [
        "pd.read_csv(\"practice.csv\", encoding = 'utf8', index_col=0)"
      ],
      "execution_count": null,
      "outputs": [
        {
          "output_type": "execute_result",
          "data": {
            "text/html": [
              "<div>\n",
              "<style scoped>\n",
              "    .dataframe tbody tr th:only-of-type {\n",
              "        vertical-align: middle;\n",
              "    }\n",
              "\n",
              "    .dataframe tbody tr th {\n",
              "        vertical-align: top;\n",
              "    }\n",
              "\n",
              "    .dataframe thead th {\n",
              "        text-align: right;\n",
              "    }\n",
              "</style>\n",
              "<table border=\"1\" class=\"dataframe\">\n",
              "  <thead>\n",
              "    <tr style=\"text-align: right;\">\n",
              "      <th></th>\n",
              "      <th>날짜</th>\n",
              "      <th>운동</th>\n",
              "      <th>양</th>\n",
              "    </tr>\n",
              "  </thead>\n",
              "  <tbody>\n",
              "    <tr>\n",
              "      <th>0</th>\n",
              "      <td>19-3-1</td>\n",
              "      <td>달리기</td>\n",
              "      <td>1.0</td>\n",
              "    </tr>\n",
              "    <tr>\n",
              "      <th>1</th>\n",
              "      <td>19-3-2</td>\n",
              "      <td>걷기</td>\n",
              "      <td>1.0</td>\n",
              "    </tr>\n",
              "    <tr>\n",
              "      <th>2</th>\n",
              "      <td>19-3-2</td>\n",
              "      <td>달리기</td>\n",
              "      <td>1.0</td>\n",
              "    </tr>\n",
              "    <tr>\n",
              "      <th>3</th>\n",
              "      <td>19-3-2</td>\n",
              "      <td>계단오르기</td>\n",
              "      <td>1.0</td>\n",
              "    </tr>\n",
              "    <tr>\n",
              "      <th>4</th>\n",
              "      <td>19-3-3</td>\n",
              "      <td>걷기</td>\n",
              "      <td>1.5</td>\n",
              "    </tr>\n",
              "    <tr>\n",
              "      <th>5</th>\n",
              "      <td>19-3-3</td>\n",
              "      <td>달리기</td>\n",
              "      <td>1.0</td>\n",
              "    </tr>\n",
              "  </tbody>\n",
              "</table>\n",
              "</div>"
            ],
            "text/plain": [
              "       날짜     운동    양\n",
              "0  19-3-1    달리기  1.0\n",
              "1  19-3-2     걷기  1.0\n",
              "2  19-3-2    달리기  1.0\n",
              "3  19-3-2  계단오르기  1.0\n",
              "4  19-3-3     걷기  1.5\n",
              "5  19-3-3    달리기  1.0"
            ]
          },
          "metadata": {
            "tags": []
          },
          "execution_count": 25
        }
      ]
    },
    {
      "cell_type": "code",
      "metadata": {
        "id": "rDIXJ4vd-m9q"
      },
      "source": [
        "practice.loc[6] = ['19-3-4','걷기',1.]\n",
        "practice.loc[7] = ['19-3-5','달리기',1.]\n",
        "practice.loc[8] = ['19-3-6','걷기',1.]\n",
        "practice.loc[9] = ['19-3-6','달리기',1.]"
      ],
      "execution_count": null,
      "outputs": []
    },
    {
      "cell_type": "code",
      "metadata": {
        "id": "iEJtFhrC-3GY",
        "outputId": "ae6cd414-8ef3-4306-943a-112daac48d3f",
        "colab": {
          "base_uri": "https://localhost:8080/",
          "height": 358
        }
      },
      "source": [
        "practice"
      ],
      "execution_count": null,
      "outputs": [
        {
          "output_type": "execute_result",
          "data": {
            "text/html": [
              "<div>\n",
              "<style scoped>\n",
              "    .dataframe tbody tr th:only-of-type {\n",
              "        vertical-align: middle;\n",
              "    }\n",
              "\n",
              "    .dataframe tbody tr th {\n",
              "        vertical-align: top;\n",
              "    }\n",
              "\n",
              "    .dataframe thead th {\n",
              "        text-align: right;\n",
              "    }\n",
              "</style>\n",
              "<table border=\"1\" class=\"dataframe\">\n",
              "  <thead>\n",
              "    <tr style=\"text-align: right;\">\n",
              "      <th></th>\n",
              "      <th>날짜</th>\n",
              "      <th>운동</th>\n",
              "      <th>양</th>\n",
              "    </tr>\n",
              "  </thead>\n",
              "  <tbody>\n",
              "    <tr>\n",
              "      <th>0</th>\n",
              "      <td>19-3-1</td>\n",
              "      <td>달리기</td>\n",
              "      <td>1.0</td>\n",
              "    </tr>\n",
              "    <tr>\n",
              "      <th>1</th>\n",
              "      <td>19-3-2</td>\n",
              "      <td>걷기</td>\n",
              "      <td>1.0</td>\n",
              "    </tr>\n",
              "    <tr>\n",
              "      <th>2</th>\n",
              "      <td>19-3-2</td>\n",
              "      <td>달리기</td>\n",
              "      <td>1.0</td>\n",
              "    </tr>\n",
              "    <tr>\n",
              "      <th>3</th>\n",
              "      <td>19-3-2</td>\n",
              "      <td>계단오르기</td>\n",
              "      <td>1.0</td>\n",
              "    </tr>\n",
              "    <tr>\n",
              "      <th>4</th>\n",
              "      <td>19-3-3</td>\n",
              "      <td>걷기</td>\n",
              "      <td>1.5</td>\n",
              "    </tr>\n",
              "    <tr>\n",
              "      <th>5</th>\n",
              "      <td>19-3-3</td>\n",
              "      <td>달리기</td>\n",
              "      <td>1.0</td>\n",
              "    </tr>\n",
              "    <tr>\n",
              "      <th>6</th>\n",
              "      <td>19-3-4</td>\n",
              "      <td>걷기</td>\n",
              "      <td>1.0</td>\n",
              "    </tr>\n",
              "    <tr>\n",
              "      <th>7</th>\n",
              "      <td>19-3-5</td>\n",
              "      <td>달리기</td>\n",
              "      <td>1.0</td>\n",
              "    </tr>\n",
              "    <tr>\n",
              "      <th>8</th>\n",
              "      <td>19-3-6</td>\n",
              "      <td>걷기</td>\n",
              "      <td>1.0</td>\n",
              "    </tr>\n",
              "    <tr>\n",
              "      <th>9</th>\n",
              "      <td>19-3-6</td>\n",
              "      <td>달리기</td>\n",
              "      <td>1.0</td>\n",
              "    </tr>\n",
              "  </tbody>\n",
              "</table>\n",
              "</div>"
            ],
            "text/plain": [
              "       날짜     운동    양\n",
              "0  19-3-1    달리기  1.0\n",
              "1  19-3-2     걷기  1.0\n",
              "2  19-3-2    달리기  1.0\n",
              "3  19-3-2  계단오르기  1.0\n",
              "4  19-3-3     걷기  1.5\n",
              "5  19-3-3    달리기  1.0\n",
              "6  19-3-4     걷기  1.0\n",
              "7  19-3-5    달리기  1.0\n",
              "8  19-3-6     걷기  1.0\n",
              "9  19-3-6    달리기  1.0"
            ]
          },
          "metadata": {
            "tags": []
          },
          "execution_count": 27
        }
      ]
    },
    {
      "cell_type": "code",
      "metadata": {
        "id": "VxqmuQlK-5PG",
        "outputId": "5a0f4bfb-e1df-4217-8730-379863dd508a",
        "colab": {
          "base_uri": "https://localhost:8080/",
          "height": 172
        }
      },
      "source": [
        "practice.pivot_table(index='운동') #자동으로 묶어서 편균값까지"
      ],
      "execution_count": null,
      "outputs": [
        {
          "output_type": "execute_result",
          "data": {
            "text/html": [
              "<div>\n",
              "<style scoped>\n",
              "    .dataframe tbody tr th:only-of-type {\n",
              "        vertical-align: middle;\n",
              "    }\n",
              "\n",
              "    .dataframe tbody tr th {\n",
              "        vertical-align: top;\n",
              "    }\n",
              "\n",
              "    .dataframe thead th {\n",
              "        text-align: right;\n",
              "    }\n",
              "</style>\n",
              "<table border=\"1\" class=\"dataframe\">\n",
              "  <thead>\n",
              "    <tr style=\"text-align: right;\">\n",
              "      <th></th>\n",
              "      <th>양</th>\n",
              "    </tr>\n",
              "    <tr>\n",
              "      <th>운동</th>\n",
              "      <th></th>\n",
              "    </tr>\n",
              "  </thead>\n",
              "  <tbody>\n",
              "    <tr>\n",
              "      <th>걷기</th>\n",
              "      <td>1.125</td>\n",
              "    </tr>\n",
              "    <tr>\n",
              "      <th>계단오르기</th>\n",
              "      <td>1.000</td>\n",
              "    </tr>\n",
              "    <tr>\n",
              "      <th>달리기</th>\n",
              "      <td>1.000</td>\n",
              "    </tr>\n",
              "  </tbody>\n",
              "</table>\n",
              "</div>"
            ],
            "text/plain": [
              "           양\n",
              "운동          \n",
              "걷기     1.125\n",
              "계단오르기  1.000\n",
              "달리기    1.000"
            ]
          },
          "metadata": {
            "tags": []
          },
          "execution_count": 28
        }
      ]
    },
    {
      "cell_type": "code",
      "metadata": {
        "id": "kp7HY849_uww",
        "outputId": "6930fac1-86ed-44a7-d254-b6995e9932d8",
        "colab": {
          "base_uri": "https://localhost:8080/",
          "height": 172
        }
      },
      "source": [
        "import numpy as np\n",
        "\n",
        "practice.pivot_table(index='운동', aggfunc=np.sum) #기본값은 평균이다. "
      ],
      "execution_count": null,
      "outputs": [
        {
          "output_type": "execute_result",
          "data": {
            "text/html": [
              "<div>\n",
              "<style scoped>\n",
              "    .dataframe tbody tr th:only-of-type {\n",
              "        vertical-align: middle;\n",
              "    }\n",
              "\n",
              "    .dataframe tbody tr th {\n",
              "        vertical-align: top;\n",
              "    }\n",
              "\n",
              "    .dataframe thead th {\n",
              "        text-align: right;\n",
              "    }\n",
              "</style>\n",
              "<table border=\"1\" class=\"dataframe\">\n",
              "  <thead>\n",
              "    <tr style=\"text-align: right;\">\n",
              "      <th></th>\n",
              "      <th>양</th>\n",
              "    </tr>\n",
              "    <tr>\n",
              "      <th>운동</th>\n",
              "      <th></th>\n",
              "    </tr>\n",
              "  </thead>\n",
              "  <tbody>\n",
              "    <tr>\n",
              "      <th>걷기</th>\n",
              "      <td>4.5</td>\n",
              "    </tr>\n",
              "    <tr>\n",
              "      <th>계단오르기</th>\n",
              "      <td>1.0</td>\n",
              "    </tr>\n",
              "    <tr>\n",
              "      <th>달리기</th>\n",
              "      <td>5.0</td>\n",
              "    </tr>\n",
              "  </tbody>\n",
              "</table>\n",
              "</div>"
            ],
            "text/plain": [
              "         양\n",
              "운동        \n",
              "걷기     4.5\n",
              "계단오르기  1.0\n",
              "달리기    5.0"
            ]
          },
          "metadata": {
            "tags": []
          },
          "execution_count": 29
        }
      ]
    },
    {
      "cell_type": "code",
      "metadata": {
        "id": "ApYf5dOf_zzW"
      },
      "source": [
        "prac_pivot = practice.pivot('날짜','운동','양')"
      ],
      "execution_count": null,
      "outputs": []
    },
    {
      "cell_type": "code",
      "metadata": {
        "id": "AcvgKEGJDvfm",
        "outputId": "4953cb78-eb37-4341-b654-a5b8d655b9c3",
        "colab": {
          "base_uri": "https://localhost:8080/",
          "height": 265
        }
      },
      "source": [
        "prac_pivot"
      ],
      "execution_count": null,
      "outputs": [
        {
          "output_type": "execute_result",
          "data": {
            "text/html": [
              "<div>\n",
              "<style scoped>\n",
              "    .dataframe tbody tr th:only-of-type {\n",
              "        vertical-align: middle;\n",
              "    }\n",
              "\n",
              "    .dataframe tbody tr th {\n",
              "        vertical-align: top;\n",
              "    }\n",
              "\n",
              "    .dataframe thead th {\n",
              "        text-align: right;\n",
              "    }\n",
              "</style>\n",
              "<table border=\"1\" class=\"dataframe\">\n",
              "  <thead>\n",
              "    <tr style=\"text-align: right;\">\n",
              "      <th>운동</th>\n",
              "      <th>걷기</th>\n",
              "      <th>계단오르기</th>\n",
              "      <th>달리기</th>\n",
              "    </tr>\n",
              "    <tr>\n",
              "      <th>날짜</th>\n",
              "      <th></th>\n",
              "      <th></th>\n",
              "      <th></th>\n",
              "    </tr>\n",
              "  </thead>\n",
              "  <tbody>\n",
              "    <tr>\n",
              "      <th>19-3-1</th>\n",
              "      <td>NaN</td>\n",
              "      <td>NaN</td>\n",
              "      <td>1.0</td>\n",
              "    </tr>\n",
              "    <tr>\n",
              "      <th>19-3-2</th>\n",
              "      <td>1.0</td>\n",
              "      <td>1.0</td>\n",
              "      <td>1.0</td>\n",
              "    </tr>\n",
              "    <tr>\n",
              "      <th>19-3-3</th>\n",
              "      <td>1.5</td>\n",
              "      <td>NaN</td>\n",
              "      <td>1.0</td>\n",
              "    </tr>\n",
              "    <tr>\n",
              "      <th>19-3-4</th>\n",
              "      <td>1.0</td>\n",
              "      <td>NaN</td>\n",
              "      <td>NaN</td>\n",
              "    </tr>\n",
              "    <tr>\n",
              "      <th>19-3-5</th>\n",
              "      <td>NaN</td>\n",
              "      <td>NaN</td>\n",
              "      <td>1.0</td>\n",
              "    </tr>\n",
              "    <tr>\n",
              "      <th>19-3-6</th>\n",
              "      <td>1.0</td>\n",
              "      <td>NaN</td>\n",
              "      <td>1.0</td>\n",
              "    </tr>\n",
              "  </tbody>\n",
              "</table>\n",
              "</div>"
            ],
            "text/plain": [
              "운동       걷기  계단오르기  달리기\n",
              "날짜                     \n",
              "19-3-1  NaN    NaN  1.0\n",
              "19-3-2  1.0    1.0  1.0\n",
              "19-3-3  1.5    NaN  1.0\n",
              "19-3-4  1.0    NaN  NaN\n",
              "19-3-5  NaN    NaN  1.0\n",
              "19-3-6  1.0    NaN  1.0"
            ]
          },
          "metadata": {
            "tags": []
          },
          "execution_count": 31
        }
      ]
    },
    {
      "cell_type": "code",
      "metadata": {
        "id": "OX2adH-NDx-e"
      },
      "source": [
        "prac_pivot.fillna(0, inplace=True) # NaN(Not a Number) inplace 갱신하라"
      ],
      "execution_count": null,
      "outputs": []
    },
    {
      "cell_type": "markdown",
      "metadata": {
        "id": "WNlzfiCHEexi"
      },
      "source": [
        ""
      ]
    },
    {
      "cell_type": "code",
      "metadata": {
        "id": "_-ZCACqJD8LP",
        "outputId": "d206e648-1f80-4620-9d42-f8ef4e1998ba",
        "colab": {
          "base_uri": "https://localhost:8080/",
          "height": 265
        }
      },
      "source": [
        "prac_pivot"
      ],
      "execution_count": null,
      "outputs": [
        {
          "output_type": "execute_result",
          "data": {
            "text/html": [
              "<div>\n",
              "<style scoped>\n",
              "    .dataframe tbody tr th:only-of-type {\n",
              "        vertical-align: middle;\n",
              "    }\n",
              "\n",
              "    .dataframe tbody tr th {\n",
              "        vertical-align: top;\n",
              "    }\n",
              "\n",
              "    .dataframe thead th {\n",
              "        text-align: right;\n",
              "    }\n",
              "</style>\n",
              "<table border=\"1\" class=\"dataframe\">\n",
              "  <thead>\n",
              "    <tr style=\"text-align: right;\">\n",
              "      <th>운동</th>\n",
              "      <th>걷기</th>\n",
              "      <th>계단오르기</th>\n",
              "      <th>달리기</th>\n",
              "    </tr>\n",
              "    <tr>\n",
              "      <th>날짜</th>\n",
              "      <th></th>\n",
              "      <th></th>\n",
              "      <th></th>\n",
              "    </tr>\n",
              "  </thead>\n",
              "  <tbody>\n",
              "    <tr>\n",
              "      <th>19-3-1</th>\n",
              "      <td>0.0</td>\n",
              "      <td>0.0</td>\n",
              "      <td>1.0</td>\n",
              "    </tr>\n",
              "    <tr>\n",
              "      <th>19-3-2</th>\n",
              "      <td>1.0</td>\n",
              "      <td>1.0</td>\n",
              "      <td>1.0</td>\n",
              "    </tr>\n",
              "    <tr>\n",
              "      <th>19-3-3</th>\n",
              "      <td>1.5</td>\n",
              "      <td>0.0</td>\n",
              "      <td>1.0</td>\n",
              "    </tr>\n",
              "    <tr>\n",
              "      <th>19-3-4</th>\n",
              "      <td>1.0</td>\n",
              "      <td>0.0</td>\n",
              "      <td>0.0</td>\n",
              "    </tr>\n",
              "    <tr>\n",
              "      <th>19-3-5</th>\n",
              "      <td>0.0</td>\n",
              "      <td>0.0</td>\n",
              "      <td>1.0</td>\n",
              "    </tr>\n",
              "    <tr>\n",
              "      <th>19-3-6</th>\n",
              "      <td>1.0</td>\n",
              "      <td>0.0</td>\n",
              "      <td>1.0</td>\n",
              "    </tr>\n",
              "  </tbody>\n",
              "</table>\n",
              "</div>"
            ],
            "text/plain": [
              "운동       걷기  계단오르기  달리기\n",
              "날짜                     \n",
              "19-3-1  0.0    0.0  1.0\n",
              "19-3-2  1.0    1.0  1.0\n",
              "19-3-3  1.5    0.0  1.0\n",
              "19-3-4  1.0    0.0  0.0\n",
              "19-3-5  0.0    0.0  1.0\n",
              "19-3-6  1.0    0.0  1.0"
            ]
          },
          "metadata": {
            "tags": []
          },
          "execution_count": 33
        }
      ]
    },
    {
      "cell_type": "code",
      "metadata": {
        "id": "MN21xZ3VD-R_"
      },
      "source": [
        ""
      ],
      "execution_count": null,
      "outputs": []
    },
    {
      "cell_type": "markdown",
      "metadata": {
        "id": "NNwVxSkfEfmt"
      },
      "source": [
        "########## 분석 시작"
      ]
    },
    {
      "cell_type": "code",
      "metadata": {
        "id": "-DaMDWsbEiDc"
      },
      "source": [
        "notexercise = pd.read_excel(\"report2019.xlsx\")"
      ],
      "execution_count": null,
      "outputs": []
    },
    {
      "cell_type": "code",
      "metadata": {
        "id": "iPk-hpOAFrzu",
        "outputId": "02898387-fb6a-4395-faf6-1edeee2ffe5c",
        "colab": {
          "base_uri": "https://localhost:8080/",
          "height": 1000
        }
      },
      "source": [
        "notexercise"
      ],
      "execution_count": null,
      "outputs": [
        {
          "output_type": "execute_result",
          "data": {
            "text/html": [
              "<div>\n",
              "<style scoped>\n",
              "    .dataframe tbody tr th:only-of-type {\n",
              "        vertical-align: middle;\n",
              "    }\n",
              "\n",
              "    .dataframe tbody tr th {\n",
              "        vertical-align: top;\n",
              "    }\n",
              "\n",
              "    .dataframe thead th {\n",
              "        text-align: right;\n",
              "    }\n",
              "</style>\n",
              "<table border=\"1\" class=\"dataframe\">\n",
              "  <thead>\n",
              "    <tr style=\"text-align: right;\">\n",
              "      <th></th>\n",
              "      <th>기간</th>\n",
              "      <th>대분류</th>\n",
              "      <th>분류</th>\n",
              "      <th>운동을 할 충분한 시간이 없어서</th>\n",
              "      <th>함께 운동을 할 사람이 없어서</th>\n",
              "      <th>운동을 할 만한 장소가 없어서</th>\n",
              "      <th>운동을 싫어해서</th>\n",
              "      <th>운동을 할 충분한 비용이 없어서</th>\n",
              "      <th>기타</th>\n",
              "    </tr>\n",
              "  </thead>\n",
              "  <tbody>\n",
              "    <tr>\n",
              "      <th>0</th>\n",
              "      <td>2019</td>\n",
              "      <td>서울시</td>\n",
              "      <td>서울시</td>\n",
              "      <td>46.8</td>\n",
              "      <td>5.0</td>\n",
              "      <td>4.3</td>\n",
              "      <td>37.3</td>\n",
              "      <td>5.2</td>\n",
              "      <td>1.4</td>\n",
              "    </tr>\n",
              "    <tr>\n",
              "      <th>1</th>\n",
              "      <td>2019</td>\n",
              "      <td>성별</td>\n",
              "      <td>남자</td>\n",
              "      <td>52.4</td>\n",
              "      <td>4.4</td>\n",
              "      <td>4.9</td>\n",
              "      <td>32.4</td>\n",
              "      <td>4.9</td>\n",
              "      <td>1.1</td>\n",
              "    </tr>\n",
              "    <tr>\n",
              "      <th>2</th>\n",
              "      <td>2019</td>\n",
              "      <td>성별</td>\n",
              "      <td>여자</td>\n",
              "      <td>42.5</td>\n",
              "      <td>5.6</td>\n",
              "      <td>3.9</td>\n",
              "      <td>41.0</td>\n",
              "      <td>5.4</td>\n",
              "      <td>1.7</td>\n",
              "    </tr>\n",
              "    <tr>\n",
              "      <th>3</th>\n",
              "      <td>2019</td>\n",
              "      <td>연령별</td>\n",
              "      <td>10대</td>\n",
              "      <td>55.3</td>\n",
              "      <td>4.8</td>\n",
              "      <td>3.9</td>\n",
              "      <td>32.6</td>\n",
              "      <td>3.5</td>\n",
              "      <td>-</td>\n",
              "    </tr>\n",
              "    <tr>\n",
              "      <th>4</th>\n",
              "      <td>2019</td>\n",
              "      <td>연령별</td>\n",
              "      <td>20대</td>\n",
              "      <td>46.0</td>\n",
              "      <td>4.2</td>\n",
              "      <td>4.5</td>\n",
              "      <td>38.8</td>\n",
              "      <td>6.4</td>\n",
              "      <td>0.1</td>\n",
              "    </tr>\n",
              "    <tr>\n",
              "      <th>5</th>\n",
              "      <td>2019</td>\n",
              "      <td>연령별</td>\n",
              "      <td>30대</td>\n",
              "      <td>59.9</td>\n",
              "      <td>5.2</td>\n",
              "      <td>2.9</td>\n",
              "      <td>27.3</td>\n",
              "      <td>4.5</td>\n",
              "      <td>0.2</td>\n",
              "    </tr>\n",
              "    <tr>\n",
              "      <th>6</th>\n",
              "      <td>2019</td>\n",
              "      <td>연령별</td>\n",
              "      <td>40대</td>\n",
              "      <td>54.1</td>\n",
              "      <td>3.9</td>\n",
              "      <td>2.9</td>\n",
              "      <td>35.5</td>\n",
              "      <td>3.3</td>\n",
              "      <td>0.4</td>\n",
              "    </tr>\n",
              "    <tr>\n",
              "      <th>7</th>\n",
              "      <td>2019</td>\n",
              "      <td>연령별</td>\n",
              "      <td>50대</td>\n",
              "      <td>46.1</td>\n",
              "      <td>6.2</td>\n",
              "      <td>4.5</td>\n",
              "      <td>36.8</td>\n",
              "      <td>5.6</td>\n",
              "      <td>0.8</td>\n",
              "    </tr>\n",
              "    <tr>\n",
              "      <th>8</th>\n",
              "      <td>2019</td>\n",
              "      <td>연령별</td>\n",
              "      <td>60대 이상</td>\n",
              "      <td>26.6</td>\n",
              "      <td>6.0</td>\n",
              "      <td>6.6</td>\n",
              "      <td>48.7</td>\n",
              "      <td>6.6</td>\n",
              "      <td>5.6</td>\n",
              "    </tr>\n",
              "    <tr>\n",
              "      <th>9</th>\n",
              "      <td>2019</td>\n",
              "      <td>학력별</td>\n",
              "      <td>중졸 이하</td>\n",
              "      <td>24.7</td>\n",
              "      <td>6.2</td>\n",
              "      <td>4.8</td>\n",
              "      <td>48.6</td>\n",
              "      <td>7.3</td>\n",
              "      <td>8.5</td>\n",
              "    </tr>\n",
              "    <tr>\n",
              "      <th>10</th>\n",
              "      <td>2019</td>\n",
              "      <td>학력별</td>\n",
              "      <td>고졸 이하</td>\n",
              "      <td>44.3</td>\n",
              "      <td>5.3</td>\n",
              "      <td>5.6</td>\n",
              "      <td>38.6</td>\n",
              "      <td>5.5</td>\n",
              "      <td>0.7</td>\n",
              "    </tr>\n",
              "    <tr>\n",
              "      <th>11</th>\n",
              "      <td>2019</td>\n",
              "      <td>학력별</td>\n",
              "      <td>대졸 이하</td>\n",
              "      <td>53.1</td>\n",
              "      <td>4.7</td>\n",
              "      <td>3.3</td>\n",
              "      <td>34.0</td>\n",
              "      <td>4.6</td>\n",
              "      <td>0.3</td>\n",
              "    </tr>\n",
              "    <tr>\n",
              "      <th>12</th>\n",
              "      <td>2019</td>\n",
              "      <td>학력별</td>\n",
              "      <td>대학원 이상</td>\n",
              "      <td>61.2</td>\n",
              "      <td>3.0</td>\n",
              "      <td>5.6</td>\n",
              "      <td>29.0</td>\n",
              "      <td>0.9</td>\n",
              "      <td>0.3</td>\n",
              "    </tr>\n",
              "    <tr>\n",
              "      <th>13</th>\n",
              "      <td>2019</td>\n",
              "      <td>소득별</td>\n",
              "      <td>100만원 미만</td>\n",
              "      <td>10.7</td>\n",
              "      <td>8.4</td>\n",
              "      <td>9.9</td>\n",
              "      <td>50.7</td>\n",
              "      <td>9.4</td>\n",
              "      <td>10.9</td>\n",
              "    </tr>\n",
              "    <tr>\n",
              "      <th>14</th>\n",
              "      <td>2019</td>\n",
              "      <td>소득별</td>\n",
              "      <td>100-200만원 미만</td>\n",
              "      <td>29.6</td>\n",
              "      <td>5.6</td>\n",
              "      <td>6.0</td>\n",
              "      <td>49.1</td>\n",
              "      <td>7.4</td>\n",
              "      <td>2.3</td>\n",
              "    </tr>\n",
              "    <tr>\n",
              "      <th>15</th>\n",
              "      <td>2019</td>\n",
              "      <td>소득별</td>\n",
              "      <td>200-300만원 미만</td>\n",
              "      <td>42.8</td>\n",
              "      <td>7.3</td>\n",
              "      <td>3.9</td>\n",
              "      <td>39.5</td>\n",
              "      <td>5.1</td>\n",
              "      <td>1.4</td>\n",
              "    </tr>\n",
              "    <tr>\n",
              "      <th>16</th>\n",
              "      <td>2019</td>\n",
              "      <td>소득별</td>\n",
              "      <td>300-400만원 미만</td>\n",
              "      <td>50.6</td>\n",
              "      <td>4.3</td>\n",
              "      <td>4.2</td>\n",
              "      <td>35.5</td>\n",
              "      <td>4.8</td>\n",
              "      <td>0.7</td>\n",
              "    </tr>\n",
              "    <tr>\n",
              "      <th>17</th>\n",
              "      <td>2019</td>\n",
              "      <td>소득별</td>\n",
              "      <td>400-500만원 미만</td>\n",
              "      <td>48.0</td>\n",
              "      <td>4.6</td>\n",
              "      <td>3.3</td>\n",
              "      <td>38.7</td>\n",
              "      <td>5.3</td>\n",
              "      <td>0.2</td>\n",
              "    </tr>\n",
              "    <tr>\n",
              "      <th>18</th>\n",
              "      <td>2019</td>\n",
              "      <td>소득별</td>\n",
              "      <td>500만원 이상</td>\n",
              "      <td>52.8</td>\n",
              "      <td>4.3</td>\n",
              "      <td>4.0</td>\n",
              "      <td>33.4</td>\n",
              "      <td>4.5</td>\n",
              "      <td>1</td>\n",
              "    </tr>\n",
              "    <tr>\n",
              "      <th>19</th>\n",
              "      <td>2019</td>\n",
              "      <td>혼인상태별</td>\n",
              "      <td>기혼</td>\n",
              "      <td>48.7</td>\n",
              "      <td>4.5</td>\n",
              "      <td>4.1</td>\n",
              "      <td>37.3</td>\n",
              "      <td>4.6</td>\n",
              "      <td>0.7</td>\n",
              "    </tr>\n",
              "    <tr>\n",
              "      <th>20</th>\n",
              "      <td>2019</td>\n",
              "      <td>혼인상태별</td>\n",
              "      <td>미혼</td>\n",
              "      <td>50.2</td>\n",
              "      <td>4.9</td>\n",
              "      <td>4.0</td>\n",
              "      <td>35.1</td>\n",
              "      <td>5.6</td>\n",
              "      <td>0.2</td>\n",
              "    </tr>\n",
              "    <tr>\n",
              "      <th>21</th>\n",
              "      <td>2019</td>\n",
              "      <td>혼인상태별</td>\n",
              "      <td>이혼/사별/기타</td>\n",
              "      <td>31.5</td>\n",
              "      <td>7.2</td>\n",
              "      <td>5.7</td>\n",
              "      <td>42.4</td>\n",
              "      <td>6.4</td>\n",
              "      <td>6.9</td>\n",
              "    </tr>\n",
              "    <tr>\n",
              "      <th>22</th>\n",
              "      <td>2019</td>\n",
              "      <td>지역대분류</td>\n",
              "      <td>도심권</td>\n",
              "      <td>53.8</td>\n",
              "      <td>3.8</td>\n",
              "      <td>7.2</td>\n",
              "      <td>28.3</td>\n",
              "      <td>4.0</td>\n",
              "      <td>2.9</td>\n",
              "    </tr>\n",
              "    <tr>\n",
              "      <th>23</th>\n",
              "      <td>2019</td>\n",
              "      <td>지역대분류</td>\n",
              "      <td>동북권</td>\n",
              "      <td>44.5</td>\n",
              "      <td>3.5</td>\n",
              "      <td>4.1</td>\n",
              "      <td>40.6</td>\n",
              "      <td>5.5</td>\n",
              "      <td>1.8</td>\n",
              "    </tr>\n",
              "    <tr>\n",
              "      <th>24</th>\n",
              "      <td>2019</td>\n",
              "      <td>지역대분류</td>\n",
              "      <td>서북권</td>\n",
              "      <td>50.7</td>\n",
              "      <td>6.6</td>\n",
              "      <td>5.1</td>\n",
              "      <td>31.4</td>\n",
              "      <td>5.3</td>\n",
              "      <td>0.9</td>\n",
              "    </tr>\n",
              "    <tr>\n",
              "      <th>25</th>\n",
              "      <td>2019</td>\n",
              "      <td>지역대분류</td>\n",
              "      <td>서남권</td>\n",
              "      <td>47.1</td>\n",
              "      <td>6.7</td>\n",
              "      <td>4.7</td>\n",
              "      <td>35.9</td>\n",
              "      <td>4.8</td>\n",
              "      <td>0.8</td>\n",
              "    </tr>\n",
              "    <tr>\n",
              "      <th>26</th>\n",
              "      <td>2019</td>\n",
              "      <td>지역대분류</td>\n",
              "      <td>동남권</td>\n",
              "      <td>46.3</td>\n",
              "      <td>4.7</td>\n",
              "      <td>3.1</td>\n",
              "      <td>38.9</td>\n",
              "      <td>5.4</td>\n",
              "      <td>1.5</td>\n",
              "    </tr>\n",
              "    <tr>\n",
              "      <th>27</th>\n",
              "      <td>2019</td>\n",
              "      <td>종로구</td>\n",
              "      <td>종로구</td>\n",
              "      <td>62.2</td>\n",
              "      <td>0.4</td>\n",
              "      <td>9.4</td>\n",
              "      <td>25.9</td>\n",
              "      <td>2.1</td>\n",
              "      <td>-</td>\n",
              "    </tr>\n",
              "    <tr>\n",
              "      <th>28</th>\n",
              "      <td>2019</td>\n",
              "      <td>중구</td>\n",
              "      <td>중구</td>\n",
              "      <td>50.3</td>\n",
              "      <td>3.0</td>\n",
              "      <td>7.7</td>\n",
              "      <td>25.7</td>\n",
              "      <td>7.6</td>\n",
              "      <td>5.7</td>\n",
              "    </tr>\n",
              "    <tr>\n",
              "      <th>29</th>\n",
              "      <td>2019</td>\n",
              "      <td>용산구</td>\n",
              "      <td>용산구</td>\n",
              "      <td>48.9</td>\n",
              "      <td>7.5</td>\n",
              "      <td>4.9</td>\n",
              "      <td>32.6</td>\n",
              "      <td>2.7</td>\n",
              "      <td>3.4</td>\n",
              "    </tr>\n",
              "    <tr>\n",
              "      <th>30</th>\n",
              "      <td>2019</td>\n",
              "      <td>성동구</td>\n",
              "      <td>성동구</td>\n",
              "      <td>46.5</td>\n",
              "      <td>4.3</td>\n",
              "      <td>5.7</td>\n",
              "      <td>34.2</td>\n",
              "      <td>8.7</td>\n",
              "      <td>0.6</td>\n",
              "    </tr>\n",
              "    <tr>\n",
              "      <th>31</th>\n",
              "      <td>2019</td>\n",
              "      <td>광진구</td>\n",
              "      <td>광진구</td>\n",
              "      <td>42.0</td>\n",
              "      <td>5.7</td>\n",
              "      <td>3.0</td>\n",
              "      <td>43.5</td>\n",
              "      <td>5.8</td>\n",
              "      <td>-</td>\n",
              "    </tr>\n",
              "    <tr>\n",
              "      <th>32</th>\n",
              "      <td>2019</td>\n",
              "      <td>동대문구</td>\n",
              "      <td>동대문구</td>\n",
              "      <td>44.5</td>\n",
              "      <td>4.5</td>\n",
              "      <td>2.7</td>\n",
              "      <td>41.9</td>\n",
              "      <td>6.2</td>\n",
              "      <td>0.1</td>\n",
              "    </tr>\n",
              "    <tr>\n",
              "      <th>33</th>\n",
              "      <td>2019</td>\n",
              "      <td>중랑구</td>\n",
              "      <td>중랑구</td>\n",
              "      <td>46.7</td>\n",
              "      <td>2.2</td>\n",
              "      <td>6.8</td>\n",
              "      <td>32.8</td>\n",
              "      <td>10.9</td>\n",
              "      <td>0.5</td>\n",
              "    </tr>\n",
              "    <tr>\n",
              "      <th>34</th>\n",
              "      <td>2019</td>\n",
              "      <td>성북구</td>\n",
              "      <td>성북구</td>\n",
              "      <td>33.3</td>\n",
              "      <td>3.4</td>\n",
              "      <td>2.6</td>\n",
              "      <td>58.0</td>\n",
              "      <td>2.0</td>\n",
              "      <td>0.7</td>\n",
              "    </tr>\n",
              "    <tr>\n",
              "      <th>35</th>\n",
              "      <td>2019</td>\n",
              "      <td>강북구</td>\n",
              "      <td>강북구</td>\n",
              "      <td>21.3</td>\n",
              "      <td>5.3</td>\n",
              "      <td>3.4</td>\n",
              "      <td>68.1</td>\n",
              "      <td>1.9</td>\n",
              "      <td>-</td>\n",
              "    </tr>\n",
              "    <tr>\n",
              "      <th>36</th>\n",
              "      <td>2019</td>\n",
              "      <td>도봉구</td>\n",
              "      <td>도봉구</td>\n",
              "      <td>52.0</td>\n",
              "      <td>3.2</td>\n",
              "      <td>6.2</td>\n",
              "      <td>30.8</td>\n",
              "      <td>7.6</td>\n",
              "      <td>0.3</td>\n",
              "    </tr>\n",
              "    <tr>\n",
              "      <th>37</th>\n",
              "      <td>2019</td>\n",
              "      <td>노원구</td>\n",
              "      <td>노원구</td>\n",
              "      <td>56.3</td>\n",
              "      <td>1.6</td>\n",
              "      <td>2.7</td>\n",
              "      <td>30.1</td>\n",
              "      <td>1.9</td>\n",
              "      <td>7.4</td>\n",
              "    </tr>\n",
              "    <tr>\n",
              "      <th>38</th>\n",
              "      <td>2019</td>\n",
              "      <td>은평구</td>\n",
              "      <td>은평구</td>\n",
              "      <td>42.7</td>\n",
              "      <td>8.8</td>\n",
              "      <td>7.3</td>\n",
              "      <td>34.3</td>\n",
              "      <td>6.4</td>\n",
              "      <td>0.5</td>\n",
              "    </tr>\n",
              "    <tr>\n",
              "      <th>39</th>\n",
              "      <td>2019</td>\n",
              "      <td>서대문구</td>\n",
              "      <td>서대문구</td>\n",
              "      <td>69.8</td>\n",
              "      <td>0.8</td>\n",
              "      <td>1.2</td>\n",
              "      <td>21.9</td>\n",
              "      <td>5.3</td>\n",
              "      <td>1</td>\n",
              "    </tr>\n",
              "    <tr>\n",
              "      <th>40</th>\n",
              "      <td>2019</td>\n",
              "      <td>마포구</td>\n",
              "      <td>마포구</td>\n",
              "      <td>46.6</td>\n",
              "      <td>8.1</td>\n",
              "      <td>4.7</td>\n",
              "      <td>35.8</td>\n",
              "      <td>3.2</td>\n",
              "      <td>1.5</td>\n",
              "    </tr>\n",
              "    <tr>\n",
              "      <th>41</th>\n",
              "      <td>2019</td>\n",
              "      <td>양천구</td>\n",
              "      <td>양천구</td>\n",
              "      <td>66.2</td>\n",
              "      <td>5.7</td>\n",
              "      <td>5.9</td>\n",
              "      <td>17.9</td>\n",
              "      <td>4.1</td>\n",
              "      <td>0.1</td>\n",
              "    </tr>\n",
              "    <tr>\n",
              "      <th>42</th>\n",
              "      <td>2019</td>\n",
              "      <td>강서구</td>\n",
              "      <td>강서구</td>\n",
              "      <td>38.5</td>\n",
              "      <td>3.8</td>\n",
              "      <td>1.9</td>\n",
              "      <td>50.5</td>\n",
              "      <td>4.3</td>\n",
              "      <td>1</td>\n",
              "    </tr>\n",
              "    <tr>\n",
              "      <th>43</th>\n",
              "      <td>2019</td>\n",
              "      <td>구로구</td>\n",
              "      <td>구로구</td>\n",
              "      <td>45.3</td>\n",
              "      <td>5.7</td>\n",
              "      <td>5.8</td>\n",
              "      <td>39.0</td>\n",
              "      <td>2.9</td>\n",
              "      <td>1.3</td>\n",
              "    </tr>\n",
              "    <tr>\n",
              "      <th>44</th>\n",
              "      <td>2019</td>\n",
              "      <td>금천구</td>\n",
              "      <td>금천구</td>\n",
              "      <td>53.6</td>\n",
              "      <td>2.4</td>\n",
              "      <td>2.3</td>\n",
              "      <td>37.6</td>\n",
              "      <td>2.3</td>\n",
              "      <td>1.7</td>\n",
              "    </tr>\n",
              "    <tr>\n",
              "      <th>45</th>\n",
              "      <td>2019</td>\n",
              "      <td>영등포구</td>\n",
              "      <td>영등포구</td>\n",
              "      <td>50.2</td>\n",
              "      <td>6.7</td>\n",
              "      <td>3.8</td>\n",
              "      <td>33.9</td>\n",
              "      <td>5.4</td>\n",
              "      <td>-</td>\n",
              "    </tr>\n",
              "    <tr>\n",
              "      <th>46</th>\n",
              "      <td>2019</td>\n",
              "      <td>동작구</td>\n",
              "      <td>동작구</td>\n",
              "      <td>39.1</td>\n",
              "      <td>13.9</td>\n",
              "      <td>8.4</td>\n",
              "      <td>31.1</td>\n",
              "      <td>7.6</td>\n",
              "      <td>-</td>\n",
              "    </tr>\n",
              "    <tr>\n",
              "      <th>47</th>\n",
              "      <td>2019</td>\n",
              "      <td>관악구</td>\n",
              "      <td>관악구</td>\n",
              "      <td>44.4</td>\n",
              "      <td>8.8</td>\n",
              "      <td>5.5</td>\n",
              "      <td>34.2</td>\n",
              "      <td>6.1</td>\n",
              "      <td>1</td>\n",
              "    </tr>\n",
              "    <tr>\n",
              "      <th>48</th>\n",
              "      <td>2019</td>\n",
              "      <td>서초구</td>\n",
              "      <td>서초구</td>\n",
              "      <td>49.9</td>\n",
              "      <td>4.3</td>\n",
              "      <td>4.1</td>\n",
              "      <td>36.6</td>\n",
              "      <td>3.3</td>\n",
              "      <td>1.8</td>\n",
              "    </tr>\n",
              "    <tr>\n",
              "      <th>49</th>\n",
              "      <td>2019</td>\n",
              "      <td>강남구</td>\n",
              "      <td>강남구</td>\n",
              "      <td>40.7</td>\n",
              "      <td>4.2</td>\n",
              "      <td>2.0</td>\n",
              "      <td>46.4</td>\n",
              "      <td>5.2</td>\n",
              "      <td>1.6</td>\n",
              "    </tr>\n",
              "    <tr>\n",
              "      <th>50</th>\n",
              "      <td>2019</td>\n",
              "      <td>송파구</td>\n",
              "      <td>송파구</td>\n",
              "      <td>47.6</td>\n",
              "      <td>5.0</td>\n",
              "      <td>2.3</td>\n",
              "      <td>39.4</td>\n",
              "      <td>4.8</td>\n",
              "      <td>1</td>\n",
              "    </tr>\n",
              "    <tr>\n",
              "      <th>51</th>\n",
              "      <td>2019</td>\n",
              "      <td>강동구</td>\n",
              "      <td>강동구</td>\n",
              "      <td>47.0</td>\n",
              "      <td>5.2</td>\n",
              "      <td>4.8</td>\n",
              "      <td>32.4</td>\n",
              "      <td>8.4</td>\n",
              "      <td>2.3</td>\n",
              "    </tr>\n",
              "  </tbody>\n",
              "</table>\n",
              "</div>"
            ],
            "text/plain": [
              "      기간    대분류            분류  ...  운동을 싫어해서  운동을 할 충분한 비용이 없어서    기타\n",
              "0   2019    서울시           서울시  ...      37.3                5.2   1.4\n",
              "1   2019     성별            남자  ...      32.4                4.9   1.1\n",
              "2   2019     성별            여자  ...      41.0                5.4   1.7\n",
              "3   2019    연령별           10대  ...      32.6                3.5     -\n",
              "4   2019    연령별           20대  ...      38.8                6.4   0.1\n",
              "5   2019    연령별           30대  ...      27.3                4.5   0.2\n",
              "6   2019    연령별           40대  ...      35.5                3.3   0.4\n",
              "7   2019    연령별           50대  ...      36.8                5.6   0.8\n",
              "8   2019    연령별        60대 이상  ...      48.7                6.6   5.6\n",
              "9   2019    학력별         중졸 이하  ...      48.6                7.3   8.5\n",
              "10  2019    학력별         고졸 이하  ...      38.6                5.5   0.7\n",
              "11  2019    학력별         대졸 이하  ...      34.0                4.6   0.3\n",
              "12  2019    학력별        대학원 이상  ...      29.0                0.9   0.3\n",
              "13  2019    소득별      100만원 미만  ...      50.7                9.4  10.9\n",
              "14  2019    소득별  100-200만원 미만  ...      49.1                7.4   2.3\n",
              "15  2019    소득별  200-300만원 미만  ...      39.5                5.1   1.4\n",
              "16  2019    소득별  300-400만원 미만  ...      35.5                4.8   0.7\n",
              "17  2019    소득별  400-500만원 미만  ...      38.7                5.3   0.2\n",
              "18  2019    소득별      500만원 이상  ...      33.4                4.5     1\n",
              "19  2019  혼인상태별            기혼  ...      37.3                4.6   0.7\n",
              "20  2019  혼인상태별            미혼  ...      35.1                5.6   0.2\n",
              "21  2019  혼인상태별      이혼/사별/기타  ...      42.4                6.4   6.9\n",
              "22  2019  지역대분류           도심권  ...      28.3                4.0   2.9\n",
              "23  2019  지역대분류           동북권  ...      40.6                5.5   1.8\n",
              "24  2019  지역대분류           서북권  ...      31.4                5.3   0.9\n",
              "25  2019  지역대분류           서남권  ...      35.9                4.8   0.8\n",
              "26  2019  지역대분류           동남권  ...      38.9                5.4   1.5\n",
              "27  2019    종로구           종로구  ...      25.9                2.1     -\n",
              "28  2019     중구            중구  ...      25.7                7.6   5.7\n",
              "29  2019    용산구           용산구  ...      32.6                2.7   3.4\n",
              "30  2019    성동구           성동구  ...      34.2                8.7   0.6\n",
              "31  2019    광진구           광진구  ...      43.5                5.8     -\n",
              "32  2019   동대문구          동대문구  ...      41.9                6.2   0.1\n",
              "33  2019    중랑구           중랑구  ...      32.8               10.9   0.5\n",
              "34  2019    성북구           성북구  ...      58.0                2.0   0.7\n",
              "35  2019    강북구           강북구  ...      68.1                1.9     -\n",
              "36  2019    도봉구           도봉구  ...      30.8                7.6   0.3\n",
              "37  2019    노원구           노원구  ...      30.1                1.9   7.4\n",
              "38  2019    은평구           은평구  ...      34.3                6.4   0.5\n",
              "39  2019   서대문구          서대문구  ...      21.9                5.3     1\n",
              "40  2019    마포구           마포구  ...      35.8                3.2   1.5\n",
              "41  2019    양천구           양천구  ...      17.9                4.1   0.1\n",
              "42  2019    강서구           강서구  ...      50.5                4.3     1\n",
              "43  2019    구로구           구로구  ...      39.0                2.9   1.3\n",
              "44  2019    금천구           금천구  ...      37.6                2.3   1.7\n",
              "45  2019   영등포구          영등포구  ...      33.9                5.4     -\n",
              "46  2019    동작구           동작구  ...      31.1                7.6     -\n",
              "47  2019    관악구           관악구  ...      34.2                6.1     1\n",
              "48  2019    서초구           서초구  ...      36.6                3.3   1.8\n",
              "49  2019    강남구           강남구  ...      46.4                5.2   1.6\n",
              "50  2019    송파구           송파구  ...      39.4                4.8     1\n",
              "51  2019    강동구           강동구  ...      32.4                8.4   2.3\n",
              "\n",
              "[52 rows x 9 columns]"
            ]
          },
          "metadata": {
            "tags": []
          },
          "execution_count": 35
        }
      ]
    },
    {
      "cell_type": "code",
      "metadata": {
        "id": "tk2n6UsBFtcG",
        "outputId": "e5836c08-14d3-4bd8-b58c-4ed18772520d",
        "colab": {
          "base_uri": "https://localhost:8080/",
          "height": 374
        }
      },
      "source": [
        "notexercise.head()"
      ],
      "execution_count": null,
      "outputs": [
        {
          "output_type": "execute_result",
          "data": {
            "text/html": [
              "<div>\n",
              "<style scoped>\n",
              "    .dataframe tbody tr th:only-of-type {\n",
              "        vertical-align: middle;\n",
              "    }\n",
              "\n",
              "    .dataframe tbody tr th {\n",
              "        vertical-align: top;\n",
              "    }\n",
              "\n",
              "    .dataframe thead th {\n",
              "        text-align: right;\n",
              "    }\n",
              "</style>\n",
              "<table border=\"1\" class=\"dataframe\">\n",
              "  <thead>\n",
              "    <tr style=\"text-align: right;\">\n",
              "      <th></th>\n",
              "      <th>기간</th>\n",
              "      <th>대분류</th>\n",
              "      <th>분류</th>\n",
              "      <th>운동을 할 충분한 시간이 없어서</th>\n",
              "      <th>함께 운동을 할 사람이 없어서</th>\n",
              "      <th>운동을 할 만한 장소가 없어서</th>\n",
              "      <th>운동을 싫어해서</th>\n",
              "      <th>운동을 할 충분한 비용이 없어서</th>\n",
              "      <th>기타</th>\n",
              "    </tr>\n",
              "  </thead>\n",
              "  <tbody>\n",
              "    <tr>\n",
              "      <th>0</th>\n",
              "      <td>2019</td>\n",
              "      <td>서울시</td>\n",
              "      <td>서울시</td>\n",
              "      <td>46.8</td>\n",
              "      <td>5.0</td>\n",
              "      <td>4.3</td>\n",
              "      <td>37.3</td>\n",
              "      <td>5.2</td>\n",
              "      <td>1.4</td>\n",
              "    </tr>\n",
              "    <tr>\n",
              "      <th>1</th>\n",
              "      <td>2019</td>\n",
              "      <td>성별</td>\n",
              "      <td>남자</td>\n",
              "      <td>52.4</td>\n",
              "      <td>4.4</td>\n",
              "      <td>4.9</td>\n",
              "      <td>32.4</td>\n",
              "      <td>4.9</td>\n",
              "      <td>1.1</td>\n",
              "    </tr>\n",
              "    <tr>\n",
              "      <th>2</th>\n",
              "      <td>2019</td>\n",
              "      <td>성별</td>\n",
              "      <td>여자</td>\n",
              "      <td>42.5</td>\n",
              "      <td>5.6</td>\n",
              "      <td>3.9</td>\n",
              "      <td>41.0</td>\n",
              "      <td>5.4</td>\n",
              "      <td>1.7</td>\n",
              "    </tr>\n",
              "    <tr>\n",
              "      <th>3</th>\n",
              "      <td>2019</td>\n",
              "      <td>연령별</td>\n",
              "      <td>10대</td>\n",
              "      <td>55.3</td>\n",
              "      <td>4.8</td>\n",
              "      <td>3.9</td>\n",
              "      <td>32.6</td>\n",
              "      <td>3.5</td>\n",
              "      <td>-</td>\n",
              "    </tr>\n",
              "    <tr>\n",
              "      <th>4</th>\n",
              "      <td>2019</td>\n",
              "      <td>연령별</td>\n",
              "      <td>20대</td>\n",
              "      <td>46.0</td>\n",
              "      <td>4.2</td>\n",
              "      <td>4.5</td>\n",
              "      <td>38.8</td>\n",
              "      <td>6.4</td>\n",
              "      <td>0.1</td>\n",
              "    </tr>\n",
              "  </tbody>\n",
              "</table>\n",
              "</div>"
            ],
            "text/plain": [
              "     기간  대분류   분류  ...  운동을 싫어해서  운동을 할 충분한 비용이 없어서   기타\n",
              "0  2019  서울시  서울시  ...      37.3                5.2  1.4\n",
              "1  2019   성별   남자  ...      32.4                4.9  1.1\n",
              "2  2019   성별   여자  ...      41.0                5.4  1.7\n",
              "3  2019  연령별  10대  ...      32.6                3.5    -\n",
              "4  2019  연령별  20대  ...      38.8                6.4  0.1\n",
              "\n",
              "[5 rows x 9 columns]"
            ]
          },
          "metadata": {
            "tags": []
          },
          "execution_count": 36
        }
      ]
    },
    {
      "cell_type": "code",
      "metadata": {
        "id": "n4RsBq24FygG",
        "outputId": "c7ba2b41-3265-4a8f-e494-57b31318d3ee",
        "colab": {
          "base_uri": "https://localhost:8080/",
          "height": 1000
        }
      },
      "source": [
        "notexercise.drop(index=range(22,52), inplace=True)\n",
        "notexercise"
      ],
      "execution_count": null,
      "outputs": [
        {
          "output_type": "execute_result",
          "data": {
            "text/html": [
              "<div>\n",
              "<style scoped>\n",
              "    .dataframe tbody tr th:only-of-type {\n",
              "        vertical-align: middle;\n",
              "    }\n",
              "\n",
              "    .dataframe tbody tr th {\n",
              "        vertical-align: top;\n",
              "    }\n",
              "\n",
              "    .dataframe thead th {\n",
              "        text-align: right;\n",
              "    }\n",
              "</style>\n",
              "<table border=\"1\" class=\"dataframe\">\n",
              "  <thead>\n",
              "    <tr style=\"text-align: right;\">\n",
              "      <th></th>\n",
              "      <th>기간</th>\n",
              "      <th>대분류</th>\n",
              "      <th>분류</th>\n",
              "      <th>운동을 할 충분한 시간이 없어서</th>\n",
              "      <th>함께 운동을 할 사람이 없어서</th>\n",
              "      <th>운동을 할 만한 장소가 없어서</th>\n",
              "      <th>운동을 싫어해서</th>\n",
              "      <th>운동을 할 충분한 비용이 없어서</th>\n",
              "      <th>기타</th>\n",
              "    </tr>\n",
              "  </thead>\n",
              "  <tbody>\n",
              "    <tr>\n",
              "      <th>0</th>\n",
              "      <td>2019</td>\n",
              "      <td>서울시</td>\n",
              "      <td>서울시</td>\n",
              "      <td>46.8</td>\n",
              "      <td>5.0</td>\n",
              "      <td>4.3</td>\n",
              "      <td>37.3</td>\n",
              "      <td>5.2</td>\n",
              "      <td>1.4</td>\n",
              "    </tr>\n",
              "    <tr>\n",
              "      <th>1</th>\n",
              "      <td>2019</td>\n",
              "      <td>성별</td>\n",
              "      <td>남자</td>\n",
              "      <td>52.4</td>\n",
              "      <td>4.4</td>\n",
              "      <td>4.9</td>\n",
              "      <td>32.4</td>\n",
              "      <td>4.9</td>\n",
              "      <td>1.1</td>\n",
              "    </tr>\n",
              "    <tr>\n",
              "      <th>2</th>\n",
              "      <td>2019</td>\n",
              "      <td>성별</td>\n",
              "      <td>여자</td>\n",
              "      <td>42.5</td>\n",
              "      <td>5.6</td>\n",
              "      <td>3.9</td>\n",
              "      <td>41.0</td>\n",
              "      <td>5.4</td>\n",
              "      <td>1.7</td>\n",
              "    </tr>\n",
              "    <tr>\n",
              "      <th>3</th>\n",
              "      <td>2019</td>\n",
              "      <td>연령별</td>\n",
              "      <td>10대</td>\n",
              "      <td>55.3</td>\n",
              "      <td>4.8</td>\n",
              "      <td>3.9</td>\n",
              "      <td>32.6</td>\n",
              "      <td>3.5</td>\n",
              "      <td>-</td>\n",
              "    </tr>\n",
              "    <tr>\n",
              "      <th>4</th>\n",
              "      <td>2019</td>\n",
              "      <td>연령별</td>\n",
              "      <td>20대</td>\n",
              "      <td>46.0</td>\n",
              "      <td>4.2</td>\n",
              "      <td>4.5</td>\n",
              "      <td>38.8</td>\n",
              "      <td>6.4</td>\n",
              "      <td>0.1</td>\n",
              "    </tr>\n",
              "    <tr>\n",
              "      <th>5</th>\n",
              "      <td>2019</td>\n",
              "      <td>연령별</td>\n",
              "      <td>30대</td>\n",
              "      <td>59.9</td>\n",
              "      <td>5.2</td>\n",
              "      <td>2.9</td>\n",
              "      <td>27.3</td>\n",
              "      <td>4.5</td>\n",
              "      <td>0.2</td>\n",
              "    </tr>\n",
              "    <tr>\n",
              "      <th>6</th>\n",
              "      <td>2019</td>\n",
              "      <td>연령별</td>\n",
              "      <td>40대</td>\n",
              "      <td>54.1</td>\n",
              "      <td>3.9</td>\n",
              "      <td>2.9</td>\n",
              "      <td>35.5</td>\n",
              "      <td>3.3</td>\n",
              "      <td>0.4</td>\n",
              "    </tr>\n",
              "    <tr>\n",
              "      <th>7</th>\n",
              "      <td>2019</td>\n",
              "      <td>연령별</td>\n",
              "      <td>50대</td>\n",
              "      <td>46.1</td>\n",
              "      <td>6.2</td>\n",
              "      <td>4.5</td>\n",
              "      <td>36.8</td>\n",
              "      <td>5.6</td>\n",
              "      <td>0.8</td>\n",
              "    </tr>\n",
              "    <tr>\n",
              "      <th>8</th>\n",
              "      <td>2019</td>\n",
              "      <td>연령별</td>\n",
              "      <td>60대 이상</td>\n",
              "      <td>26.6</td>\n",
              "      <td>6.0</td>\n",
              "      <td>6.6</td>\n",
              "      <td>48.7</td>\n",
              "      <td>6.6</td>\n",
              "      <td>5.6</td>\n",
              "    </tr>\n",
              "    <tr>\n",
              "      <th>9</th>\n",
              "      <td>2019</td>\n",
              "      <td>학력별</td>\n",
              "      <td>중졸 이하</td>\n",
              "      <td>24.7</td>\n",
              "      <td>6.2</td>\n",
              "      <td>4.8</td>\n",
              "      <td>48.6</td>\n",
              "      <td>7.3</td>\n",
              "      <td>8.5</td>\n",
              "    </tr>\n",
              "    <tr>\n",
              "      <th>10</th>\n",
              "      <td>2019</td>\n",
              "      <td>학력별</td>\n",
              "      <td>고졸 이하</td>\n",
              "      <td>44.3</td>\n",
              "      <td>5.3</td>\n",
              "      <td>5.6</td>\n",
              "      <td>38.6</td>\n",
              "      <td>5.5</td>\n",
              "      <td>0.7</td>\n",
              "    </tr>\n",
              "    <tr>\n",
              "      <th>11</th>\n",
              "      <td>2019</td>\n",
              "      <td>학력별</td>\n",
              "      <td>대졸 이하</td>\n",
              "      <td>53.1</td>\n",
              "      <td>4.7</td>\n",
              "      <td>3.3</td>\n",
              "      <td>34.0</td>\n",
              "      <td>4.6</td>\n",
              "      <td>0.3</td>\n",
              "    </tr>\n",
              "    <tr>\n",
              "      <th>12</th>\n",
              "      <td>2019</td>\n",
              "      <td>학력별</td>\n",
              "      <td>대학원 이상</td>\n",
              "      <td>61.2</td>\n",
              "      <td>3.0</td>\n",
              "      <td>5.6</td>\n",
              "      <td>29.0</td>\n",
              "      <td>0.9</td>\n",
              "      <td>0.3</td>\n",
              "    </tr>\n",
              "    <tr>\n",
              "      <th>13</th>\n",
              "      <td>2019</td>\n",
              "      <td>소득별</td>\n",
              "      <td>100만원 미만</td>\n",
              "      <td>10.7</td>\n",
              "      <td>8.4</td>\n",
              "      <td>9.9</td>\n",
              "      <td>50.7</td>\n",
              "      <td>9.4</td>\n",
              "      <td>10.9</td>\n",
              "    </tr>\n",
              "    <tr>\n",
              "      <th>14</th>\n",
              "      <td>2019</td>\n",
              "      <td>소득별</td>\n",
              "      <td>100-200만원 미만</td>\n",
              "      <td>29.6</td>\n",
              "      <td>5.6</td>\n",
              "      <td>6.0</td>\n",
              "      <td>49.1</td>\n",
              "      <td>7.4</td>\n",
              "      <td>2.3</td>\n",
              "    </tr>\n",
              "    <tr>\n",
              "      <th>15</th>\n",
              "      <td>2019</td>\n",
              "      <td>소득별</td>\n",
              "      <td>200-300만원 미만</td>\n",
              "      <td>42.8</td>\n",
              "      <td>7.3</td>\n",
              "      <td>3.9</td>\n",
              "      <td>39.5</td>\n",
              "      <td>5.1</td>\n",
              "      <td>1.4</td>\n",
              "    </tr>\n",
              "    <tr>\n",
              "      <th>16</th>\n",
              "      <td>2019</td>\n",
              "      <td>소득별</td>\n",
              "      <td>300-400만원 미만</td>\n",
              "      <td>50.6</td>\n",
              "      <td>4.3</td>\n",
              "      <td>4.2</td>\n",
              "      <td>35.5</td>\n",
              "      <td>4.8</td>\n",
              "      <td>0.7</td>\n",
              "    </tr>\n",
              "    <tr>\n",
              "      <th>17</th>\n",
              "      <td>2019</td>\n",
              "      <td>소득별</td>\n",
              "      <td>400-500만원 미만</td>\n",
              "      <td>48.0</td>\n",
              "      <td>4.6</td>\n",
              "      <td>3.3</td>\n",
              "      <td>38.7</td>\n",
              "      <td>5.3</td>\n",
              "      <td>0.2</td>\n",
              "    </tr>\n",
              "    <tr>\n",
              "      <th>18</th>\n",
              "      <td>2019</td>\n",
              "      <td>소득별</td>\n",
              "      <td>500만원 이상</td>\n",
              "      <td>52.8</td>\n",
              "      <td>4.3</td>\n",
              "      <td>4.0</td>\n",
              "      <td>33.4</td>\n",
              "      <td>4.5</td>\n",
              "      <td>1</td>\n",
              "    </tr>\n",
              "    <tr>\n",
              "      <th>19</th>\n",
              "      <td>2019</td>\n",
              "      <td>혼인상태별</td>\n",
              "      <td>기혼</td>\n",
              "      <td>48.7</td>\n",
              "      <td>4.5</td>\n",
              "      <td>4.1</td>\n",
              "      <td>37.3</td>\n",
              "      <td>4.6</td>\n",
              "      <td>0.7</td>\n",
              "    </tr>\n",
              "    <tr>\n",
              "      <th>20</th>\n",
              "      <td>2019</td>\n",
              "      <td>혼인상태별</td>\n",
              "      <td>미혼</td>\n",
              "      <td>50.2</td>\n",
              "      <td>4.9</td>\n",
              "      <td>4.0</td>\n",
              "      <td>35.1</td>\n",
              "      <td>5.6</td>\n",
              "      <td>0.2</td>\n",
              "    </tr>\n",
              "    <tr>\n",
              "      <th>21</th>\n",
              "      <td>2019</td>\n",
              "      <td>혼인상태별</td>\n",
              "      <td>이혼/사별/기타</td>\n",
              "      <td>31.5</td>\n",
              "      <td>7.2</td>\n",
              "      <td>5.7</td>\n",
              "      <td>42.4</td>\n",
              "      <td>6.4</td>\n",
              "      <td>6.9</td>\n",
              "    </tr>\n",
              "  </tbody>\n",
              "</table>\n",
              "</div>"
            ],
            "text/plain": [
              "      기간    대분류            분류  ...  운동을 싫어해서  운동을 할 충분한 비용이 없어서    기타\n",
              "0   2019    서울시           서울시  ...      37.3                5.2   1.4\n",
              "1   2019     성별            남자  ...      32.4                4.9   1.1\n",
              "2   2019     성별            여자  ...      41.0                5.4   1.7\n",
              "3   2019    연령별           10대  ...      32.6                3.5     -\n",
              "4   2019    연령별           20대  ...      38.8                6.4   0.1\n",
              "5   2019    연령별           30대  ...      27.3                4.5   0.2\n",
              "6   2019    연령별           40대  ...      35.5                3.3   0.4\n",
              "7   2019    연령별           50대  ...      36.8                5.6   0.8\n",
              "8   2019    연령별        60대 이상  ...      48.7                6.6   5.6\n",
              "9   2019    학력별         중졸 이하  ...      48.6                7.3   8.5\n",
              "10  2019    학력별         고졸 이하  ...      38.6                5.5   0.7\n",
              "11  2019    학력별         대졸 이하  ...      34.0                4.6   0.3\n",
              "12  2019    학력별        대학원 이상  ...      29.0                0.9   0.3\n",
              "13  2019    소득별      100만원 미만  ...      50.7                9.4  10.9\n",
              "14  2019    소득별  100-200만원 미만  ...      49.1                7.4   2.3\n",
              "15  2019    소득별  200-300만원 미만  ...      39.5                5.1   1.4\n",
              "16  2019    소득별  300-400만원 미만  ...      35.5                4.8   0.7\n",
              "17  2019    소득별  400-500만원 미만  ...      38.7                5.3   0.2\n",
              "18  2019    소득별      500만원 이상  ...      33.4                4.5     1\n",
              "19  2019  혼인상태별            기혼  ...      37.3                4.6   0.7\n",
              "20  2019  혼인상태별            미혼  ...      35.1                5.6   0.2\n",
              "21  2019  혼인상태별      이혼/사별/기타  ...      42.4                6.4   6.9\n",
              "\n",
              "[22 rows x 9 columns]"
            ]
          },
          "metadata": {
            "tags": []
          },
          "execution_count": 37
        }
      ]
    },
    {
      "cell_type": "code",
      "metadata": {
        "id": "LQ7HNvvnGLle",
        "outputId": "e196734e-76be-41e8-89da-4d11dc3232c6",
        "colab": {
          "base_uri": "https://localhost:8080/"
        }
      },
      "source": [
        "notexercise['대분류']=='성별'"
      ],
      "execution_count": null,
      "outputs": [
        {
          "output_type": "execute_result",
          "data": {
            "text/plain": [
              "0     False\n",
              "1      True\n",
              "2      True\n",
              "3     False\n",
              "4     False\n",
              "5     False\n",
              "6     False\n",
              "7     False\n",
              "8     False\n",
              "9     False\n",
              "10    False\n",
              "11    False\n",
              "12    False\n",
              "13    False\n",
              "14    False\n",
              "15    False\n",
              "16    False\n",
              "17    False\n",
              "18    False\n",
              "19    False\n",
              "20    False\n",
              "21    False\n",
              "Name: 대분류, dtype: bool"
            ]
          },
          "metadata": {
            "tags": []
          },
          "execution_count": 38
        }
      ]
    },
    {
      "cell_type": "code",
      "metadata": {
        "id": "ib4e-_P0G4xC"
      },
      "source": [
        "notexsex = notexercise[notexercise['대분류']=='성별'].copy()"
      ],
      "execution_count": null,
      "outputs": []
    },
    {
      "cell_type": "code",
      "metadata": {
        "id": "vuRitby3HRrG",
        "outputId": "b7124de9-16e4-44cf-c570-6ecbc84a2c58",
        "colab": {
          "base_uri": "https://localhost:8080/",
          "height": 178
        }
      },
      "source": [
        "notexsex"
      ],
      "execution_count": null,
      "outputs": [
        {
          "output_type": "execute_result",
          "data": {
            "text/html": [
              "<div>\n",
              "<style scoped>\n",
              "    .dataframe tbody tr th:only-of-type {\n",
              "        vertical-align: middle;\n",
              "    }\n",
              "\n",
              "    .dataframe tbody tr th {\n",
              "        vertical-align: top;\n",
              "    }\n",
              "\n",
              "    .dataframe thead th {\n",
              "        text-align: right;\n",
              "    }\n",
              "</style>\n",
              "<table border=\"1\" class=\"dataframe\">\n",
              "  <thead>\n",
              "    <tr style=\"text-align: right;\">\n",
              "      <th></th>\n",
              "      <th>기간</th>\n",
              "      <th>대분류</th>\n",
              "      <th>분류</th>\n",
              "      <th>운동을 할 충분한 시간이 없어서</th>\n",
              "      <th>함께 운동을 할 사람이 없어서</th>\n",
              "      <th>운동을 할 만한 장소가 없어서</th>\n",
              "      <th>운동을 싫어해서</th>\n",
              "      <th>운동을 할 충분한 비용이 없어서</th>\n",
              "      <th>기타</th>\n",
              "    </tr>\n",
              "  </thead>\n",
              "  <tbody>\n",
              "    <tr>\n",
              "      <th>1</th>\n",
              "      <td>2019</td>\n",
              "      <td>성별</td>\n",
              "      <td>남자</td>\n",
              "      <td>52.4</td>\n",
              "      <td>4.4</td>\n",
              "      <td>4.9</td>\n",
              "      <td>32.4</td>\n",
              "      <td>4.9</td>\n",
              "      <td>1.1</td>\n",
              "    </tr>\n",
              "    <tr>\n",
              "      <th>2</th>\n",
              "      <td>2019</td>\n",
              "      <td>성별</td>\n",
              "      <td>여자</td>\n",
              "      <td>42.5</td>\n",
              "      <td>5.6</td>\n",
              "      <td>3.9</td>\n",
              "      <td>41.0</td>\n",
              "      <td>5.4</td>\n",
              "      <td>1.7</td>\n",
              "    </tr>\n",
              "  </tbody>\n",
              "</table>\n",
              "</div>"
            ],
            "text/plain": [
              "     기간 대분류  분류  ...  운동을 싫어해서  운동을 할 충분한 비용이 없어서   기타\n",
              "1  2019  성별  남자  ...      32.4                4.9  1.1\n",
              "2  2019  성별  여자  ...      41.0                5.4  1.7\n",
              "\n",
              "[2 rows x 9 columns]"
            ]
          },
          "metadata": {
            "tags": []
          },
          "execution_count": 40
        }
      ]
    },
    {
      "cell_type": "code",
      "metadata": {
        "id": "1avi_1GmHTKu"
      },
      "source": [
        "notexsex.drop(columns='대분류', inplace=True)"
      ],
      "execution_count": null,
      "outputs": []
    },
    {
      "cell_type": "code",
      "metadata": {
        "id": "CLjGt7CtH0QW",
        "outputId": "58504095-1d9c-4a79-9d69-dcadedd38d07",
        "colab": {
          "base_uri": "https://localhost:8080/",
          "height": 178
        }
      },
      "source": [
        "notexsex"
      ],
      "execution_count": null,
      "outputs": [
        {
          "output_type": "execute_result",
          "data": {
            "text/html": [
              "<div>\n",
              "<style scoped>\n",
              "    .dataframe tbody tr th:only-of-type {\n",
              "        vertical-align: middle;\n",
              "    }\n",
              "\n",
              "    .dataframe tbody tr th {\n",
              "        vertical-align: top;\n",
              "    }\n",
              "\n",
              "    .dataframe thead th {\n",
              "        text-align: right;\n",
              "    }\n",
              "</style>\n",
              "<table border=\"1\" class=\"dataframe\">\n",
              "  <thead>\n",
              "    <tr style=\"text-align: right;\">\n",
              "      <th></th>\n",
              "      <th>기간</th>\n",
              "      <th>분류</th>\n",
              "      <th>운동을 할 충분한 시간이 없어서</th>\n",
              "      <th>함께 운동을 할 사람이 없어서</th>\n",
              "      <th>운동을 할 만한 장소가 없어서</th>\n",
              "      <th>운동을 싫어해서</th>\n",
              "      <th>운동을 할 충분한 비용이 없어서</th>\n",
              "      <th>기타</th>\n",
              "    </tr>\n",
              "  </thead>\n",
              "  <tbody>\n",
              "    <tr>\n",
              "      <th>1</th>\n",
              "      <td>2019</td>\n",
              "      <td>남자</td>\n",
              "      <td>52.4</td>\n",
              "      <td>4.4</td>\n",
              "      <td>4.9</td>\n",
              "      <td>32.4</td>\n",
              "      <td>4.9</td>\n",
              "      <td>1.1</td>\n",
              "    </tr>\n",
              "    <tr>\n",
              "      <th>2</th>\n",
              "      <td>2019</td>\n",
              "      <td>여자</td>\n",
              "      <td>42.5</td>\n",
              "      <td>5.6</td>\n",
              "      <td>3.9</td>\n",
              "      <td>41.0</td>\n",
              "      <td>5.4</td>\n",
              "      <td>1.7</td>\n",
              "    </tr>\n",
              "  </tbody>\n",
              "</table>\n",
              "</div>"
            ],
            "text/plain": [
              "     기간  분류  운동을 할 충분한 시간이 없어서  ...  운동을 싫어해서  운동을 할 충분한 비용이 없어서   기타\n",
              "1  2019  남자               52.4  ...      32.4                4.9  1.1\n",
              "2  2019  여자               42.5  ...      41.0                5.4  1.7\n",
              "\n",
              "[2 rows x 8 columns]"
            ]
          },
          "metadata": {
            "tags": []
          },
          "execution_count": 42
        }
      ]
    },
    {
      "cell_type": "code",
      "metadata": {
        "id": "-q2OsaYoH15u",
        "outputId": "ebadc6af-d647-436c-b8cb-8786c96ed258",
        "colab": {
          "base_uri": "https://localhost:8080/",
          "height": 226
        }
      },
      "source": [
        "notexsex.set_index('분류',inplace=True)\n",
        "notexsex"
      ],
      "execution_count": null,
      "outputs": [
        {
          "output_type": "execute_result",
          "data": {
            "text/html": [
              "<div>\n",
              "<style scoped>\n",
              "    .dataframe tbody tr th:only-of-type {\n",
              "        vertical-align: middle;\n",
              "    }\n",
              "\n",
              "    .dataframe tbody tr th {\n",
              "        vertical-align: top;\n",
              "    }\n",
              "\n",
              "    .dataframe thead th {\n",
              "        text-align: right;\n",
              "    }\n",
              "</style>\n",
              "<table border=\"1\" class=\"dataframe\">\n",
              "  <thead>\n",
              "    <tr style=\"text-align: right;\">\n",
              "      <th></th>\n",
              "      <th>기간</th>\n",
              "      <th>운동을 할 충분한 시간이 없어서</th>\n",
              "      <th>함께 운동을 할 사람이 없어서</th>\n",
              "      <th>운동을 할 만한 장소가 없어서</th>\n",
              "      <th>운동을 싫어해서</th>\n",
              "      <th>운동을 할 충분한 비용이 없어서</th>\n",
              "      <th>기타</th>\n",
              "    </tr>\n",
              "    <tr>\n",
              "      <th>분류</th>\n",
              "      <th></th>\n",
              "      <th></th>\n",
              "      <th></th>\n",
              "      <th></th>\n",
              "      <th></th>\n",
              "      <th></th>\n",
              "      <th></th>\n",
              "    </tr>\n",
              "  </thead>\n",
              "  <tbody>\n",
              "    <tr>\n",
              "      <th>남자</th>\n",
              "      <td>2019</td>\n",
              "      <td>52.4</td>\n",
              "      <td>4.4</td>\n",
              "      <td>4.9</td>\n",
              "      <td>32.4</td>\n",
              "      <td>4.9</td>\n",
              "      <td>1.1</td>\n",
              "    </tr>\n",
              "    <tr>\n",
              "      <th>여자</th>\n",
              "      <td>2019</td>\n",
              "      <td>42.5</td>\n",
              "      <td>5.6</td>\n",
              "      <td>3.9</td>\n",
              "      <td>41.0</td>\n",
              "      <td>5.4</td>\n",
              "      <td>1.7</td>\n",
              "    </tr>\n",
              "  </tbody>\n",
              "</table>\n",
              "</div>"
            ],
            "text/plain": [
              "      기간  운동을 할 충분한 시간이 없어서  함께 운동을 할 사람이 없어서  ...  운동을 싫어해서  운동을 할 충분한 비용이 없어서   기타\n",
              "분류                                             ...                                  \n",
              "남자  2019               52.4               4.4  ...      32.4                4.9  1.1\n",
              "여자  2019               42.5               5.6  ...      41.0                5.4  1.7\n",
              "\n",
              "[2 rows x 7 columns]"
            ]
          },
          "metadata": {
            "tags": []
          },
          "execution_count": 43
        }
      ]
    },
    {
      "cell_type": "code",
      "metadata": {
        "id": "ozSOiQoLIZOW",
        "outputId": "767c449b-e8d3-4c8c-8692-8ee564981582",
        "colab": {
          "base_uri": "https://localhost:8080/",
          "height": 364
        }
      },
      "source": [
        "%matplotlib inline  \n",
        "import matplotlib as mpl  # 기본 설정 만지는 용도\n",
        "import matplotlib.pyplot as plt  # 그래프 그리는 용도\n",
        "import matplotlib.font_manager as fm  # 폰트 관련 용도\n",
        "!apt-get update -qq\n",
        "!apt-get install fonts-nanum* -qq\n",
        "path = '/usr/share/fonts/truetype/nanum/NanumGothicEco.ttf'  # 설치된 나눔글꼴중 원하는 녀석의 전체 경로를 가져오자\n",
        "font_name = fm.FontProperties(fname=path, size=10).get_name()\n",
        "print(font_name)\n",
        "plt.rc('font', family=font_name)\n",
        "# 우선 fm._rebuild() 를 해주고\n",
        "fm._rebuild()\n",
        "mpl.rcParams['axes.unicode_minus'] = False#마이너스 기호 나오게\n",
        "\n",
        "\n",
        "\n",
        "import matplotlib.pyplot as plt\n",
        "\n",
        "\n",
        "f, ax = plt.subplots(1,2, figsize=(16,8))\n",
        "notexsex['운동을 할 충분한 시간이 없어서'].plot.pie(explode = [0,0.02], \n",
        "                                       ax=ax[0],\n",
        "                                       autopct='%1.1f%%')\n",
        "ax[0].set_title('운동을 할 충분한 시간이 없어서') \n",
        "ax[0].set_ylabel('')\n",
        "\n",
        "notexsex['함께 운동을 할 사람이 없어서'].plot.pie(explode = [0,0.02], \n",
        "                                       ax=ax[1],\n",
        "                                       autopct='%1.1f%%')\n",
        "ax[1].set_title('함께 운동을 할 사람이 없어서') \n",
        "ax[1].set_ylabel('')"
      ],
      "execution_count": null,
      "outputs": [
        {
          "output_type": "stream",
          "text": [
            "NanumGothic Eco\n"
          ],
          "name": "stdout"
        },
        {
          "output_type": "execute_result",
          "data": {
            "text/plain": [
              "Text(0, 0.5, '')"
            ]
          },
          "metadata": {
            "tags": []
          },
          "execution_count": 44
        },
        {
          "output_type": "display_data",
          "data": {
            "image/png": "[encoded data removed]",
            "text/plain": [
              "<Figure size 1152x576 with 2 Axes>"
            ]
          },
          "metadata": {
            "tags": []
          }
        }
      ]
    },
    {
      "cell_type": "code",
      "metadata": {
        "id": "06pPaYO3LpZ0"
      },
      "source": [
        ""
      ],
      "execution_count": null,
      "outputs": []
    }
  ]
}